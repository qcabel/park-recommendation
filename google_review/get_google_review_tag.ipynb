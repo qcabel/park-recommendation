{
 "cells": [
  {
   "cell_type": "code",
   "execution_count": 62,
   "metadata": {},
   "outputs": [],
   "source": [
    "import pandas as pd\n",
    "from time import sleep\n",
    "from tqdm import tqdm\n",
    "import matplotlib.pyplot as plt\n",
    "\n",
    "from greviews import get_review_topics"
   ]
  },
  {
   "cell_type": "code",
   "execution_count": 35,
   "metadata": {},
   "outputs": [
    {
     "data": {
      "text/plain": [
       "<module 'greviews' from '/Users/chengqiu/PycharmProjects/philly_outdoors/google_review/greviews.py'>"
      ]
     },
     "execution_count": 35,
     "metadata": {},
     "output_type": "execute_result"
    }
   ],
   "source": [
    "from importlib import reload  \n",
    "import greviews\n",
    "reload(greviews)"
   ]
  },
  {
   "cell_type": "code",
   "execution_count": 7,
   "metadata": {},
   "outputs": [
    {
     "data": {
      "text/plain": [
       "(4614, 5)"
      ]
     },
     "execution_count": 7,
     "metadata": {},
     "output_type": "execute_result"
    }
   ],
   "source": [
    "# get park info\n",
    "\n",
    "# import sys\n",
    "# sys.path.append(\"../\")\n",
    "from utility import get_info, find_city_level_address\n",
    "\n",
    "info_to_concat = []\n",
    "info_list = ['../philly_parks_info.db', '../philly_state_parks_info.db', '../nyc_parks_info.db']\n",
    "for info_db in info_list:\n",
    "    df = get_info(info_db)\n",
    "    info_to_concat.append(df)\n",
    "    \n",
    "info_df = pd.concat(info_to_concat, axis=0)\n",
    "\n",
    "info_df.reset_index(drop=True, inplace=True)\n",
    "info_df.shape"
   ]
  },
  {
   "cell_type": "code",
   "execution_count": 8,
   "metadata": {},
   "outputs": [
    {
     "data": {
      "text/plain": [
       "[('beach', 79),\n",
       " ('rentals', 44),\n",
       " ('kayak', 30),\n",
       " ('pavilions', 28),\n",
       " ('wedding', 28),\n",
       " ('ice rink', 23),\n",
       " ('paved', 22),\n",
       " ('concerts', 18),\n",
       " ('visitor center', 10),\n",
       " ('county', 8)]"
      ]
     },
     "execution_count": 8,
     "metadata": {},
     "output_type": "execute_result"
    }
   ],
   "source": [
    "# example\n",
    "topics = get_review_topics(\"ChIJAWkAqNL1t4kRlm4slspOSXo\")\n",
    "[(t['name'], t['contribution_stats']['num_reviews']) for t in topics]"
   ]
  },
  {
   "cell_type": "code",
   "execution_count": null,
   "metadata": {},
   "outputs": [],
   "source": []
  },
  {
   "cell_type": "code",
   "execution_count": 45,
   "metadata": {},
   "outputs": [],
   "source": [
    "def get_google_review_tags(google_place_id):\n",
    "    sleep(.5)\n",
    "    try:\n",
    "        topics = get_review_topics(google_place_id)\n",
    "        tags = [t['name'] for t in topics]\n",
    "        counts = [t['contribution_stats']['num_reviews'] for t in topics]\n",
    "    except:\n",
    "        print(google_place_id)\n",
    "        tags = []\n",
    "        counts = []\n",
    "        \n",
    "    return tags, counts"
   ]
  },
  {
   "cell_type": "code",
   "execution_count": 49,
   "metadata": {},
   "outputs": [
    {
     "data": {
      "text/plain": [
       "(['prices',\n",
       "  'customer',\n",
       "  'sale',\n",
       "  'employee',\n",
       "  'business',\n",
       "  'propane',\n",
       "  'screw',\n",
       "  'delivery',\n",
       "  'stock',\n",
       "  'big box'],\n",
       " [9, 6, 4, 4, 4, 3, 3, 3, 3, 3])"
      ]
     },
     "execution_count": 49,
     "metadata": {},
     "output_type": "execute_result"
    }
   ],
   "source": [
    "get_google_review_tags('ChIJP75lm3n2t4kRVKf9vxXsiIc')#'ChIJ8z9HqlykxYkRiLgB6-ajgao')"
   ]
  },
  {
   "cell_type": "code",
   "execution_count": 54,
   "metadata": {},
   "outputs": [
    {
     "name": "stderr",
     "output_type": "stream",
     "text": [
      "100%|██████████| 4614/4614 [1:55:53<00:00,  1.51s/it]  \n"
     ]
    }
   ],
   "source": [
    "google_review_tag = []\n",
    "for id in tqdm(info_df['id']):\n",
    "    google_review_tag.append(get_google_review_tags(id))\n",
    "    "
   ]
  },
  {
   "cell_type": "code",
   "execution_count": 47,
   "metadata": {},
   "outputs": [],
   "source": [
    "# info_df[['review_tag', 'review_tag_count']] = info_df['id'].apply(get_google_review_tags)"
   ]
  },
  {
   "cell_type": "code",
   "execution_count": 69,
   "metadata": {},
   "outputs": [],
   "source": [
    "review_tag, review_tag_count = zip(*google_review_tag)"
   ]
  },
  {
   "cell_type": "markdown",
   "metadata": {},
   "source": [
    "'review_tag_count' can be used to evaluate reliability of 'review_tag' - \n",
    "\n",
    "such that the super rarely mentioned tag may not be a meaningful tag, although it's rare across all tags\n"
   ]
  },
  {
   "cell_type": "code",
   "execution_count": 73,
   "metadata": {},
   "outputs": [],
   "source": [
    "# insert review tag to the info table\n",
    "info_df['review_tag'] = review_tag\n",
    "info_df['review_tag_count'] = review_tag_count\n"
   ]
  },
  {
   "cell_type": "code",
   "execution_count": 74,
   "metadata": {},
   "outputs": [
    {
     "data": {
      "text/html": [
       "<div>\n",
       "<style scoped>\n",
       "    .dataframe tbody tr th:only-of-type {\n",
       "        vertical-align: middle;\n",
       "    }\n",
       "\n",
       "    .dataframe tbody tr th {\n",
       "        vertical-align: top;\n",
       "    }\n",
       "\n",
       "    .dataframe thead th {\n",
       "        text-align: right;\n",
       "    }\n",
       "</style>\n",
       "<table border=\"1\" class=\"dataframe\">\n",
       "  <thead>\n",
       "    <tr style=\"text-align: right;\">\n",
       "      <th></th>\n",
       "      <th>id</th>\n",
       "      <th>name</th>\n",
       "      <th>lat</th>\n",
       "      <th>lng</th>\n",
       "      <th>address</th>\n",
       "      <th>review_tag</th>\n",
       "      <th>review_tag_count</th>\n",
       "    </tr>\n",
       "  </thead>\n",
       "  <tbody>\n",
       "    <tr>\n",
       "      <th>0</th>\n",
       "      <td>ChIJAWkAqNL1t4kRlm4slspOSXo</td>\n",
       "      <td>Quiet Waters Park</td>\n",
       "      <td>38.937670</td>\n",
       "      <td>-76.500899</td>\n",
       "      <td>600 Quiet Waters Park Rd, Annapolis, MD 21403,...</td>\n",
       "      <td>[beach, rentals, kayak, pavilions, wedding, ic...</td>\n",
       "      <td>[79, 44, 30, 28, 28, 23, 22, 18, 10, 8]</td>\n",
       "    </tr>\n",
       "    <tr>\n",
       "      <th>1</th>\n",
       "      <td>ChIJzcow6Xb1t4kRQVE7s1AWWr8</td>\n",
       "      <td>Hillsmere Shores Community Beach</td>\n",
       "      <td>38.927212</td>\n",
       "      <td>-76.494150</td>\n",
       "      <td>101 W Bay View Dr, Annapolis, MD 21403, USA</td>\n",
       "      <td>[]</td>\n",
       "      <td>[]</td>\n",
       "    </tr>\n",
       "    <tr>\n",
       "      <th>2</th>\n",
       "      <td>ChIJ_bk5K1z1t4kRQNverIUOVko</td>\n",
       "      <td>Quiet Waters Dog Beach</td>\n",
       "      <td>38.930202</td>\n",
       "      <td>-76.508341</td>\n",
       "      <td>1701-1799 Quiet Waters Park Rd, Annapolis, MD ...</td>\n",
       "      <td>[walk, swim, area, fee, trails, clean, leash, ...</td>\n",
       "      <td>[15, 9, 9, 7, 6, 5, 5, 4, 3, 3]</td>\n",
       "    </tr>\n",
       "    <tr>\n",
       "      <th>3</th>\n",
       "      <td>ChIJ_-2cQEX1t4kRoiCrmNMbrQ8</td>\n",
       "      <td>Quiet Waters Dog Park</td>\n",
       "      <td>38.931865</td>\n",
       "      <td>-76.505658</td>\n",
       "      <td>600 Quiet Waters Park Rd, Annapolis, MD 21403,...</td>\n",
       "      <td>[beach, trails, summer, walking, shade, concer...</td>\n",
       "      <td>[10, 6, 5, 5, 4, 3, 3, 3]</td>\n",
       "    </tr>\n",
       "    <tr>\n",
       "      <th>4</th>\n",
       "      <td>ChIJQWcsgIn2t4kRCL0Ub363FyI</td>\n",
       "      <td>Pip Moyer Recreation Center (Annapolis Recreat...</td>\n",
       "      <td>38.963271</td>\n",
       "      <td>-76.505150</td>\n",
       "      <td>273 Hilltop Ln, Annapolis, MD 21403, USA</td>\n",
       "      <td>[clean, voting, gym, party, space, organized, ...</td>\n",
       "      <td>[8, 6, 6, 4, 3, 3, 3, 3, 3, 3]</td>\n",
       "    </tr>\n",
       "  </tbody>\n",
       "</table>\n",
       "</div>"
      ],
      "text/plain": [
       "                            id  \\\n",
       "0  ChIJAWkAqNL1t4kRlm4slspOSXo   \n",
       "1  ChIJzcow6Xb1t4kRQVE7s1AWWr8   \n",
       "2  ChIJ_bk5K1z1t4kRQNverIUOVko   \n",
       "3  ChIJ_-2cQEX1t4kRoiCrmNMbrQ8   \n",
       "4  ChIJQWcsgIn2t4kRCL0Ub363FyI   \n",
       "\n",
       "                                                name        lat        lng  \\\n",
       "0                                  Quiet Waters Park  38.937670 -76.500899   \n",
       "1                   Hillsmere Shores Community Beach  38.927212 -76.494150   \n",
       "2                             Quiet Waters Dog Beach  38.930202 -76.508341   \n",
       "3                              Quiet Waters Dog Park  38.931865 -76.505658   \n",
       "4  Pip Moyer Recreation Center (Annapolis Recreat...  38.963271 -76.505150   \n",
       "\n",
       "                                             address  \\\n",
       "0  600 Quiet Waters Park Rd, Annapolis, MD 21403,...   \n",
       "1        101 W Bay View Dr, Annapolis, MD 21403, USA   \n",
       "2  1701-1799 Quiet Waters Park Rd, Annapolis, MD ...   \n",
       "3  600 Quiet Waters Park Rd, Annapolis, MD 21403,...   \n",
       "4           273 Hilltop Ln, Annapolis, MD 21403, USA   \n",
       "\n",
       "                                          review_tag  \\\n",
       "0  [beach, rentals, kayak, pavilions, wedding, ic...   \n",
       "1                                                 []   \n",
       "2  [walk, swim, area, fee, trails, clean, leash, ...   \n",
       "3  [beach, trails, summer, walking, shade, concer...   \n",
       "4  [clean, voting, gym, party, space, organized, ...   \n",
       "\n",
       "                          review_tag_count  \n",
       "0  [79, 44, 30, 28, 28, 23, 22, 18, 10, 8]  \n",
       "1                                       []  \n",
       "2          [15, 9, 9, 7, 6, 5, 5, 4, 3, 3]  \n",
       "3                [10, 6, 5, 5, 4, 3, 3, 3]  \n",
       "4           [8, 6, 6, 4, 3, 3, 3, 3, 3, 3]  "
      ]
     },
     "execution_count": 74,
     "metadata": {},
     "output_type": "execute_result"
    }
   ],
   "source": [
    "info_df.head()"
   ]
  },
  {
   "cell_type": "code",
   "execution_count": 75,
   "metadata": {},
   "outputs": [],
   "source": [
    "info_with_review_tag = info_df.copy()\n",
    "info_with_review_tag.to_parquet('park_info_with_review_tag.parquet')\n"
   ]
  },
  {
   "cell_type": "code",
   "execution_count": 55,
   "metadata": {},
   "outputs": [],
   "source": [
    "import dill\n",
    "\n",
    "with open('park_info_with_review_tag.dill', 'wb') as f:\n",
    "    dill.dump(google_review_tag, f)"
   ]
  },
  {
   "cell_type": "code",
   "execution_count": null,
   "metadata": {},
   "outputs": [],
   "source": []
  },
  {
   "cell_type": "code",
   "execution_count": 65,
   "metadata": {},
   "outputs": [
    {
     "data": {
      "image/png": "[encoded data removed]",
      "text/plain": [
       "<Figure size 432x288 with 1 Axes>"
      ]
     },
     "metadata": {
      "needs_background": "light"
     },
     "output_type": "display_data"
    }
   ],
   "source": [
    "tag_count = [len(tags[0]) for tags in google_review_tag]\n",
    "plt.hist(tag_count, 11); "
   ]
  },
  {
   "cell_type": "code",
   "execution_count": 68,
   "metadata": {},
   "outputs": [
    {
     "data": {
      "text/html": [
       "<div>\n",
       "<style scoped>\n",
       "    .dataframe tbody tr th:only-of-type {\n",
       "        vertical-align: middle;\n",
       "    }\n",
       "\n",
       "    .dataframe tbody tr th {\n",
       "        vertical-align: top;\n",
       "    }\n",
       "\n",
       "    .dataframe thead th {\n",
       "        text-align: right;\n",
       "    }\n",
       "</style>\n",
       "<table border=\"1\" class=\"dataframe\">\n",
       "  <thead>\n",
       "    <tr style=\"text-align: right;\">\n",
       "      <th></th>\n",
       "      <th>id</th>\n",
       "      <th>name</th>\n",
       "      <th>lat</th>\n",
       "      <th>lng</th>\n",
       "      <th>address</th>\n",
       "    </tr>\n",
       "  </thead>\n",
       "  <tbody>\n",
       "    <tr>\n",
       "      <th>1332</th>\n",
       "      <td>ChIJv7qvtP3NxokRxuok-WUh3O0</td>\n",
       "      <td>Timber Creek Dog Park</td>\n",
       "      <td>39.831453</td>\n",
       "      <td>-75.058985</td>\n",
       "      <td>236 Taylor Ave &amp; Chews Landing Road, Blackwood...</td>\n",
       "    </tr>\n",
       "  </tbody>\n",
       "</table>\n",
       "</div>"
      ],
      "text/plain": [
       "                               id                   name        lat  \\\n",
       "1332  ChIJv7qvtP3NxokRxuok-WUh3O0  Timber Creek Dog Park  39.831453   \n",
       "\n",
       "            lng                                            address  \n",
       "1332 -75.058985  236 Taylor Ave & Chews Landing Road, Blackwood...  "
      ]
     },
     "execution_count": 68,
     "metadata": {},
     "output_type": "execute_result"
    }
   ],
   "source": [
    "info_df[info_df['name']=='Timber Creek Dog Park']"
   ]
  },
  {
   "cell_type": "code",
   "execution_count": null,
   "metadata": {},
   "outputs": [],
   "source": []
  }
 ],
 "metadata": {
  "kernelspec": {
   "display_name": "Python 3",
   "language": "python",
   "name": "python3"
  },
  "language_info": {
   "codemirror_mode": {
    "name": "ipython",
    "version": 3
   },
   "file_extension": ".py",
   "mimetype": "text/x-python",
   "name": "python",
   "nbconvert_exporter": "python",
   "pygments_lexer": "ipython3",
   "version": "3.7.6"
  }
 },
 "nbformat": 4,
 "nbformat_minor": 4
}

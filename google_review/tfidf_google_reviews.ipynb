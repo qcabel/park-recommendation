{
 "cells": [
  {
   "cell_type": "code",
   "execution_count": 1,
   "metadata": {},
   "outputs": [],
   "source": [
    "import plyvel\n",
    "import orjson\n",
    "\n",
    "from sklearn.feature_extraction.text import TfidfVectorizer\n",
    "from itertools import islice, chain\n",
    "\n",
    "import numpy as np"
   ]
  },
  {
   "cell_type": "code",
   "execution_count": 37,
   "metadata": {},
   "outputs": [],
   "source": [
    "def iterate_reviews(db_path, n=None):\n",
    "    db = plyvel.DB(db_path)\n",
    "    if n is None:\n",
    "        yield from db\n",
    "    else:\n",
    "        yield from islice(iter(db), n)\n",
    "        \n",
    "    db.close()\n",
    "    \n",
    "def extract_review_texts(value):\n",
    "    try:\n",
    "        return [r['review_text']['full_html']\n",
    "                for r in orjson.loads(value)['reviews']['other_user_review']]\n",
    "    except:\n",
    "        return []\n",
    "    \n",
    "def iterate_review_texts(db_path, n=None, flatten=False):\n",
    "    for key, review in iterate_reviews(db_path, n=n):\n",
    "        place_id = key.split(b':')[-1].decode('utf8')\n",
    "        if flatten:\n",
    "            yield from extract_review_texts(review)\n",
    "        else:\n",
    "            yield place_id, extract_review_texts(review)\n",
    "            \n",
    "def get_review_texts_by_id(db, place_id):\n",
    "    to_close = False\n",
    "    if isinstance(db, str):\n",
    "        db = plyvel.DB(db)\n",
    "        to_close = True\n",
    "    \n",
    "    key = f\"reviews:all:{place_id}\".encode('utf8')\n",
    "    \n",
    "    try:\n",
    "        yield from extract_review_texts(db.get(key))\n",
    "    finally:\n",
    "        if to_close:\n",
    "            db.close()"
   ]
  },
  {
   "cell_type": "code",
   "execution_count": 29,
   "metadata": {},
   "outputs": [],
   "source": [
    "cssp = list(get_review_texts_by_id('reviews', 'ChIJX_PkfxsMzokRyg_Wdr6Nt2U'))\n",
    "nockamixon = list(get_review_texts_by_id('reviews', 'ChIJmyIT0jUaxIkRhihmecUGMR0'))"
   ]
  },
  {
   "cell_type": "code",
   "execution_count": 10,
   "metadata": {},
   "outputs": [
    {
     "data": {
      "text/plain": [
       "['I had the unforgettable experience of seeing the Milky Way Galaxy and billions of stars back in August 2019. I traveled all the way from Central Jersey to Cherry Springs State Park to witness the night sky free from light pollution. My 3 day stay here was very enjoyable.<br><br>The campsites are really well kept as well as the nearby facilities. Also, cellphone reception here is surprisingly good here. I was able to stream videos here with little to no issues. I advise anyone staying here mid August to bring some long sleeves, sweaters, and long pants. This is because temperatures at night can become a bit chilly.<br><br>If you need any gas or other things such as food for your campsite,  Cherry Springs Country Store just 2 minutes down the road.<br><br>I highly recommend this park to anybody wanting to see the Milky Way.',\n",
       " 'Cherry Springs State Park is an Internationally recognized \"dark sky\" area, popular with stargazers and amateur astronomers.  As parks go, this one is small.   Unfortunately, it was deserted when I visited:  The winter sky was overcast: much of the area was not plowed after a heavy snowfall.<br><br>Obviously,  my description above does not do the park justice.  Mountainous Potter county routinely receives much snow during the winter.  Consequently,  I hope to return when the weather improves. When I return I will able to fairly evaluate its reputation among amateur astronomers.',\n",
       " 'Do yourself a favor. Look up a weekend when there is a new moon and experience a truly peaceful and magical weekend away with friends, family or all alone. It will be an unforgettable experience.',\n",
       " 'Amazing state park. Incredible to stargaze. Astronomy buffs can bring their telescope .<br>One of the darkest places in the eastern US.',\n",
       " \"We loved it here! The view of the moon, stars and planet's are amazing. The only thing I would recommend is if you go after September make sure you bundle up or if you plan on staying over night bring alot of blankets and a heater. They also have power at the sites in the over night Astronomy field.\",\n",
       " 'One of the best places in the world to go star gazing. Make sure you check the weather and cloud cover % before coming here.',\n",
       " 'It was a beautiful dark sky. I missed the new moon by just a few days, but it was still very dark.<br><br>Some clouds were blocking but still one of the most star filled skies I have ever seen.',\n",
       " \"The most amazing night sky I've ever seen. This place is freaking dark.\",\n",
       " 'Spent Friday night the 18 of September and it was awesome! Definitely a bucket list item. The sky was stunning! If anyone on here was there and has pictures I would be interested in purchasing one. Please contact me at mnkskouby@sbcglobal.net. This was an amazing experience and I would love to have picture of my exact night there. So clear and the Milky Way, just so cool!',\n",
       " \"Definitely dress for cool night in Sept, great spot, good location and great company by my side. I'd recommend getting there before sunset if not familiar with the area. Lots wildlife, windy roads, bring bug repellent, chairs and or blanket. Can't wait to go again\"]"
      ]
     },
     "execution_count": 10,
     "metadata": {},
     "output_type": "execute_result"
    }
   ],
   "source": [
    "cssp"
   ]
  },
  {
   "cell_type": "code",
   "execution_count": 11,
   "metadata": {},
   "outputs": [],
   "source": [
    "from spacy.lang.en.stop_words import STOP_WORDS\n",
    "\n",
    "class Lemmatizer:\n",
    "    def __init__(self, nlp_model, pos={'ADJ', 'NOUN', 'VERB', 'ADV'},\n",
    "                 stop_words=STOP_WORDS):\n",
    "        self.model = nlp_model\n",
    "        self.pos = pos\n",
    "        self.stop_words = stop_words\n",
    "        \n",
    "    def preprocess(self, text):\n",
    "        return text.strip().lower().replace(\"<br>\", \"\")\n",
    "        \n",
    "    def lemmatize(self, text):\n",
    "        return [t.lemma_ for t in self.model(self.preprocess(text))\n",
    "                if t.pos_ in self.pos and t.lower_ not in self.stop_words]"
   ]
  },
  {
   "cell_type": "code",
   "execution_count": 38,
   "metadata": {},
   "outputs": [],
   "source": [
    "reviews = list(iterate_review_texts(\"reviews\"))"
   ]
  },
  {
   "cell_type": "code",
   "execution_count": 40,
   "metadata": {},
   "outputs": [],
   "source": [
    "place_id_mapping = {k: v for v, (k, _) in enumerate(reviews)}\n",
    "place_ids = [k for k, _ in reviews]\n",
    "\n",
    "reviews_content = [v for _, v in reviews]"
   ]
  },
  {
   "cell_type": "code",
   "execution_count": 16,
   "metadata": {},
   "outputs": [],
   "source": [
    "import spacy\n",
    "\n",
    "nlp = spacy.load(\"en_core_web_sm\")\n",
    "lemmatizer = Lemmatizer(nlp)\n",
    "\n",
    "# reviews[0][0], ' '.join(lemmatizer.lemmatize(reviews[0][0]))"
   ]
  },
  {
   "cell_type": "code",
   "execution_count": 44,
   "metadata": {},
   "outputs": [],
   "source": [
    "def no_op_tokenize_func(doc):\n",
    "    return doc\n",
    "\n",
    "tfidf = TfidfVectorizer(\n",
    "    analyzer='word',\n",
    "    tokenizer=no_op_tokenize_func,\n",
    "    preprocessor=no_op_tokenize_func,\n",
    "    token_pattern=None,\n",
    "    max_features=10000\n",
    ")"
   ]
  },
  {
   "cell_type": "code",
   "execution_count": 42,
   "metadata": {},
   "outputs": [],
   "source": [
    "def gen_concat_doc(lemmatizer, texts):\n",
    "    \"\"\"Concatenate all docs (review texts) for the same place into one single doc.\"\"\"\n",
    "    yield from chain(*[lemmatizer.lemmatize(doc) for doc in texts])"
   ]
  },
  {
   "cell_type": "code",
   "execution_count": 43,
   "metadata": {},
   "outputs": [],
   "source": [
    "docs = [list(gen_concat_doc(lemmatizer, doc)) for doc in reviews_content]"
   ]
  },
  {
   "cell_type": "code",
   "execution_count": 45,
   "metadata": {},
   "outputs": [
    {
     "data": {
      "text/plain": [
       "TfidfVectorizer(max_features=10000,\n",
       "                preprocessor=<function no_op_tokenize_func at 0x1301d4f70>,\n",
       "                token_pattern=None,\n",
       "                tokenizer=<function no_op_tokenize_func at 0x1301d4f70>)"
      ]
     },
     "execution_count": 45,
     "metadata": {},
     "output_type": "execute_result"
    }
   ],
   "source": [
    "tfidf.fit(docs)"
   ]
  },
  {
   "cell_type": "code",
   "execution_count": 46,
   "metadata": {},
   "outputs": [
    {
     "data": {
      "text/plain": [
       "10000"
      ]
     },
     "execution_count": 46,
     "metadata": {},
     "output_type": "execute_result"
    }
   ],
   "source": [
    "len(tfidf.vocabulary_)"
   ]
  },
  {
   "cell_type": "code",
   "execution_count": 22,
   "metadata": {},
   "outputs": [],
   "source": [
    "def get_high_idf_tokens(tfidf, top_k=50):\n",
    "    high_idf_indices = np.argsort(tfidf.idf_)[::-1]\n",
    "    features = tfidf.get_feature_names()\n",
    "    \n",
    "    tokens = []\n",
    "    for i in range(top_k):\n",
    "        idx = high_idf_indices[i]\n",
    "        tokens.append((features[idx], tfidf.idf_[idx]))\n",
    "        \n",
    "    return tokens"
   ]
  },
  {
   "cell_type": "code",
   "execution_count": 47,
   "metadata": {},
   "outputs": [
    {
     "data": {
      "text/plain": [
       "[('medicaid', 8.740881769595523),\n",
       " ('rachet', 8.740881769595523),\n",
       " ('radiation', 8.740881769595523),\n",
       " ('radiate', 8.740881769595523),\n",
       " ('rad', 8.740881769595523),\n",
       " ('racketball', 8.740881769595523),\n",
       " ('racist', 8.740881769595523),\n",
       " ('racism', 8.740881769595523),\n",
       " ('raccoo', 8.740881769595523),\n",
       " ('radish', 8.740881769595523)]"
      ]
     },
     "execution_count": 47,
     "metadata": {},
     "output_type": "execute_result"
    }
   ],
   "source": [
    "get_high_idf_tokens(tfidf)[:10]"
   ]
  },
  {
   "cell_type": "code",
   "execution_count": 48,
   "metadata": {},
   "outputs": [],
   "source": [
    "transformed_place_vecs = tfidf.transform(docs)"
   ]
  },
  {
   "cell_type": "code",
   "execution_count": 49,
   "metadata": {},
   "outputs": [
    {
     "data": {
      "text/plain": [
       "(4600, 10000)"
      ]
     },
     "execution_count": 49,
     "metadata": {},
     "output_type": "execute_result"
    }
   ],
   "source": [
    "transformed_place_vecs.shape"
   ]
  },
  {
   "cell_type": "code",
   "execution_count": 60,
   "metadata": {},
   "outputs": [
    {
     "data": {
      "text/plain": [
       "2394"
      ]
     },
     "execution_count": 60,
     "metadata": {},
     "output_type": "execute_result"
    }
   ],
   "source": [
    "pid = place_id_mapping['ChIJX_PkfxsMzokRyg_Wdr6Nt2U']\n",
    "pid"
   ]
  },
  {
   "cell_type": "code",
   "execution_count": 52,
   "metadata": {},
   "outputs": [],
   "source": [
    "cosine_sim = transformed_place_vecs @ transformed_place_vecs.T"
   ]
  },
  {
   "cell_type": "code",
   "execution_count": 53,
   "metadata": {},
   "outputs": [
    {
     "data": {
      "text/plain": [
       "array([0])"
      ]
     },
     "execution_count": 53,
     "metadata": {},
     "output_type": "execute_result"
    }
   ],
   "source": [
    "np.argsort(cosine_sim[3591, :])[::-1][:10]"
   ]
  },
  {
   "cell_type": "code",
   "execution_count": 61,
   "metadata": {},
   "outputs": [
    {
     "data": {
      "text/plain": [
       "array([2394, 2385, 1800, 2734, 4477,  490, 3780, 3902,  452, 1676])"
      ]
     },
     "execution_count": 61,
     "metadata": {},
     "output_type": "execute_result"
    }
   ],
   "source": [
    "np.argsort(np.asarray(cosine_sim[2394, :].todense()).squeeze())[::-1][:10]"
   ]
  },
  {
   "cell_type": "code",
   "execution_count": 63,
   "metadata": {},
   "outputs": [],
   "source": [
    "import pandas as pd\n",
    "df = pd.read_parquet(\"park_info_with_review_tag.parquet\")\n",
    "id_to_name_mapping = {pid: name for pid, name in zip(df['id'].values, df['name'].values)}"
   ]
  },
  {
   "cell_type": "code",
   "execution_count": 69,
   "metadata": {},
   "outputs": [],
   "source": [
    "def get_most_similar_parks(row_id, k=10):\n",
    "    sim_scores = np.asarray(cosine_sim[row_id, :].todense()).squeeze()\n",
    "    similar_row_ids = np.argsort(sim_scores)[::-1][:k]\n",
    "    \n",
    "    for rid, score in zip(similar_row_ids, sim_scores[similar_row_ids]):\n",
    "        print(f\"[{score:.3f}] {rid:5d} = {id_to_name_mapping[place_ids[rid]]}\")"
   ]
  },
  {
   "cell_type": "code",
   "execution_count": 89,
   "metadata": {},
   "outputs": [
    {
     "name": "stdout",
     "output_type": "stream",
     "text": [
      "[1.000]  3591 = Nockamixon State Park\n",
      "[0.387]  1535 = Erie Bluffs State Park\n",
      "[0.365]  3607 = Harriman State Park\n",
      "[0.351]  3300 = Memorial Lake State Park\n",
      "[0.351]  4345 = Green Lane Park\n",
      "[0.346]  1853 = Bald Eagle State Park\n",
      "[0.314]  1491 = Tuscarora State Park\n",
      "[0.314]  3846 = Lake Grubb Nature Park\n",
      "[0.313]  2117 = Tobyhanna State Park\n",
      "[0.313]  2670 = Moraine State Park\n"
     ]
    }
   ],
   "source": [
    "get_most_similar_parks(place_id_mapping['ChIJmyIT0jUaxIkRhihmecUGMR0'])"
   ]
  },
  {
   "cell_type": "code",
   "execution_count": 82,
   "metadata": {},
   "outputs": [],
   "source": [
    "def print_top_tfidf_tokens(row_index, k=20):\n",
    "    features = tfidf.get_feature_names()\n",
    "    tf_idf_scores = np.asarray(transformed_place_vecs[row_index, :].todense()).squeeze()\n",
    "    \n",
    "    for idx in np.argsort(tf_idf_scores)[::-1][:k]:\n",
    "        print(f\"[{tf_idf_scores[idx]:.3f}] {features[idx]}\")\n"
   ]
  },
  {
   "cell_type": "code",
   "execution_count": 94,
   "metadata": {},
   "outputs": [
    {
     "name": "stdout",
     "output_type": "stream",
     "text": [
      "[0.394] lake\n",
      "[0.249] trail\n",
      "[0.199] picnic\n",
      "[0.193] boat\n",
      "[0.187] walk\n",
      "[0.179] couple\n",
      "[0.176] dam\n",
      "[0.147] kayak\n",
      "[0.142] table\n",
      "[0.128] place\n",
      "[0.125] quick\n",
      "[0.118] access\n",
      "[0.117] try\n",
      "[0.116] sturdy\n",
      "[0.110] fishing\n",
      "[0.108] shadow\n",
      "[0.108] remnant\n",
      "[0.107] restroom\n",
      "[0.106] road\n",
      "[0.102] freeze\n"
     ]
    }
   ],
   "source": [
    "print_top_tfidf_tokens(place_id_mapping['ChIJj-qY4SysyIkRPvzcS6GBbFM'], k=20)"
   ]
  },
  {
   "cell_type": "code",
   "execution_count": 95,
   "metadata": {},
   "outputs": [
    {
     "data": {
      "text/plain": [
       "<AxesSubplot:>"
      ]
     },
     "execution_count": 95,
     "metadata": {},
     "output_type": "execute_result"
    },
    {
     "data": {
      "image/png": "[encoded data removed]",
      "text/plain": [
       "<Figure size 432x288 with 1 Axes>"
      ]
     },
     "metadata": {
      "needs_background": "light"
     },
     "output_type": "display_data"
    }
   ],
   "source": [
    "pd.Series([len(r) for r in reviews_content]).hist(bins=20)"
   ]
  },
  {
   "cell_type": "code",
   "execution_count": 97,
   "metadata": {},
   "outputs": [
    {
     "data": {
      "text/plain": [
       "['nice',\n",
       " 'park',\n",
       " 'walk',\n",
       " 'play',\n",
       " 'tennis',\n",
       " 'tennis',\n",
       " 'court',\n",
       " 'baseball',\n",
       " 'field',\n",
       " 'table',\n",
       " 'sit',\n",
       " 'relax',\n",
       " 'talk',\n",
       " 'eat',\n",
       " 'clearly',\n",
       " 'smoke',\n",
       " 'allow',\n",
       " 'rule',\n",
       " 'respect',\n",
       " 'clean',\n",
       " 'environment',\n",
       " 'fresh',\n",
       " 'air',\n",
       " 'peaceful',\n",
       " 'highly',\n",
       " 'recommend',\n",
       " 'friendly',\n",
       " 'notice',\n",
       " 'park',\n",
       " 'specifically',\n",
       " 'right',\n",
       " 'block',\n",
       " 'favourite',\n",
       " 'park',\n",
       " 'gteat',\n",
       " 'place',\n",
       " 'play',\n",
       " 'game',\n",
       " 'exercise',\n",
       " 'good',\n",
       " 'recreational',\n",
       " 'area',\n",
       " 'kid',\n",
       " 'hang',\n",
       " 'fun',\n",
       " 'go',\n",
       " 'community',\n",
       " 'event',\n",
       " 'blast',\n",
       " 'town',\n",
       " 'park',\n",
       " 'keep',\n",
       " 'good',\n",
       " 'kid',\n",
       " 'great',\n",
       " 'park',\n",
       " 'nice',\n",
       " 'field',\n",
       " 'negative',\n",
       " 'field',\n",
       " 'play',\n",
       " 'small',\n",
       " 'rf',\n",
       " 'great',\n",
       " 'place',\n",
       " 'kid',\n",
       " 'cool',\n",
       " 'new',\n",
       " 'turf',\n",
       " 'feild']"
      ]
     },
     "execution_count": 97,
     "metadata": {},
     "output_type": "execute_result"
    }
   ],
   "source": [
    "docs[0]"
   ]
  }
 ],
 "metadata": {
  "kernelspec": {
   "display_name": "Python 3",
   "language": "python",
   "name": "python3"
  },
  "language_info": {
   "codemirror_mode": {
    "name": "ipython",
    "version": 3
   },
   "file_extension": ".py",
   "mimetype": "text/x-python",
   "name": "python",
   "nbconvert_exporter": "python",
   "pygments_lexer": "ipython3",
   "version": "3.7.6"
  }
 },
 "nbformat": 4,
 "nbformat_minor": 2
}

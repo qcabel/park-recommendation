{
 "cells": [
  {
   "cell_type": "code",
   "execution_count": 253,
   "metadata": {},
   "outputs": [],
   "source": [
    "import plyvel\n",
    "import orjson\n",
    "\n",
    "from sklearn.feature_extraction.text import TfidfVectorizer, CountVectorizer\n",
    "from itertools import islice, chain\n",
    "\n",
    "import numpy as np"
   ]
  },
  {
   "cell_type": "code",
   "execution_count": 178,
   "metadata": {},
   "outputs": [],
   "source": [
    "def iterate_reviews(db_path, n=None):\n",
    "    db = plyvel.DB(db_path)\n",
    "    if n is None:\n",
    "        yield from db\n",
    "    else:\n",
    "        yield from islice(iter(db), n)\n",
    "        \n",
    "    db.close()\n",
    "    \n",
    "def extract_review_texts(value):\n",
    "    try:\n",
    "        reviews = [r['review_text'].get('full_html')\n",
    "                  for r in orjson.loads(value).get('reviews', {}).get('other_user_review', [])\n",
    "                  if 'review_text' in r]\n",
    "        \n",
    "        return [r for r in reviews if r]\n",
    "    except Exception as e:\n",
    "        print(f\"Failed: {e}\")\n",
    "        return []\n",
    "    \n",
    "def iterate_review_texts(db_path, n=None, flatten=False):\n",
    "    for key, review in iterate_reviews(db_path, n=n):\n",
    "        place_id = key.split(b':')[-1].decode('utf8')\n",
    "        if flatten:\n",
    "            yield from extract_review_texts(review)\n",
    "        else:\n",
    "            yield place_id, extract_review_texts(review)\n",
    "            \n",
    "def get_review_texts_by_id(db, place_id):\n",
    "    to_close = False\n",
    "    if isinstance(db, str):\n",
    "        db = plyvel.DB(db)\n",
    "        to_close = True\n",
    "    \n",
    "    key = f\"reviews:all:{place_id}\".encode('utf8')\n",
    "    \n",
    "    try:\n",
    "        yield from extract_review_texts(db.get(key))\n",
    "    finally:\n",
    "        if to_close:\n",
    "            db.close()"
   ]
  },
  {
   "cell_type": "code",
   "execution_count": 101,
   "metadata": {},
   "outputs": [],
   "source": [
    "cssp = list(get_review_texts_by_id('reviews_max50', 'ChIJX_PkfxsMzokRyg_Wdr6Nt2U'))\n",
    "nockamixon = list(get_review_texts_by_id('reviews_max50', 'ChIJmyIT0jUaxIkRhihmecUGMR0'))"
   ]
  },
  {
   "cell_type": "code",
   "execution_count": 215,
   "metadata": {},
   "outputs": [],
   "source": [
    "from spacy.lang.en.stop_words import STOP_WORDS\n",
    "\n",
    "class Lemmatizer:\n",
    "    def __init__(self, nlp_model, pos={'ADJ', 'NOUN', 'VERB', 'ADV'},\n",
    "                 stop_words=STOP_WORDS):\n",
    "        self.model = nlp_model\n",
    "        self.pos = pos\n",
    "        self.stop_words = stop_words\n",
    "        \n",
    "    def preprocess(self, text):\n",
    "        return text.strip().lower().replace(\"<br>\", \"\")\n",
    "        \n",
    "    def lemmatize(self, text):\n",
    "        return [(t.lemma_, t.pos_) for t in self.model(self.preprocess(text))\n",
    "                if t.pos_ in self.pos and t.lower_ not in self.stop_words]"
   ]
  },
  {
   "cell_type": "code",
   "execution_count": 181,
   "metadata": {},
   "outputs": [],
   "source": [
    "reviews_m10 = list(iterate_review_texts(\"reviews\"))\n",
    "reviews_m50 = list(iterate_review_texts(\"reviews_max50\"))"
   ]
  },
  {
   "cell_type": "code",
   "execution_count": 185,
   "metadata": {},
   "outputs": [
    {
     "data": {
      "text/plain": [
       "<AxesSubplot:>"
      ]
     },
     "execution_count": 185,
     "metadata": {},
     "output_type": "execute_result"
    },
    {
     "data": {
      "image/png": "[encoded data removed]",
      "text/plain": [
       "<Figure size 432x288 with 1 Axes>"
      ]
     },
     "metadata": {
      "needs_background": "light"
     },
     "output_type": "display_data"
    }
   ],
   "source": [
    "pd.Series([len(r) for r in reviews_content]).hist(bins=20)"
   ]
  },
  {
   "cell_type": "code",
   "execution_count": 208,
   "metadata": {},
   "outputs": [],
   "source": [
    "place_id_mapping = {k: v for v, (k, _) in enumerate(reviews_m50)}\n",
    "place_ids = [k for k, _ in reviews_m50]\n",
    "\n",
    "reviews_content = [v for _, v in reviews_m50]"
   ]
  },
  {
   "cell_type": "code",
   "execution_count": 216,
   "metadata": {},
   "outputs": [],
   "source": [
    "import spacy\n",
    "\n",
    "nlp = spacy.load(\"en_core_web_sm\")\n",
    "lemmatizer = Lemmatizer(nlp)\n",
    "\n",
    "# reviews[0][0], ' '.join(lemmatizer.lemmatize(reviews[0][0]))"
   ]
  },
  {
   "cell_type": "code",
   "execution_count": 187,
   "metadata": {},
   "outputs": [],
   "source": [
    "def no_op_tokenize_func(doc):\n",
    "    return doc\n",
    "\n",
    "tfidf = TfidfVectorizer(\n",
    "    analyzer='word',\n",
    "    tokenizer=no_op_tokenize_func,\n",
    "    preprocessor=no_op_tokenize_func,\n",
    "    token_pattern=None,\n",
    "    # ngram_range=(1,2),\n",
    "    max_features=10000\n",
    ")"
   ]
  },
  {
   "cell_type": "code",
   "execution_count": 217,
   "metadata": {},
   "outputs": [],
   "source": [
    "def gen_concat_doc(lemmatizer, texts):\n",
    "    \"\"\"Concatenate all docs (review texts) for the same place into one single doc.\"\"\"\n",
    "    yield from chain(*[lemmatizer.lemmatize(doc) for doc in texts])"
   ]
  },
  {
   "cell_type": "code",
   "execution_count": 218,
   "metadata": {},
   "outputs": [],
   "source": [
    "docs_with_pos = [list(gen_concat_doc(lemmatizer, doc)) for doc in reviews_content]"
   ]
  },
  {
   "cell_type": "code",
   "execution_count": 220,
   "metadata": {},
   "outputs": [],
   "source": [
    "def drop_pos(docs):\n",
    "    return [[d[0] for d in doc] for doc in docs]\n",
    "\n",
    "docs_without_pos = drop_pos(docs_with_pos)"
   ]
  },
  {
   "cell_type": "code",
   "execution_count": 221,
   "metadata": {},
   "outputs": [
    {
     "name": "stdout",
     "output_type": "stream",
     "text": [
      "4598\n"
     ]
    },
    {
     "data": {
      "text/plain": [
       "TfidfVectorizer(max_features=10000,\n",
       "                preprocessor=<function no_op_tokenize_func at 0x138b9a280>,\n",
       "                token_pattern=None,\n",
       "                tokenizer=<function no_op_tokenize_func at 0x138b9a280>)"
      ]
     },
     "execution_count": 221,
     "metadata": {},
     "output_type": "execute_result"
    }
   ],
   "source": [
    "print(len(docs_without_pos))\n",
    "tfidf.fit(docs_without_pos)"
   ]
  },
  {
   "cell_type": "code",
   "execution_count": 225,
   "metadata": {},
   "outputs": [],
   "source": [
    "from collections import defaultdict\n",
    "\n",
    "def identify_dominant_word_pos(docs):\n",
    "    \"\"\"Tally the part-of-speeach tags for each word,\n",
    "    so that for words with multiple POS tags, we will keep the most dominant POS tag.\n",
    "    \"\"\"\n",
    "    \n",
    "    word_pos_tags = {}\n",
    "    dominant_tag_for_word = {}\n",
    "    \n",
    "    for doc in docs:\n",
    "        for word, pos in doc:\n",
    "            if word not in word_pos_tags:\n",
    "                word_pos_tags[word] = defaultdict(int)\n",
    "                \n",
    "            word_pos_tags[word][pos] += 1\n",
    "            \n",
    "    for word, tally in word_pos_tags.items():\n",
    "        dominant_tag = sorted(tally.items(), key=lambda x: -x[1])[0][0]\n",
    "        dominant_tag_for_word[word] = dominant_tag\n",
    "        \n",
    "    return dominant_tag_for_word"
   ]
  },
  {
   "cell_type": "code",
   "execution_count": 226,
   "metadata": {},
   "outputs": [],
   "source": [
    "dominant_tag_for_word = identify_dominant_word_pos(docs_with_pos)"
   ]
  },
  {
   "cell_type": "code",
   "execution_count": 228,
   "metadata": {},
   "outputs": [
    {
     "data": {
      "text/plain": [
       "'ADJ'"
      ]
     },
     "execution_count": 228,
     "metadata": {},
     "output_type": "execute_result"
    }
   ],
   "source": [
    "dominant_tag_for_word['nice']"
   ]
  },
  {
   "cell_type": "code",
   "execution_count": 22,
   "metadata": {},
   "outputs": [],
   "source": [
    "def get_high_idf_tokens(tfidf, top_k=50):\n",
    "    high_idf_indices = np.argsort(tfidf.idf_)[::-1]\n",
    "    features = tfidf.get_feature_names()\n",
    "    \n",
    "    tokens = []\n",
    "    for i in range(top_k):\n",
    "        idx = high_idf_indices[i]\n",
    "        tokens.append((features[idx], tfidf.idf_[idx]))\n",
    "        \n",
    "    return tokens"
   ]
  },
  {
   "cell_type": "code",
   "execution_count": 47,
   "metadata": {},
   "outputs": [
    {
     "data": {
      "text/plain": [
       "[('medicaid', 8.740881769595523),\n",
       " ('rachet', 8.740881769595523),\n",
       " ('radiation', 8.740881769595523),\n",
       " ('radiate', 8.740881769595523),\n",
       " ('rad', 8.740881769595523),\n",
       " ('racketball', 8.740881769595523),\n",
       " ('racist', 8.740881769595523),\n",
       " ('racism', 8.740881769595523),\n",
       " ('raccoo', 8.740881769595523),\n",
       " ('radish', 8.740881769595523)]"
      ]
     },
     "execution_count": 47,
     "metadata": {},
     "output_type": "execute_result"
    }
   ],
   "source": [
    "get_high_idf_tokens(tfidf)[:10]"
   ]
  },
  {
   "cell_type": "code",
   "execution_count": 202,
   "metadata": {},
   "outputs": [],
   "source": [
    "transformed_place_vecs = tfidf.transform(docs)"
   ]
  },
  {
   "cell_type": "code",
   "execution_count": 203,
   "metadata": {},
   "outputs": [
    {
     "data": {
      "text/plain": [
       "(4598, 10000)"
      ]
     },
     "execution_count": 203,
     "metadata": {},
     "output_type": "execute_result"
    }
   ],
   "source": [
    "transformed_place_vecs.shape"
   ]
  },
  {
   "cell_type": "code",
   "execution_count": 60,
   "metadata": {},
   "outputs": [
    {
     "data": {
      "text/plain": [
       "2394"
      ]
     },
     "execution_count": 60,
     "metadata": {},
     "output_type": "execute_result"
    }
   ],
   "source": [
    "pid = place_id_mapping['ChIJX_PkfxsMzokRyg_Wdr6Nt2U']\n",
    "pid"
   ]
  },
  {
   "cell_type": "code",
   "execution_count": 204,
   "metadata": {},
   "outputs": [],
   "source": [
    "cosine_sim = transformed_place_vecs @ transformed_place_vecs.T"
   ]
  },
  {
   "cell_type": "code",
   "execution_count": 53,
   "metadata": {},
   "outputs": [
    {
     "data": {
      "text/plain": [
       "array([0])"
      ]
     },
     "execution_count": 53,
     "metadata": {},
     "output_type": "execute_result"
    }
   ],
   "source": [
    "np.argsort(cosine_sim[3591, :])[::-1][:10]"
   ]
  },
  {
   "cell_type": "code",
   "execution_count": 61,
   "metadata": {},
   "outputs": [
    {
     "data": {
      "text/plain": [
       "array([2394, 2385, 1800, 2734, 4477,  490, 3780, 3902,  452, 1676])"
      ]
     },
     "execution_count": 61,
     "metadata": {},
     "output_type": "execute_result"
    }
   ],
   "source": [
    "np.argsort(np.asarray(cosine_sim[2394, :].todense()).squeeze())[::-1][:10]"
   ]
  },
  {
   "cell_type": "code",
   "execution_count": 115,
   "metadata": {},
   "outputs": [],
   "source": [
    "import pandas as pd\n",
    "df = pd.read_parquet(\"park_info_with_review_tag.parquet\")\n",
    "id_to_name_mapping = {pid: name for pid, name in zip(df['id'].values, df['name'].values)}"
   ]
  },
  {
   "cell_type": "code",
   "execution_count": 116,
   "metadata": {},
   "outputs": [],
   "source": [
    "def get_most_similar_parks(row_id, k=10):\n",
    "    sim_scores = np.asarray(cosine_sim[row_id, :].todense()).squeeze()\n",
    "    similar_row_ids = np.argsort(sim_scores)[::-1]\n",
    "    \n",
    "    for rid, score in zip(similar_row_ids, sim_scores[similar_row_ids]):\n",
    "        print(f\"[{score:.3f}] {rid:5d} = {id_to_name_mapping[place_ids[rid]]}\")"
   ]
  },
  {
   "cell_type": "code",
   "execution_count": 210,
   "metadata": {},
   "outputs": [
    {
     "name": "stdout",
     "output_type": "stream",
     "text": [
      "[1.000]  4218 = Timber Creek Dog Park\n",
      "[0.808]  3622 = Blydenbugh Dog Park Area\n",
      "[0.794]   560 = Freedom Barks\n",
      "[0.775]  3261 = Rumbrook Park East Dog Park\n",
      "[0.772]  2106 = Lloyd Park\n",
      "[0.764]  2011 = Yorktown Community Dog Park\n",
      "[0.763]   431 = MonDaug Bark Park\n",
      "[0.760]  1949 = Swedes Run Dog Park\n",
      "[0.759]  2369 = Falls Township Dog Park\n",
      "[0.756]  3108 = Duke's Dog Run at Freedom Park\n"
     ]
    }
   ],
   "source": [
    "get_most_similar_parks(place_id_mapping['ChIJv7qvtP3NxokRxuok-WUh3O0'])"
   ]
  },
  {
   "cell_type": "code",
   "execution_count": 214,
   "metadata": {},
   "outputs": [
    {
     "name": "stdout",
     "output_type": "stream",
     "text": [
      "[1.000]  1479 = Pier 84 at Hudson River Park\n",
      "[0.552]  3633 = Pier I\n",
      "[0.526]  1664 = Pier 45 at Hudson River Park\n",
      "[0.510]   755 = Fleischmann's Pier Park\n",
      "[0.498]   919 = Pier 26 at Hudson River Park\n",
      "[0.495]   803 = West Harlem Piers\n",
      "[0.482]  1711 = Pier 51 at Hudson River Park\n",
      "[0.478]   852 = Pier 46 at Hudson River Park\n",
      "[0.445]  1206 = Pier 64 at Hudson River Park\n",
      "[0.441]   553 = Maxwell Place Park\n",
      "[0.430]  3599 = Christopher Street Pier\n",
      "[0.429]  3718 = Senasqua Park\n",
      "[0.428]   568 = Scenic Hudson Park\n",
      "[0.427]  1653 = MacEachron Waterfront Park\n",
      "[0.424]  3050 = Louis Engel Waterfront Park\n",
      "[0.421]  1605 = Pier C Park\n",
      "[0.420]  3848 = Hudson River Park\n",
      "[0.417]  2194 = Pierson Park\n",
      "[0.415]  1587 = Riverfront Green Park\n",
      "[0.413]  2222 = North 5th Street Pier and Park\n"
     ]
    }
   ],
   "source": [
    "get_most_similar_parks(place_id_mapping['ChIJK2U1rU5YwokRjywqQmiBZaE'], k=20)"
   ]
  },
  {
   "cell_type": "code",
   "execution_count": 242,
   "metadata": {},
   "outputs": [],
   "source": [
    "def print_top_tfidf_tokens_vec(scores, top_k=20, noun_verb_only=False):\n",
    "    features = tfidf.get_feature_names()\n",
    "    tf_idf_scores = np.asarray(scores.todense()).squeeze()\n",
    "    sorted_indices = np.argsort(tf_idf_scores)[::-1]\n",
    "    \n",
    "    i = 0\n",
    "    k = 0\n",
    "    while k < top_k:\n",
    "        idx = sorted_indices[i]\n",
    "        i += 1\n",
    "        \n",
    "        if noun_verb_only:\n",
    "            pos = dominant_tag_for_word[features[idx]]\n",
    "            if pos != 'NOUN' and pos != 'VERB':\n",
    "                continue\n",
    "        k += 1\n",
    "        print(f\"[{tf_idf_scores[idx]:.3f}] {features[idx]}\")\n",
    "        \n",
    "def print_top_tfidf_tokens(row_index, top_k=20, noun_verb_only=False):\n",
    "    print_top_tfidf_tokens_vec(transformed_place_vecs[row_index, :],\n",
    "                               top_k=top_k, noun_verb_only=noun_verb_only)\n",
    "    "
   ]
  },
  {
   "cell_type": "code",
   "execution_count": 243,
   "metadata": {},
   "outputs": [
    {
     "name": "stdout",
     "output_type": "stream",
     "text": [
      "[0.274] trail\n",
      "[0.217] boat\n",
      "[0.215] lake\n",
      "[0.212] rental\n",
      "[0.210] park\n",
      "[0.204] kayak\n",
      "[0.192] haycock\n",
      "[0.152] place\n",
      "[0.150] fishing\n",
      "[0.136] water\n",
      "[0.132] paddle\n",
      "[0.122] love\n",
      "[0.121] marina\n",
      "[0.120] launch\n",
      "[0.105] bike\n",
      "[0.099] pool\n",
      "[0.099] ride\n",
      "[0.092] hike\n",
      "[0.091] time\n",
      "[0.086] swimming\n"
     ]
    }
   ],
   "source": [
    "print_top_tfidf_tokens(place_id_mapping['ChIJmyIT0jUaxIkRhihmecUGMR0'], top_k=20, noun_verb_only=True)"
   ]
  },
  {
   "cell_type": "code",
   "execution_count": 232,
   "metadata": {},
   "outputs": [],
   "source": [
    "global_doc = [w for doc in docs_without_pos for w in doc]"
   ]
  },
  {
   "cell_type": "code",
   "execution_count": 234,
   "metadata": {},
   "outputs": [],
   "source": [
    "global_tf_idf = tfidf.transform([global_doc])"
   ]
  },
  {
   "cell_type": "code",
   "execution_count": 251,
   "metadata": {},
   "outputs": [
    {
     "data": {
      "text/plain": [
       "1.1405450277714797"
      ]
     },
     "execution_count": 251,
     "metadata": {},
     "output_type": "execute_result"
    }
   ],
   "source": [
    "token_to_id = {w: i for i, w in enumerate(tfidf.get_feature_names())}\n",
    "tfidf.idf_[token_to_id['park']]"
   ]
  },
  {
   "cell_type": "code",
   "execution_count": 252,
   "metadata": {},
   "outputs": [
    {
     "name": "stdout",
     "output_type": "stream",
     "text": [
      "[0.405] park\n",
      "[0.259] place\n",
      "[0.196] trail\n",
      "[0.190] dog\n",
      "[0.167] walk\n",
      "[0.151] kid\n",
      "[0.119] playground\n",
      "[0.118] area\n",
      "[0.115] love\n",
      "[0.106] view\n"
     ]
    }
   ],
   "source": [
    "print_top_tfidf_tokens_vec(global_tf_idf, noun_verb_only=True, top_k=10)"
   ]
  },
  {
   "cell_type": "markdown",
   "metadata": {},
   "source": [
    "## Use non-negative matrix factorization (NMF) to find \"topics\" for parks\n",
    "\n",
    "In this section, we can fit a [CountVectorizer](https://scikit-learn.org/stable/modules/generated/sklearn.feature_extraction.text.CountVectorizer.html#sklearn.feature_extraction.text.CountVectorizer) and use it to convert (the reviews) of each park into a non-negative matrix $X$.\n",
    "\n",
    "The matrix $X$ has shape $P \\times V$, where $P$ is the number of parks, and $V$ is the size of our vocabulary.\n",
    "\n",
    "We then use the [NMF](https://scikit-learn.org/stable/modules/generated/sklearn.decomposition.NMF.html) to decompose the word count matrix into $X \\approx W * H$, by specifying $K$ topics/components.\n",
    "\n",
    "Each component/topic will contain multiple words."
   ]
  },
  {
   "cell_type": "code",
   "execution_count": 357,
   "metadata": {},
   "outputs": [],
   "source": [
    "POS_WHITELIST = {'NOUN', 'VERB'}\n",
    "\n",
    "docs_nouns_verbs_only = [\n",
    "    [w for w, pos in doc if pos in POS_WHITELIST]\n",
    "    for doc in docs_with_pos\n",
    "]"
   ]
  },
  {
   "cell_type": "code",
   "execution_count": 359,
   "metadata": {},
   "outputs": [
    {
     "data": {
      "text/plain": [
       "(4598, 3000)"
      ]
     },
     "execution_count": 359,
     "metadata": {},
     "output_type": "execute_result"
    }
   ],
   "source": [
    "tfidf_vec = TfidfVectorizer(\n",
    "    analyzer='word',\n",
    "    tokenizer=no_op_tokenize_func,\n",
    "    preprocessor=no_op_tokenize_func,\n",
    "    token_pattern=None,\n",
    "    max_features=2000,\n",
    "    # a word must at least occur in 3 parks\n",
    "    min_df=5)\n",
    "\n",
    "# this is the matrix X in the text above\n",
    "park_word_mat = cnt_vec.fit_transform(docs_nouns_verbs_only)\n",
    "park_word_mat.shape"
   ]
  },
  {
   "cell_type": "code",
   "execution_count": 270,
   "metadata": {},
   "outputs": [
    {
     "data": {
      "text/plain": [
       "116"
      ]
     },
     "execution_count": 270,
     "metadata": {},
     "output_type": "execute_result"
    }
   ],
   "source": [
    "np.sum(park_word_mat.todense()[0, :])"
   ]
  },
  {
   "cell_type": "code",
   "execution_count": 360,
   "metadata": {},
   "outputs": [],
   "source": [
    "from sklearn.decomposition import NMF\n",
    "\n",
    "N_COMPONENTS = 100\n",
    "\n",
    "# use a relatively large l1_ratio to encourage sparsity in the solutions\n",
    "nmf_model = NMF(N_COMPONENTS, init='random', random_state=0, max_iter=2000,\n",
    "                l1_ratio=0.75, alpha=3.0)\n",
    "W = nmf_model.fit_transform(park_word_mat)"
   ]
  },
  {
   "cell_type": "code",
   "execution_count": 493,
   "metadata": {},
   "outputs": [],
   "source": [
    "from matplotlib import pyplot as plt\n",
    "\n",
    "def print_park_topics(place_id, top_k_topics=10):\n",
    "    print(np.sort(W[place_id_mapping[place_id], :])[::-1][:top_k_topics])\n",
    "    print(np.argsort(W[place_id_mapping[place_id], :])[::-1][:top_k_topics])\n",
    "    plt.subplot(2, 1, 1)\n",
    "    plt.plot(W[place_id_mapping[place_id], :])\n",
    "    \n",
    "    plt.subplot(2, 1, 2)\n",
    "    sorted_contrib = np.sort(W[place_id_mapping[place_id], :])[::-1]\n",
    "    norm_sorted_contrib = sorted_contrib / np.sum(sorted_contrib)\n",
    "    cum_contrib = np.cumsum(norm_sorted_contrib)\n",
    "    print(\"Cum. contribution @ component 5:\", cum_contrib[4])\n",
    "    plt.plot(cum_contrib)"
   ]
  },
  {
   "cell_type": "code",
   "execution_count": 494,
   "metadata": {},
   "outputs": [
    {
     "name": "stdout",
     "output_type": "stream",
     "text": [
      "[0.19923995 0.1561291  0.140622   0.13759429 0.11586954 0.09515013\n",
      " 0.08953305 0.08081613 0.07590476 0.0740653 ]\n",
      "[ 0 85 44 65 15 49  9 25 90 55]\n",
      "Cum. contribution @ component 5: 0.4001493565862811\n"
     ]
    },
    {
     "data": {
      "image/png": "[encoded data removed]",
      "text/plain": [
       "<Figure size 432x288 with 2 Axes>"
      ]
     },
     "metadata": {
      "needs_background": "light"
     },
     "output_type": "display_data"
    }
   ],
   "source": [
    "print_park_topics(\"ChIJ6TFIKYC3xokRmfC2e01b-Ik\")"
   ]
  },
  {
   "cell_type": "code",
   "execution_count": 369,
   "metadata": {},
   "outputs": [
    {
     "data": {
      "text/plain": [
       "(100, 3000)"
      ]
     },
     "execution_count": 369,
     "metadata": {},
     "output_type": "execute_result"
    }
   ],
   "source": [
    "H = nmf_model.components_\n",
    "H.shape"
   ]
  },
  {
   "cell_type": "code",
   "execution_count": 366,
   "metadata": {},
   "outputs": [],
   "source": [
    "features = cnt_vec.get_feature_names()\n",
    "\n",
    "def print_top_tokens_for_component(H, component_index, top_k=20):\n",
    "    words = H[component_index, :]\n",
    "    top_tokens = np.argsort(words)[::-1][:top_k]\n",
    "    for t in top_tokens:\n",
    "        print(f\"[{words[t]:.4f}] {features[t]}\")"
   ]
  },
  {
   "cell_type": "code",
   "execution_count": 517,
   "metadata": {},
   "outputs": [
    {
     "name": "stdout",
     "output_type": "stream",
     "text": [
      "[7.2780] site\n",
      "[4.9582] camping\n",
      "[3.9435] camp\n",
      "[3.3933] campground\n",
      "[2.3712] state\n",
      "[1.9206] tent\n",
      "[1.9092] campsite\n",
      "[1.8970] stay\n",
      "[1.4383] shower\n",
      "[1.3816] trail\n",
      "[1.2828] hiking\n",
      "[1.2546] cabin\n",
      "[1.2503] camper\n",
      "[1.2208] lot\n",
      "[1.1799] loop\n",
      "[1.1723] ranger\n",
      "[1.1327] hike\n",
      "[1.0808] day\n",
      "[1.0184] night\n",
      "[0.9822] fishing\n"
     ]
    }
   ],
   "source": [
    "print_top_tokens_for_component(H, 51, top_k=20)"
   ]
  },
  {
   "cell_type": "code",
   "execution_count": 399,
   "metadata": {},
   "outputs": [],
   "source": [
    "components_sim = H_norm @ H_norm.T"
   ]
  },
  {
   "cell_type": "code",
   "execution_count": 398,
   "metadata": {},
   "outputs": [],
   "source": [
    "H_norm = H / (np.linalg.norm(H, axis=1, keepdims=True) + 1e-4)"
   ]
  },
  {
   "cell_type": "code",
   "execution_count": 395,
   "metadata": {},
   "outputs": [
    {
     "data": {
      "text/plain": [
       "array([[0.00082799, 0.        , 0.00016195, ..., 0.        , 0.        ,\n",
       "        0.        ],\n",
       "       [0.        , 0.00140432, 0.        , ..., 0.        , 0.        ,\n",
       "        0.02941775],\n",
       "       [0.        , 0.        , 0.        , ..., 0.00286966, 0.        ,\n",
       "        0.00346445],\n",
       "       ...,\n",
       "       [0.        , 0.00025018, 0.        , ..., 0.00062851, 0.        ,\n",
       "        0.00598998],\n",
       "       [0.        , 0.        , 0.        , ..., 0.        , 0.00667324,\n",
       "        0.        ],\n",
       "       [0.        , 0.        , 0.        , ..., 0.        , 0.        ,\n",
       "        0.        ]])"
      ]
     },
     "execution_count": 395,
     "metadata": {},
     "output_type": "execute_result"
    }
   ],
   "source": [
    "H_norm"
   ]
  },
  {
   "cell_type": "code",
   "execution_count": 400,
   "metadata": {},
   "outputs": [
    {
     "data": {
      "text/plain": [
       "<matplotlib.image.AxesImage at 0x18ae02a00>"
      ]
     },
     "execution_count": 400,
     "metadata": {},
     "output_type": "execute_result"
    },
    {
     "data": {
      "image/png": "[encoded data removed]",
      "text/plain": [
       "<Figure size 432x288 with 1 Axes>"
      ]
     },
     "metadata": {
      "needs_background": "light"
     },
     "output_type": "display_data"
    }
   ],
   "source": [
    "plt.imshow(components_sim)"
   ]
  },
  {
   "cell_type": "code",
   "execution_count": 542,
   "metadata": {},
   "outputs": [],
   "source": [
    "# generic words for park/place\n",
    "# and generic verbs for visiting a park\n",
    "# should be excluded.\n",
    "stop_words = {\n",
    "    'park', 'go', 'visit', 'restroom', 'come', 'place', 'spot', 'time', 'take',\n",
    "    '#', '%', 'translate', 'love', 'bring', 'find', 'year', 'york'\n",
    "}"
   ]
  },
  {
   "cell_type": "code",
   "execution_count": 469,
   "metadata": {},
   "outputs": [],
   "source": [
    "def get_top_words_from_topics(H, top_k=2):\n",
    "    top_words = []\n",
    "    \n",
    "    for i in range(H.shape[0]):\n",
    "        words = -H[i, :]\n",
    "        top_tokens = np.argpartition(words, top_k)[:top_k]\n",
    "    \n",
    "        words = [features[t] for t in top_tokens]\n",
    "        \n",
    "        top_words.append([w for w in words if w not in stop_words])\n",
    "        \n",
    "    return top_words"
   ]
  },
  {
   "cell_type": "code",
   "execution_count": 543,
   "metadata": {},
   "outputs": [],
   "source": [
    "def get_top_words_from_topics_by_weight(H, min_weight=2.0):\n",
    "    top_words = []\n",
    "    \n",
    "    for i in range(H.shape[0]):\n",
    "        word_weights = H[i, :]\n",
    "        top_tokens = np.argsort(word_weights)[::-1]\n",
    "    \n",
    "        words = [features[t] for t in top_tokens\n",
    "                 if word_weights[t] >= min_weight]\n",
    "        \n",
    "        top_words.append([w for w in words if w not in stop_words])\n",
    "        \n",
    "    return top_words"
   ]
  },
  {
   "cell_type": "code",
   "execution_count": 544,
   "metadata": {},
   "outputs": [
    {
     "data": {
      "text/plain": [
       "[[],\n",
       " ['house', 'fairy'],\n",
       " ['summer', 'concert'],\n",
       " ['pavilion'],\n",
       " ['maintain', 'keep', 'plenty'],\n",
       " ['pool'],\n",
       " ['manhattan', 'brooklyn', 'skyline', 'pier', 'city', 'ferry'],\n",
       " ['dog', 'owner'],\n",
       " ['view'],\n",
       " ['look'],\n",
       " [],\n",
       " ['family', 'friend'],\n",
       " ['course', 'green', 'tee'],\n",
       " ['bathroom'],\n",
       " ['trail', 'walk'],\n",
       " [],\n",
       " ['playground', 'kid', 'play', 'age'],\n",
       " ['sculpture', 'ground', 'art'],\n",
       " ['basketball', 'court', 'playground', 'handball'],\n",
       " ['bird', 'wildlife', 'watch', 'see'],\n",
       " ['swing', 'sprinkler', 'slide', 'equipment', 'age', 'kid'],\n",
       " ['event', 'music', 'food', 'center', 'festival', 'concert'],\n",
       " ['store', 'price', 'item'],\n",
       " ['enjoy'],\n",
       " ['skate', 'ice', 'rink'],\n",
       " ['zoo', 'animal'],\n",
       " ['water', 'fountain'],\n",
       " ['river', 'delaware'],\n",
       " ['statue', 'liberty'],\n",
       " ['relax', 'sit'],\n",
       " ['hike', 'trail', 'hiking'],\n",
       " ['nature', 'center'],\n",
       " ['fall', 'waterfall'],\n",
       " ['food', 'service', 'restaurant', 'drink'],\n",
       " ['disc', 'course', 'golf', 'hole'],\n",
       " ['island', 'ride'],\n",
       " [],\n",
       " ['golf'],\n",
       " ['memorial', 'lose', 'life'],\n",
       " ['path', 'walk'],\n",
       " [],\n",
       " ['creek', 'stream'],\n",
       " ['hour'],\n",
       " ['care', 'service', 'recommend', 'fido', 'pup', 'leave', 'know'],\n",
       " ['night', 'sky', 'star', 'experience', 'way'],\n",
       " [],\n",
       " ['neighborhood', 'community', 'street'],\n",
       " ['track', 'exercise', 'workout', 'work'],\n",
       " ['hudson', 'view', 'river'],\n",
       " [],\n",
       " ['fun'],\n",
       " ['site', 'camping', 'camp', 'campground', 'state'],\n",
       " ['picnic', 'table', 'grill', 'area'],\n",
       " ['space', 'plenty'],\n",
       " ['city'],\n",
       " ['people'],\n",
       " ['wolf', 'tour'],\n",
       " ['baseball', 'field', 'ball'],\n",
       " [],\n",
       " ['kid'],\n",
       " ['plant', 'selection'],\n",
       " ['walk'],\n",
       " ['fishing', 'fish', 'catch', 'pier'],\n",
       " ['bike', 'ride'],\n",
       " ['car', 'road', 'drive', 'get'],\n",
       " ['fence', 'leash'],\n",
       " ['lake'],\n",
       " [],\n",
       " ['preserve', 'wood', 'land'],\n",
       " ['boat', 'launch', 'ramp', 'kayak'],\n",
       " ['soccer', 'field'],\n",
       " ['animal'],\n",
       " ['sit', 'bench', 'watch', 'street', 'lunch', 'fountain', 'eat'],\n",
       " ['mountain', 'biking', 'trail', 'hiking'],\n",
       " ['lot'],\n",
       " ['child', 'kid'],\n",
       " ['tennis', 'court'],\n",
       " ['blossom', 'cherry', 'bloom'],\n",
       " ['hill', 'snow'],\n",
       " ['range', 'shoot'],\n",
       " ['beach', 'water'],\n",
       " ['pond', 'duck', 'turtle'],\n",
       " ['rock'],\n",
       " ['bridge'],\n",
       " ['field', 'sport', 'football'],\n",
       " ['para', 'lugar'],\n",
       " ['mile', 'way', 'loop'],\n",
       " ['tree', 'shade'],\n",
       " ['need', 'clean', 'use', 'work', 'trash'],\n",
       " ['history', 'building', 'tour', 'independence'],\n",
       " ['resident', 'town'],\n",
       " ['parking', 'lot'],\n",
       " ['garden', 'flower'],\n",
       " ['staff'],\n",
       " [],\n",
       " ['day'],\n",
       " ['area'],\n",
       " ['run'],\n",
       " ['state', 'forest', 'hiking', 'cabin'],\n",
       " ['play']]"
      ]
     },
     "execution_count": 544,
     "metadata": {},
     "output_type": "execute_result"
    }
   ],
   "source": [
    "top_words = get_top_words_from_topics_by_weight(H)\n",
    "top_words"
   ]
  },
  {
   "cell_type": "code",
   "execution_count": 545,
   "metadata": {},
   "outputs": [],
   "source": [
    "import orjson\n",
    "\n",
    "def dump_park_topics(W, place_id_mapping, output_file=None,\n",
    "                     min_component_weight=0.2, min_word_weight=2.0):\n",
    "    park_topics = {}\n",
    "    \n",
    "    for k, pid in place_id_mapping.items():\n",
    "        comp_weights = W[pid, :]\n",
    "        top_components = np.argsort(comp_weights)[::-1]\n",
    "        \n",
    "        topics = []\n",
    "        for comp_id in top_components:\n",
    "            weight = comp_weights[comp_id]\n",
    "            if weight >= min_component_weight:\n",
    "                if top_words[comp_id]:\n",
    "                    topics.append({\n",
    "                        'topic_id': int(comp_id),\n",
    "                        'weight': float(weight),\n",
    "                        'topics': top_words[comp_id]\n",
    "                    })\n",
    "            else:\n",
    "                break\n",
    "                \n",
    "        park_topics[k] = topics\n",
    "        \n",
    "    if output_file:\n",
    "        with open(output_file, 'wb+') as f:\n",
    "            f.write(orjson.dumps(park_topics))\n",
    "            \n",
    "    return park_topics\n",
    "        "
   ]
  },
  {
   "cell_type": "code",
   "execution_count": 546,
   "metadata": {},
   "outputs": [],
   "source": [
    "park_topics_by_id = dump_park_topics(W, place_id_mapping, 'park_topics_by_id.json')"
   ]
  },
  {
   "cell_type": "code",
   "execution_count": null,
   "metadata": {},
   "outputs": [],
   "source": []
  }
 ],
 "metadata": {
  "kernelspec": {
   "display_name": "Python 3",
   "language": "python",
   "name": "python3"
  },
  "language_info": {
   "codemirror_mode": {
    "name": "ipython",
    "version": 3
   },
   "file_extension": ".py",
   "mimetype": "text/x-python",
   "name": "python",
   "nbconvert_exporter": "python",
   "pygments_lexer": "ipython3",
   "version": "3.8.5"
  }
 },
 "nbformat": 4,
 "nbformat_minor": 2
}

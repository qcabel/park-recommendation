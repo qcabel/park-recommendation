{
 "cells": [
  {
   "cell_type": "code",
   "execution_count": 73,
   "metadata": {},
   "outputs": [],
   "source": [
    "import numpy as np\n",
    "import pandas as pd\n",
    "import sqlite3\n",
    "\n",
    "import matplotlib.pyplot as plt"
   ]
  },
  {
   "cell_type": "code",
   "execution_count": null,
   "metadata": {},
   "outputs": [],
   "source": []
  },
  {
   "cell_type": "code",
   "execution_count": 91,
   "metadata": {},
   "outputs": [],
   "source": [
    "# load current\n",
    "df_curr_popularity = pd.read_parquet('curr_popularity_Date_2021-03-16_2021-04-10.parquet')\n",
    "df_weather = pd.read_parquet('weather_data_Date_2021-03-16_2021-04-10.parquet')\n"
   ]
  },
  {
   "cell_type": "code",
   "execution_count": 3,
   "metadata": {},
   "outputs": [
    {
     "data": {
      "text/plain": [
       "1287"
      ]
     },
     "execution_count": 3,
     "metadata": {},
     "output_type": "execute_result"
    }
   ],
   "source": [
    "len(df_curr_popularity['id'].unique())"
   ]
  },
  {
   "cell_type": "code",
   "execution_count": 4,
   "metadata": {},
   "outputs": [
    {
     "data": {
      "text/html": [
       "<div>\n",
       "<style scoped>\n",
       "    .dataframe tbody tr th:only-of-type {\n",
       "        vertical-align: middle;\n",
       "    }\n",
       "\n",
       "    .dataframe tbody tr th {\n",
       "        vertical-align: top;\n",
       "    }\n",
       "\n",
       "    .dataframe thead th {\n",
       "        text-align: right;\n",
       "    }\n",
       "</style>\n",
       "<table border=\"1\" class=\"dataframe\">\n",
       "  <thead>\n",
       "    <tr style=\"text-align: right;\">\n",
       "      <th></th>\n",
       "      <th>datetime_hour</th>\n",
       "      <th>id</th>\n",
       "      <th>curr_popularity</th>\n",
       "      <th>rating_n</th>\n",
       "      <th>request_id</th>\n",
       "    </tr>\n",
       "  </thead>\n",
       "  <tbody>\n",
       "    <tr>\n",
       "      <th>0</th>\n",
       "      <td>2021-04-07 01:00:00</td>\n",
       "      <td>ChIJ2R92Tl7Gx4kRO6G7NcWtNhk</td>\n",
       "      <td>34.0</td>\n",
       "      <td>1360.0</td>\n",
       "      <td>ChIJ2R92Tl7Gx4kRO6G7NcWtNhk</td>\n",
       "    </tr>\n",
       "    <tr>\n",
       "      <th>1</th>\n",
       "      <td>2021-04-07 01:00:00</td>\n",
       "      <td>ChIJ6RplJk13xokRN0DaW7aoDaA</td>\n",
       "      <td>46.0</td>\n",
       "      <td>441.0</td>\n",
       "      <td>ChIJ6RplJk13xokRN0DaW7aoDaA</td>\n",
       "    </tr>\n",
       "    <tr>\n",
       "      <th>2</th>\n",
       "      <td>2021-04-07 01:00:00</td>\n",
       "      <td>ChIJBf9gK23kx4kR7d1LnPPvyp8</td>\n",
       "      <td>1.0</td>\n",
       "      <td>593.0</td>\n",
       "      <td>ChIJBf9gK23kx4kR7d1LnPPvyp8</td>\n",
       "    </tr>\n",
       "    <tr>\n",
       "      <th>3</th>\n",
       "      <td>2021-04-07 01:00:00</td>\n",
       "      <td>ChIJKfnD4cK9x4kRHA-LRHfOQYs</td>\n",
       "      <td>23.0</td>\n",
       "      <td>1532.0</td>\n",
       "      <td>ChIJKfnD4cK9x4kRHA-LRHfOQYs</td>\n",
       "    </tr>\n",
       "    <tr>\n",
       "      <th>4</th>\n",
       "      <td>2021-04-07 01:00:00</td>\n",
       "      <td>ChIJOwA0J6YCuIkRaK-0pk4S95E</td>\n",
       "      <td>7.0</td>\n",
       "      <td>301.0</td>\n",
       "      <td>ChIJOwA0J6YCuIkRaK-0pk4S95E</td>\n",
       "    </tr>\n",
       "  </tbody>\n",
       "</table>\n",
       "</div>"
      ],
      "text/plain": [
       "        datetime_hour                           id  curr_popularity  rating_n  \\\n",
       "0 2021-04-07 01:00:00  ChIJ2R92Tl7Gx4kRO6G7NcWtNhk             34.0    1360.0   \n",
       "1 2021-04-07 01:00:00  ChIJ6RplJk13xokRN0DaW7aoDaA             46.0     441.0   \n",
       "2 2021-04-07 01:00:00  ChIJBf9gK23kx4kR7d1LnPPvyp8              1.0     593.0   \n",
       "3 2021-04-07 01:00:00  ChIJKfnD4cK9x4kRHA-LRHfOQYs             23.0    1532.0   \n",
       "4 2021-04-07 01:00:00  ChIJOwA0J6YCuIkRaK-0pk4S95E              7.0     301.0   \n",
       "\n",
       "                    request_id  \n",
       "0  ChIJ2R92Tl7Gx4kRO6G7NcWtNhk  \n",
       "1  ChIJ6RplJk13xokRN0DaW7aoDaA  \n",
       "2  ChIJBf9gK23kx4kR7d1LnPPvyp8  \n",
       "3  ChIJKfnD4cK9x4kRHA-LRHfOQYs  \n",
       "4  ChIJOwA0J6YCuIkRaK-0pk4S95E  "
      ]
     },
     "execution_count": 4,
     "metadata": {},
     "output_type": "execute_result"
    }
   ],
   "source": [
    "df_curr_popularity.head()"
   ]
  },
  {
   "cell_type": "code",
   "execution_count": 332,
   "metadata": {},
   "outputs": [
    {
     "data": {
      "text/plain": [
       "[<matplotlib.lines.Line2D at 0x135bb6950>]"
      ]
     },
     "execution_count": 332,
     "metadata": {},
     "output_type": "execute_result"
    },
    {
     "data": {
      "image/png": "[encoded data removed]",
      "text/plain": [
       "<Figure size 1080x216 with 1 Axes>"
      ]
     },
     "metadata": {
      "needs_background": "light"
     },
     "output_type": "display_data"
    }
   ],
   "source": [
    "sub_df = df_curr_popularity[df_curr_popularity['id']=='ChIJ6RplJk13xokRN0DaW7aoDaA']\n",
    "plt.figure(figsize=[15,3])\n",
    "# plt.plot(sub_df['datetime_hour'], sub_df['rating_n'], 'o')\n",
    "plt.plot(sub_df['datetime_hour'], sub_df['curr_popularity'], 'o')"
   ]
  },
  {
   "cell_type": "code",
   "execution_count": null,
   "metadata": {},
   "outputs": [],
   "source": []
  },
  {
   "cell_type": "markdown",
   "metadata": {},
   "source": [
    "### Get 3 info table"
   ]
  },
  {
   "cell_type": "code",
   "execution_count": 2,
   "metadata": {},
   "outputs": [],
   "source": [
    "from utility import get_info, find_city_level_address"
   ]
  },
  {
   "cell_type": "code",
   "execution_count": 3,
   "metadata": {},
   "outputs": [],
   "source": [
    "# import importlib\n",
    "# importlib.reload(utility.find_city_level_address)"
   ]
  },
  {
   "cell_type": "code",
   "execution_count": 4,
   "metadata": {},
   "outputs": [],
   "source": [
    "info_to_concat = []\n",
    "info_list = ['philly_parks_info.db', 'philly_state_parks_info.db', 'nyc_parks_info.db']\n",
    "for info_db in info_list:\n",
    "    df = get_info(info_db)\n",
    "    info_to_concat.append(df)\n",
    "    \n",
    "info_df = pd.concat(info_to_concat, axis=0)"
   ]
  },
  {
   "cell_type": "code",
   "execution_count": 5,
   "metadata": {},
   "outputs": [
    {
     "name": "stdout",
     "output_type": "stream",
     "text": [
      "(4601, 5)\n"
     ]
    },
    {
     "data": {
      "text/html": [
       "<div>\n",
       "<style scoped>\n",
       "    .dataframe tbody tr th:only-of-type {\n",
       "        vertical-align: middle;\n",
       "    }\n",
       "\n",
       "    .dataframe tbody tr th {\n",
       "        vertical-align: top;\n",
       "    }\n",
       "\n",
       "    .dataframe thead th {\n",
       "        text-align: right;\n",
       "    }\n",
       "</style>\n",
       "<table border=\"1\" class=\"dataframe\">\n",
       "  <thead>\n",
       "    <tr style=\"text-align: right;\">\n",
       "      <th></th>\n",
       "      <th>id</th>\n",
       "      <th>name</th>\n",
       "      <th>lat</th>\n",
       "      <th>lng</th>\n",
       "      <th>address</th>\n",
       "    </tr>\n",
       "  </thead>\n",
       "  <tbody>\n",
       "    <tr>\n",
       "      <th>0</th>\n",
       "      <td>ChIJAWkAqNL1t4kRlm4slspOSXo</td>\n",
       "      <td>Quiet Waters Park</td>\n",
       "      <td>38.937670</td>\n",
       "      <td>-76.500899</td>\n",
       "      <td>600 Quiet Waters Park Rd, Annapolis, MD 21403,...</td>\n",
       "    </tr>\n",
       "    <tr>\n",
       "      <th>1</th>\n",
       "      <td>ChIJzcow6Xb1t4kRQVE7s1AWWr8</td>\n",
       "      <td>Hillsmere Shores Community Beach</td>\n",
       "      <td>38.927212</td>\n",
       "      <td>-76.494150</td>\n",
       "      <td>101 W Bay View Dr, Annapolis, MD 21403, USA</td>\n",
       "    </tr>\n",
       "    <tr>\n",
       "      <th>2</th>\n",
       "      <td>ChIJ_bk5K1z1t4kRQNverIUOVko</td>\n",
       "      <td>Quiet Waters Dog Beach</td>\n",
       "      <td>38.930202</td>\n",
       "      <td>-76.508341</td>\n",
       "      <td>1701-1799 Quiet Waters Park Rd, Annapolis, MD ...</td>\n",
       "    </tr>\n",
       "    <tr>\n",
       "      <th>3</th>\n",
       "      <td>ChIJ_-2cQEX1t4kRoiCrmNMbrQ8</td>\n",
       "      <td>Quiet Waters Dog Park</td>\n",
       "      <td>38.931865</td>\n",
       "      <td>-76.505658</td>\n",
       "      <td>600 Quiet Waters Park Rd, Annapolis, MD 21403,...</td>\n",
       "    </tr>\n",
       "    <tr>\n",
       "      <th>4</th>\n",
       "      <td>ChIJQWcsgIn2t4kRCL0Ub363FyI</td>\n",
       "      <td>Pip Moyer Recreation Center (Annapolis Recreat...</td>\n",
       "      <td>38.963271</td>\n",
       "      <td>-76.505150</td>\n",
       "      <td>273 Hilltop Ln, Annapolis, MD 21403, USA</td>\n",
       "    </tr>\n",
       "  </tbody>\n",
       "</table>\n",
       "</div>"
      ],
      "text/plain": [
       "                            id  \\\n",
       "0  ChIJAWkAqNL1t4kRlm4slspOSXo   \n",
       "1  ChIJzcow6Xb1t4kRQVE7s1AWWr8   \n",
       "2  ChIJ_bk5K1z1t4kRQNverIUOVko   \n",
       "3  ChIJ_-2cQEX1t4kRoiCrmNMbrQ8   \n",
       "4  ChIJQWcsgIn2t4kRCL0Ub363FyI   \n",
       "\n",
       "                                                name        lat        lng  \\\n",
       "0                                  Quiet Waters Park  38.937670 -76.500899   \n",
       "1                   Hillsmere Shores Community Beach  38.927212 -76.494150   \n",
       "2                             Quiet Waters Dog Beach  38.930202 -76.508341   \n",
       "3                              Quiet Waters Dog Park  38.931865 -76.505658   \n",
       "4  Pip Moyer Recreation Center (Annapolis Recreat...  38.963271 -76.505150   \n",
       "\n",
       "                                             address  \n",
       "0  600 Quiet Waters Park Rd, Annapolis, MD 21403,...  \n",
       "1        101 W Bay View Dr, Annapolis, MD 21403, USA  \n",
       "2  1701-1799 Quiet Waters Park Rd, Annapolis, MD ...  \n",
       "3  600 Quiet Waters Park Rd, Annapolis, MD 21403,...  \n",
       "4           273 Hilltop Ln, Annapolis, MD 21403, USA  "
      ]
     },
     "execution_count": 5,
     "metadata": {},
     "output_type": "execute_result"
    }
   ],
   "source": [
    "info_df.drop_duplicates(subset='id', inplace=True, ignore_index=True)\n",
    "print(info_df.shape)\n",
    "info_df.head()"
   ]
  },
  {
   "cell_type": "code",
   "execution_count": 6,
   "metadata": {},
   "outputs": [
    {
     "name": "stdout",
     "output_type": "stream",
     "text": [
      "Cannot find city-level address: Rothrock State Forest, Pennsylvania 16669, USA\n"
     ]
    }
   ],
   "source": [
    "info_df['address_city'] = info_df['address'].apply(find_city_level_address)"
   ]
  },
  {
   "cell_type": "code",
   "execution_count": 7,
   "metadata": {},
   "outputs": [
    {
     "data": {
      "text/html": [
       "<div>\n",
       "<style scoped>\n",
       "    .dataframe tbody tr th:only-of-type {\n",
       "        vertical-align: middle;\n",
       "    }\n",
       "\n",
       "    .dataframe tbody tr th {\n",
       "        vertical-align: top;\n",
       "    }\n",
       "\n",
       "    .dataframe thead th {\n",
       "        text-align: right;\n",
       "    }\n",
       "</style>\n",
       "<table border=\"1\" class=\"dataframe\">\n",
       "  <thead>\n",
       "    <tr style=\"text-align: right;\">\n",
       "      <th></th>\n",
       "      <th>id</th>\n",
       "      <th>name</th>\n",
       "      <th>lat</th>\n",
       "      <th>lng</th>\n",
       "      <th>address</th>\n",
       "      <th>address_city</th>\n",
       "    </tr>\n",
       "  </thead>\n",
       "  <tbody>\n",
       "    <tr>\n",
       "      <th>0</th>\n",
       "      <td>ChIJAWkAqNL1t4kRlm4slspOSXo</td>\n",
       "      <td>Quiet Waters Park</td>\n",
       "      <td>38.937670</td>\n",
       "      <td>-76.500899</td>\n",
       "      <td>600 Quiet Waters Park Rd, Annapolis, MD 21403,...</td>\n",
       "      <td>Annapolis,MD</td>\n",
       "    </tr>\n",
       "    <tr>\n",
       "      <th>1</th>\n",
       "      <td>ChIJzcow6Xb1t4kRQVE7s1AWWr8</td>\n",
       "      <td>Hillsmere Shores Community Beach</td>\n",
       "      <td>38.927212</td>\n",
       "      <td>-76.494150</td>\n",
       "      <td>101 W Bay View Dr, Annapolis, MD 21403, USA</td>\n",
       "      <td>Annapolis,MD</td>\n",
       "    </tr>\n",
       "    <tr>\n",
       "      <th>2</th>\n",
       "      <td>ChIJ_bk5K1z1t4kRQNverIUOVko</td>\n",
       "      <td>Quiet Waters Dog Beach</td>\n",
       "      <td>38.930202</td>\n",
       "      <td>-76.508341</td>\n",
       "      <td>1701-1799 Quiet Waters Park Rd, Annapolis, MD ...</td>\n",
       "      <td>Annapolis,MD</td>\n",
       "    </tr>\n",
       "    <tr>\n",
       "      <th>3</th>\n",
       "      <td>ChIJ_-2cQEX1t4kRoiCrmNMbrQ8</td>\n",
       "      <td>Quiet Waters Dog Park</td>\n",
       "      <td>38.931865</td>\n",
       "      <td>-76.505658</td>\n",
       "      <td>600 Quiet Waters Park Rd, Annapolis, MD 21403,...</td>\n",
       "      <td>Annapolis,MD</td>\n",
       "    </tr>\n",
       "    <tr>\n",
       "      <th>4</th>\n",
       "      <td>ChIJQWcsgIn2t4kRCL0Ub363FyI</td>\n",
       "      <td>Pip Moyer Recreation Center (Annapolis Recreat...</td>\n",
       "      <td>38.963271</td>\n",
       "      <td>-76.505150</td>\n",
       "      <td>273 Hilltop Ln, Annapolis, MD 21403, USA</td>\n",
       "      <td>Annapolis,MD</td>\n",
       "    </tr>\n",
       "  </tbody>\n",
       "</table>\n",
       "</div>"
      ],
      "text/plain": [
       "                            id  \\\n",
       "0  ChIJAWkAqNL1t4kRlm4slspOSXo   \n",
       "1  ChIJzcow6Xb1t4kRQVE7s1AWWr8   \n",
       "2  ChIJ_bk5K1z1t4kRQNverIUOVko   \n",
       "3  ChIJ_-2cQEX1t4kRoiCrmNMbrQ8   \n",
       "4  ChIJQWcsgIn2t4kRCL0Ub363FyI   \n",
       "\n",
       "                                                name        lat        lng  \\\n",
       "0                                  Quiet Waters Park  38.937670 -76.500899   \n",
       "1                   Hillsmere Shores Community Beach  38.927212 -76.494150   \n",
       "2                             Quiet Waters Dog Beach  38.930202 -76.508341   \n",
       "3                              Quiet Waters Dog Park  38.931865 -76.505658   \n",
       "4  Pip Moyer Recreation Center (Annapolis Recreat...  38.963271 -76.505150   \n",
       "\n",
       "                                             address  address_city  \n",
       "0  600 Quiet Waters Park Rd, Annapolis, MD 21403,...  Annapolis,MD  \n",
       "1        101 W Bay View Dr, Annapolis, MD 21403, USA  Annapolis,MD  \n",
       "2  1701-1799 Quiet Waters Park Rd, Annapolis, MD ...  Annapolis,MD  \n",
       "3  600 Quiet Waters Park Rd, Annapolis, MD 21403,...  Annapolis,MD  \n",
       "4           273 Hilltop Ln, Annapolis, MD 21403, USA  Annapolis,MD  "
      ]
     },
     "execution_count": 7,
     "metadata": {},
     "output_type": "execute_result"
    }
   ],
   "source": [
    "info_df.head()"
   ]
  },
  {
   "cell_type": "code",
   "execution_count": null,
   "metadata": {},
   "outputs": [],
   "source": []
  },
  {
   "cell_type": "code",
   "execution_count": null,
   "metadata": {},
   "outputs": [],
   "source": []
  },
  {
   "cell_type": "markdown",
   "metadata": {},
   "source": [
    "### FourSquare park type"
   ]
  },
  {
   "cell_type": "code",
   "execution_count": 8,
   "metadata": {},
   "outputs": [],
   "source": [
    "park_type_df = pd.concat([pd.read_parquet('philly_park_foursquare_types.parquet'), \n",
    "                          pd.read_parquet('nyc_park_foursquare_types.parquet')], axis=0)\n"
   ]
  },
  {
   "cell_type": "code",
   "execution_count": 11,
   "metadata": {},
   "outputs": [
    {
     "name": "stdout",
     "output_type": "stream",
     "text": [
      "(4473, 8)\n"
     ]
    },
    {
     "data": {
      "text/html": [
       "<div>\n",
       "<style scoped>\n",
       "    .dataframe tbody tr th:only-of-type {\n",
       "        vertical-align: middle;\n",
       "    }\n",
       "\n",
       "    .dataframe tbody tr th {\n",
       "        vertical-align: top;\n",
       "    }\n",
       "\n",
       "    .dataframe thead th {\n",
       "        text-align: right;\n",
       "    }\n",
       "</style>\n",
       "<table border=\"1\" class=\"dataframe\">\n",
       "  <thead>\n",
       "    <tr style=\"text-align: right;\">\n",
       "      <th></th>\n",
       "      <th>id</th>\n",
       "      <th>name</th>\n",
       "      <th>lat</th>\n",
       "      <th>lng</th>\n",
       "      <th>fsq_name</th>\n",
       "      <th>fsq_type_name</th>\n",
       "      <th>fsq_type_id</th>\n",
       "      <th>fsq_type_name_simplified</th>\n",
       "    </tr>\n",
       "  </thead>\n",
       "  <tbody>\n",
       "    <tr>\n",
       "      <th>0</th>\n",
       "      <td>ChIJAWkAqNL1t4kRlm4slspOSXo</td>\n",
       "      <td>Quiet Waters Park</td>\n",
       "      <td>38.937670</td>\n",
       "      <td>-76.500899</td>\n",
       "      <td>Quiet Waters Park</td>\n",
       "      <td>Park</td>\n",
       "      <td>4bf58dd8d48988d163941735</td>\n",
       "      <td>Park</td>\n",
       "    </tr>\n",
       "    <tr>\n",
       "      <th>1</th>\n",
       "      <td>ChIJzcow6Xb1t4kRQVE7s1AWWr8</td>\n",
       "      <td>Hillsmere Shores Community Beach</td>\n",
       "      <td>38.927212</td>\n",
       "      <td>-76.494150</td>\n",
       "      <td>Hillsmere Shores Beach and Playground</td>\n",
       "      <td>Playground</td>\n",
       "      <td>4bf58dd8d48988d1e7941735</td>\n",
       "      <td>Playground</td>\n",
       "    </tr>\n",
       "    <tr>\n",
       "      <th>2</th>\n",
       "      <td>ChIJ_bk5K1z1t4kRQNverIUOVko</td>\n",
       "      <td>Quiet Waters Dog Beach</td>\n",
       "      <td>38.930202</td>\n",
       "      <td>-76.508341</td>\n",
       "      <td></td>\n",
       "      <td></td>\n",
       "      <td></td>\n",
       "      <td>None</td>\n",
       "    </tr>\n",
       "    <tr>\n",
       "      <th>3</th>\n",
       "      <td>ChIJ_-2cQEX1t4kRoiCrmNMbrQ8</td>\n",
       "      <td>Quiet Waters Dog Park</td>\n",
       "      <td>38.931865</td>\n",
       "      <td>-76.505658</td>\n",
       "      <td>Quiet Waters Dog Park</td>\n",
       "      <td>Dog Run</td>\n",
       "      <td>4bf58dd8d48988d1e5941735</td>\n",
       "      <td>Dog Run</td>\n",
       "    </tr>\n",
       "    <tr>\n",
       "      <th>4</th>\n",
       "      <td>ChIJQWcsgIn2t4kRCL0Ub363FyI</td>\n",
       "      <td>Pip Moyer Recreation Center (Annapolis Recreat...</td>\n",
       "      <td>38.963271</td>\n",
       "      <td>-76.505150</td>\n",
       "      <td>\"Pip\" Moyer Recreation Center</td>\n",
       "      <td>Gym</td>\n",
       "      <td>4bf58dd8d48988d176941735</td>\n",
       "      <td>Athletics &amp; Sports</td>\n",
       "    </tr>\n",
       "  </tbody>\n",
       "</table>\n",
       "</div>"
      ],
      "text/plain": [
       "                            id  \\\n",
       "0  ChIJAWkAqNL1t4kRlm4slspOSXo   \n",
       "1  ChIJzcow6Xb1t4kRQVE7s1AWWr8   \n",
       "2  ChIJ_bk5K1z1t4kRQNverIUOVko   \n",
       "3  ChIJ_-2cQEX1t4kRoiCrmNMbrQ8   \n",
       "4  ChIJQWcsgIn2t4kRCL0Ub363FyI   \n",
       "\n",
       "                                                name        lat        lng  \\\n",
       "0                                  Quiet Waters Park  38.937670 -76.500899   \n",
       "1                   Hillsmere Shores Community Beach  38.927212 -76.494150   \n",
       "2                             Quiet Waters Dog Beach  38.930202 -76.508341   \n",
       "3                              Quiet Waters Dog Park  38.931865 -76.505658   \n",
       "4  Pip Moyer Recreation Center (Annapolis Recreat...  38.963271 -76.505150   \n",
       "\n",
       "                                fsq_name fsq_type_name  \\\n",
       "0                      Quiet Waters Park          Park   \n",
       "1  Hillsmere Shores Beach and Playground    Playground   \n",
       "2                                                        \n",
       "3                  Quiet Waters Dog Park       Dog Run   \n",
       "4          \"Pip\" Moyer Recreation Center           Gym   \n",
       "\n",
       "                fsq_type_id fsq_type_name_simplified  \n",
       "0  4bf58dd8d48988d163941735                     Park  \n",
       "1  4bf58dd8d48988d1e7941735               Playground  \n",
       "2                                               None  \n",
       "3  4bf58dd8d48988d1e5941735                  Dog Run  \n",
       "4  4bf58dd8d48988d176941735       Athletics & Sports  "
      ]
     },
     "execution_count": 11,
     "metadata": {},
     "output_type": "execute_result"
    }
   ],
   "source": [
    "print(park_type_df.shape)\n",
    "park_type_df.head()"
   ]
  },
  {
   "cell_type": "code",
   "execution_count": 12,
   "metadata": {},
   "outputs": [
    {
     "data": {
      "text/plain": [
       "array(['Park', 'Playground', None, 'Dog Run', 'Athletics & Sports',\n",
       "       'Other Great Outdoors', 'Harbor / Marina', 'Plaza',\n",
       "       'Arts & Entertainment', 'State / Provincial Park', 'Campground',\n",
       "       'River', 'Travel & Transport', 'Shop & Service', 'Trail',\n",
       "       'Scenic Lookout', 'Professional & Other Places', 'Bike Trail',\n",
       "       'Nature Preserve', 'Outdoors & Recreation', 'Beach', 'Field',\n",
       "       'Lake', 'Fishing Spot', 'Pool', 'Farm', 'Bridge',\n",
       "       'Botanical Garden', 'College & University', 'Nightlife Spot',\n",
       "       'Cemetery', 'Food', 'Vineyard', 'National Park',\n",
       "       'Recreation Center', 'Garden', 'Sculpture Garden', 'Ski Area',\n",
       "       'Island', 'Pedestrian Plaza', 'Forest', 'Waterfall', 'Picnic Area',\n",
       "       'Roof Deck', 'Waterfront'], dtype=object)"
      ]
     },
     "execution_count": 12,
     "metadata": {},
     "output_type": "execute_result"
    }
   ],
   "source": [
    "park_type_df['fsq_type_name_simplified'].unique()"
   ]
  },
  {
   "cell_type": "code",
   "execution_count": null,
   "metadata": {},
   "outputs": [],
   "source": []
  },
  {
   "cell_type": "code",
   "execution_count": null,
   "metadata": {},
   "outputs": [],
   "source": []
  },
  {
   "cell_type": "code",
   "execution_count": 14,
   "metadata": {},
   "outputs": [
    {
     "data": {
      "text/html": [
       "<div>\n",
       "<style scoped>\n",
       "    .dataframe tbody tr th:only-of-type {\n",
       "        vertical-align: middle;\n",
       "    }\n",
       "\n",
       "    .dataframe tbody tr th {\n",
       "        vertical-align: top;\n",
       "    }\n",
       "\n",
       "    .dataframe thead th {\n",
       "        text-align: right;\n",
       "    }\n",
       "</style>\n",
       "<table border=\"1\" class=\"dataframe\">\n",
       "  <thead>\n",
       "    <tr style=\"text-align: right;\">\n",
       "      <th></th>\n",
       "      <th>id</th>\n",
       "      <th>name</th>\n",
       "      <th>lat</th>\n",
       "      <th>lng</th>\n",
       "      <th>address</th>\n",
       "      <th>address_city</th>\n",
       "      <th>fsq_type_name_simplified</th>\n",
       "    </tr>\n",
       "  </thead>\n",
       "  <tbody>\n",
       "    <tr>\n",
       "      <th>0</th>\n",
       "      <td>ChIJAWkAqNL1t4kRlm4slspOSXo</td>\n",
       "      <td>Quiet Waters Park</td>\n",
       "      <td>38.937670</td>\n",
       "      <td>-76.500899</td>\n",
       "      <td>600 Quiet Waters Park Rd, Annapolis, MD 21403,...</td>\n",
       "      <td>Annapolis,MD</td>\n",
       "      <td>Park</td>\n",
       "    </tr>\n",
       "    <tr>\n",
       "      <th>1</th>\n",
       "      <td>ChIJzcow6Xb1t4kRQVE7s1AWWr8</td>\n",
       "      <td>Hillsmere Shores Community Beach</td>\n",
       "      <td>38.927212</td>\n",
       "      <td>-76.494150</td>\n",
       "      <td>101 W Bay View Dr, Annapolis, MD 21403, USA</td>\n",
       "      <td>Annapolis,MD</td>\n",
       "      <td>Playground</td>\n",
       "    </tr>\n",
       "    <tr>\n",
       "      <th>2</th>\n",
       "      <td>ChIJ_bk5K1z1t4kRQNverIUOVko</td>\n",
       "      <td>Quiet Waters Dog Beach</td>\n",
       "      <td>38.930202</td>\n",
       "      <td>-76.508341</td>\n",
       "      <td>1701-1799 Quiet Waters Park Rd, Annapolis, MD ...</td>\n",
       "      <td>Annapolis,MD</td>\n",
       "      <td>None</td>\n",
       "    </tr>\n",
       "    <tr>\n",
       "      <th>3</th>\n",
       "      <td>ChIJ_-2cQEX1t4kRoiCrmNMbrQ8</td>\n",
       "      <td>Quiet Waters Dog Park</td>\n",
       "      <td>38.931865</td>\n",
       "      <td>-76.505658</td>\n",
       "      <td>600 Quiet Waters Park Rd, Annapolis, MD 21403,...</td>\n",
       "      <td>Annapolis,MD</td>\n",
       "      <td>Dog Run</td>\n",
       "    </tr>\n",
       "    <tr>\n",
       "      <th>4</th>\n",
       "      <td>ChIJQWcsgIn2t4kRCL0Ub363FyI</td>\n",
       "      <td>Pip Moyer Recreation Center (Annapolis Recreat...</td>\n",
       "      <td>38.963271</td>\n",
       "      <td>-76.505150</td>\n",
       "      <td>273 Hilltop Ln, Annapolis, MD 21403, USA</td>\n",
       "      <td>Annapolis,MD</td>\n",
       "      <td>Athletics &amp; Sports</td>\n",
       "    </tr>\n",
       "  </tbody>\n",
       "</table>\n",
       "</div>"
      ],
      "text/plain": [
       "                            id  \\\n",
       "0  ChIJAWkAqNL1t4kRlm4slspOSXo   \n",
       "1  ChIJzcow6Xb1t4kRQVE7s1AWWr8   \n",
       "2  ChIJ_bk5K1z1t4kRQNverIUOVko   \n",
       "3  ChIJ_-2cQEX1t4kRoiCrmNMbrQ8   \n",
       "4  ChIJQWcsgIn2t4kRCL0Ub363FyI   \n",
       "\n",
       "                                                name        lat        lng  \\\n",
       "0                                  Quiet Waters Park  38.937670 -76.500899   \n",
       "1                   Hillsmere Shores Community Beach  38.927212 -76.494150   \n",
       "2                             Quiet Waters Dog Beach  38.930202 -76.508341   \n",
       "3                              Quiet Waters Dog Park  38.931865 -76.505658   \n",
       "4  Pip Moyer Recreation Center (Annapolis Recreat...  38.963271 -76.505150   \n",
       "\n",
       "                                             address  address_city  \\\n",
       "0  600 Quiet Waters Park Rd, Annapolis, MD 21403,...  Annapolis,MD   \n",
       "1        101 W Bay View Dr, Annapolis, MD 21403, USA  Annapolis,MD   \n",
       "2  1701-1799 Quiet Waters Park Rd, Annapolis, MD ...  Annapolis,MD   \n",
       "3  600 Quiet Waters Park Rd, Annapolis, MD 21403,...  Annapolis,MD   \n",
       "4           273 Hilltop Ln, Annapolis, MD 21403, USA  Annapolis,MD   \n",
       "\n",
       "  fsq_type_name_simplified  \n",
       "0                     Park  \n",
       "1               Playground  \n",
       "2                     None  \n",
       "3                  Dog Run  \n",
       "4       Athletics & Sports  "
      ]
     },
     "execution_count": 14,
     "metadata": {},
     "output_type": "execute_result"
    }
   ],
   "source": [
    "# add fsq_type to info_df\n",
    "info_df_wt_fsq_type = info_df.merge(park_type_df[['id', 'fsq_type_name_simplified']], how='left', on='id')\n",
    "info_df_wt_fsq_type.head()"
   ]
  },
  {
   "cell_type": "code",
   "execution_count": 16,
   "metadata": {},
   "outputs": [
    {
     "data": {
      "text/html": [
       "<div>\n",
       "<style scoped>\n",
       "    .dataframe tbody tr th:only-of-type {\n",
       "        vertical-align: middle;\n",
       "    }\n",
       "\n",
       "    .dataframe tbody tr th {\n",
       "        vertical-align: top;\n",
       "    }\n",
       "\n",
       "    .dataframe thead th {\n",
       "        text-align: right;\n",
       "    }\n",
       "</style>\n",
       "<table border=\"1\" class=\"dataframe\">\n",
       "  <thead>\n",
       "    <tr style=\"text-align: right;\">\n",
       "      <th></th>\n",
       "      <th>id</th>\n",
       "      <th>name</th>\n",
       "      <th>lat</th>\n",
       "      <th>lng</th>\n",
       "      <th>address</th>\n",
       "      <th>address_city</th>\n",
       "      <th>fsq_type_name_simplified</th>\n",
       "    </tr>\n",
       "  </thead>\n",
       "  <tbody>\n",
       "    <tr>\n",
       "      <th>2</th>\n",
       "      <td>ChIJ_bk5K1z1t4kRQNverIUOVko</td>\n",
       "      <td>Quiet Waters Dog Beach</td>\n",
       "      <td>38.930202</td>\n",
       "      <td>-76.508341</td>\n",
       "      <td>1701-1799 Quiet Waters Park Rd, Annapolis, MD ...</td>\n",
       "      <td>Annapolis,MD</td>\n",
       "      <td>None</td>\n",
       "    </tr>\n",
       "    <tr>\n",
       "      <th>6</th>\n",
       "      <td>ChIJP75lm3n2t4kRVKf9vxXsiIc</td>\n",
       "      <td>K&amp;B True Value</td>\n",
       "      <td>38.950865</td>\n",
       "      <td>-76.493465</td>\n",
       "      <td>912 Forest Dr, Annapolis, MD 21403, USA</td>\n",
       "      <td>Annapolis,MD</td>\n",
       "      <td>None</td>\n",
       "    </tr>\n",
       "    <tr>\n",
       "      <th>12</th>\n",
       "      <td>ChIJ1fLP-rL3t4kRxKPHIzItFKA</td>\n",
       "      <td>Forrest Sherman Field</td>\n",
       "      <td>38.988533</td>\n",
       "      <td>-76.488479</td>\n",
       "      <td>Naval Academy, MD 21402, USA</td>\n",
       "      <td>Naval Academy,MD</td>\n",
       "      <td>None</td>\n",
       "    </tr>\n",
       "    <tr>\n",
       "      <th>14</th>\n",
       "      <td>ChIJ197KK1n2t4kRrrcKSw31pRs</td>\n",
       "      <td>Lafayette Waterfront Park</td>\n",
       "      <td>38.973137</td>\n",
       "      <td>-76.499564</td>\n",
       "      <td>199 Lafayette Ave, Annapolis, MD 21401, USA</td>\n",
       "      <td>Annapolis,MD</td>\n",
       "      <td>None</td>\n",
       "    </tr>\n",
       "    <tr>\n",
       "      <th>16</th>\n",
       "      <td>ChIJOTEnI3T_t4kRfFW16z0a2yI</td>\n",
       "      <td>Rock Creek Park</td>\n",
       "      <td>39.156250</td>\n",
       "      <td>-76.512542</td>\n",
       "      <td>79 Bar Harbor Rd, Riviera Beach, MD 21122, USA</td>\n",
       "      <td>Riviera Beach,MD</td>\n",
       "      <td>None</td>\n",
       "    </tr>\n",
       "    <tr>\n",
       "      <th>...</th>\n",
       "      <td>...</td>\n",
       "      <td>...</td>\n",
       "      <td>...</td>\n",
       "      <td>...</td>\n",
       "      <td>...</td>\n",
       "      <td>...</td>\n",
       "      <td>...</td>\n",
       "    </tr>\n",
       "    <tr>\n",
       "      <th>4590</th>\n",
       "      <td>ChIJ8dAWhlb0wokRR4C3I0AEMFA</td>\n",
       "      <td>Field of Dreams Park</td>\n",
       "      <td>40.826617</td>\n",
       "      <td>-73.892165</td>\n",
       "      <td>960 E 167th St, The Bronx, NY 10459, USA</td>\n",
       "      <td>The Bronx,NY</td>\n",
       "      <td>None</td>\n",
       "    </tr>\n",
       "    <tr>\n",
       "      <th>4591</th>\n",
       "      <td>ChIJ3VYYt2b0wokRQgCLmg9AOIQ</td>\n",
       "      <td>Walter Gladwin Park</td>\n",
       "      <td>40.845250</td>\n",
       "      <td>-73.895234</td>\n",
       "      <td>E 175 St to, E Tremont Ave, The Bronx, NY 1045...</td>\n",
       "      <td>The Bronx,NY</td>\n",
       "      <td>None</td>\n",
       "    </tr>\n",
       "    <tr>\n",
       "      <th>4593</th>\n",
       "      <td>ChIJHc9FHnz0wokRjqgBnzjzgbc</td>\n",
       "      <td>Washington Park</td>\n",
       "      <td>40.855706</td>\n",
       "      <td>-73.893685</td>\n",
       "      <td>457 E 183rd St, The Bronx, NY 10458, USA</td>\n",
       "      <td>The Bronx,NY</td>\n",
       "      <td>None</td>\n",
       "    </tr>\n",
       "    <tr>\n",
       "      <th>4595</th>\n",
       "      <td>ChIJERqo91X0wokRvVGWy1vGC8g</td>\n",
       "      <td>Steven Dougwillo Park</td>\n",
       "      <td>40.824963</td>\n",
       "      <td>-73.888870</td>\n",
       "      <td>1100 E 165th St, The Bronx, NY 10459, USA</td>\n",
       "      <td>The Bronx,NY</td>\n",
       "      <td>None</td>\n",
       "    </tr>\n",
       "    <tr>\n",
       "      <th>4599</th>\n",
       "      <td>ChIJfb4rltn1wokRwtzhQ6GDa2w</td>\n",
       "      <td>Bronx River Greenway</td>\n",
       "      <td>40.833220</td>\n",
       "      <td>-73.882092</td>\n",
       "      <td>1490 Sheridan Blvd., The Bronx, NY 10459, USA</td>\n",
       "      <td>The Bronx,NY</td>\n",
       "      <td>None</td>\n",
       "    </tr>\n",
       "  </tbody>\n",
       "</table>\n",
       "<p>1455 rows × 7 columns</p>\n",
       "</div>"
      ],
      "text/plain": [
       "                               id                       name        lat  \\\n",
       "2     ChIJ_bk5K1z1t4kRQNverIUOVko     Quiet Waters Dog Beach  38.930202   \n",
       "6     ChIJP75lm3n2t4kRVKf9vxXsiIc             K&B True Value  38.950865   \n",
       "12    ChIJ1fLP-rL3t4kRxKPHIzItFKA      Forrest Sherman Field  38.988533   \n",
       "14    ChIJ197KK1n2t4kRrrcKSw31pRs  Lafayette Waterfront Park  38.973137   \n",
       "16    ChIJOTEnI3T_t4kRfFW16z0a2yI            Rock Creek Park  39.156250   \n",
       "...                           ...                        ...        ...   \n",
       "4590  ChIJ8dAWhlb0wokRR4C3I0AEMFA       Field of Dreams Park  40.826617   \n",
       "4591  ChIJ3VYYt2b0wokRQgCLmg9AOIQ        Walter Gladwin Park  40.845250   \n",
       "4593  ChIJHc9FHnz0wokRjqgBnzjzgbc            Washington Park  40.855706   \n",
       "4595  ChIJERqo91X0wokRvVGWy1vGC8g      Steven Dougwillo Park  40.824963   \n",
       "4599  ChIJfb4rltn1wokRwtzhQ6GDa2w       Bronx River Greenway  40.833220   \n",
       "\n",
       "            lng                                            address  \\\n",
       "2    -76.508341  1701-1799 Quiet Waters Park Rd, Annapolis, MD ...   \n",
       "6    -76.493465            912 Forest Dr, Annapolis, MD 21403, USA   \n",
       "12   -76.488479                       Naval Academy, MD 21402, USA   \n",
       "14   -76.499564        199 Lafayette Ave, Annapolis, MD 21401, USA   \n",
       "16   -76.512542     79 Bar Harbor Rd, Riviera Beach, MD 21122, USA   \n",
       "...         ...                                                ...   \n",
       "4590 -73.892165           960 E 167th St, The Bronx, NY 10459, USA   \n",
       "4591 -73.895234  E 175 St to, E Tremont Ave, The Bronx, NY 1045...   \n",
       "4593 -73.893685           457 E 183rd St, The Bronx, NY 10458, USA   \n",
       "4595 -73.888870          1100 E 165th St, The Bronx, NY 10459, USA   \n",
       "4599 -73.882092      1490 Sheridan Blvd., The Bronx, NY 10459, USA   \n",
       "\n",
       "          address_city fsq_type_name_simplified  \n",
       "2         Annapolis,MD                     None  \n",
       "6         Annapolis,MD                     None  \n",
       "12    Naval Academy,MD                     None  \n",
       "14        Annapolis,MD                     None  \n",
       "16    Riviera Beach,MD                     None  \n",
       "...                ...                      ...  \n",
       "4590      The Bronx,NY                     None  \n",
       "4591      The Bronx,NY                     None  \n",
       "4593      The Bronx,NY                     None  \n",
       "4595      The Bronx,NY                     None  \n",
       "4599      The Bronx,NY                     None  \n",
       "\n",
       "[1455 rows x 7 columns]"
      ]
     },
     "execution_count": 16,
     "metadata": {},
     "output_type": "execute_result"
    }
   ],
   "source": [
    "# add state parks to info_df_wt_fsq_type (only when fsq_type_name_simplified is none)\n",
    "philly_state_park_id = get_info('philly_state_parks_info.db')['id']\n",
    "\n",
    "park_id_missing_fsq_type = info_df_wt_fsq_type[info_df_wt_fsq_type['fsq_type_name_simplified'].isna()]['id']\n",
    "state_park_id = set(park_id_missing_fsq_type).intersection(set(philly_state_park_id))\n",
    "\n",
    "info_df_wt_fsq_type.set_index('id', inplace=True)\n",
    "info_df_wt_fsq_type.loc[state_park_id, ['fsq_type_name_simplified']] = 'State / Provincial Park'"
   ]
  },
  {
   "cell_type": "code",
   "execution_count": null,
   "metadata": {},
   "outputs": [],
   "source": []
  },
  {
   "cell_type": "code",
   "execution_count": 77,
   "metadata": {},
   "outputs": [],
   "source": [
    "# fill in the rest with 'Park'\n",
    "info_df_wt_fsq_type = info_df_wt_fsq_type.reset_index()\n",
    "info_df_wt_fsq_type.loc[np.where(info_df_wt_fsq_type['fsq_type_name_simplified'].isna())[0], \n",
    "                        ['fsq_type_name_simplified']] = 'Park'"
   ]
  },
  {
   "cell_type": "code",
   "execution_count": null,
   "metadata": {},
   "outputs": [],
   "source": []
  },
  {
   "cell_type": "code",
   "execution_count": 90,
   "metadata": {},
   "outputs": [
    {
     "data": {
      "text/html": [
       "<div>\n",
       "<style scoped>\n",
       "    .dataframe tbody tr th:only-of-type {\n",
       "        vertical-align: middle;\n",
       "    }\n",
       "\n",
       "    .dataframe tbody tr th {\n",
       "        vertical-align: top;\n",
       "    }\n",
       "\n",
       "    .dataframe thead th {\n",
       "        text-align: right;\n",
       "    }\n",
       "</style>\n",
       "<table border=\"1\" class=\"dataframe\">\n",
       "  <thead>\n",
       "    <tr style=\"text-align: right;\">\n",
       "      <th></th>\n",
       "      <th>id</th>\n",
       "      <th>name</th>\n",
       "      <th>lat</th>\n",
       "      <th>lng</th>\n",
       "      <th>address</th>\n",
       "      <th>address_city</th>\n",
       "      <th>fsq_type_name_simplified</th>\n",
       "    </tr>\n",
       "  </thead>\n",
       "  <tbody>\n",
       "    <tr>\n",
       "      <th>0</th>\n",
       "      <td>ChIJAWkAqNL1t4kRlm4slspOSXo</td>\n",
       "      <td>Quiet Waters Park</td>\n",
       "      <td>38.937670</td>\n",
       "      <td>-76.500899</td>\n",
       "      <td>600 Quiet Waters Park Rd, Annapolis, MD 21403,...</td>\n",
       "      <td>Annapolis,MD</td>\n",
       "      <td>Park</td>\n",
       "    </tr>\n",
       "    <tr>\n",
       "      <th>1</th>\n",
       "      <td>ChIJzcow6Xb1t4kRQVE7s1AWWr8</td>\n",
       "      <td>Hillsmere Shores Community Beach</td>\n",
       "      <td>38.927212</td>\n",
       "      <td>-76.494150</td>\n",
       "      <td>101 W Bay View Dr, Annapolis, MD 21403, USA</td>\n",
       "      <td>Annapolis,MD</td>\n",
       "      <td>Playground</td>\n",
       "    </tr>\n",
       "    <tr>\n",
       "      <th>2</th>\n",
       "      <td>ChIJ_bk5K1z1t4kRQNverIUOVko</td>\n",
       "      <td>Quiet Waters Dog Beach</td>\n",
       "      <td>38.930202</td>\n",
       "      <td>-76.508341</td>\n",
       "      <td>1701-1799 Quiet Waters Park Rd, Annapolis, MD ...</td>\n",
       "      <td>Annapolis,MD</td>\n",
       "      <td>Park</td>\n",
       "    </tr>\n",
       "    <tr>\n",
       "      <th>3</th>\n",
       "      <td>ChIJ_-2cQEX1t4kRoiCrmNMbrQ8</td>\n",
       "      <td>Quiet Waters Dog Park</td>\n",
       "      <td>38.931865</td>\n",
       "      <td>-76.505658</td>\n",
       "      <td>600 Quiet Waters Park Rd, Annapolis, MD 21403,...</td>\n",
       "      <td>Annapolis,MD</td>\n",
       "      <td>Dog Run</td>\n",
       "    </tr>\n",
       "    <tr>\n",
       "      <th>4</th>\n",
       "      <td>ChIJQWcsgIn2t4kRCL0Ub363FyI</td>\n",
       "      <td>Pip Moyer Recreation Center (Annapolis Recreat...</td>\n",
       "      <td>38.963271</td>\n",
       "      <td>-76.505150</td>\n",
       "      <td>273 Hilltop Ln, Annapolis, MD 21403, USA</td>\n",
       "      <td>Annapolis,MD</td>\n",
       "      <td>Athletics &amp; Sports</td>\n",
       "    </tr>\n",
       "  </tbody>\n",
       "</table>\n",
       "</div>"
      ],
      "text/plain": [
       "                            id  \\\n",
       "0  ChIJAWkAqNL1t4kRlm4slspOSXo   \n",
       "1  ChIJzcow6Xb1t4kRQVE7s1AWWr8   \n",
       "2  ChIJ_bk5K1z1t4kRQNverIUOVko   \n",
       "3  ChIJ_-2cQEX1t4kRoiCrmNMbrQ8   \n",
       "4  ChIJQWcsgIn2t4kRCL0Ub363FyI   \n",
       "\n",
       "                                                name        lat        lng  \\\n",
       "0                                  Quiet Waters Park  38.937670 -76.500899   \n",
       "1                   Hillsmere Shores Community Beach  38.927212 -76.494150   \n",
       "2                             Quiet Waters Dog Beach  38.930202 -76.508341   \n",
       "3                              Quiet Waters Dog Park  38.931865 -76.505658   \n",
       "4  Pip Moyer Recreation Center (Annapolis Recreat...  38.963271 -76.505150   \n",
       "\n",
       "                                             address  address_city  \\\n",
       "0  600 Quiet Waters Park Rd, Annapolis, MD 21403,...  Annapolis,MD   \n",
       "1        101 W Bay View Dr, Annapolis, MD 21403, USA  Annapolis,MD   \n",
       "2  1701-1799 Quiet Waters Park Rd, Annapolis, MD ...  Annapolis,MD   \n",
       "3  600 Quiet Waters Park Rd, Annapolis, MD 21403,...  Annapolis,MD   \n",
       "4           273 Hilltop Ln, Annapolis, MD 21403, USA  Annapolis,MD   \n",
       "\n",
       "  fsq_type_name_simplified  \n",
       "0                     Park  \n",
       "1               Playground  \n",
       "2                     Park  \n",
       "3                  Dog Run  \n",
       "4       Athletics & Sports  "
      ]
     },
     "execution_count": 90,
     "metadata": {},
     "output_type": "execute_result"
    }
   ],
   "source": [
    "info_df_wt_fsq_type.head()"
   ]
  },
  {
   "cell_type": "code",
   "execution_count": null,
   "metadata": {},
   "outputs": [],
   "source": []
  },
  {
   "cell_type": "code",
   "execution_count": 238,
   "metadata": {},
   "outputs": [
    {
     "data": {
      "text/html": [
       "<div>\n",
       "<style scoped>\n",
       "    .dataframe tbody tr th:only-of-type {\n",
       "        vertical-align: middle;\n",
       "    }\n",
       "\n",
       "    .dataframe tbody tr th {\n",
       "        vertical-align: top;\n",
       "    }\n",
       "\n",
       "    .dataframe thead th {\n",
       "        text-align: right;\n",
       "    }\n",
       "</style>\n",
       "<table border=\"1\" class=\"dataframe\">\n",
       "  <thead>\n",
       "    <tr style=\"text-align: right;\">\n",
       "      <th></th>\n",
       "      <th>id</th>\n",
       "      <th>name</th>\n",
       "      <th>lat</th>\n",
       "      <th>lng</th>\n",
       "      <th>address</th>\n",
       "      <th>address_city</th>\n",
       "      <th>fsq_type_name_simplified</th>\n",
       "    </tr>\n",
       "  </thead>\n",
       "  <tbody>\n",
       "    <tr>\n",
       "      <th>252</th>\n",
       "      <td>ChIJ2R92Tl7Gx4kRO6G7NcWtNhk</td>\n",
       "      <td>Susquehanna State Park</td>\n",
       "      <td>39.604816</td>\n",
       "      <td>-76.15167</td>\n",
       "      <td>4188 Wilkinson Rd, Havre De Grace, MD 21078, USA</td>\n",
       "      <td>Havre De Grace,MD</td>\n",
       "      <td>Park</td>\n",
       "    </tr>\n",
       "  </tbody>\n",
       "</table>\n",
       "</div>"
      ],
      "text/plain": [
       "                              id                    name        lat       lng  \\\n",
       "252  ChIJ2R92Tl7Gx4kRO6G7NcWtNhk  Susquehanna State Park  39.604816 -76.15167   \n",
       "\n",
       "                                              address       address_city  \\\n",
       "252  4188 Wilkinson Rd, Havre De Grace, MD 21078, USA  Havre De Grace,MD   \n",
       "\n",
       "    fsq_type_name_simplified  \n",
       "252                     Park  "
      ]
     },
     "execution_count": 238,
     "metadata": {},
     "output_type": "execute_result"
    }
   ],
   "source": [
    "info_df_wt_fsq_type[info_df_wt_fsq_type['id'] == 'ChIJ2R92Tl7Gx4kRO6G7NcWtNhk']"
   ]
  },
  {
   "cell_type": "code",
   "execution_count": 254,
   "metadata": {},
   "outputs": [],
   "source": [
    "Counter(info_df_wt_fsq_type['fsq_type_name_simplified']); "
   ]
  },
  {
   "cell_type": "code",
   "execution_count": null,
   "metadata": {},
   "outputs": [],
   "source": []
  },
  {
   "cell_type": "markdown",
   "metadata": {},
   "source": [
    "## include fsq_type and address_city to df_curr_popularity"
   ]
  },
  {
   "cell_type": "code",
   "execution_count": 94,
   "metadata": {},
   "outputs": [],
   "source": [
    "df_curr_popularity = df_curr_popularity.merge(info_df_wt_fsq_type[['id', 'address_city', 'fsq_type_name_simplified']], \n",
    "                        how='left', on='id')"
   ]
  },
  {
   "cell_type": "markdown",
   "metadata": {},
   "source": [
    "## merge curr_popularity and weather tabel"
   ]
  },
  {
   "cell_type": "code",
   "execution_count": 114,
   "metadata": {},
   "outputs": [],
   "source": [
    "df_popularity = df_curr_popularity.merge(df_weather, how='left', left_on=['address_city', 'datetime_hour'], \n",
    "                         right_on=['location', 'datetime'])"
   ]
  },
  {
   "cell_type": "code",
   "execution_count": 291,
   "metadata": {},
   "outputs": [],
   "source": [
    "# df_popularity.to_parquet('data_v1_Date_2021-03-16_2021-04-10.parquet')\n"
   ]
  },
  {
   "cell_type": "code",
   "execution_count": 117,
   "metadata": {},
   "outputs": [
    {
     "data": {
      "text/plain": [
       "Index(['datetime_hour', 'id', 'curr_popularity', 'rating_n', 'request_id',\n",
       "       'address_city', 'fsq_type_name_simplified', 'datetimeEpoch', 'temp',\n",
       "       'feelslike', 'humidity', 'dew', 'precip', 'precipprob', 'snow',\n",
       "       'snowdepth', 'preciptype', 'windgust', 'windspeed', 'winddir',\n",
       "       'pressure', 'visibility', 'cloudcover', 'solarradiation', 'solarenergy',\n",
       "       'uvindex', 'conditions', 'datetime', 'location', 'latitude',\n",
       "       'longitude'],\n",
       "      dtype='object')"
      ]
     },
     "execution_count": 117,
     "metadata": {},
     "output_type": "execute_result"
    }
   ],
   "source": [
    "df_popularity.columns"
   ]
  },
  {
   "cell_type": "code",
   "execution_count": 120,
   "metadata": {},
   "outputs": [
    {
     "data": {
      "text/html": [
       "<div>\n",
       "<style scoped>\n",
       "    .dataframe tbody tr th:only-of-type {\n",
       "        vertical-align: middle;\n",
       "    }\n",
       "\n",
       "    .dataframe tbody tr th {\n",
       "        vertical-align: top;\n",
       "    }\n",
       "\n",
       "    .dataframe thead th {\n",
       "        text-align: right;\n",
       "    }\n",
       "</style>\n",
       "<table border=\"1\" class=\"dataframe\">\n",
       "  <thead>\n",
       "    <tr style=\"text-align: right;\">\n",
       "      <th></th>\n",
       "      <th>address_city</th>\n",
       "      <th>location</th>\n",
       "      <th>datetime</th>\n",
       "      <th>datetime_hour</th>\n",
       "    </tr>\n",
       "  </thead>\n",
       "  <tbody>\n",
       "    <tr>\n",
       "      <th>4539</th>\n",
       "      <td>Elverson,PA</td>\n",
       "      <td>NaN</td>\n",
       "      <td>NaT</td>\n",
       "      <td>2021-03-19 04:00:00</td>\n",
       "    </tr>\n",
       "    <tr>\n",
       "      <th>4576</th>\n",
       "      <td>Elverson,PA</td>\n",
       "      <td>NaN</td>\n",
       "      <td>NaT</td>\n",
       "      <td>2021-03-19 05:00:00</td>\n",
       "    </tr>\n",
       "    <tr>\n",
       "      <th>4617</th>\n",
       "      <td>Elverson,PA</td>\n",
       "      <td>NaN</td>\n",
       "      <td>NaT</td>\n",
       "      <td>2021-03-19 06:00:00</td>\n",
       "    </tr>\n",
       "    <tr>\n",
       "      <th>4683</th>\n",
       "      <td>Elverson,PA</td>\n",
       "      <td>NaN</td>\n",
       "      <td>NaT</td>\n",
       "      <td>2021-03-19 07:00:00</td>\n",
       "    </tr>\n",
       "    <tr>\n",
       "      <th>4698</th>\n",
       "      <td>Conshohocken,PA</td>\n",
       "      <td>NaN</td>\n",
       "      <td>NaT</td>\n",
       "      <td>2021-03-19 07:00:00</td>\n",
       "    </tr>\n",
       "    <tr>\n",
       "      <th>...</th>\n",
       "      <td>...</td>\n",
       "      <td>...</td>\n",
       "      <td>...</td>\n",
       "      <td>...</td>\n",
       "    </tr>\n",
       "    <tr>\n",
       "      <th>326465</th>\n",
       "      <td>Riverside,NJ</td>\n",
       "      <td>NaN</td>\n",
       "      <td>NaT</td>\n",
       "      <td>2021-03-26 16:00:00</td>\n",
       "    </tr>\n",
       "    <tr>\n",
       "      <th>326528</th>\n",
       "      <td>Conshohocken,PA</td>\n",
       "      <td>NaN</td>\n",
       "      <td>NaT</td>\n",
       "      <td>2021-03-26 16:00:00</td>\n",
       "    </tr>\n",
       "    <tr>\n",
       "      <th>326530</th>\n",
       "      <td>Chester,MD</td>\n",
       "      <td>NaN</td>\n",
       "      <td>NaT</td>\n",
       "      <td>2021-03-26 16:00:00</td>\n",
       "    </tr>\n",
       "    <tr>\n",
       "      <th>327047</th>\n",
       "      <td>Chester,MD</td>\n",
       "      <td>NaN</td>\n",
       "      <td>NaT</td>\n",
       "      <td>2021-03-26 18:00:00</td>\n",
       "    </tr>\n",
       "    <tr>\n",
       "      <th>327279</th>\n",
       "      <td>Conshohocken,PA</td>\n",
       "      <td>NaN</td>\n",
       "      <td>NaT</td>\n",
       "      <td>2021-03-26 19:00:00</td>\n",
       "    </tr>\n",
       "  </tbody>\n",
       "</table>\n",
       "<p>3349 rows × 4 columns</p>\n",
       "</div>"
      ],
      "text/plain": [
       "           address_city location datetime       datetime_hour\n",
       "4539        Elverson,PA      NaN      NaT 2021-03-19 04:00:00\n",
       "4576        Elverson,PA      NaN      NaT 2021-03-19 05:00:00\n",
       "4617        Elverson,PA      NaN      NaT 2021-03-19 06:00:00\n",
       "4683        Elverson,PA      NaN      NaT 2021-03-19 07:00:00\n",
       "4698    Conshohocken,PA      NaN      NaT 2021-03-19 07:00:00\n",
       "...                 ...      ...      ...                 ...\n",
       "326465     Riverside,NJ      NaN      NaT 2021-03-26 16:00:00\n",
       "326528  Conshohocken,PA      NaN      NaT 2021-03-26 16:00:00\n",
       "326530       Chester,MD      NaN      NaT 2021-03-26 16:00:00\n",
       "327047       Chester,MD      NaN      NaT 2021-03-26 18:00:00\n",
       "327279  Conshohocken,PA      NaN      NaT 2021-03-26 19:00:00\n",
       "\n",
       "[3349 rows x 4 columns]"
      ]
     },
     "execution_count": 120,
     "metadata": {},
     "output_type": "execute_result"
    }
   ],
   "source": [
    "# the ones without temp but with address_city\n",
    "df_popularity.loc[df_popularity['temp'].isna() & ~df_popularity['address_city'].isna(), \n",
    "                  ['address_city', 'location', 'datetime', 'datetime_hour']]\n"
   ]
  },
  {
   "cell_type": "code",
   "execution_count": 135,
   "metadata": {},
   "outputs": [
    {
     "data": {
      "text/html": [
       "<div>\n",
       "<style scoped>\n",
       "    .dataframe tbody tr th:only-of-type {\n",
       "        vertical-align: middle;\n",
       "    }\n",
       "\n",
       "    .dataframe tbody tr th {\n",
       "        vertical-align: top;\n",
       "    }\n",
       "\n",
       "    .dataframe thead th {\n",
       "        text-align: right;\n",
       "    }\n",
       "</style>\n",
       "<table border=\"1\" class=\"dataframe\">\n",
       "  <thead>\n",
       "    <tr style=\"text-align: right;\">\n",
       "      <th></th>\n",
       "      <th>datetime_hour</th>\n",
       "      <th>id</th>\n",
       "      <th>curr_popularity</th>\n",
       "      <th>rating_n</th>\n",
       "      <th>request_id</th>\n",
       "      <th>address_city</th>\n",
       "      <th>fsq_type_name_simplified</th>\n",
       "      <th>datetimeEpoch</th>\n",
       "      <th>temp</th>\n",
       "      <th>feelslike</th>\n",
       "      <th>...</th>\n",
       "      <th>visibility</th>\n",
       "      <th>cloudcover</th>\n",
       "      <th>solarradiation</th>\n",
       "      <th>solarenergy</th>\n",
       "      <th>uvindex</th>\n",
       "      <th>conditions</th>\n",
       "      <th>datetime</th>\n",
       "      <th>location</th>\n",
       "      <th>latitude</th>\n",
       "      <th>longitude</th>\n",
       "    </tr>\n",
       "  </thead>\n",
       "  <tbody>\n",
       "    <tr>\n",
       "      <th>222626</th>\n",
       "      <td>2021-04-11 00:00:00</td>\n",
       "      <td>ChIJS4XXJM_9wokRi4GvZ-DecfM</td>\n",
       "      <td>51.5</td>\n",
       "      <td>523.0</td>\n",
       "      <td>ChIJS4XXJM_9wokRi4GvZ-DecfM</td>\n",
       "      <td>Paterson,NJ</td>\n",
       "      <td>Park</td>\n",
       "      <td>NaN</td>\n",
       "      <td>NaN</td>\n",
       "      <td>NaN</td>\n",
       "      <td>...</td>\n",
       "      <td>NaN</td>\n",
       "      <td>NaN</td>\n",
       "      <td>NaN</td>\n",
       "      <td>NaN</td>\n",
       "      <td>NaN</td>\n",
       "      <td>NaN</td>\n",
       "      <td>NaT</td>\n",
       "      <td>NaN</td>\n",
       "      <td>NaN</td>\n",
       "      <td>NaN</td>\n",
       "    </tr>\n",
       "    <tr>\n",
       "      <th>222684</th>\n",
       "      <td>2021-04-11 00:00:00</td>\n",
       "      <td>ChIJdTSF-9z9wokRj0-PHUdG8WE</td>\n",
       "      <td>53.0</td>\n",
       "      <td>603.0</td>\n",
       "      <td>ChIJdTSF-9z9wokRj0-PHUdG8WE</td>\n",
       "      <td>Paterson,NJ</td>\n",
       "      <td>Park</td>\n",
       "      <td>NaN</td>\n",
       "      <td>NaN</td>\n",
       "      <td>NaN</td>\n",
       "      <td>...</td>\n",
       "      <td>NaN</td>\n",
       "      <td>NaN</td>\n",
       "      <td>NaN</td>\n",
       "      <td>NaN</td>\n",
       "      <td>NaN</td>\n",
       "      <td>NaN</td>\n",
       "      <td>NaT</td>\n",
       "      <td>NaN</td>\n",
       "      <td>NaN</td>\n",
       "      <td>NaN</td>\n",
       "    </tr>\n",
       "    <tr>\n",
       "      <th>222884</th>\n",
       "      <td>2021-04-11 01:00:00</td>\n",
       "      <td>ChIJS4XXJM_9wokRi4GvZ-DecfM</td>\n",
       "      <td>26.0</td>\n",
       "      <td>523.0</td>\n",
       "      <td>ChIJS4XXJM_9wokRi4GvZ-DecfM</td>\n",
       "      <td>Paterson,NJ</td>\n",
       "      <td>Park</td>\n",
       "      <td>NaN</td>\n",
       "      <td>NaN</td>\n",
       "      <td>NaN</td>\n",
       "      <td>...</td>\n",
       "      <td>NaN</td>\n",
       "      <td>NaN</td>\n",
       "      <td>NaN</td>\n",
       "      <td>NaN</td>\n",
       "      <td>NaN</td>\n",
       "      <td>NaN</td>\n",
       "      <td>NaT</td>\n",
       "      <td>NaN</td>\n",
       "      <td>NaN</td>\n",
       "      <td>NaN</td>\n",
       "    </tr>\n",
       "    <tr>\n",
       "      <th>222935</th>\n",
       "      <td>2021-04-11 01:00:00</td>\n",
       "      <td>ChIJdTSF-9z9wokRj0-PHUdG8WE</td>\n",
       "      <td>52.0</td>\n",
       "      <td>603.0</td>\n",
       "      <td>ChIJdTSF-9z9wokRj0-PHUdG8WE</td>\n",
       "      <td>Paterson,NJ</td>\n",
       "      <td>Park</td>\n",
       "      <td>NaN</td>\n",
       "      <td>NaN</td>\n",
       "      <td>NaN</td>\n",
       "      <td>...</td>\n",
       "      <td>NaN</td>\n",
       "      <td>NaN</td>\n",
       "      <td>NaN</td>\n",
       "      <td>NaN</td>\n",
       "      <td>NaN</td>\n",
       "      <td>NaN</td>\n",
       "      <td>NaT</td>\n",
       "      <td>NaN</td>\n",
       "      <td>NaN</td>\n",
       "      <td>NaN</td>\n",
       "    </tr>\n",
       "    <tr>\n",
       "      <th>223087</th>\n",
       "      <td>2021-04-11 02:00:00</td>\n",
       "      <td>ChIJS4XXJM_9wokRi4GvZ-DecfM</td>\n",
       "      <td>51.0</td>\n",
       "      <td>523.0</td>\n",
       "      <td>ChIJS4XXJM_9wokRi4GvZ-DecfM</td>\n",
       "      <td>Paterson,NJ</td>\n",
       "      <td>Park</td>\n",
       "      <td>NaN</td>\n",
       "      <td>NaN</td>\n",
       "      <td>NaN</td>\n",
       "      <td>...</td>\n",
       "      <td>NaN</td>\n",
       "      <td>NaN</td>\n",
       "      <td>NaN</td>\n",
       "      <td>NaN</td>\n",
       "      <td>NaN</td>\n",
       "      <td>NaN</td>\n",
       "      <td>NaT</td>\n",
       "      <td>NaN</td>\n",
       "      <td>NaN</td>\n",
       "      <td>NaN</td>\n",
       "    </tr>\n",
       "    <tr>\n",
       "      <th>223116</th>\n",
       "      <td>2021-04-11 02:00:00</td>\n",
       "      <td>ChIJdTSF-9z9wokRj0-PHUdG8WE</td>\n",
       "      <td>21.0</td>\n",
       "      <td>603.0</td>\n",
       "      <td>ChIJdTSF-9z9wokRj0-PHUdG8WE</td>\n",
       "      <td>Paterson,NJ</td>\n",
       "      <td>Park</td>\n",
       "      <td>NaN</td>\n",
       "      <td>NaN</td>\n",
       "      <td>NaN</td>\n",
       "      <td>...</td>\n",
       "      <td>NaN</td>\n",
       "      <td>NaN</td>\n",
       "      <td>NaN</td>\n",
       "      <td>NaN</td>\n",
       "      <td>NaN</td>\n",
       "      <td>NaN</td>\n",
       "      <td>NaT</td>\n",
       "      <td>NaN</td>\n",
       "      <td>NaN</td>\n",
       "      <td>NaN</td>\n",
       "    </tr>\n",
       "  </tbody>\n",
       "</table>\n",
       "<p>6 rows × 31 columns</p>\n",
       "</div>"
      ],
      "text/plain": [
       "             datetime_hour                           id  curr_popularity  \\\n",
       "222626 2021-04-11 00:00:00  ChIJS4XXJM_9wokRi4GvZ-DecfM             51.5   \n",
       "222684 2021-04-11 00:00:00  ChIJdTSF-9z9wokRj0-PHUdG8WE             53.0   \n",
       "222884 2021-04-11 01:00:00  ChIJS4XXJM_9wokRi4GvZ-DecfM             26.0   \n",
       "222935 2021-04-11 01:00:00  ChIJdTSF-9z9wokRj0-PHUdG8WE             52.0   \n",
       "223087 2021-04-11 02:00:00  ChIJS4XXJM_9wokRi4GvZ-DecfM             51.0   \n",
       "223116 2021-04-11 02:00:00  ChIJdTSF-9z9wokRj0-PHUdG8WE             21.0   \n",
       "\n",
       "        rating_n                   request_id address_city  \\\n",
       "222626     523.0  ChIJS4XXJM_9wokRi4GvZ-DecfM  Paterson,NJ   \n",
       "222684     603.0  ChIJdTSF-9z9wokRj0-PHUdG8WE  Paterson,NJ   \n",
       "222884     523.0  ChIJS4XXJM_9wokRi4GvZ-DecfM  Paterson,NJ   \n",
       "222935     603.0  ChIJdTSF-9z9wokRj0-PHUdG8WE  Paterson,NJ   \n",
       "223087     523.0  ChIJS4XXJM_9wokRi4GvZ-DecfM  Paterson,NJ   \n",
       "223116     603.0  ChIJdTSF-9z9wokRj0-PHUdG8WE  Paterson,NJ   \n",
       "\n",
       "       fsq_type_name_simplified  datetimeEpoch  temp  feelslike  ...  \\\n",
       "222626                     Park            NaN   NaN        NaN  ...   \n",
       "222684                     Park            NaN   NaN        NaN  ...   \n",
       "222884                     Park            NaN   NaN        NaN  ...   \n",
       "222935                     Park            NaN   NaN        NaN  ...   \n",
       "223087                     Park            NaN   NaN        NaN  ...   \n",
       "223116                     Park            NaN   NaN        NaN  ...   \n",
       "\n",
       "        visibility  cloudcover  solarradiation solarenergy  uvindex  \\\n",
       "222626         NaN         NaN             NaN         NaN      NaN   \n",
       "222684         NaN         NaN             NaN         NaN      NaN   \n",
       "222884         NaN         NaN             NaN         NaN      NaN   \n",
       "222935         NaN         NaN             NaN         NaN      NaN   \n",
       "223087         NaN         NaN             NaN         NaN      NaN   \n",
       "223116         NaN         NaN             NaN         NaN      NaN   \n",
       "\n",
       "        conditions datetime  location  latitude  longitude  \n",
       "222626         NaN      NaT       NaN       NaN        NaN  \n",
       "222684         NaN      NaT       NaN       NaN        NaN  \n",
       "222884         NaN      NaT       NaN       NaN        NaN  \n",
       "222935         NaN      NaT       NaN       NaN        NaN  \n",
       "223087         NaN      NaT       NaN       NaN        NaN  \n",
       "223116         NaN      NaT       NaN       NaN        NaN  \n",
       "\n",
       "[6 rows x 31 columns]"
      ]
     },
     "execution_count": 135,
     "metadata": {},
     "output_type": "execute_result"
    }
   ],
   "source": [
    "df_popularity.loc[df_popularity['temp'].isna() & (df_popularity['address_city'] == 'Paterson,NJ')]"
   ]
  },
  {
   "cell_type": "code",
   "execution_count": 127,
   "metadata": {},
   "outputs": [],
   "source": [
    "no_weather_cities = df_popularity.loc[\n",
    "    df_popularity['temp'].isna() & ~df_popularity['address_city'].isna(), 'address_city'].unique().tolist()\n",
    "\n",
    "all_weather_cities = df_weather['location'].unique().tolist()\n",
    "\n",
    "# city not queried for weather\n",
    "cities_with_no_weather = set(no_weather_cities) - set(all_weather_cities)"
   ]
  },
  {
   "cell_type": "code",
   "execution_count": 137,
   "metadata": {},
   "outputs": [
    {
     "data": {
      "text/plain": [
       "174"
      ]
     },
     "execution_count": 137,
     "metadata": {},
     "output_type": "execute_result"
    }
   ],
   "source": [
    "len(set(no_weather_cities) & set(all_weather_cities))"
   ]
  },
  {
   "cell_type": "code",
   "execution_count": null,
   "metadata": {},
   "outputs": [],
   "source": []
  },
  {
   "cell_type": "code",
   "execution_count": 139,
   "metadata": {},
   "outputs": [
    {
     "data": {
      "text/plain": [
       "1287"
      ]
     },
     "execution_count": 139,
     "metadata": {},
     "output_type": "execute_result"
    }
   ],
   "source": [
    "len(df_popularity['id'].unique())"
   ]
  },
  {
   "cell_type": "code",
   "execution_count": null,
   "metadata": {},
   "outputs": [],
   "source": []
  },
  {
   "cell_type": "code",
   "execution_count": 234,
   "metadata": {},
   "outputs": [
    {
     "name": "stdout",
     "output_type": "stream",
     "text": [
      "Aberdeen,MD\n"
     ]
    },
    {
     "data": {
      "text/html": [
       "<div>\n",
       "<style scoped>\n",
       "    .dataframe tbody tr th:only-of-type {\n",
       "        vertical-align: middle;\n",
       "    }\n",
       "\n",
       "    .dataframe tbody tr th {\n",
       "        vertical-align: top;\n",
       "    }\n",
       "\n",
       "    .dataframe thead th {\n",
       "        text-align: right;\n",
       "    }\n",
       "</style>\n",
       "<table border=\"1\" class=\"dataframe\">\n",
       "  <thead>\n",
       "    <tr style=\"text-align: right;\">\n",
       "      <th></th>\n",
       "      <th>datetime_hour</th>\n",
       "      <th>id</th>\n",
       "      <th>curr_popularity</th>\n",
       "      <th>rating_n</th>\n",
       "      <th>request_id</th>\n",
       "      <th>address_city</th>\n",
       "      <th>fsq_type_name_simplified</th>\n",
       "      <th>datetimeEpoch</th>\n",
       "      <th>temp</th>\n",
       "      <th>feelslike</th>\n",
       "      <th>...</th>\n",
       "      <th>visibility</th>\n",
       "      <th>cloudcover</th>\n",
       "      <th>solarradiation</th>\n",
       "      <th>solarenergy</th>\n",
       "      <th>uvindex</th>\n",
       "      <th>conditions</th>\n",
       "      <th>datetime</th>\n",
       "      <th>location</th>\n",
       "      <th>latitude</th>\n",
       "      <th>longitude</th>\n",
       "    </tr>\n",
       "  </thead>\n",
       "  <tbody>\n",
       "    <tr>\n",
       "      <th>73992</th>\n",
       "      <td>2021-04-10 20:00:00</td>\n",
       "      <td>ChIJdX36VZrBx4kR9kEZqQJiHBY</td>\n",
       "      <td>82.0</td>\n",
       "      <td>300.0</td>\n",
       "      <td>ChIJdX36VZrBx4kR9kEZqQJiHBY</td>\n",
       "      <td>Aberdeen,MD</td>\n",
       "      <td>Park</td>\n",
       "      <td>NaN</td>\n",
       "      <td>NaN</td>\n",
       "      <td>NaN</td>\n",
       "      <td>...</td>\n",
       "      <td>NaN</td>\n",
       "      <td>NaN</td>\n",
       "      <td>NaN</td>\n",
       "      <td>NaN</td>\n",
       "      <td>NaN</td>\n",
       "      <td>NaN</td>\n",
       "      <td>NaT</td>\n",
       "      <td>NaN</td>\n",
       "      <td>NaN</td>\n",
       "      <td>NaN</td>\n",
       "    </tr>\n",
       "    <tr>\n",
       "      <th>74215</th>\n",
       "      <td>2021-04-10 21:00:00</td>\n",
       "      <td>ChIJdX36VZrBx4kR9kEZqQJiHBY</td>\n",
       "      <td>46.0</td>\n",
       "      <td>300.0</td>\n",
       "      <td>ChIJdX36VZrBx4kR9kEZqQJiHBY</td>\n",
       "      <td>Aberdeen,MD</td>\n",
       "      <td>Park</td>\n",
       "      <td>NaN</td>\n",
       "      <td>NaN</td>\n",
       "      <td>NaN</td>\n",
       "      <td>...</td>\n",
       "      <td>NaN</td>\n",
       "      <td>NaN</td>\n",
       "      <td>NaN</td>\n",
       "      <td>NaN</td>\n",
       "      <td>NaN</td>\n",
       "      <td>NaN</td>\n",
       "      <td>NaT</td>\n",
       "      <td>NaN</td>\n",
       "      <td>NaN</td>\n",
       "      <td>NaN</td>\n",
       "    </tr>\n",
       "    <tr>\n",
       "      <th>74392</th>\n",
       "      <td>2021-04-10 22:00:00</td>\n",
       "      <td>ChIJdX36VZrBx4kR9kEZqQJiHBY</td>\n",
       "      <td>22.0</td>\n",
       "      <td>300.0</td>\n",
       "      <td>ChIJdX36VZrBx4kR9kEZqQJiHBY</td>\n",
       "      <td>Aberdeen,MD</td>\n",
       "      <td>Park</td>\n",
       "      <td>NaN</td>\n",
       "      <td>NaN</td>\n",
       "      <td>NaN</td>\n",
       "      <td>...</td>\n",
       "      <td>NaN</td>\n",
       "      <td>NaN</td>\n",
       "      <td>NaN</td>\n",
       "      <td>NaN</td>\n",
       "      <td>NaN</td>\n",
       "      <td>NaN</td>\n",
       "      <td>NaT</td>\n",
       "      <td>NaN</td>\n",
       "      <td>NaN</td>\n",
       "      <td>NaN</td>\n",
       "    </tr>\n",
       "    <tr>\n",
       "      <th>74644</th>\n",
       "      <td>2021-04-11 00:00:00</td>\n",
       "      <td>ChIJdX36VZrBx4kR9kEZqQJiHBY</td>\n",
       "      <td>34.0</td>\n",
       "      <td>300.0</td>\n",
       "      <td>ChIJdX36VZrBx4kR9kEZqQJiHBY</td>\n",
       "      <td>Aberdeen,MD</td>\n",
       "      <td>Park</td>\n",
       "      <td>NaN</td>\n",
       "      <td>NaN</td>\n",
       "      <td>NaN</td>\n",
       "      <td>...</td>\n",
       "      <td>NaN</td>\n",
       "      <td>NaN</td>\n",
       "      <td>NaN</td>\n",
       "      <td>NaN</td>\n",
       "      <td>NaN</td>\n",
       "      <td>NaN</td>\n",
       "      <td>NaT</td>\n",
       "      <td>NaN</td>\n",
       "      <td>NaN</td>\n",
       "      <td>NaN</td>\n",
       "    </tr>\n",
       "    <tr>\n",
       "      <th>74734</th>\n",
       "      <td>2021-04-11 01:00:00</td>\n",
       "      <td>ChIJdX36VZrBx4kR9kEZqQJiHBY</td>\n",
       "      <td>131.0</td>\n",
       "      <td>300.0</td>\n",
       "      <td>ChIJdX36VZrBx4kR9kEZqQJiHBY</td>\n",
       "      <td>Aberdeen,MD</td>\n",
       "      <td>Park</td>\n",
       "      <td>NaN</td>\n",
       "      <td>NaN</td>\n",
       "      <td>NaN</td>\n",
       "      <td>...</td>\n",
       "      <td>NaN</td>\n",
       "      <td>NaN</td>\n",
       "      <td>NaN</td>\n",
       "      <td>NaN</td>\n",
       "      <td>NaN</td>\n",
       "      <td>NaN</td>\n",
       "      <td>NaT</td>\n",
       "      <td>NaN</td>\n",
       "      <td>NaN</td>\n",
       "      <td>NaN</td>\n",
       "    </tr>\n",
       "    <tr>\n",
       "      <th>74806</th>\n",
       "      <td>2021-04-11 02:00:00</td>\n",
       "      <td>ChIJdX36VZrBx4kR9kEZqQJiHBY</td>\n",
       "      <td>131.0</td>\n",
       "      <td>300.0</td>\n",
       "      <td>ChIJdX36VZrBx4kR9kEZqQJiHBY</td>\n",
       "      <td>Aberdeen,MD</td>\n",
       "      <td>Park</td>\n",
       "      <td>NaN</td>\n",
       "      <td>NaN</td>\n",
       "      <td>NaN</td>\n",
       "      <td>...</td>\n",
       "      <td>NaN</td>\n",
       "      <td>NaN</td>\n",
       "      <td>NaN</td>\n",
       "      <td>NaN</td>\n",
       "      <td>NaN</td>\n",
       "      <td>NaN</td>\n",
       "      <td>NaT</td>\n",
       "      <td>NaN</td>\n",
       "      <td>NaN</td>\n",
       "      <td>NaN</td>\n",
       "    </tr>\n",
       "  </tbody>\n",
       "</table>\n",
       "<p>6 rows × 31 columns</p>\n",
       "</div>"
      ],
      "text/plain": [
       "            datetime_hour                           id  curr_popularity  \\\n",
       "73992 2021-04-10 20:00:00  ChIJdX36VZrBx4kR9kEZqQJiHBY             82.0   \n",
       "74215 2021-04-10 21:00:00  ChIJdX36VZrBx4kR9kEZqQJiHBY             46.0   \n",
       "74392 2021-04-10 22:00:00  ChIJdX36VZrBx4kR9kEZqQJiHBY             22.0   \n",
       "74644 2021-04-11 00:00:00  ChIJdX36VZrBx4kR9kEZqQJiHBY             34.0   \n",
       "74734 2021-04-11 01:00:00  ChIJdX36VZrBx4kR9kEZqQJiHBY            131.0   \n",
       "74806 2021-04-11 02:00:00  ChIJdX36VZrBx4kR9kEZqQJiHBY            131.0   \n",
       "\n",
       "       rating_n                   request_id address_city  \\\n",
       "73992     300.0  ChIJdX36VZrBx4kR9kEZqQJiHBY  Aberdeen,MD   \n",
       "74215     300.0  ChIJdX36VZrBx4kR9kEZqQJiHBY  Aberdeen,MD   \n",
       "74392     300.0  ChIJdX36VZrBx4kR9kEZqQJiHBY  Aberdeen,MD   \n",
       "74644     300.0  ChIJdX36VZrBx4kR9kEZqQJiHBY  Aberdeen,MD   \n",
       "74734     300.0  ChIJdX36VZrBx4kR9kEZqQJiHBY  Aberdeen,MD   \n",
       "74806     300.0  ChIJdX36VZrBx4kR9kEZqQJiHBY  Aberdeen,MD   \n",
       "\n",
       "      fsq_type_name_simplified  datetimeEpoch  temp  feelslike  ...  \\\n",
       "73992                     Park            NaN   NaN        NaN  ...   \n",
       "74215                     Park            NaN   NaN        NaN  ...   \n",
       "74392                     Park            NaN   NaN        NaN  ...   \n",
       "74644                     Park            NaN   NaN        NaN  ...   \n",
       "74734                     Park            NaN   NaN        NaN  ...   \n",
       "74806                     Park            NaN   NaN        NaN  ...   \n",
       "\n",
       "       visibility  cloudcover  solarradiation solarenergy  uvindex  \\\n",
       "73992         NaN         NaN             NaN         NaN      NaN   \n",
       "74215         NaN         NaN             NaN         NaN      NaN   \n",
       "74392         NaN         NaN             NaN         NaN      NaN   \n",
       "74644         NaN         NaN             NaN         NaN      NaN   \n",
       "74734         NaN         NaN             NaN         NaN      NaN   \n",
       "74806         NaN         NaN             NaN         NaN      NaN   \n",
       "\n",
       "       conditions datetime  location  latitude  longitude  \n",
       "73992         NaN      NaT       NaN       NaN        NaN  \n",
       "74215         NaN      NaT       NaN       NaN        NaN  \n",
       "74392         NaN      NaT       NaN       NaN        NaN  \n",
       "74644         NaN      NaT       NaN       NaN        NaN  \n",
       "74734         NaN      NaT       NaN       NaN        NaN  \n",
       "74806         NaN      NaT       NaN       NaN        NaN  \n",
       "\n",
       "[6 rows x 31 columns]"
      ]
     },
     "execution_count": 234,
     "metadata": {},
     "output_type": "execute_result"
    }
   ],
   "source": [
    "city_address = sorted(list(cities_with_no_weather))[0]\n",
    "print(city_address)\n",
    "df_popularity[df_popularity['address_city'] == city_address]#['id'].unique()\n",
    "# summary of cases:\n",
    "# https://docs.google.com/spreadsheets/d/1pYvh83GEh9OoXm04vl3sstvis7wrDN7Q3FW3_MHK2JA/edit#gid=0"
   ]
  },
  {
   "cell_type": "code",
   "execution_count": null,
   "metadata": {},
   "outputs": [],
   "source": []
  },
  {
   "cell_type": "markdown",
   "metadata": {},
   "source": [
    "## Data visualization"
   ]
  },
  {
   "cell_type": "code",
   "execution_count": 375,
   "metadata": {},
   "outputs": [
    {
     "data": {
      "application/vnd.jupyter.widget-view+json": {
       "model_id": "50748622023247a685bc034e1146dc08",
       "version_major": 2,
       "version_minor": 0
      },
      "text/plain": [
       "interactive(children=(Dropdown(description='column', options=('datetime_hour', 'id', 'curr_popularity', 'ratin…"
      ]
     },
     "metadata": {},
     "output_type": "display_data"
    }
   ],
   "source": [
    "from ipywidgets import widgets\n",
    "import matplotlib.pyplot as plt\n",
    "\n",
    "X = df_popularity.drop(columns=['curr_popularity', ])\n",
    "y = df_popularity['curr_popularity']\n",
    "\n",
    "def housing_plot(X, y):\n",
    "    def plotter(column):\n",
    "        valid_rows = X[column].notna()\n",
    "        plt.plot(X.loc[valid_rows, column], y[valid_rows], '.', color='k')\n",
    "        plt.xticks(rotation = 90)\n",
    "        plt.xlabel(column)\n",
    "        plt.ylabel('Current popularity')\n",
    "    \n",
    "    return plotter\n",
    "\n",
    "dropdown_values = df_popularity.columns #{\"{0}: {1}\".format(k, features_dict[k]):k for k in X.columns}\n",
    "widgets.interact(housing_plot(X, y), column=dropdown_values);"
   ]
  },
  {
   "cell_type": "code",
   "execution_count": 330,
   "metadata": {},
   "outputs": [
    {
     "data": {
      "image/png": "[encoded data removed]",
      "text/plain": [
       "<Figure size 432x288 with 1 Axes>"
      ]
     },
     "metadata": {
      "needs_background": "light"
     },
     "output_type": "display_data"
    }
   ],
   "source": [
    "plt.hist(df_popularity[df_popularity['curr_popularity']<600]['curr_popularity'], 100); "
   ]
  },
  {
   "cell_type": "code",
   "execution_count": 331,
   "metadata": {},
   "outputs": [
    {
     "data": {
      "text/html": [
       "<div>\n",
       "<style scoped>\n",
       "    .dataframe tbody tr th:only-of-type {\n",
       "        vertical-align: middle;\n",
       "    }\n",
       "\n",
       "    .dataframe tbody tr th {\n",
       "        vertical-align: top;\n",
       "    }\n",
       "\n",
       "    .dataframe thead th {\n",
       "        text-align: right;\n",
       "    }\n",
       "</style>\n",
       "<table border=\"1\" class=\"dataframe\">\n",
       "  <thead>\n",
       "    <tr style=\"text-align: right;\">\n",
       "      <th></th>\n",
       "      <th>datetime_hour</th>\n",
       "      <th>id</th>\n",
       "      <th>curr_popularity</th>\n",
       "      <th>rating_n</th>\n",
       "      <th>request_id</th>\n",
       "      <th>address_city</th>\n",
       "      <th>fsq_type_name_simplified</th>\n",
       "      <th>datetimeEpoch</th>\n",
       "      <th>temp</th>\n",
       "      <th>feelslike</th>\n",
       "      <th>...</th>\n",
       "      <th>solarradiation</th>\n",
       "      <th>solarenergy</th>\n",
       "      <th>uvindex</th>\n",
       "      <th>conditions</th>\n",
       "      <th>datetime</th>\n",
       "      <th>location</th>\n",
       "      <th>latitude</th>\n",
       "      <th>longitude</th>\n",
       "      <th>hour</th>\n",
       "      <th>dayofweek</th>\n",
       "    </tr>\n",
       "  </thead>\n",
       "  <tbody>\n",
       "    <tr>\n",
       "      <th>116036</th>\n",
       "      <td>2021-04-04 17:00:00</td>\n",
       "      <td>ChIJBbd49ABVwokR-uKF3-L95FA</td>\n",
       "      <td>3188.0</td>\n",
       "      <td>717.5</td>\n",
       "      <td>ChIJBbd49ABVwokR-uKF3-L95FA</td>\n",
       "      <td>Newark,NJ</td>\n",
       "      <td>Park</td>\n",
       "      <td>1.617570e+09</td>\n",
       "      <td>63.6</td>\n",
       "      <td>63.6</td>\n",
       "      <td>...</td>\n",
       "      <td>155.0</td>\n",
       "      <td>0.6</td>\n",
       "      <td>2.0</td>\n",
       "      <td>Partially cloudy</td>\n",
       "      <td>2021-04-04 17:00:00</td>\n",
       "      <td>Newark,NJ</td>\n",
       "      <td>40.7320</td>\n",
       "      <td>-74.1742</td>\n",
       "      <td>17</td>\n",
       "      <td>6</td>\n",
       "    </tr>\n",
       "    <tr>\n",
       "      <th>152842</th>\n",
       "      <td>2021-04-06 20:00:00</td>\n",
       "      <td>ChIJNdONk6Ivx4kR_VfyGUa9KR4</td>\n",
       "      <td>4147.0</td>\n",
       "      <td>283.0</td>\n",
       "      <td>ChIJNdONk6Ivx4kR_VfyGUa9KR4</td>\n",
       "      <td>Elmer,NJ</td>\n",
       "      <td>Park</td>\n",
       "      <td>1.617754e+09</td>\n",
       "      <td>60.4</td>\n",
       "      <td>60.4</td>\n",
       "      <td>...</td>\n",
       "      <td>NaN</td>\n",
       "      <td>NaN</td>\n",
       "      <td>0.0</td>\n",
       "      <td>Clear</td>\n",
       "      <td>2021-04-06 20:00:00</td>\n",
       "      <td>Elmer,NJ</td>\n",
       "      <td>39.5914</td>\n",
       "      <td>-75.1720</td>\n",
       "      <td>20</td>\n",
       "      <td>1</td>\n",
       "    </tr>\n",
       "    <tr>\n",
       "      <th>153041</th>\n",
       "      <td>2021-04-06 21:00:00</td>\n",
       "      <td>ChIJNdONk6Ivx4kR_VfyGUa9KR4</td>\n",
       "      <td>3435.0</td>\n",
       "      <td>283.0</td>\n",
       "      <td>ChIJNdONk6Ivx4kR_VfyGUa9KR4</td>\n",
       "      <td>Elmer,NJ</td>\n",
       "      <td>Park</td>\n",
       "      <td>1.617757e+09</td>\n",
       "      <td>55.1</td>\n",
       "      <td>55.1</td>\n",
       "      <td>...</td>\n",
       "      <td>NaN</td>\n",
       "      <td>NaN</td>\n",
       "      <td>0.0</td>\n",
       "      <td>Clear</td>\n",
       "      <td>2021-04-06 21:00:00</td>\n",
       "      <td>Elmer,NJ</td>\n",
       "      <td>39.5914</td>\n",
       "      <td>-75.1720</td>\n",
       "      <td>21</td>\n",
       "      <td>1</td>\n",
       "    </tr>\n",
       "  </tbody>\n",
       "</table>\n",
       "<p>3 rows × 33 columns</p>\n",
       "</div>"
      ],
      "text/plain": [
       "             datetime_hour                           id  curr_popularity  \\\n",
       "116036 2021-04-04 17:00:00  ChIJBbd49ABVwokR-uKF3-L95FA           3188.0   \n",
       "152842 2021-04-06 20:00:00  ChIJNdONk6Ivx4kR_VfyGUa9KR4           4147.0   \n",
       "153041 2021-04-06 21:00:00  ChIJNdONk6Ivx4kR_VfyGUa9KR4           3435.0   \n",
       "\n",
       "        rating_n                   request_id address_city  \\\n",
       "116036     717.5  ChIJBbd49ABVwokR-uKF3-L95FA    Newark,NJ   \n",
       "152842     283.0  ChIJNdONk6Ivx4kR_VfyGUa9KR4     Elmer,NJ   \n",
       "153041     283.0  ChIJNdONk6Ivx4kR_VfyGUa9KR4     Elmer,NJ   \n",
       "\n",
       "       fsq_type_name_simplified  datetimeEpoch  temp  feelslike  ...  \\\n",
       "116036                     Park   1.617570e+09  63.6       63.6  ...   \n",
       "152842                     Park   1.617754e+09  60.4       60.4  ...   \n",
       "153041                     Park   1.617757e+09  55.1       55.1  ...   \n",
       "\n",
       "        solarradiation  solarenergy  uvindex        conditions  \\\n",
       "116036           155.0          0.6      2.0  Partially cloudy   \n",
       "152842             NaN          NaN      0.0             Clear   \n",
       "153041             NaN          NaN      0.0             Clear   \n",
       "\n",
       "                  datetime   location latitude  longitude  hour  dayofweek  \n",
       "116036 2021-04-04 17:00:00  Newark,NJ  40.7320   -74.1742    17          6  \n",
       "152842 2021-04-06 20:00:00   Elmer,NJ  39.5914   -75.1720    20          1  \n",
       "153041 2021-04-06 21:00:00   Elmer,NJ  39.5914   -75.1720    21          1  \n",
       "\n",
       "[3 rows x 33 columns]"
      ]
     },
     "execution_count": 331,
     "metadata": {},
     "output_type": "execute_result"
    }
   ],
   "source": [
    "df_popularity[df_popularity['curr_popularity']>3000]"
   ]
  },
  {
   "cell_type": "code",
   "execution_count": null,
   "metadata": {},
   "outputs": [],
   "source": []
  },
  {
   "cell_type": "markdown",
   "metadata": {},
   "source": [
    "## Regression models"
   ]
  },
  {
   "cell_type": "code",
   "execution_count": 251,
   "metadata": {},
   "outputs": [],
   "source": [
    "from collections import Counter\n",
    "Counter(df_popularity['fsq_type_name_simplified']); "
   ]
  },
  {
   "cell_type": "code",
   "execution_count": null,
   "metadata": {},
   "outputs": [],
   "source": []
  },
  {
   "cell_type": "code",
   "execution_count": 257,
   "metadata": {},
   "outputs": [
    {
     "data": {
      "text/plain": [
       "Index(['datetime_hour', 'id', 'curr_popularity', 'rating_n', 'request_id',\n",
       "       'address_city', 'fsq_type_name_simplified', 'datetimeEpoch', 'temp',\n",
       "       'feelslike', 'humidity', 'dew', 'precip', 'precipprob', 'snow',\n",
       "       'snowdepth', 'preciptype', 'windgust', 'windspeed', 'winddir',\n",
       "       'pressure', 'visibility', 'cloudcover', 'solarradiation', 'solarenergy',\n",
       "       'uvindex', 'conditions', 'datetime', 'location', 'latitude',\n",
       "       'longitude'],\n",
       "      dtype='object')"
      ]
     },
     "execution_count": 257,
     "metadata": {},
     "output_type": "execute_result"
    }
   ],
   "source": [
    "df_popularity.columns"
   ]
  },
  {
   "cell_type": "code",
   "execution_count": null,
   "metadata": {},
   "outputs": [],
   "source": []
  },
  {
   "cell_type": "code",
   "execution_count": null,
   "metadata": {},
   "outputs": [],
   "source": []
  },
  {
   "cell_type": "code",
   "execution_count": 289,
   "metadata": {},
   "outputs": [],
   "source": []
  },
  {
   "cell_type": "markdown",
   "metadata": {},
   "source": [
    "### How much weather can predict popularity"
   ]
  },
  {
   "cell_type": "code",
   "execution_count": null,
   "metadata": {},
   "outputs": [],
   "source": [
    "from sklearn.linear_model import LinearRegression "
   ]
  },
  {
   "cell_type": "code",
   "execution_count": 272,
   "metadata": {},
   "outputs": [
    {
     "name": "stderr",
     "output_type": "stream",
     "text": [
      "/Users/chengqiu/anaconda3/lib/python3.7/site-packages/ipykernel_launcher.py:2: SettingWithCopyWarning: \n",
      "A value is trying to be set on a copy of a slice from a DataFrame\n",
      "\n",
      "See the caveats in the documentation: https://pandas.pydata.org/pandas-docs/stable/user_guide/indexing.html#returning-a-view-versus-a-copy\n",
      "  \n"
     ]
    }
   ],
   "source": [
    "sub_df = df_popularity[['feelslike', 'humidity','windspeed', 'curr_popularity', 'solarradiation']]\n",
    "sub_df.dropna(axis=0, inplace=True)\n",
    "\n",
    "X = sub_df[['feelslike', 'humidity', 'windspeed', 'solarradiation']]\n",
    "y = sub_df['curr_popularity']\n"
   ]
  },
  {
   "cell_type": "code",
   "execution_count": null,
   "metadata": {},
   "outputs": [],
   "source": []
  },
  {
   "cell_type": "code",
   "execution_count": 274,
   "metadata": {},
   "outputs": [
    {
     "data": {
      "text/plain": [
       "0.16646606493383653"
      ]
     },
     "execution_count": 274,
     "metadata": {},
     "output_type": "execute_result"
    }
   ],
   "source": [
    "lr = LinearRegression()  # make an instance of the model \n",
    "lr.fit(X, y)  \n",
    "lr.score(X, y)"
   ]
  },
  {
   "cell_type": "code",
   "execution_count": 277,
   "metadata": {},
   "outputs": [
    {
     "data": {
      "text/plain": [
       "(236360, 5)"
      ]
     },
     "execution_count": 277,
     "metadata": {},
     "output_type": "execute_result"
    }
   ],
   "source": [
    "sub_df.shape"
   ]
  },
  {
   "cell_type": "code",
   "execution_count": null,
   "metadata": {},
   "outputs": [],
   "source": []
  },
  {
   "cell_type": "code",
   "execution_count": null,
   "metadata": {},
   "outputs": [],
   "source": []
  },
  {
   "cell_type": "markdown",
   "metadata": {},
   "source": [
    "### Consider hour and day_of_week"
   ]
  },
  {
   "cell_type": "code",
   "execution_count": 294,
   "metadata": {},
   "outputs": [
    {
     "data": {
      "text/plain": [
       "2"
      ]
     },
     "execution_count": 294,
     "metadata": {},
     "output_type": "execute_result"
    }
   ],
   "source": [
    "df_popularity['datetime_hour'][0].dayofweek"
   ]
  },
  {
   "cell_type": "code",
   "execution_count": null,
   "metadata": {},
   "outputs": [],
   "source": [
    "df_popularity['hour'] = df_popularity['datetime_hour'].apply(lambda x:x.hour)\n",
    "df_popularity['dayofweek'] = df_popularity['datetime_hour'].apply(lambda x:x.dayofweek)"
   ]
  },
  {
   "cell_type": "code",
   "execution_count": null,
   "metadata": {},
   "outputs": [],
   "source": []
  },
  {
   "cell_type": "code",
   "execution_count": null,
   "metadata": {},
   "outputs": [],
   "source": []
  },
  {
   "cell_type": "code",
   "execution_count": 301,
   "metadata": {},
   "outputs": [],
   "source": [
    "df_hour = pd.get_dummies(df_popularity['hour'], prefix='hour')\n",
    "df_dayweek = pd.get_dummies(df_popularity['dayofweek'], prefix='dayofweek')"
   ]
  },
  {
   "cell_type": "code",
   "execution_count": 337,
   "metadata": {},
   "outputs": [
    {
     "data": {
      "text/plain": [
       "(280313, 35)"
      ]
     },
     "execution_count": 337,
     "metadata": {},
     "output_type": "execute_result"
    }
   ],
   "source": [
    "sub_df = pd.concat([df_hour, df_dayweek, df_popularity[['temp','humidity', 'precip', 'curr_popularity']]], axis=1)\n",
    "sub_df.dropna(axis=0, inplace=True)\n",
    "sub_df.shape"
   ]
  },
  {
   "cell_type": "code",
   "execution_count": 338,
   "metadata": {},
   "outputs": [],
   "source": [
    "df_X = sub_df.drop(columns=['curr_popularity',])\n",
    "df_y = sub_df['curr_popularity']"
   ]
  },
  {
   "cell_type": "code",
   "execution_count": 357,
   "metadata": {},
   "outputs": [
    {
     "data": {
      "text/plain": [
       "0.3744153722936022"
      ]
     },
     "execution_count": 357,
     "metadata": {},
     "output_type": "execute_result"
    }
   ],
   "source": [
    "from sklearn.linear_model import Ridge, Lasso\n",
    "from sklearn.preprocessing import PolynomialFeatures, MinMaxScaler\n",
    "from sklearn.pipeline import Pipeline\n",
    "\n",
    "popularity_est = Pipeline([('standard_scaler', MinMaxScaler((-1,1))),\n",
    "                    ('polynomial_trans', PolynomialFeatures(2)),\n",
    "                    ('lr', Ridge(alpha=20))])\n",
    "#Lasso(alpha=2)\n",
    "\n",
    "popularity_est.fit(df_X, df_y)\n",
    "popularity_est.score(df_X, df_y)"
   ]
  },
  {
   "cell_type": "code",
   "execution_count": 376,
   "metadata": {},
   "outputs": [
    {
     "data": {
      "image/png": "[encoded data removed]",
      "text/plain": [
       "<Figure size 432x288 with 1 Axes>"
      ]
     },
     "metadata": {
      "needs_background": "light"
     },
     "output_type": "display_data"
    }
   ],
   "source": [
    "plt.plot(df_y, popularity_est.predict(df_X), 'o'); "
   ]
  },
  {
   "cell_type": "code",
   "execution_count": 358,
   "metadata": {},
   "outputs": [],
   "source": [
    "# popularity_est[-1].sparse_coef_\n",
    "# popularity_est[-1].coef_"
   ]
  },
  {
   "cell_type": "code",
   "execution_count": 356,
   "metadata": {},
   "outputs": [
    {
     "data": {
      "text/plain": [
       "Index(['hour_0', 'hour_1', 'hour_2', 'hour_3', 'hour_4', 'hour_5', 'hour_6',\n",
       "       'hour_7', 'hour_8', 'hour_9', 'hour_10', 'hour_11', 'hour_12',\n",
       "       'hour_13', 'hour_14', 'hour_15', 'hour_16', 'hour_17', 'hour_18',\n",
       "       'hour_19', 'hour_20', 'hour_21', 'hour_22', 'hour_23', 'dayofweek_0',\n",
       "       'dayofweek_1', 'dayofweek_2', 'dayofweek_3', 'dayofweek_4',\n",
       "       'dayofweek_5', 'dayofweek_6', 'temp', 'humidity', 'precip'],\n",
       "      dtype='object')"
      ]
     },
     "execution_count": 356,
     "metadata": {},
     "output_type": "execute_result"
    }
   ],
   "source": [
    "df_X.columns"
   ]
  },
  {
   "cell_type": "code",
   "execution_count": null,
   "metadata": {},
   "outputs": [],
   "source": []
  },
  {
   "cell_type": "markdown",
   "metadata": {},
   "source": [
    "#### Cross validation"
   ]
  },
  {
   "cell_type": "code",
   "execution_count": 377,
   "metadata": {},
   "outputs": [
    {
     "data": {
      "text/plain": [
       "dict_keys(['memory', 'steps', 'verbose', 'standard_scaler', 'polynomial_trans', 'lr', 'standard_scaler__copy', 'standard_scaler__feature_range', 'polynomial_trans__degree', 'polynomial_trans__include_bias', 'polynomial_trans__interaction_only', 'polynomial_trans__order', 'lr__alpha', 'lr__copy_X', 'lr__fit_intercept', 'lr__max_iter', 'lr__normalize', 'lr__random_state', 'lr__solver', 'lr__tol'])"
      ]
     },
     "execution_count": 377,
     "metadata": {},
     "output_type": "execute_result"
    }
   ],
   "source": [
    "popularity_est.get_params().keys()"
   ]
  },
  {
   "cell_type": "code",
   "execution_count": 367,
   "metadata": {},
   "outputs": [
    {
     "data": {
      "text/plain": [
       "GridSearchCV(cv=10, error_score=nan,\n",
       "             estimator=Pipeline(memory=None,\n",
       "                                steps=[('standard_scaler',\n",
       "                                        MinMaxScaler(copy=True,\n",
       "                                                     feature_range=(-1, 1))),\n",
       "                                       ('polynomial_trans',\n",
       "                                        PolynomialFeatures(degree=2,\n",
       "                                                           include_bias=True,\n",
       "                                                           interaction_only=False,\n",
       "                                                           order='C')),\n",
       "                                       ('lr',\n",
       "                                        Ridge(alpha=20, copy_X=True,\n",
       "                                              fit_intercept=True, max_iter=None,\n",
       "                                              normalize=False,\n",
       "                                              random_state=None, solver='auto',\n",
       "                                              tol=0.001))],\n",
       "                                verbose=False),\n",
       "             iid='deprecated', n_jobs=2,\n",
       "             param_grid={'lr__alpha': array([   1.        ,    5.62341325,   31.6227766 ,  177.827941  ,\n",
       "       1000.        ])},\n",
       "             pre_dispatch='2*n_jobs', refit=True, return_train_score=False,\n",
       "             scoring=None, verbose=0)"
      ]
     },
     "execution_count": 367,
     "metadata": {},
     "output_type": "execute_result"
    }
   ],
   "source": [
    "from sklearn.model_selection import GridSearchCV\n",
    "\n",
    "gs = GridSearchCV(\n",
    "    popularity_est,\n",
    "    {\"lr__alpha\": np.logspace(0, 3, 5)},  # range of hyperparameters to test\n",
    "    cv=10,  # 10-fold cross validation\n",
    "    n_jobs=2,  # run each hyperparameter in one of two parallel jobs\n",
    ")\n",
    "gs.fit(df_X, df_y)"
   ]
  },
  {
   "cell_type": "code",
   "execution_count": 369,
   "metadata": {},
   "outputs": [
    {
     "data": {
      "text/plain": [
       "0.37397731985016536"
      ]
     },
     "execution_count": 369,
     "metadata": {},
     "output_type": "execute_result"
    }
   ],
   "source": [
    "gs.score(df_X, df_y)"
   ]
  },
  {
   "cell_type": "code",
   "execution_count": 373,
   "metadata": {},
   "outputs": [
    {
     "name": "stdout",
     "output_type": "stream",
     "text": [
      "{'lr__alpha': 177.82794100389228}\n",
      "0.30114205500362573\n"
     ]
    }
   ],
   "source": [
    "print(gs.best_params_)\n",
    "print(gs.best_score_)"
   ]
  },
  {
   "cell_type": "code",
   "execution_count": null,
   "metadata": {},
   "outputs": [],
   "source": []
  },
  {
   "cell_type": "code",
   "execution_count": null,
   "metadata": {},
   "outputs": [],
   "source": []
  }
 ],
 "metadata": {
  "kernelspec": {
   "display_name": "Python 3",
   "language": "python",
   "name": "python3"
  },
  "language_info": {
   "codemirror_mode": {
    "name": "ipython",
    "version": 3
   },
   "file_extension": ".py",
   "mimetype": "text/x-python",
   "name": "python",
   "nbconvert_exporter": "python",
   "pygments_lexer": "ipython3",
   "version": "3.7.6"
  }
 },
 "nbformat": 4,
 "nbformat_minor": 4
}

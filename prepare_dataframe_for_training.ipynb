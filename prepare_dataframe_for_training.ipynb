{
 "cells": [
  {
   "cell_type": "code",
   "execution_count": 1,
   "metadata": {},
   "outputs": [],
   "source": [
    "import numpy as np\n",
    "import pandas as pd\n",
    "import sqlite3\n",
    "\n",
    "import matplotlib.pyplot as plt\n",
    "import seaborn as sns\n",
    "\n",
    "from sklearn.model_selection import train_test_split\n"
   ]
  },
  {
   "cell_type": "markdown",
   "metadata": {},
   "source": [
    "Data are aggregated from df_info (its city information is used to merge weather information - also rating might be used for model training), fsq_park_type, dynamic data include weather_info & df_curr_popularity. \n",
    "\n",
    "hour and day_of_week are extracted from datetime_hour."
   ]
  },
  {
   "cell_type": "code",
   "execution_count": 98,
   "metadata": {},
   "outputs": [],
   "source": [
    "# load current\n",
    "# df_curr_popularity = pd.read_parquet('curr_popularity_Date_2021-03-16_2021-04-10.parquet')\n",
    "df_curr_popularity = pd.read_parquet('curr_popularity_Date_2021-03-16_2021-04-20.parquet')\n",
    "# df_weather = pd.read_parquet('weather_data_Date_2021-03-16_2021-04-10.parquet')\n",
    "df_weather = pd.read_parquet('weather_data_Date_2021-03-16_2021-04-20.parquet')\n"
   ]
  },
  {
   "cell_type": "code",
   "execution_count": 99,
   "metadata": {},
   "outputs": [
    {
     "data": {
      "text/plain": [
       "1505"
      ]
     },
     "execution_count": 99,
     "metadata": {},
     "output_type": "execute_result"
    }
   ],
   "source": [
    "len(df_curr_popularity['id'].unique())"
   ]
  },
  {
   "cell_type": "code",
   "execution_count": 125,
   "metadata": {},
   "outputs": [
    {
     "data": {
      "text/html": [
       "<div>\n",
       "<style scoped>\n",
       "    .dataframe tbody tr th:only-of-type {\n",
       "        vertical-align: middle;\n",
       "    }\n",
       "\n",
       "    .dataframe tbody tr th {\n",
       "        vertical-align: top;\n",
       "    }\n",
       "\n",
       "    .dataframe thead th {\n",
       "        text-align: right;\n",
       "    }\n",
       "</style>\n",
       "<table border=\"1\" class=\"dataframe\">\n",
       "  <thead>\n",
       "    <tr style=\"text-align: right;\">\n",
       "      <th></th>\n",
       "      <th>datetime_hour</th>\n",
       "      <th>id</th>\n",
       "      <th>curr_popularity</th>\n",
       "      <th>rating_n</th>\n",
       "      <th>request_id</th>\n",
       "      <th>avg_popularity</th>\n",
       "    </tr>\n",
       "  </thead>\n",
       "  <tbody>\n",
       "    <tr>\n",
       "      <th>0</th>\n",
       "      <td>2021-04-07 01:00:00</td>\n",
       "      <td>ChIJ2R92Tl7Gx4kRO6G7NcWtNhk</td>\n",
       "      <td>34.0</td>\n",
       "      <td>1360.0</td>\n",
       "      <td>ChIJ2R92Tl7Gx4kRO6G7NcWtNhk</td>\n",
       "      <td>0.0</td>\n",
       "    </tr>\n",
       "    <tr>\n",
       "      <th>1</th>\n",
       "      <td>2021-04-07 01:00:00</td>\n",
       "      <td>ChIJ6RplJk13xokRN0DaW7aoDaA</td>\n",
       "      <td>46.0</td>\n",
       "      <td>441.0</td>\n",
       "      <td>ChIJ6RplJk13xokRN0DaW7aoDaA</td>\n",
       "      <td>0.0</td>\n",
       "    </tr>\n",
       "    <tr>\n",
       "      <th>2</th>\n",
       "      <td>2021-04-07 01:00:00</td>\n",
       "      <td>ChIJBf9gK23kx4kR7d1LnPPvyp8</td>\n",
       "      <td>1.0</td>\n",
       "      <td>593.0</td>\n",
       "      <td>ChIJBf9gK23kx4kR7d1LnPPvyp8</td>\n",
       "      <td>1.0</td>\n",
       "    </tr>\n",
       "    <tr>\n",
       "      <th>3</th>\n",
       "      <td>2021-04-07 01:00:00</td>\n",
       "      <td>ChIJKfnD4cK9x4kRHA-LRHfOQYs</td>\n",
       "      <td>23.0</td>\n",
       "      <td>1532.0</td>\n",
       "      <td>ChIJKfnD4cK9x4kRHA-LRHfOQYs</td>\n",
       "      <td>3.0</td>\n",
       "    </tr>\n",
       "    <tr>\n",
       "      <th>4</th>\n",
       "      <td>2021-04-07 01:00:00</td>\n",
       "      <td>ChIJOwA0J6YCuIkRaK-0pk4S95E</td>\n",
       "      <td>7.0</td>\n",
       "      <td>301.0</td>\n",
       "      <td>ChIJOwA0J6YCuIkRaK-0pk4S95E</td>\n",
       "      <td>0.0</td>\n",
       "    </tr>\n",
       "  </tbody>\n",
       "</table>\n",
       "</div>"
      ],
      "text/plain": [
       "        datetime_hour                           id  curr_popularity  rating_n  \\\n",
       "0 2021-04-07 01:00:00  ChIJ2R92Tl7Gx4kRO6G7NcWtNhk             34.0    1360.0   \n",
       "1 2021-04-07 01:00:00  ChIJ6RplJk13xokRN0DaW7aoDaA             46.0     441.0   \n",
       "2 2021-04-07 01:00:00  ChIJBf9gK23kx4kR7d1LnPPvyp8              1.0     593.0   \n",
       "3 2021-04-07 01:00:00  ChIJKfnD4cK9x4kRHA-LRHfOQYs             23.0    1532.0   \n",
       "4 2021-04-07 01:00:00  ChIJOwA0J6YCuIkRaK-0pk4S95E              7.0     301.0   \n",
       "\n",
       "                    request_id  avg_popularity  \n",
       "0  ChIJ2R92Tl7Gx4kRO6G7NcWtNhk             0.0  \n",
       "1  ChIJ6RplJk13xokRN0DaW7aoDaA             0.0  \n",
       "2  ChIJBf9gK23kx4kR7d1LnPPvyp8             1.0  \n",
       "3  ChIJKfnD4cK9x4kRHA-LRHfOQYs             3.0  \n",
       "4  ChIJOwA0J6YCuIkRaK-0pk4S95E             0.0  "
      ]
     },
     "execution_count": 125,
     "metadata": {},
     "output_type": "execute_result"
    }
   ],
   "source": [
    "df_curr_popularity.head()"
   ]
  },
  {
   "cell_type": "code",
   "execution_count": null,
   "metadata": {},
   "outputs": [],
   "source": []
  },
  {
   "cell_type": "code",
   "execution_count": 100,
   "metadata": {},
   "outputs": [
    {
     "data": {
      "text/plain": [
       "(330048, 24)"
      ]
     },
     "execution_count": 100,
     "metadata": {},
     "output_type": "execute_result"
    }
   ],
   "source": [
    "df_weather.shape"
   ]
  },
  {
   "cell_type": "markdown",
   "metadata": {},
   "source": [
    "### Get 3 info table"
   ]
  },
  {
   "cell_type": "code",
   "execution_count": 16,
   "metadata": {},
   "outputs": [],
   "source": [
    "from utility import get_info, find_city_level_address"
   ]
  },
  {
   "cell_type": "code",
   "execution_count": 238,
   "metadata": {},
   "outputs": [
    {
     "data": {
      "text/plain": [
       "<module 'utility' from '/Users/chengqiu/PycharmProjects/philly_outdoors/utility.py'>"
      ]
     },
     "execution_count": 238,
     "metadata": {},
     "output_type": "execute_result"
    }
   ],
   "source": [
    "# import importlib\n",
    "importlib.reload(utility)"
   ]
  },
  {
   "cell_type": "code",
   "execution_count": 101,
   "metadata": {},
   "outputs": [],
   "source": [
    "info_to_concat = []\n",
    "info_list = ['philly_parks_info.db', 'philly_state_parks_info.db', 'nyc_parks_info.db']\n",
    "for info_db in info_list:\n",
    "    df = get_info(info_db)\n",
    "    info_to_concat.append(df)\n",
    "    \n",
    "info_df = pd.concat(info_to_concat, axis=0)"
   ]
  },
  {
   "cell_type": "code",
   "execution_count": null,
   "metadata": {},
   "outputs": [],
   "source": []
  },
  {
   "cell_type": "code",
   "execution_count": 102,
   "metadata": {},
   "outputs": [
    {
     "name": "stdout",
     "output_type": "stream",
     "text": [
      "(4601, 6)\n"
     ]
    },
    {
     "data": {
      "text/html": [
       "<div>\n",
       "<style scoped>\n",
       "    .dataframe tbody tr th:only-of-type {\n",
       "        vertical-align: middle;\n",
       "    }\n",
       "\n",
       "    .dataframe tbody tr th {\n",
       "        vertical-align: top;\n",
       "    }\n",
       "\n",
       "    .dataframe thead th {\n",
       "        text-align: right;\n",
       "    }\n",
       "</style>\n",
       "<table border=\"1\" class=\"dataframe\">\n",
       "  <thead>\n",
       "    <tr style=\"text-align: right;\">\n",
       "      <th></th>\n",
       "      <th>id</th>\n",
       "      <th>name</th>\n",
       "      <th>rating</th>\n",
       "      <th>lat</th>\n",
       "      <th>lng</th>\n",
       "      <th>address</th>\n",
       "    </tr>\n",
       "  </thead>\n",
       "  <tbody>\n",
       "    <tr>\n",
       "      <th>0</th>\n",
       "      <td>ChIJAWkAqNL1t4kRlm4slspOSXo</td>\n",
       "      <td>Quiet Waters Park</td>\n",
       "      <td>4.7</td>\n",
       "      <td>38.937670</td>\n",
       "      <td>-76.500899</td>\n",
       "      <td>600 Quiet Waters Park Rd, Annapolis, MD 21403,...</td>\n",
       "    </tr>\n",
       "    <tr>\n",
       "      <th>1</th>\n",
       "      <td>ChIJzcow6Xb1t4kRQVE7s1AWWr8</td>\n",
       "      <td>Hillsmere Shores Community Beach</td>\n",
       "      <td>5.0</td>\n",
       "      <td>38.927212</td>\n",
       "      <td>-76.494150</td>\n",
       "      <td>101 W Bay View Dr, Annapolis, MD 21403, USA</td>\n",
       "    </tr>\n",
       "    <tr>\n",
       "      <th>2</th>\n",
       "      <td>ChIJ_bk5K1z1t4kRQNverIUOVko</td>\n",
       "      <td>Quiet Waters Dog Beach</td>\n",
       "      <td>4.7</td>\n",
       "      <td>38.930202</td>\n",
       "      <td>-76.508341</td>\n",
       "      <td>1701-1799 Quiet Waters Park Rd, Annapolis, MD ...</td>\n",
       "    </tr>\n",
       "    <tr>\n",
       "      <th>3</th>\n",
       "      <td>ChIJ_-2cQEX1t4kRoiCrmNMbrQ8</td>\n",
       "      <td>Quiet Waters Dog Park</td>\n",
       "      <td>4.8</td>\n",
       "      <td>38.931865</td>\n",
       "      <td>-76.505658</td>\n",
       "      <td>600 Quiet Waters Park Rd, Annapolis, MD 21403,...</td>\n",
       "    </tr>\n",
       "    <tr>\n",
       "      <th>4</th>\n",
       "      <td>ChIJQWcsgIn2t4kRCL0Ub363FyI</td>\n",
       "      <td>Pip Moyer Recreation Center (Annapolis Recreat...</td>\n",
       "      <td>4.5</td>\n",
       "      <td>38.963271</td>\n",
       "      <td>-76.505150</td>\n",
       "      <td>273 Hilltop Ln, Annapolis, MD 21403, USA</td>\n",
       "    </tr>\n",
       "  </tbody>\n",
       "</table>\n",
       "</div>"
      ],
      "text/plain": [
       "                            id  \\\n",
       "0  ChIJAWkAqNL1t4kRlm4slspOSXo   \n",
       "1  ChIJzcow6Xb1t4kRQVE7s1AWWr8   \n",
       "2  ChIJ_bk5K1z1t4kRQNverIUOVko   \n",
       "3  ChIJ_-2cQEX1t4kRoiCrmNMbrQ8   \n",
       "4  ChIJQWcsgIn2t4kRCL0Ub363FyI   \n",
       "\n",
       "                                                name  rating        lat  \\\n",
       "0                                  Quiet Waters Park     4.7  38.937670   \n",
       "1                   Hillsmere Shores Community Beach     5.0  38.927212   \n",
       "2                             Quiet Waters Dog Beach     4.7  38.930202   \n",
       "3                              Quiet Waters Dog Park     4.8  38.931865   \n",
       "4  Pip Moyer Recreation Center (Annapolis Recreat...     4.5  38.963271   \n",
       "\n",
       "         lng                                            address  \n",
       "0 -76.500899  600 Quiet Waters Park Rd, Annapolis, MD 21403,...  \n",
       "1 -76.494150        101 W Bay View Dr, Annapolis, MD 21403, USA  \n",
       "2 -76.508341  1701-1799 Quiet Waters Park Rd, Annapolis, MD ...  \n",
       "3 -76.505658  600 Quiet Waters Park Rd, Annapolis, MD 21403,...  \n",
       "4 -76.505150           273 Hilltop Ln, Annapolis, MD 21403, USA  "
      ]
     },
     "execution_count": 102,
     "metadata": {},
     "output_type": "execute_result"
    }
   ],
   "source": [
    "info_df.drop_duplicates(subset='id', inplace=True, ignore_index=True)\n",
    "print(info_df.shape)\n",
    "info_df.head()"
   ]
  },
  {
   "cell_type": "code",
   "execution_count": 103,
   "metadata": {},
   "outputs": [
    {
     "name": "stdout",
     "output_type": "stream",
     "text": [
      "Cannot find city-level address: Rothrock State Forest, Pennsylvania 16669, USA\n"
     ]
    }
   ],
   "source": [
    "info_df['address_city'] = info_df['address'].apply(find_city_level_address)"
   ]
  },
  {
   "cell_type": "code",
   "execution_count": 44,
   "metadata": {},
   "outputs": [
    {
     "data": {
      "text/html": [
       "<div>\n",
       "<style scoped>\n",
       "    .dataframe tbody tr th:only-of-type {\n",
       "        vertical-align: middle;\n",
       "    }\n",
       "\n",
       "    .dataframe tbody tr th {\n",
       "        vertical-align: top;\n",
       "    }\n",
       "\n",
       "    .dataframe thead th {\n",
       "        text-align: right;\n",
       "    }\n",
       "</style>\n",
       "<table border=\"1\" class=\"dataframe\">\n",
       "  <thead>\n",
       "    <tr style=\"text-align: right;\">\n",
       "      <th></th>\n",
       "      <th>id</th>\n",
       "      <th>name</th>\n",
       "      <th>lat</th>\n",
       "      <th>lng</th>\n",
       "      <th>address</th>\n",
       "      <th>address_city</th>\n",
       "    </tr>\n",
       "  </thead>\n",
       "  <tbody>\n",
       "    <tr>\n",
       "      <th>0</th>\n",
       "      <td>ChIJAWkAqNL1t4kRlm4slspOSXo</td>\n",
       "      <td>Quiet Waters Park</td>\n",
       "      <td>38.937670</td>\n",
       "      <td>-76.500899</td>\n",
       "      <td>600 Quiet Waters Park Rd, Annapolis, MD 21403,...</td>\n",
       "      <td>Annapolis,MD</td>\n",
       "    </tr>\n",
       "    <tr>\n",
       "      <th>1</th>\n",
       "      <td>ChIJzcow6Xb1t4kRQVE7s1AWWr8</td>\n",
       "      <td>Hillsmere Shores Community Beach</td>\n",
       "      <td>38.927212</td>\n",
       "      <td>-76.494150</td>\n",
       "      <td>101 W Bay View Dr, Annapolis, MD 21403, USA</td>\n",
       "      <td>Annapolis,MD</td>\n",
       "    </tr>\n",
       "    <tr>\n",
       "      <th>2</th>\n",
       "      <td>ChIJ_bk5K1z1t4kRQNverIUOVko</td>\n",
       "      <td>Quiet Waters Dog Beach</td>\n",
       "      <td>38.930202</td>\n",
       "      <td>-76.508341</td>\n",
       "      <td>1701-1799 Quiet Waters Park Rd, Annapolis, MD ...</td>\n",
       "      <td>Annapolis,MD</td>\n",
       "    </tr>\n",
       "    <tr>\n",
       "      <th>3</th>\n",
       "      <td>ChIJ_-2cQEX1t4kRoiCrmNMbrQ8</td>\n",
       "      <td>Quiet Waters Dog Park</td>\n",
       "      <td>38.931865</td>\n",
       "      <td>-76.505658</td>\n",
       "      <td>600 Quiet Waters Park Rd, Annapolis, MD 21403,...</td>\n",
       "      <td>Annapolis,MD</td>\n",
       "    </tr>\n",
       "    <tr>\n",
       "      <th>4</th>\n",
       "      <td>ChIJQWcsgIn2t4kRCL0Ub363FyI</td>\n",
       "      <td>Pip Moyer Recreation Center (Annapolis Recreat...</td>\n",
       "      <td>38.963271</td>\n",
       "      <td>-76.505150</td>\n",
       "      <td>273 Hilltop Ln, Annapolis, MD 21403, USA</td>\n",
       "      <td>Annapolis,MD</td>\n",
       "    </tr>\n",
       "  </tbody>\n",
       "</table>\n",
       "</div>"
      ],
      "text/plain": [
       "                            id  \\\n",
       "0  ChIJAWkAqNL1t4kRlm4slspOSXo   \n",
       "1  ChIJzcow6Xb1t4kRQVE7s1AWWr8   \n",
       "2  ChIJ_bk5K1z1t4kRQNverIUOVko   \n",
       "3  ChIJ_-2cQEX1t4kRoiCrmNMbrQ8   \n",
       "4  ChIJQWcsgIn2t4kRCL0Ub363FyI   \n",
       "\n",
       "                                                name        lat        lng  \\\n",
       "0                                  Quiet Waters Park  38.937670 -76.500899   \n",
       "1                   Hillsmere Shores Community Beach  38.927212 -76.494150   \n",
       "2                             Quiet Waters Dog Beach  38.930202 -76.508341   \n",
       "3                              Quiet Waters Dog Park  38.931865 -76.505658   \n",
       "4  Pip Moyer Recreation Center (Annapolis Recreat...  38.963271 -76.505150   \n",
       "\n",
       "                                             address  address_city  \n",
       "0  600 Quiet Waters Park Rd, Annapolis, MD 21403,...  Annapolis,MD  \n",
       "1        101 W Bay View Dr, Annapolis, MD 21403, USA  Annapolis,MD  \n",
       "2  1701-1799 Quiet Waters Park Rd, Annapolis, MD ...  Annapolis,MD  \n",
       "3  600 Quiet Waters Park Rd, Annapolis, MD 21403,...  Annapolis,MD  \n",
       "4           273 Hilltop Ln, Annapolis, MD 21403, USA  Annapolis,MD  "
      ]
     },
     "execution_count": 44,
     "metadata": {},
     "output_type": "execute_result"
    }
   ],
   "source": [
    "info_df.head()"
   ]
  },
  {
   "cell_type": "code",
   "execution_count": null,
   "metadata": {},
   "outputs": [],
   "source": []
  },
  {
   "cell_type": "code",
   "execution_count": null,
   "metadata": {},
   "outputs": [],
   "source": []
  },
  {
   "cell_type": "markdown",
   "metadata": {},
   "source": [
    "### FourSquare park type"
   ]
  },
  {
   "cell_type": "code",
   "execution_count": 104,
   "metadata": {},
   "outputs": [],
   "source": [
    "park_type_df = pd.concat([pd.read_parquet('philly_park_foursquare_types.parquet'), \n",
    "                          pd.read_parquet('nyc_park_foursquare_types.parquet')], axis=0)\n"
   ]
  },
  {
   "cell_type": "code",
   "execution_count": 249,
   "metadata": {},
   "outputs": [
    {
     "name": "stdout",
     "output_type": "stream",
     "text": [
      "(4473, 8)\n"
     ]
    },
    {
     "data": {
      "text/html": [
       "<div>\n",
       "<style scoped>\n",
       "    .dataframe tbody tr th:only-of-type {\n",
       "        vertical-align: middle;\n",
       "    }\n",
       "\n",
       "    .dataframe tbody tr th {\n",
       "        vertical-align: top;\n",
       "    }\n",
       "\n",
       "    .dataframe thead th {\n",
       "        text-align: right;\n",
       "    }\n",
       "</style>\n",
       "<table border=\"1\" class=\"dataframe\">\n",
       "  <thead>\n",
       "    <tr style=\"text-align: right;\">\n",
       "      <th></th>\n",
       "      <th>id</th>\n",
       "      <th>name</th>\n",
       "      <th>lat</th>\n",
       "      <th>lng</th>\n",
       "      <th>fsq_name</th>\n",
       "      <th>fsq_type_name</th>\n",
       "      <th>fsq_type_id</th>\n",
       "      <th>fsq_type_name_simplified</th>\n",
       "    </tr>\n",
       "  </thead>\n",
       "  <tbody>\n",
       "    <tr>\n",
       "      <th>0</th>\n",
       "      <td>ChIJAWkAqNL1t4kRlm4slspOSXo</td>\n",
       "      <td>Quiet Waters Park</td>\n",
       "      <td>38.937670</td>\n",
       "      <td>-76.500899</td>\n",
       "      <td>Quiet Waters Park</td>\n",
       "      <td>Park</td>\n",
       "      <td>4bf58dd8d48988d163941735</td>\n",
       "      <td>Park</td>\n",
       "    </tr>\n",
       "    <tr>\n",
       "      <th>1</th>\n",
       "      <td>ChIJzcow6Xb1t4kRQVE7s1AWWr8</td>\n",
       "      <td>Hillsmere Shores Community Beach</td>\n",
       "      <td>38.927212</td>\n",
       "      <td>-76.494150</td>\n",
       "      <td>Hillsmere Shores Beach and Playground</td>\n",
       "      <td>Playground</td>\n",
       "      <td>4bf58dd8d48988d1e7941735</td>\n",
       "      <td>Playground</td>\n",
       "    </tr>\n",
       "    <tr>\n",
       "      <th>2</th>\n",
       "      <td>ChIJ_bk5K1z1t4kRQNverIUOVko</td>\n",
       "      <td>Quiet Waters Dog Beach</td>\n",
       "      <td>38.930202</td>\n",
       "      <td>-76.508341</td>\n",
       "      <td></td>\n",
       "      <td></td>\n",
       "      <td></td>\n",
       "      <td>None</td>\n",
       "    </tr>\n",
       "    <tr>\n",
       "      <th>3</th>\n",
       "      <td>ChIJ_-2cQEX1t4kRoiCrmNMbrQ8</td>\n",
       "      <td>Quiet Waters Dog Park</td>\n",
       "      <td>38.931865</td>\n",
       "      <td>-76.505658</td>\n",
       "      <td>Quiet Waters Dog Park</td>\n",
       "      <td>Dog Run</td>\n",
       "      <td>4bf58dd8d48988d1e5941735</td>\n",
       "      <td>Dog Run</td>\n",
       "    </tr>\n",
       "    <tr>\n",
       "      <th>4</th>\n",
       "      <td>ChIJQWcsgIn2t4kRCL0Ub363FyI</td>\n",
       "      <td>Pip Moyer Recreation Center (Annapolis Recreat...</td>\n",
       "      <td>38.963271</td>\n",
       "      <td>-76.505150</td>\n",
       "      <td>\"Pip\" Moyer Recreation Center</td>\n",
       "      <td>Gym</td>\n",
       "      <td>4bf58dd8d48988d176941735</td>\n",
       "      <td>Athletics &amp; Sports</td>\n",
       "    </tr>\n",
       "  </tbody>\n",
       "</table>\n",
       "</div>"
      ],
      "text/plain": [
       "                            id  \\\n",
       "0  ChIJAWkAqNL1t4kRlm4slspOSXo   \n",
       "1  ChIJzcow6Xb1t4kRQVE7s1AWWr8   \n",
       "2  ChIJ_bk5K1z1t4kRQNverIUOVko   \n",
       "3  ChIJ_-2cQEX1t4kRoiCrmNMbrQ8   \n",
       "4  ChIJQWcsgIn2t4kRCL0Ub363FyI   \n",
       "\n",
       "                                                name        lat        lng  \\\n",
       "0                                  Quiet Waters Park  38.937670 -76.500899   \n",
       "1                   Hillsmere Shores Community Beach  38.927212 -76.494150   \n",
       "2                             Quiet Waters Dog Beach  38.930202 -76.508341   \n",
       "3                              Quiet Waters Dog Park  38.931865 -76.505658   \n",
       "4  Pip Moyer Recreation Center (Annapolis Recreat...  38.963271 -76.505150   \n",
       "\n",
       "                                fsq_name fsq_type_name  \\\n",
       "0                      Quiet Waters Park          Park   \n",
       "1  Hillsmere Shores Beach and Playground    Playground   \n",
       "2                                                        \n",
       "3                  Quiet Waters Dog Park       Dog Run   \n",
       "4          \"Pip\" Moyer Recreation Center           Gym   \n",
       "\n",
       "                fsq_type_id fsq_type_name_simplified  \n",
       "0  4bf58dd8d48988d163941735                     Park  \n",
       "1  4bf58dd8d48988d1e7941735               Playground  \n",
       "2                                               None  \n",
       "3  4bf58dd8d48988d1e5941735                  Dog Run  \n",
       "4  4bf58dd8d48988d176941735       Athletics & Sports  "
      ]
     },
     "execution_count": 249,
     "metadata": {},
     "output_type": "execute_result"
    }
   ],
   "source": [
    "print(park_type_df.shape)\n",
    "park_type_df.head()"
   ]
  },
  {
   "cell_type": "code",
   "execution_count": 84,
   "metadata": {},
   "outputs": [
    {
     "data": {
      "text/plain": [
       "array(['Park', 'Playground', None, 'Dog Run', 'Athletics & Sports',\n",
       "       'Other Great Outdoors', 'Harbor / Marina', 'Plaza',\n",
       "       'Arts & Entertainment', 'State / Provincial Park', 'Campground',\n",
       "       'River', 'Travel & Transport', 'Shop & Service', 'Trail',\n",
       "       'Scenic Lookout', 'Professional & Other Places', 'Bike Trail',\n",
       "       'Nature Preserve', 'Outdoors & Recreation', 'Beach', 'Field',\n",
       "       'Lake', 'Fishing Spot', 'Pool', 'Farm', 'Bridge',\n",
       "       'Botanical Garden', 'College & University', 'Nightlife Spot',\n",
       "       'Cemetery', 'Food', 'Vineyard', 'National Park',\n",
       "       'Recreation Center', 'Garden', 'Sculpture Garden', 'Ski Area',\n",
       "       'Island', 'Pedestrian Plaza', 'Forest', 'Waterfall', 'Picnic Area',\n",
       "       'Roof Deck', 'Waterfront'], dtype=object)"
      ]
     },
     "execution_count": 84,
     "metadata": {},
     "output_type": "execute_result"
    }
   ],
   "source": [
    "park_type_df['fsq_type_name_simplified'].unique()"
   ]
  },
  {
   "cell_type": "code",
   "execution_count": null,
   "metadata": {},
   "outputs": [],
   "source": []
  },
  {
   "cell_type": "code",
   "execution_count": null,
   "metadata": {},
   "outputs": [],
   "source": []
  },
  {
   "cell_type": "code",
   "execution_count": 105,
   "metadata": {},
   "outputs": [
    {
     "data": {
      "text/html": [
       "<div>\n",
       "<style scoped>\n",
       "    .dataframe tbody tr th:only-of-type {\n",
       "        vertical-align: middle;\n",
       "    }\n",
       "\n",
       "    .dataframe tbody tr th {\n",
       "        vertical-align: top;\n",
       "    }\n",
       "\n",
       "    .dataframe thead th {\n",
       "        text-align: right;\n",
       "    }\n",
       "</style>\n",
       "<table border=\"1\" class=\"dataframe\">\n",
       "  <thead>\n",
       "    <tr style=\"text-align: right;\">\n",
       "      <th></th>\n",
       "      <th>id</th>\n",
       "      <th>name</th>\n",
       "      <th>rating</th>\n",
       "      <th>lat</th>\n",
       "      <th>lng</th>\n",
       "      <th>address</th>\n",
       "      <th>address_city</th>\n",
       "      <th>fsq_type_name_simplified</th>\n",
       "    </tr>\n",
       "  </thead>\n",
       "  <tbody>\n",
       "    <tr>\n",
       "      <th>0</th>\n",
       "      <td>ChIJAWkAqNL1t4kRlm4slspOSXo</td>\n",
       "      <td>Quiet Waters Park</td>\n",
       "      <td>4.7</td>\n",
       "      <td>38.937670</td>\n",
       "      <td>-76.500899</td>\n",
       "      <td>600 Quiet Waters Park Rd, Annapolis, MD 21403,...</td>\n",
       "      <td>Annapolis,MD</td>\n",
       "      <td>Park</td>\n",
       "    </tr>\n",
       "    <tr>\n",
       "      <th>1</th>\n",
       "      <td>ChIJzcow6Xb1t4kRQVE7s1AWWr8</td>\n",
       "      <td>Hillsmere Shores Community Beach</td>\n",
       "      <td>5.0</td>\n",
       "      <td>38.927212</td>\n",
       "      <td>-76.494150</td>\n",
       "      <td>101 W Bay View Dr, Annapolis, MD 21403, USA</td>\n",
       "      <td>Annapolis,MD</td>\n",
       "      <td>Playground</td>\n",
       "    </tr>\n",
       "    <tr>\n",
       "      <th>2</th>\n",
       "      <td>ChIJ_bk5K1z1t4kRQNverIUOVko</td>\n",
       "      <td>Quiet Waters Dog Beach</td>\n",
       "      <td>4.7</td>\n",
       "      <td>38.930202</td>\n",
       "      <td>-76.508341</td>\n",
       "      <td>1701-1799 Quiet Waters Park Rd, Annapolis, MD ...</td>\n",
       "      <td>Annapolis,MD</td>\n",
       "      <td>None</td>\n",
       "    </tr>\n",
       "    <tr>\n",
       "      <th>3</th>\n",
       "      <td>ChIJ_-2cQEX1t4kRoiCrmNMbrQ8</td>\n",
       "      <td>Quiet Waters Dog Park</td>\n",
       "      <td>4.8</td>\n",
       "      <td>38.931865</td>\n",
       "      <td>-76.505658</td>\n",
       "      <td>600 Quiet Waters Park Rd, Annapolis, MD 21403,...</td>\n",
       "      <td>Annapolis,MD</td>\n",
       "      <td>Dog Run</td>\n",
       "    </tr>\n",
       "    <tr>\n",
       "      <th>4</th>\n",
       "      <td>ChIJQWcsgIn2t4kRCL0Ub363FyI</td>\n",
       "      <td>Pip Moyer Recreation Center (Annapolis Recreat...</td>\n",
       "      <td>4.5</td>\n",
       "      <td>38.963271</td>\n",
       "      <td>-76.505150</td>\n",
       "      <td>273 Hilltop Ln, Annapolis, MD 21403, USA</td>\n",
       "      <td>Annapolis,MD</td>\n",
       "      <td>Athletics &amp; Sports</td>\n",
       "    </tr>\n",
       "  </tbody>\n",
       "</table>\n",
       "</div>"
      ],
      "text/plain": [
       "                            id  \\\n",
       "0  ChIJAWkAqNL1t4kRlm4slspOSXo   \n",
       "1  ChIJzcow6Xb1t4kRQVE7s1AWWr8   \n",
       "2  ChIJ_bk5K1z1t4kRQNverIUOVko   \n",
       "3  ChIJ_-2cQEX1t4kRoiCrmNMbrQ8   \n",
       "4  ChIJQWcsgIn2t4kRCL0Ub363FyI   \n",
       "\n",
       "                                                name  rating        lat  \\\n",
       "0                                  Quiet Waters Park     4.7  38.937670   \n",
       "1                   Hillsmere Shores Community Beach     5.0  38.927212   \n",
       "2                             Quiet Waters Dog Beach     4.7  38.930202   \n",
       "3                              Quiet Waters Dog Park     4.8  38.931865   \n",
       "4  Pip Moyer Recreation Center (Annapolis Recreat...     4.5  38.963271   \n",
       "\n",
       "         lng                                            address  address_city  \\\n",
       "0 -76.500899  600 Quiet Waters Park Rd, Annapolis, MD 21403,...  Annapolis,MD   \n",
       "1 -76.494150        101 W Bay View Dr, Annapolis, MD 21403, USA  Annapolis,MD   \n",
       "2 -76.508341  1701-1799 Quiet Waters Park Rd, Annapolis, MD ...  Annapolis,MD   \n",
       "3 -76.505658  600 Quiet Waters Park Rd, Annapolis, MD 21403,...  Annapolis,MD   \n",
       "4 -76.505150           273 Hilltop Ln, Annapolis, MD 21403, USA  Annapolis,MD   \n",
       "\n",
       "  fsq_type_name_simplified  \n",
       "0                     Park  \n",
       "1               Playground  \n",
       "2                     None  \n",
       "3                  Dog Run  \n",
       "4       Athletics & Sports  "
      ]
     },
     "execution_count": 105,
     "metadata": {},
     "output_type": "execute_result"
    }
   ],
   "source": [
    "# add fsq_type to info_df\n",
    "info_df_wt_fsq_type = info_df.merge(park_type_df[['id', 'fsq_type_name_simplified']], how='left', on='id')\n",
    "info_df_wt_fsq_type.head()"
   ]
  },
  {
   "cell_type": "code",
   "execution_count": 106,
   "metadata": {},
   "outputs": [],
   "source": [
    "# add state parks to info_df_wt_fsq_type (only when fsq_type_name_simplified is none)\n",
    "philly_state_park_id = get_info('philly_state_parks_info.db')['id']\n",
    "\n",
    "park_id_missing_fsq_type = info_df_wt_fsq_type[info_df_wt_fsq_type['fsq_type_name_simplified'].isna()]['id']\n",
    "state_park_id = set(park_id_missing_fsq_type).intersection(set(philly_state_park_id))\n",
    "\n",
    "info_df_wt_fsq_type.set_index('id', inplace=True)\n",
    "info_df_wt_fsq_type.loc[state_park_id, ['fsq_type_name_simplified']] = 'State / Provincial Park'"
   ]
  },
  {
   "cell_type": "code",
   "execution_count": null,
   "metadata": {},
   "outputs": [],
   "source": []
  },
  {
   "cell_type": "code",
   "execution_count": 107,
   "metadata": {},
   "outputs": [],
   "source": [
    "# # fill in the rest with 'Park' - opt out, now use SimpleImputer to create a new \"missing_value\" category \n",
    "info_df_wt_fsq_type = info_df_wt_fsq_type.reset_index()\n",
    "# info_df_wt_fsq_type.loc[np.where(info_df_wt_fsq_type['fsq_type_name_simplified'].isna())[0], \n",
    "#                         ['fsq_type_name_simplified']] = 'Park'"
   ]
  },
  {
   "cell_type": "code",
   "execution_count": null,
   "metadata": {},
   "outputs": [],
   "source": []
  },
  {
   "cell_type": "code",
   "execution_count": 255,
   "metadata": {},
   "outputs": [
    {
     "data": {
      "text/html": [
       "<div>\n",
       "<style scoped>\n",
       "    .dataframe tbody tr th:only-of-type {\n",
       "        vertical-align: middle;\n",
       "    }\n",
       "\n",
       "    .dataframe tbody tr th {\n",
       "        vertical-align: top;\n",
       "    }\n",
       "\n",
       "    .dataframe thead th {\n",
       "        text-align: right;\n",
       "    }\n",
       "</style>\n",
       "<table border=\"1\" class=\"dataframe\">\n",
       "  <thead>\n",
       "    <tr style=\"text-align: right;\">\n",
       "      <th></th>\n",
       "      <th>id</th>\n",
       "      <th>name</th>\n",
       "      <th>rating</th>\n",
       "      <th>lat</th>\n",
       "      <th>lng</th>\n",
       "      <th>address</th>\n",
       "      <th>address_city</th>\n",
       "      <th>fsq_type_name_simplified</th>\n",
       "    </tr>\n",
       "  </thead>\n",
       "  <tbody>\n",
       "    <tr>\n",
       "      <th>0</th>\n",
       "      <td>ChIJAWkAqNL1t4kRlm4slspOSXo</td>\n",
       "      <td>Quiet Waters Park</td>\n",
       "      <td>4.7</td>\n",
       "      <td>38.937670</td>\n",
       "      <td>-76.500899</td>\n",
       "      <td>600 Quiet Waters Park Rd, Annapolis, MD 21403,...</td>\n",
       "      <td>Annapolis,MD</td>\n",
       "      <td>Park</td>\n",
       "    </tr>\n",
       "    <tr>\n",
       "      <th>1</th>\n",
       "      <td>ChIJzcow6Xb1t4kRQVE7s1AWWr8</td>\n",
       "      <td>Hillsmere Shores Community Beach</td>\n",
       "      <td>5.0</td>\n",
       "      <td>38.927212</td>\n",
       "      <td>-76.494150</td>\n",
       "      <td>101 W Bay View Dr, Annapolis, MD 21403, USA</td>\n",
       "      <td>Annapolis,MD</td>\n",
       "      <td>Playground</td>\n",
       "    </tr>\n",
       "    <tr>\n",
       "      <th>2</th>\n",
       "      <td>ChIJ_bk5K1z1t4kRQNverIUOVko</td>\n",
       "      <td>Quiet Waters Dog Beach</td>\n",
       "      <td>4.7</td>\n",
       "      <td>38.930202</td>\n",
       "      <td>-76.508341</td>\n",
       "      <td>1701-1799 Quiet Waters Park Rd, Annapolis, MD ...</td>\n",
       "      <td>Annapolis,MD</td>\n",
       "      <td>None</td>\n",
       "    </tr>\n",
       "    <tr>\n",
       "      <th>3</th>\n",
       "      <td>ChIJ_-2cQEX1t4kRoiCrmNMbrQ8</td>\n",
       "      <td>Quiet Waters Dog Park</td>\n",
       "      <td>4.8</td>\n",
       "      <td>38.931865</td>\n",
       "      <td>-76.505658</td>\n",
       "      <td>600 Quiet Waters Park Rd, Annapolis, MD 21403,...</td>\n",
       "      <td>Annapolis,MD</td>\n",
       "      <td>Dog Run</td>\n",
       "    </tr>\n",
       "    <tr>\n",
       "      <th>4</th>\n",
       "      <td>ChIJQWcsgIn2t4kRCL0Ub363FyI</td>\n",
       "      <td>Pip Moyer Recreation Center (Annapolis Recreat...</td>\n",
       "      <td>4.5</td>\n",
       "      <td>38.963271</td>\n",
       "      <td>-76.505150</td>\n",
       "      <td>273 Hilltop Ln, Annapolis, MD 21403, USA</td>\n",
       "      <td>Annapolis,MD</td>\n",
       "      <td>Athletics &amp; Sports</td>\n",
       "    </tr>\n",
       "  </tbody>\n",
       "</table>\n",
       "</div>"
      ],
      "text/plain": [
       "                            id  \\\n",
       "0  ChIJAWkAqNL1t4kRlm4slspOSXo   \n",
       "1  ChIJzcow6Xb1t4kRQVE7s1AWWr8   \n",
       "2  ChIJ_bk5K1z1t4kRQNverIUOVko   \n",
       "3  ChIJ_-2cQEX1t4kRoiCrmNMbrQ8   \n",
       "4  ChIJQWcsgIn2t4kRCL0Ub363FyI   \n",
       "\n",
       "                                                name  rating        lat  \\\n",
       "0                                  Quiet Waters Park     4.7  38.937670   \n",
       "1                   Hillsmere Shores Community Beach     5.0  38.927212   \n",
       "2                             Quiet Waters Dog Beach     4.7  38.930202   \n",
       "3                              Quiet Waters Dog Park     4.8  38.931865   \n",
       "4  Pip Moyer Recreation Center (Annapolis Recreat...     4.5  38.963271   \n",
       "\n",
       "         lng                                            address  address_city  \\\n",
       "0 -76.500899  600 Quiet Waters Park Rd, Annapolis, MD 21403,...  Annapolis,MD   \n",
       "1 -76.494150        101 W Bay View Dr, Annapolis, MD 21403, USA  Annapolis,MD   \n",
       "2 -76.508341  1701-1799 Quiet Waters Park Rd, Annapolis, MD ...  Annapolis,MD   \n",
       "3 -76.505658  600 Quiet Waters Park Rd, Annapolis, MD 21403,...  Annapolis,MD   \n",
       "4 -76.505150           273 Hilltop Ln, Annapolis, MD 21403, USA  Annapolis,MD   \n",
       "\n",
       "  fsq_type_name_simplified  \n",
       "0                     Park  \n",
       "1               Playground  \n",
       "2                     None  \n",
       "3                  Dog Run  \n",
       "4       Athletics & Sports  "
      ]
     },
     "execution_count": 255,
     "metadata": {},
     "output_type": "execute_result"
    }
   ],
   "source": [
    "info_df_wt_fsq_type.head()"
   ]
  },
  {
   "cell_type": "code",
   "execution_count": null,
   "metadata": {},
   "outputs": [],
   "source": []
  },
  {
   "cell_type": "code",
   "execution_count": 256,
   "metadata": {},
   "outputs": [
    {
     "data": {
      "text/html": [
       "<div>\n",
       "<style scoped>\n",
       "    .dataframe tbody tr th:only-of-type {\n",
       "        vertical-align: middle;\n",
       "    }\n",
       "\n",
       "    .dataframe tbody tr th {\n",
       "        vertical-align: top;\n",
       "    }\n",
       "\n",
       "    .dataframe thead th {\n",
       "        text-align: right;\n",
       "    }\n",
       "</style>\n",
       "<table border=\"1\" class=\"dataframe\">\n",
       "  <thead>\n",
       "    <tr style=\"text-align: right;\">\n",
       "      <th></th>\n",
       "      <th>id</th>\n",
       "      <th>name</th>\n",
       "      <th>rating</th>\n",
       "      <th>lat</th>\n",
       "      <th>lng</th>\n",
       "      <th>address</th>\n",
       "      <th>address_city</th>\n",
       "      <th>fsq_type_name_simplified</th>\n",
       "    </tr>\n",
       "  </thead>\n",
       "  <tbody>\n",
       "    <tr>\n",
       "      <th>252</th>\n",
       "      <td>ChIJ2R92Tl7Gx4kRO6G7NcWtNhk</td>\n",
       "      <td>Susquehanna State Park</td>\n",
       "      <td>4.7</td>\n",
       "      <td>39.604816</td>\n",
       "      <td>-76.15167</td>\n",
       "      <td>4188 Wilkinson Rd, Havre De Grace, MD 21078, USA</td>\n",
       "      <td>Havre De Grace,MD</td>\n",
       "      <td>None</td>\n",
       "    </tr>\n",
       "  </tbody>\n",
       "</table>\n",
       "</div>"
      ],
      "text/plain": [
       "                              id                    name  rating        lat  \\\n",
       "252  ChIJ2R92Tl7Gx4kRO6G7NcWtNhk  Susquehanna State Park     4.7  39.604816   \n",
       "\n",
       "          lng                                           address  \\\n",
       "252 -76.15167  4188 Wilkinson Rd, Havre De Grace, MD 21078, USA   \n",
       "\n",
       "          address_city fsq_type_name_simplified  \n",
       "252  Havre De Grace,MD                     None  "
      ]
     },
     "execution_count": 256,
     "metadata": {},
     "output_type": "execute_result"
    }
   ],
   "source": [
    "info_df_wt_fsq_type[info_df_wt_fsq_type['id'] == 'ChIJ2R92Tl7Gx4kRO6G7NcWtNhk']"
   ]
  },
  {
   "cell_type": "code",
   "execution_count": 90,
   "metadata": {},
   "outputs": [],
   "source": [
    "Counter(info_df_wt_fsq_type['fsq_type_name_simplified']); "
   ]
  },
  {
   "cell_type": "code",
   "execution_count": 432,
   "metadata": {},
   "outputs": [
    {
     "data": {
      "text/html": [
       "<div>\n",
       "<style scoped>\n",
       "    .dataframe tbody tr th:only-of-type {\n",
       "        vertical-align: middle;\n",
       "    }\n",
       "\n",
       "    .dataframe tbody tr th {\n",
       "        vertical-align: top;\n",
       "    }\n",
       "\n",
       "    .dataframe thead th {\n",
       "        text-align: right;\n",
       "    }\n",
       "</style>\n",
       "<table border=\"1\" class=\"dataframe\">\n",
       "  <thead>\n",
       "    <tr style=\"text-align: right;\">\n",
       "      <th></th>\n",
       "      <th>id</th>\n",
       "      <th>name</th>\n",
       "      <th>lat</th>\n",
       "      <th>lng</th>\n",
       "      <th>address</th>\n",
       "      <th>address_city</th>\n",
       "      <th>fsq_type_name_simplified</th>\n",
       "    </tr>\n",
       "  </thead>\n",
       "  <tbody>\n",
       "    <tr>\n",
       "      <th>35</th>\n",
       "      <td>ChIJU-taUeGcyIkRmOMiqeRIRks</td>\n",
       "      <td>Columbia Crossing River Trails Center</td>\n",
       "      <td>40.030361</td>\n",
       "      <td>-76.507988</td>\n",
       "      <td>41 Walnut St, Columbia, PA 17512, USA</td>\n",
       "      <td>Columbia,PA</td>\n",
       "      <td>Travel &amp; Transport</td>\n",
       "    </tr>\n",
       "    <tr>\n",
       "      <th>437</th>\n",
       "      <td>ChIJP7LWOW_TxYkRyQ-J7WbddUs</td>\n",
       "      <td>Bowers Park</td>\n",
       "      <td>40.485966</td>\n",
       "      <td>-75.743690</td>\n",
       "      <td>Mertztown, PA 19539, USA</td>\n",
       "      <td>Mertztown,PA</td>\n",
       "      <td>Travel &amp; Transport</td>\n",
       "    </tr>\n",
       "    <tr>\n",
       "      <th>678</th>\n",
       "      <td>ChIJhQi4JJGRxokRpVHYWzwCpOM</td>\n",
       "      <td>Lock 60 Recreation Area</td>\n",
       "      <td>40.144674</td>\n",
       "      <td>-75.508518</td>\n",
       "      <td>Locktender's House, 400 Tow Path Rd, Mont Clar...</td>\n",
       "      <td>Mont Clare,PA</td>\n",
       "      <td>Travel &amp; Transport</td>\n",
       "    </tr>\n",
       "    <tr>\n",
       "      <th>1151</th>\n",
       "      <td>ChIJreKNFonIxokRPfXi7jRKom0</td>\n",
       "      <td>Cherry Street Pier</td>\n",
       "      <td>39.952446</td>\n",
       "      <td>-75.138918</td>\n",
       "      <td>121 N Christopher Columbus Blvd, Philadelphia,...</td>\n",
       "      <td>Philadelphia,PA</td>\n",
       "      <td>Travel &amp; Transport</td>\n",
       "    </tr>\n",
       "    <tr>\n",
       "      <th>1801</th>\n",
       "      <td>ChIJW8juxou6w4kR5ESMsW9EEjQ</td>\n",
       "      <td>Connell Corporate Park</td>\n",
       "      <td>40.664624</td>\n",
       "      <td>-74.414364</td>\n",
       "      <td>Plainfield Ave, Berkeley Heights, NJ 07922, USA</td>\n",
       "      <td>Berkeley Heights,NJ</td>\n",
       "      <td>Travel &amp; Transport</td>\n",
       "    </tr>\n",
       "  </tbody>\n",
       "</table>\n",
       "</div>"
      ],
      "text/plain": [
       "                               id                                   name  \\\n",
       "35    ChIJU-taUeGcyIkRmOMiqeRIRks  Columbia Crossing River Trails Center   \n",
       "437   ChIJP7LWOW_TxYkRyQ-J7WbddUs                            Bowers Park   \n",
       "678   ChIJhQi4JJGRxokRpVHYWzwCpOM                Lock 60 Recreation Area   \n",
       "1151  ChIJreKNFonIxokRPfXi7jRKom0                     Cherry Street Pier   \n",
       "1801  ChIJW8juxou6w4kR5ESMsW9EEjQ                 Connell Corporate Park   \n",
       "\n",
       "            lat        lng                                            address  \\\n",
       "35    40.030361 -76.507988              41 Walnut St, Columbia, PA 17512, USA   \n",
       "437   40.485966 -75.743690                           Mertztown, PA 19539, USA   \n",
       "678   40.144674 -75.508518  Locktender's House, 400 Tow Path Rd, Mont Clar...   \n",
       "1151  39.952446 -75.138918  121 N Christopher Columbus Blvd, Philadelphia,...   \n",
       "1801  40.664624 -74.414364    Plainfield Ave, Berkeley Heights, NJ 07922, USA   \n",
       "\n",
       "             address_city fsq_type_name_simplified  \n",
       "35            Columbia,PA       Travel & Transport  \n",
       "437          Mertztown,PA       Travel & Transport  \n",
       "678         Mont Clare,PA       Travel & Transport  \n",
       "1151      Philadelphia,PA       Travel & Transport  \n",
       "1801  Berkeley Heights,NJ       Travel & Transport  "
      ]
     },
     "execution_count": 432,
     "metadata": {},
     "output_type": "execute_result"
    }
   ],
   "source": [
    "info_df_wt_fsq_type[info_df_wt_fsq_type['fsq_type_name_simplified']=='Travel & Transport'].head()"
   ]
  },
  {
   "cell_type": "code",
   "execution_count": null,
   "metadata": {},
   "outputs": [],
   "source": []
  },
  {
   "cell_type": "code",
   "execution_count": null,
   "metadata": {},
   "outputs": [],
   "source": []
  },
  {
   "cell_type": "markdown",
   "metadata": {},
   "source": [
    "## include fsq_type and address_city to df_curr_popularity"
   ]
  },
  {
   "cell_type": "code",
   "execution_count": 108,
   "metadata": {},
   "outputs": [],
   "source": [
    "df_curr_popularity = df_curr_popularity.merge(info_df_wt_fsq_type[['id', 'address_city', 'fsq_type_name_simplified', \n",
    "                                                                   'rating']], how='left', on='id')"
   ]
  },
  {
   "cell_type": "code",
   "execution_count": 437,
   "metadata": {},
   "outputs": [],
   "source": [
    "#Travel & Transport\n",
    "df_curr_popularity[df_curr_popularity['fsq_type_name_simplified']=='Playground']['id'].unique();"
   ]
  },
  {
   "cell_type": "markdown",
   "metadata": {},
   "source": [
    "## merge curr_popularity and weather tabel\n",
    "The main dataframe is merged from curr_popularity and weather_info table (by city and datetime)"
   ]
  },
  {
   "cell_type": "code",
   "execution_count": 109,
   "metadata": {},
   "outputs": [],
   "source": [
    "df_popularity = df_curr_popularity.merge(df_weather, how='left', left_on=['address_city', 'datetime_hour'], \n",
    "                         right_on=['location', 'datetime'])"
   ]
  },
  {
   "cell_type": "code",
   "execution_count": 110,
   "metadata": {},
   "outputs": [],
   "source": [
    "df_popularity['hour'] = df_popularity['datetime_hour'].apply(lambda x:x.hour) # extract hour & dayofweek from datetime_hour\n",
    "df_popularity['dayofweek'] = df_popularity['datetime_hour'].apply(lambda x:x.dayofweek)"
   ]
  },
  {
   "cell_type": "code",
   "execution_count": 125,
   "metadata": {},
   "outputs": [],
   "source": [
    "# df_popularity.to_parquet('data_v1_Date_2021-03-16_2021-04-10.parquet')\n",
    "# df_popularity.to_parquet('data_v1_Date_2021-03-16_2021-04-20.parquet')\n",
    "df_popularity = pd.read_parquet('data_v1_Date_2021-03-16_2021-04-20.parquet')\n"
   ]
  },
  {
   "cell_type": "code",
   "execution_count": 112,
   "metadata": {},
   "outputs": [
    {
     "data": {
      "text/plain": [
       "(507886, 35)"
      ]
     },
     "execution_count": 112,
     "metadata": {},
     "output_type": "execute_result"
    }
   ],
   "source": [
    "df_popularity.shape"
   ]
  },
  {
   "cell_type": "code",
   "execution_count": 101,
   "metadata": {},
   "outputs": [
    {
     "data": {
      "text/html": [
       "<div>\n",
       "<style scoped>\n",
       "    .dataframe tbody tr th:only-of-type {\n",
       "        vertical-align: middle;\n",
       "    }\n",
       "\n",
       "    .dataframe tbody tr th {\n",
       "        vertical-align: top;\n",
       "    }\n",
       "\n",
       "    .dataframe thead th {\n",
       "        text-align: right;\n",
       "    }\n",
       "</style>\n",
       "<table border=\"1\" class=\"dataframe\">\n",
       "  <thead>\n",
       "    <tr style=\"text-align: right;\">\n",
       "      <th></th>\n",
       "      <th>address_city</th>\n",
       "      <th>location</th>\n",
       "      <th>datetime</th>\n",
       "      <th>datetime_hour</th>\n",
       "    </tr>\n",
       "  </thead>\n",
       "  <tbody>\n",
       "    <tr>\n",
       "      <th>4447</th>\n",
       "      <td>Hainesport,NJ</td>\n",
       "      <td>NaN</td>\n",
       "      <td>NaT</td>\n",
       "      <td>2021-04-19</td>\n",
       "    </tr>\n",
       "    <tr>\n",
       "      <th>4448</th>\n",
       "      <td>Norristown,PA</td>\n",
       "      <td>NaN</td>\n",
       "      <td>NaT</td>\n",
       "      <td>2021-04-19</td>\n",
       "    </tr>\n",
       "    <tr>\n",
       "      <th>4449</th>\n",
       "      <td>Philadelphia,PA</td>\n",
       "      <td>NaN</td>\n",
       "      <td>NaT</td>\n",
       "      <td>2021-04-19</td>\n",
       "    </tr>\n",
       "    <tr>\n",
       "      <th>4450</th>\n",
       "      <td>Langhorne,PA</td>\n",
       "      <td>NaN</td>\n",
       "      <td>NaT</td>\n",
       "      <td>2021-04-19</td>\n",
       "    </tr>\n",
       "    <tr>\n",
       "      <th>4451</th>\n",
       "      <td>Delanco,NJ</td>\n",
       "      <td>NaN</td>\n",
       "      <td>NaT</td>\n",
       "      <td>2021-04-19</td>\n",
       "    </tr>\n",
       "    <tr>\n",
       "      <th>...</th>\n",
       "      <td>...</td>\n",
       "      <td>...</td>\n",
       "      <td>...</td>\n",
       "      <td>...</td>\n",
       "    </tr>\n",
       "    <tr>\n",
       "      <th>507881</th>\n",
       "      <td>Rutherford,NJ</td>\n",
       "      <td>NaN</td>\n",
       "      <td>NaT</td>\n",
       "      <td>2021-04-17</td>\n",
       "    </tr>\n",
       "    <tr>\n",
       "      <th>507882</th>\n",
       "      <td>White Plains,NY</td>\n",
       "      <td>NaN</td>\n",
       "      <td>NaT</td>\n",
       "      <td>2021-04-17</td>\n",
       "    </tr>\n",
       "    <tr>\n",
       "      <th>507883</th>\n",
       "      <td>Springfield Gardens,NY</td>\n",
       "      <td>NaN</td>\n",
       "      <td>NaT</td>\n",
       "      <td>2021-04-17</td>\n",
       "    </tr>\n",
       "    <tr>\n",
       "      <th>507884</th>\n",
       "      <td>Brooklyn,NY</td>\n",
       "      <td>NaN</td>\n",
       "      <td>NaT</td>\n",
       "      <td>2021-04-17</td>\n",
       "    </tr>\n",
       "    <tr>\n",
       "      <th>507885</th>\n",
       "      <td>West New York,NJ</td>\n",
       "      <td>NaN</td>\n",
       "      <td>NaT</td>\n",
       "      <td>2021-04-17</td>\n",
       "    </tr>\n",
       "  </tbody>\n",
       "</table>\n",
       "<p>181839 rows × 4 columns</p>\n",
       "</div>"
      ],
      "text/plain": [
       "                  address_city location datetime datetime_hour\n",
       "4447             Hainesport,NJ      NaN      NaT    2021-04-19\n",
       "4448             Norristown,PA      NaN      NaT    2021-04-19\n",
       "4449           Philadelphia,PA      NaN      NaT    2021-04-19\n",
       "4450              Langhorne,PA      NaN      NaT    2021-04-19\n",
       "4451                Delanco,NJ      NaN      NaT    2021-04-19\n",
       "...                        ...      ...      ...           ...\n",
       "507881           Rutherford,NJ      NaN      NaT    2021-04-17\n",
       "507882         White Plains,NY      NaN      NaT    2021-04-17\n",
       "507883  Springfield Gardens,NY      NaN      NaT    2021-04-17\n",
       "507884             Brooklyn,NY      NaN      NaT    2021-04-17\n",
       "507885        West New York,NJ      NaN      NaT    2021-04-17\n",
       "\n",
       "[181839 rows x 4 columns]"
      ]
     },
     "execution_count": 101,
     "metadata": {},
     "output_type": "execute_result"
    }
   ],
   "source": [
    "# the ones without temp but with address_city\n",
    "df_popularity.loc[df_popularity['temp'].isna() & ~df_popularity['address_city'].isna(), \n",
    "                  ['address_city', 'location', 'datetime', 'datetime_hour']]\n"
   ]
  },
  {
   "cell_type": "code",
   "execution_count": 135,
   "metadata": {},
   "outputs": [
    {
     "data": {
      "text/html": [
       "<div>\n",
       "<style scoped>\n",
       "    .dataframe tbody tr th:only-of-type {\n",
       "        vertical-align: middle;\n",
       "    }\n",
       "\n",
       "    .dataframe tbody tr th {\n",
       "        vertical-align: top;\n",
       "    }\n",
       "\n",
       "    .dataframe thead th {\n",
       "        text-align: right;\n",
       "    }\n",
       "</style>\n",
       "<table border=\"1\" class=\"dataframe\">\n",
       "  <thead>\n",
       "    <tr style=\"text-align: right;\">\n",
       "      <th></th>\n",
       "      <th>datetime_hour</th>\n",
       "      <th>id</th>\n",
       "      <th>curr_popularity</th>\n",
       "      <th>rating_n</th>\n",
       "      <th>request_id</th>\n",
       "      <th>address_city</th>\n",
       "      <th>fsq_type_name_simplified</th>\n",
       "      <th>datetimeEpoch</th>\n",
       "      <th>temp</th>\n",
       "      <th>feelslike</th>\n",
       "      <th>...</th>\n",
       "      <th>visibility</th>\n",
       "      <th>cloudcover</th>\n",
       "      <th>solarradiation</th>\n",
       "      <th>solarenergy</th>\n",
       "      <th>uvindex</th>\n",
       "      <th>conditions</th>\n",
       "      <th>datetime</th>\n",
       "      <th>location</th>\n",
       "      <th>latitude</th>\n",
       "      <th>longitude</th>\n",
       "    </tr>\n",
       "  </thead>\n",
       "  <tbody>\n",
       "    <tr>\n",
       "      <th>222626</th>\n",
       "      <td>2021-04-11 00:00:00</td>\n",
       "      <td>ChIJS4XXJM_9wokRi4GvZ-DecfM</td>\n",
       "      <td>51.5</td>\n",
       "      <td>523.0</td>\n",
       "      <td>ChIJS4XXJM_9wokRi4GvZ-DecfM</td>\n",
       "      <td>Paterson,NJ</td>\n",
       "      <td>Park</td>\n",
       "      <td>NaN</td>\n",
       "      <td>NaN</td>\n",
       "      <td>NaN</td>\n",
       "      <td>...</td>\n",
       "      <td>NaN</td>\n",
       "      <td>NaN</td>\n",
       "      <td>NaN</td>\n",
       "      <td>NaN</td>\n",
       "      <td>NaN</td>\n",
       "      <td>NaN</td>\n",
       "      <td>NaT</td>\n",
       "      <td>NaN</td>\n",
       "      <td>NaN</td>\n",
       "      <td>NaN</td>\n",
       "    </tr>\n",
       "    <tr>\n",
       "      <th>222684</th>\n",
       "      <td>2021-04-11 00:00:00</td>\n",
       "      <td>ChIJdTSF-9z9wokRj0-PHUdG8WE</td>\n",
       "      <td>53.0</td>\n",
       "      <td>603.0</td>\n",
       "      <td>ChIJdTSF-9z9wokRj0-PHUdG8WE</td>\n",
       "      <td>Paterson,NJ</td>\n",
       "      <td>Park</td>\n",
       "      <td>NaN</td>\n",
       "      <td>NaN</td>\n",
       "      <td>NaN</td>\n",
       "      <td>...</td>\n",
       "      <td>NaN</td>\n",
       "      <td>NaN</td>\n",
       "      <td>NaN</td>\n",
       "      <td>NaN</td>\n",
       "      <td>NaN</td>\n",
       "      <td>NaN</td>\n",
       "      <td>NaT</td>\n",
       "      <td>NaN</td>\n",
       "      <td>NaN</td>\n",
       "      <td>NaN</td>\n",
       "    </tr>\n",
       "    <tr>\n",
       "      <th>222884</th>\n",
       "      <td>2021-04-11 01:00:00</td>\n",
       "      <td>ChIJS4XXJM_9wokRi4GvZ-DecfM</td>\n",
       "      <td>26.0</td>\n",
       "      <td>523.0</td>\n",
       "      <td>ChIJS4XXJM_9wokRi4GvZ-DecfM</td>\n",
       "      <td>Paterson,NJ</td>\n",
       "      <td>Park</td>\n",
       "      <td>NaN</td>\n",
       "      <td>NaN</td>\n",
       "      <td>NaN</td>\n",
       "      <td>...</td>\n",
       "      <td>NaN</td>\n",
       "      <td>NaN</td>\n",
       "      <td>NaN</td>\n",
       "      <td>NaN</td>\n",
       "      <td>NaN</td>\n",
       "      <td>NaN</td>\n",
       "      <td>NaT</td>\n",
       "      <td>NaN</td>\n",
       "      <td>NaN</td>\n",
       "      <td>NaN</td>\n",
       "    </tr>\n",
       "    <tr>\n",
       "      <th>222935</th>\n",
       "      <td>2021-04-11 01:00:00</td>\n",
       "      <td>ChIJdTSF-9z9wokRj0-PHUdG8WE</td>\n",
       "      <td>52.0</td>\n",
       "      <td>603.0</td>\n",
       "      <td>ChIJdTSF-9z9wokRj0-PHUdG8WE</td>\n",
       "      <td>Paterson,NJ</td>\n",
       "      <td>Park</td>\n",
       "      <td>NaN</td>\n",
       "      <td>NaN</td>\n",
       "      <td>NaN</td>\n",
       "      <td>...</td>\n",
       "      <td>NaN</td>\n",
       "      <td>NaN</td>\n",
       "      <td>NaN</td>\n",
       "      <td>NaN</td>\n",
       "      <td>NaN</td>\n",
       "      <td>NaN</td>\n",
       "      <td>NaT</td>\n",
       "      <td>NaN</td>\n",
       "      <td>NaN</td>\n",
       "      <td>NaN</td>\n",
       "    </tr>\n",
       "    <tr>\n",
       "      <th>223087</th>\n",
       "      <td>2021-04-11 02:00:00</td>\n",
       "      <td>ChIJS4XXJM_9wokRi4GvZ-DecfM</td>\n",
       "      <td>51.0</td>\n",
       "      <td>523.0</td>\n",
       "      <td>ChIJS4XXJM_9wokRi4GvZ-DecfM</td>\n",
       "      <td>Paterson,NJ</td>\n",
       "      <td>Park</td>\n",
       "      <td>NaN</td>\n",
       "      <td>NaN</td>\n",
       "      <td>NaN</td>\n",
       "      <td>...</td>\n",
       "      <td>NaN</td>\n",
       "      <td>NaN</td>\n",
       "      <td>NaN</td>\n",
       "      <td>NaN</td>\n",
       "      <td>NaN</td>\n",
       "      <td>NaN</td>\n",
       "      <td>NaT</td>\n",
       "      <td>NaN</td>\n",
       "      <td>NaN</td>\n",
       "      <td>NaN</td>\n",
       "    </tr>\n",
       "    <tr>\n",
       "      <th>223116</th>\n",
       "      <td>2021-04-11 02:00:00</td>\n",
       "      <td>ChIJdTSF-9z9wokRj0-PHUdG8WE</td>\n",
       "      <td>21.0</td>\n",
       "      <td>603.0</td>\n",
       "      <td>ChIJdTSF-9z9wokRj0-PHUdG8WE</td>\n",
       "      <td>Paterson,NJ</td>\n",
       "      <td>Park</td>\n",
       "      <td>NaN</td>\n",
       "      <td>NaN</td>\n",
       "      <td>NaN</td>\n",
       "      <td>...</td>\n",
       "      <td>NaN</td>\n",
       "      <td>NaN</td>\n",
       "      <td>NaN</td>\n",
       "      <td>NaN</td>\n",
       "      <td>NaN</td>\n",
       "      <td>NaN</td>\n",
       "      <td>NaT</td>\n",
       "      <td>NaN</td>\n",
       "      <td>NaN</td>\n",
       "      <td>NaN</td>\n",
       "    </tr>\n",
       "  </tbody>\n",
       "</table>\n",
       "<p>6 rows × 31 columns</p>\n",
       "</div>"
      ],
      "text/plain": [
       "             datetime_hour                           id  curr_popularity  \\\n",
       "222626 2021-04-11 00:00:00  ChIJS4XXJM_9wokRi4GvZ-DecfM             51.5   \n",
       "222684 2021-04-11 00:00:00  ChIJdTSF-9z9wokRj0-PHUdG8WE             53.0   \n",
       "222884 2021-04-11 01:00:00  ChIJS4XXJM_9wokRi4GvZ-DecfM             26.0   \n",
       "222935 2021-04-11 01:00:00  ChIJdTSF-9z9wokRj0-PHUdG8WE             52.0   \n",
       "223087 2021-04-11 02:00:00  ChIJS4XXJM_9wokRi4GvZ-DecfM             51.0   \n",
       "223116 2021-04-11 02:00:00  ChIJdTSF-9z9wokRj0-PHUdG8WE             21.0   \n",
       "\n",
       "        rating_n                   request_id address_city  \\\n",
       "222626     523.0  ChIJS4XXJM_9wokRi4GvZ-DecfM  Paterson,NJ   \n",
       "222684     603.0  ChIJdTSF-9z9wokRj0-PHUdG8WE  Paterson,NJ   \n",
       "222884     523.0  ChIJS4XXJM_9wokRi4GvZ-DecfM  Paterson,NJ   \n",
       "222935     603.0  ChIJdTSF-9z9wokRj0-PHUdG8WE  Paterson,NJ   \n",
       "223087     523.0  ChIJS4XXJM_9wokRi4GvZ-DecfM  Paterson,NJ   \n",
       "223116     603.0  ChIJdTSF-9z9wokRj0-PHUdG8WE  Paterson,NJ   \n",
       "\n",
       "       fsq_type_name_simplified  datetimeEpoch  temp  feelslike  ...  \\\n",
       "222626                     Park            NaN   NaN        NaN  ...   \n",
       "222684                     Park            NaN   NaN        NaN  ...   \n",
       "222884                     Park            NaN   NaN        NaN  ...   \n",
       "222935                     Park            NaN   NaN        NaN  ...   \n",
       "223087                     Park            NaN   NaN        NaN  ...   \n",
       "223116                     Park            NaN   NaN        NaN  ...   \n",
       "\n",
       "        visibility  cloudcover  solarradiation solarenergy  uvindex  \\\n",
       "222626         NaN         NaN             NaN         NaN      NaN   \n",
       "222684         NaN         NaN             NaN         NaN      NaN   \n",
       "222884         NaN         NaN             NaN         NaN      NaN   \n",
       "222935         NaN         NaN             NaN         NaN      NaN   \n",
       "223087         NaN         NaN             NaN         NaN      NaN   \n",
       "223116         NaN         NaN             NaN         NaN      NaN   \n",
       "\n",
       "        conditions datetime  location  latitude  longitude  \n",
       "222626         NaN      NaT       NaN       NaN        NaN  \n",
       "222684         NaN      NaT       NaN       NaN        NaN  \n",
       "222884         NaN      NaT       NaN       NaN        NaN  \n",
       "222935         NaN      NaT       NaN       NaN        NaN  \n",
       "223087         NaN      NaT       NaN       NaN        NaN  \n",
       "223116         NaN      NaT       NaN       NaN        NaN  \n",
       "\n",
       "[6 rows x 31 columns]"
      ]
     },
     "execution_count": 135,
     "metadata": {},
     "output_type": "execute_result"
    }
   ],
   "source": [
    "df_popularity.loc[df_popularity['temp'].isna() & (df_popularity['address_city'] == 'Paterson,NJ')]"
   ]
  },
  {
   "cell_type": "code",
   "execution_count": 127,
   "metadata": {},
   "outputs": [],
   "source": [
    "no_weather_cities = df_popularity.loc[\n",
    "    df_popularity['temp'].isna() & ~df_popularity['address_city'].isna(), 'address_city'].unique().tolist()\n",
    "\n",
    "all_weather_cities = df_weather['location'].unique().tolist()\n",
    "\n",
    "# city not queried for weather\n",
    "cities_with_no_weather = set(no_weather_cities) - set(all_weather_cities)"
   ]
  },
  {
   "cell_type": "code",
   "execution_count": 137,
   "metadata": {},
   "outputs": [
    {
     "data": {
      "text/plain": [
       "174"
      ]
     },
     "execution_count": 137,
     "metadata": {},
     "output_type": "execute_result"
    }
   ],
   "source": [
    "len(set(no_weather_cities) & set(all_weather_cities))"
   ]
  },
  {
   "cell_type": "code",
   "execution_count": null,
   "metadata": {},
   "outputs": [],
   "source": []
  },
  {
   "cell_type": "code",
   "execution_count": 7,
   "metadata": {},
   "outputs": [
    {
     "data": {
      "text/plain": [
       "1287"
      ]
     },
     "execution_count": 7,
     "metadata": {},
     "output_type": "execute_result"
    }
   ],
   "source": [
    "len(df_popularity['id'].unique())"
   ]
  },
  {
   "cell_type": "code",
   "execution_count": null,
   "metadata": {},
   "outputs": [],
   "source": []
  },
  {
   "cell_type": "code",
   "execution_count": 234,
   "metadata": {},
   "outputs": [
    {
     "name": "stdout",
     "output_type": "stream",
     "text": [
      "Aberdeen,MD\n"
     ]
    },
    {
     "data": {
      "text/html": [
       "<div>\n",
       "<style scoped>\n",
       "    .dataframe tbody tr th:only-of-type {\n",
       "        vertical-align: middle;\n",
       "    }\n",
       "\n",
       "    .dataframe tbody tr th {\n",
       "        vertical-align: top;\n",
       "    }\n",
       "\n",
       "    .dataframe thead th {\n",
       "        text-align: right;\n",
       "    }\n",
       "</style>\n",
       "<table border=\"1\" class=\"dataframe\">\n",
       "  <thead>\n",
       "    <tr style=\"text-align: right;\">\n",
       "      <th></th>\n",
       "      <th>datetime_hour</th>\n",
       "      <th>id</th>\n",
       "      <th>curr_popularity</th>\n",
       "      <th>rating_n</th>\n",
       "      <th>request_id</th>\n",
       "      <th>address_city</th>\n",
       "      <th>fsq_type_name_simplified</th>\n",
       "      <th>datetimeEpoch</th>\n",
       "      <th>temp</th>\n",
       "      <th>feelslike</th>\n",
       "      <th>...</th>\n",
       "      <th>visibility</th>\n",
       "      <th>cloudcover</th>\n",
       "      <th>solarradiation</th>\n",
       "      <th>solarenergy</th>\n",
       "      <th>uvindex</th>\n",
       "      <th>conditions</th>\n",
       "      <th>datetime</th>\n",
       "      <th>location</th>\n",
       "      <th>latitude</th>\n",
       "      <th>longitude</th>\n",
       "    </tr>\n",
       "  </thead>\n",
       "  <tbody>\n",
       "    <tr>\n",
       "      <th>73992</th>\n",
       "      <td>2021-04-10 20:00:00</td>\n",
       "      <td>ChIJdX36VZrBx4kR9kEZqQJiHBY</td>\n",
       "      <td>82.0</td>\n",
       "      <td>300.0</td>\n",
       "      <td>ChIJdX36VZrBx4kR9kEZqQJiHBY</td>\n",
       "      <td>Aberdeen,MD</td>\n",
       "      <td>Park</td>\n",
       "      <td>NaN</td>\n",
       "      <td>NaN</td>\n",
       "      <td>NaN</td>\n",
       "      <td>...</td>\n",
       "      <td>NaN</td>\n",
       "      <td>NaN</td>\n",
       "      <td>NaN</td>\n",
       "      <td>NaN</td>\n",
       "      <td>NaN</td>\n",
       "      <td>NaN</td>\n",
       "      <td>NaT</td>\n",
       "      <td>NaN</td>\n",
       "      <td>NaN</td>\n",
       "      <td>NaN</td>\n",
       "    </tr>\n",
       "    <tr>\n",
       "      <th>74215</th>\n",
       "      <td>2021-04-10 21:00:00</td>\n",
       "      <td>ChIJdX36VZrBx4kR9kEZqQJiHBY</td>\n",
       "      <td>46.0</td>\n",
       "      <td>300.0</td>\n",
       "      <td>ChIJdX36VZrBx4kR9kEZqQJiHBY</td>\n",
       "      <td>Aberdeen,MD</td>\n",
       "      <td>Park</td>\n",
       "      <td>NaN</td>\n",
       "      <td>NaN</td>\n",
       "      <td>NaN</td>\n",
       "      <td>...</td>\n",
       "      <td>NaN</td>\n",
       "      <td>NaN</td>\n",
       "      <td>NaN</td>\n",
       "      <td>NaN</td>\n",
       "      <td>NaN</td>\n",
       "      <td>NaN</td>\n",
       "      <td>NaT</td>\n",
       "      <td>NaN</td>\n",
       "      <td>NaN</td>\n",
       "      <td>NaN</td>\n",
       "    </tr>\n",
       "    <tr>\n",
       "      <th>74392</th>\n",
       "      <td>2021-04-10 22:00:00</td>\n",
       "      <td>ChIJdX36VZrBx4kR9kEZqQJiHBY</td>\n",
       "      <td>22.0</td>\n",
       "      <td>300.0</td>\n",
       "      <td>ChIJdX36VZrBx4kR9kEZqQJiHBY</td>\n",
       "      <td>Aberdeen,MD</td>\n",
       "      <td>Park</td>\n",
       "      <td>NaN</td>\n",
       "      <td>NaN</td>\n",
       "      <td>NaN</td>\n",
       "      <td>...</td>\n",
       "      <td>NaN</td>\n",
       "      <td>NaN</td>\n",
       "      <td>NaN</td>\n",
       "      <td>NaN</td>\n",
       "      <td>NaN</td>\n",
       "      <td>NaN</td>\n",
       "      <td>NaT</td>\n",
       "      <td>NaN</td>\n",
       "      <td>NaN</td>\n",
       "      <td>NaN</td>\n",
       "    </tr>\n",
       "    <tr>\n",
       "      <th>74644</th>\n",
       "      <td>2021-04-11 00:00:00</td>\n",
       "      <td>ChIJdX36VZrBx4kR9kEZqQJiHBY</td>\n",
       "      <td>34.0</td>\n",
       "      <td>300.0</td>\n",
       "      <td>ChIJdX36VZrBx4kR9kEZqQJiHBY</td>\n",
       "      <td>Aberdeen,MD</td>\n",
       "      <td>Park</td>\n",
       "      <td>NaN</td>\n",
       "      <td>NaN</td>\n",
       "      <td>NaN</td>\n",
       "      <td>...</td>\n",
       "      <td>NaN</td>\n",
       "      <td>NaN</td>\n",
       "      <td>NaN</td>\n",
       "      <td>NaN</td>\n",
       "      <td>NaN</td>\n",
       "      <td>NaN</td>\n",
       "      <td>NaT</td>\n",
       "      <td>NaN</td>\n",
       "      <td>NaN</td>\n",
       "      <td>NaN</td>\n",
       "    </tr>\n",
       "    <tr>\n",
       "      <th>74734</th>\n",
       "      <td>2021-04-11 01:00:00</td>\n",
       "      <td>ChIJdX36VZrBx4kR9kEZqQJiHBY</td>\n",
       "      <td>131.0</td>\n",
       "      <td>300.0</td>\n",
       "      <td>ChIJdX36VZrBx4kR9kEZqQJiHBY</td>\n",
       "      <td>Aberdeen,MD</td>\n",
       "      <td>Park</td>\n",
       "      <td>NaN</td>\n",
       "      <td>NaN</td>\n",
       "      <td>NaN</td>\n",
       "      <td>...</td>\n",
       "      <td>NaN</td>\n",
       "      <td>NaN</td>\n",
       "      <td>NaN</td>\n",
       "      <td>NaN</td>\n",
       "      <td>NaN</td>\n",
       "      <td>NaN</td>\n",
       "      <td>NaT</td>\n",
       "      <td>NaN</td>\n",
       "      <td>NaN</td>\n",
       "      <td>NaN</td>\n",
       "    </tr>\n",
       "    <tr>\n",
       "      <th>74806</th>\n",
       "      <td>2021-04-11 02:00:00</td>\n",
       "      <td>ChIJdX36VZrBx4kR9kEZqQJiHBY</td>\n",
       "      <td>131.0</td>\n",
       "      <td>300.0</td>\n",
       "      <td>ChIJdX36VZrBx4kR9kEZqQJiHBY</td>\n",
       "      <td>Aberdeen,MD</td>\n",
       "      <td>Park</td>\n",
       "      <td>NaN</td>\n",
       "      <td>NaN</td>\n",
       "      <td>NaN</td>\n",
       "      <td>...</td>\n",
       "      <td>NaN</td>\n",
       "      <td>NaN</td>\n",
       "      <td>NaN</td>\n",
       "      <td>NaN</td>\n",
       "      <td>NaN</td>\n",
       "      <td>NaN</td>\n",
       "      <td>NaT</td>\n",
       "      <td>NaN</td>\n",
       "      <td>NaN</td>\n",
       "      <td>NaN</td>\n",
       "    </tr>\n",
       "  </tbody>\n",
       "</table>\n",
       "<p>6 rows × 31 columns</p>\n",
       "</div>"
      ],
      "text/plain": [
       "            datetime_hour                           id  curr_popularity  \\\n",
       "73992 2021-04-10 20:00:00  ChIJdX36VZrBx4kR9kEZqQJiHBY             82.0   \n",
       "74215 2021-04-10 21:00:00  ChIJdX36VZrBx4kR9kEZqQJiHBY             46.0   \n",
       "74392 2021-04-10 22:00:00  ChIJdX36VZrBx4kR9kEZqQJiHBY             22.0   \n",
       "74644 2021-04-11 00:00:00  ChIJdX36VZrBx4kR9kEZqQJiHBY             34.0   \n",
       "74734 2021-04-11 01:00:00  ChIJdX36VZrBx4kR9kEZqQJiHBY            131.0   \n",
       "74806 2021-04-11 02:00:00  ChIJdX36VZrBx4kR9kEZqQJiHBY            131.0   \n",
       "\n",
       "       rating_n                   request_id address_city  \\\n",
       "73992     300.0  ChIJdX36VZrBx4kR9kEZqQJiHBY  Aberdeen,MD   \n",
       "74215     300.0  ChIJdX36VZrBx4kR9kEZqQJiHBY  Aberdeen,MD   \n",
       "74392     300.0  ChIJdX36VZrBx4kR9kEZqQJiHBY  Aberdeen,MD   \n",
       "74644     300.0  ChIJdX36VZrBx4kR9kEZqQJiHBY  Aberdeen,MD   \n",
       "74734     300.0  ChIJdX36VZrBx4kR9kEZqQJiHBY  Aberdeen,MD   \n",
       "74806     300.0  ChIJdX36VZrBx4kR9kEZqQJiHBY  Aberdeen,MD   \n",
       "\n",
       "      fsq_type_name_simplified  datetimeEpoch  temp  feelslike  ...  \\\n",
       "73992                     Park            NaN   NaN        NaN  ...   \n",
       "74215                     Park            NaN   NaN        NaN  ...   \n",
       "74392                     Park            NaN   NaN        NaN  ...   \n",
       "74644                     Park            NaN   NaN        NaN  ...   \n",
       "74734                     Park            NaN   NaN        NaN  ...   \n",
       "74806                     Park            NaN   NaN        NaN  ...   \n",
       "\n",
       "       visibility  cloudcover  solarradiation solarenergy  uvindex  \\\n",
       "73992         NaN         NaN             NaN         NaN      NaN   \n",
       "74215         NaN         NaN             NaN         NaN      NaN   \n",
       "74392         NaN         NaN             NaN         NaN      NaN   \n",
       "74644         NaN         NaN             NaN         NaN      NaN   \n",
       "74734         NaN         NaN             NaN         NaN      NaN   \n",
       "74806         NaN         NaN             NaN         NaN      NaN   \n",
       "\n",
       "       conditions datetime  location  latitude  longitude  \n",
       "73992         NaN      NaT       NaN       NaN        NaN  \n",
       "74215         NaN      NaT       NaN       NaN        NaN  \n",
       "74392         NaN      NaT       NaN       NaN        NaN  \n",
       "74644         NaN      NaT       NaN       NaN        NaN  \n",
       "74734         NaN      NaT       NaN       NaN        NaN  \n",
       "74806         NaN      NaT       NaN       NaN        NaN  \n",
       "\n",
       "[6 rows x 31 columns]"
      ]
     },
     "execution_count": 234,
     "metadata": {},
     "output_type": "execute_result"
    }
   ],
   "source": [
    "city_address = sorted(list(cities_with_no_weather))[0]\n",
    "print(city_address)\n",
    "df_popularity[df_popularity['address_city'] == city_address]#['id'].unique()\n",
    "# summary of cases:\n",
    "# https://docs.google.com/spreadsheets/d/1pYvh83GEh9OoXm04vl3sstvis7wrDN7Q3FW3_MHK2JA/edit#gid=0"
   ]
  },
  {
   "cell_type": "code",
   "execution_count": null,
   "metadata": {},
   "outputs": [],
   "source": []
  },
  {
   "cell_type": "markdown",
   "metadata": {},
   "source": [
    "## Data visualization"
   ]
  },
  {
   "cell_type": "code",
   "execution_count": 113,
   "metadata": {},
   "outputs": [
    {
     "data": {
      "application/vnd.jupyter.widget-view+json": {
       "model_id": "4e4b2875139240b5bfbd5d0f9bd9f8f7",
       "version_major": 2,
       "version_minor": 0
      },
      "text/plain": [
       "interactive(children=(Dropdown(description='column', options=('datetime_hour', 'id', 'curr_popularity', 'ratin…"
      ]
     },
     "metadata": {},
     "output_type": "display_data"
    }
   ],
   "source": [
    "from ipywidgets import widgets\n",
    "import matplotlib.pyplot as plt\n",
    "\n",
    "X = df_popularity.drop(columns=['curr_popularity', ])\n",
    "y = df_popularity['curr_popularity']\n",
    "\n",
    "def data_plot(X, y):\n",
    "    def plotter(column):\n",
    "        valid_rows = X[column].notna()\n",
    "        plt.plot(X.loc[valid_rows, column], y[valid_rows], '.', color='k', alpha=0.01)\n",
    "        plt.xticks(rotation = 90)\n",
    "        plt.xlabel(column)\n",
    "        plt.ylabel('Current popularity')\n",
    "    \n",
    "    return plotter\n",
    "\n",
    "dropdown_values = df_popularity.columns #{\"{0}: {1}\".format(k, features_dict[k]):k for k in X.columns}\n",
    "widgets.interact(data_plot(X, y), column=dropdown_values);"
   ]
  },
  {
   "cell_type": "code",
   "execution_count": 330,
   "metadata": {},
   "outputs": [
    {
     "data": {
      "image/png": "[encoded data removed]",
      "text/plain": [
       "<Figure size 432x288 with 1 Axes>"
      ]
     },
     "metadata": {
      "needs_background": "light"
     },
     "output_type": "display_data"
    }
   ],
   "source": [
    "plt.hist(df_popularity[df_popularity['curr_popularity']<600]['curr_popularity'], 100); "
   ]
  },
  {
   "cell_type": "code",
   "execution_count": 24,
   "metadata": {},
   "outputs": [
    {
     "data": {
      "text/html": [
       "<div>\n",
       "<style scoped>\n",
       "    .dataframe tbody tr th:only-of-type {\n",
       "        vertical-align: middle;\n",
       "    }\n",
       "\n",
       "    .dataframe tbody tr th {\n",
       "        vertical-align: top;\n",
       "    }\n",
       "\n",
       "    .dataframe thead th {\n",
       "        text-align: right;\n",
       "    }\n",
       "</style>\n",
       "<table border=\"1\" class=\"dataframe\">\n",
       "  <thead>\n",
       "    <tr style=\"text-align: right;\">\n",
       "      <th></th>\n",
       "      <th>datetime_hour</th>\n",
       "      <th>id</th>\n",
       "      <th>curr_popularity</th>\n",
       "      <th>rating_n</th>\n",
       "      <th>request_id</th>\n",
       "      <th>address_city</th>\n",
       "      <th>fsq_type_name_simplified</th>\n",
       "      <th>datetimeEpoch</th>\n",
       "      <th>temp</th>\n",
       "      <th>feelslike</th>\n",
       "      <th>...</th>\n",
       "      <th>solarradiation</th>\n",
       "      <th>solarenergy</th>\n",
       "      <th>uvindex</th>\n",
       "      <th>conditions</th>\n",
       "      <th>datetime</th>\n",
       "      <th>location</th>\n",
       "      <th>latitude</th>\n",
       "      <th>longitude</th>\n",
       "      <th>hour</th>\n",
       "      <th>dayofweek</th>\n",
       "    </tr>\n",
       "  </thead>\n",
       "  <tbody>\n",
       "    <tr>\n",
       "      <th>53094</th>\n",
       "      <td>2021-04-08 20:00:00</td>\n",
       "      <td>ChIJBbd49ABVwokR-uKF3-L95FA</td>\n",
       "      <td>2079.0</td>\n",
       "      <td>730.5</td>\n",
       "      <td>ChIJBbd49ABVwokR-uKF3-L95FA</td>\n",
       "      <td>Newark,NJ</td>\n",
       "      <td>Park</td>\n",
       "      <td>1.617926e+09</td>\n",
       "      <td>61.9</td>\n",
       "      <td>61.9</td>\n",
       "      <td>...</td>\n",
       "      <td>5.0</td>\n",
       "      <td>0.0</td>\n",
       "      <td>0.0</td>\n",
       "      <td>Partially cloudy</td>\n",
       "      <td>2021-04-08 20:00:00</td>\n",
       "      <td>Newark,NJ</td>\n",
       "      <td>40.7320</td>\n",
       "      <td>-74.1742</td>\n",
       "      <td>20</td>\n",
       "      <td>3</td>\n",
       "    </tr>\n",
       "    <tr>\n",
       "      <th>115369</th>\n",
       "      <td>2021-04-04 16:00:00</td>\n",
       "      <td>ChIJBbd49ABVwokR-uKF3-L95FA</td>\n",
       "      <td>2190.0</td>\n",
       "      <td>717.0</td>\n",
       "      <td>ChIJBbd49ABVwokR-uKF3-L95FA</td>\n",
       "      <td>Newark,NJ</td>\n",
       "      <td>Park</td>\n",
       "      <td>1.617566e+09</td>\n",
       "      <td>62.0</td>\n",
       "      <td>62.0</td>\n",
       "      <td>...</td>\n",
       "      <td>621.0</td>\n",
       "      <td>2.2</td>\n",
       "      <td>6.0</td>\n",
       "      <td>Partially cloudy</td>\n",
       "      <td>2021-04-04 16:00:00</td>\n",
       "      <td>Newark,NJ</td>\n",
       "      <td>40.7320</td>\n",
       "      <td>-74.1742</td>\n",
       "      <td>16</td>\n",
       "      <td>6</td>\n",
       "    </tr>\n",
       "    <tr>\n",
       "      <th>116036</th>\n",
       "      <td>2021-04-04 17:00:00</td>\n",
       "      <td>ChIJBbd49ABVwokR-uKF3-L95FA</td>\n",
       "      <td>3188.0</td>\n",
       "      <td>717.5</td>\n",
       "      <td>ChIJBbd49ABVwokR-uKF3-L95FA</td>\n",
       "      <td>Newark,NJ</td>\n",
       "      <td>Park</td>\n",
       "      <td>1.617570e+09</td>\n",
       "      <td>63.6</td>\n",
       "      <td>63.6</td>\n",
       "      <td>...</td>\n",
       "      <td>155.0</td>\n",
       "      <td>0.6</td>\n",
       "      <td>2.0</td>\n",
       "      <td>Partially cloudy</td>\n",
       "      <td>2021-04-04 17:00:00</td>\n",
       "      <td>Newark,NJ</td>\n",
       "      <td>40.7320</td>\n",
       "      <td>-74.1742</td>\n",
       "      <td>17</td>\n",
       "      <td>6</td>\n",
       "    </tr>\n",
       "    <tr>\n",
       "      <th>116694</th>\n",
       "      <td>2021-04-04 18:00:00</td>\n",
       "      <td>ChIJBbd49ABVwokR-uKF3-L95FA</td>\n",
       "      <td>2850.0</td>\n",
       "      <td>718.0</td>\n",
       "      <td>ChIJBbd49ABVwokR-uKF3-L95FA</td>\n",
       "      <td>Newark,NJ</td>\n",
       "      <td>Park</td>\n",
       "      <td>1.617574e+09</td>\n",
       "      <td>64.4</td>\n",
       "      <td>64.4</td>\n",
       "      <td>...</td>\n",
       "      <td>86.0</td>\n",
       "      <td>0.3</td>\n",
       "      <td>1.0</td>\n",
       "      <td>Partially cloudy</td>\n",
       "      <td>2021-04-04 18:00:00</td>\n",
       "      <td>Newark,NJ</td>\n",
       "      <td>40.7320</td>\n",
       "      <td>-74.1742</td>\n",
       "      <td>18</td>\n",
       "      <td>6</td>\n",
       "    </tr>\n",
       "    <tr>\n",
       "      <th>116775</th>\n",
       "      <td>2021-04-04 18:00:00</td>\n",
       "      <td>ChIJK2U1rU5YwokRjywqQmiBZaE</td>\n",
       "      <td>2488.0</td>\n",
       "      <td>523.0</td>\n",
       "      <td>ChIJK2U1rU5YwokRjywqQmiBZaE</td>\n",
       "      <td>New York,NY</td>\n",
       "      <td>Travel &amp; Transport</td>\n",
       "      <td>1.617574e+09</td>\n",
       "      <td>58.1</td>\n",
       "      <td>58.1</td>\n",
       "      <td>...</td>\n",
       "      <td>86.0</td>\n",
       "      <td>0.3</td>\n",
       "      <td>1.0</td>\n",
       "      <td>Partially cloudy</td>\n",
       "      <td>2021-04-04 18:00:00</td>\n",
       "      <td>New York,NY</td>\n",
       "      <td>40.7146</td>\n",
       "      <td>-74.0071</td>\n",
       "      <td>18</td>\n",
       "      <td>6</td>\n",
       "    </tr>\n",
       "    <tr>\n",
       "      <th>152617</th>\n",
       "      <td>2021-04-06 19:00:00</td>\n",
       "      <td>ChIJNdONk6Ivx4kR_VfyGUa9KR4</td>\n",
       "      <td>2589.0</td>\n",
       "      <td>283.0</td>\n",
       "      <td>ChIJNdONk6Ivx4kR_VfyGUa9KR4</td>\n",
       "      <td>Elmer,NJ</td>\n",
       "      <td>Park</td>\n",
       "      <td>1.617750e+09</td>\n",
       "      <td>69.2</td>\n",
       "      <td>69.2</td>\n",
       "      <td>...</td>\n",
       "      <td>30.0</td>\n",
       "      <td>0.1</td>\n",
       "      <td>0.0</td>\n",
       "      <td>Clear</td>\n",
       "      <td>2021-04-06 19:00:00</td>\n",
       "      <td>Elmer,NJ</td>\n",
       "      <td>39.5914</td>\n",
       "      <td>-75.1720</td>\n",
       "      <td>19</td>\n",
       "      <td>1</td>\n",
       "    </tr>\n",
       "    <tr>\n",
       "      <th>152842</th>\n",
       "      <td>2021-04-06 20:00:00</td>\n",
       "      <td>ChIJNdONk6Ivx4kR_VfyGUa9KR4</td>\n",
       "      <td>4147.0</td>\n",
       "      <td>283.0</td>\n",
       "      <td>ChIJNdONk6Ivx4kR_VfyGUa9KR4</td>\n",
       "      <td>Elmer,NJ</td>\n",
       "      <td>Park</td>\n",
       "      <td>1.617754e+09</td>\n",
       "      <td>60.4</td>\n",
       "      <td>60.4</td>\n",
       "      <td>...</td>\n",
       "      <td>NaN</td>\n",
       "      <td>NaN</td>\n",
       "      <td>0.0</td>\n",
       "      <td>Clear</td>\n",
       "      <td>2021-04-06 20:00:00</td>\n",
       "      <td>Elmer,NJ</td>\n",
       "      <td>39.5914</td>\n",
       "      <td>-75.1720</td>\n",
       "      <td>20</td>\n",
       "      <td>1</td>\n",
       "    </tr>\n",
       "    <tr>\n",
       "      <th>153041</th>\n",
       "      <td>2021-04-06 21:00:00</td>\n",
       "      <td>ChIJNdONk6Ivx4kR_VfyGUa9KR4</td>\n",
       "      <td>3435.0</td>\n",
       "      <td>283.0</td>\n",
       "      <td>ChIJNdONk6Ivx4kR_VfyGUa9KR4</td>\n",
       "      <td>Elmer,NJ</td>\n",
       "      <td>Park</td>\n",
       "      <td>1.617757e+09</td>\n",
       "      <td>55.1</td>\n",
       "      <td>55.1</td>\n",
       "      <td>...</td>\n",
       "      <td>NaN</td>\n",
       "      <td>NaN</td>\n",
       "      <td>0.0</td>\n",
       "      <td>Clear</td>\n",
       "      <td>2021-04-06 21:00:00</td>\n",
       "      <td>Elmer,NJ</td>\n",
       "      <td>39.5914</td>\n",
       "      <td>-75.1720</td>\n",
       "      <td>21</td>\n",
       "      <td>1</td>\n",
       "    </tr>\n",
       "    <tr>\n",
       "      <th>217777</th>\n",
       "      <td>2021-04-10 16:00:00</td>\n",
       "      <td>ChIJBbd49ABVwokR-uKF3-L95FA</td>\n",
       "      <td>2313.0</td>\n",
       "      <td>738.5</td>\n",
       "      <td>ChIJBbd49ABVwokR-uKF3-L95FA</td>\n",
       "      <td>Newark,NJ</td>\n",
       "      <td>Park</td>\n",
       "      <td>1.618085e+09</td>\n",
       "      <td>66.6</td>\n",
       "      <td>66.6</td>\n",
       "      <td>...</td>\n",
       "      <td>492.0</td>\n",
       "      <td>1.8</td>\n",
       "      <td>5.0</td>\n",
       "      <td>Partially cloudy</td>\n",
       "      <td>2021-04-10 16:00:00</td>\n",
       "      <td>Newark,NJ</td>\n",
       "      <td>40.7320</td>\n",
       "      <td>-74.1742</td>\n",
       "      <td>16</td>\n",
       "      <td>5</td>\n",
       "    </tr>\n",
       "    <tr>\n",
       "      <th>218529</th>\n",
       "      <td>2021-04-10 17:00:00</td>\n",
       "      <td>ChIJBbd49ABVwokR-uKF3-L95FA</td>\n",
       "      <td>2382.0</td>\n",
       "      <td>739.0</td>\n",
       "      <td>ChIJBbd49ABVwokR-uKF3-L95FA</td>\n",
       "      <td>Newark,NJ</td>\n",
       "      <td>Park</td>\n",
       "      <td>1.618088e+09</td>\n",
       "      <td>65.8</td>\n",
       "      <td>65.8</td>\n",
       "      <td>...</td>\n",
       "      <td>366.0</td>\n",
       "      <td>1.3</td>\n",
       "      <td>4.0</td>\n",
       "      <td>Overcast</td>\n",
       "      <td>2021-04-10 17:00:00</td>\n",
       "      <td>Newark,NJ</td>\n",
       "      <td>40.7320</td>\n",
       "      <td>-74.1742</td>\n",
       "      <td>17</td>\n",
       "      <td>5</td>\n",
       "    </tr>\n",
       "    <tr>\n",
       "      <th>219269</th>\n",
       "      <td>2021-04-10 18:00:00</td>\n",
       "      <td>ChIJBbd49ABVwokR-uKF3-L95FA</td>\n",
       "      <td>2704.0</td>\n",
       "      <td>740.5</td>\n",
       "      <td>ChIJBbd49ABVwokR-uKF3-L95FA</td>\n",
       "      <td>Newark,NJ</td>\n",
       "      <td>Park</td>\n",
       "      <td>1.618092e+09</td>\n",
       "      <td>64.1</td>\n",
       "      <td>64.1</td>\n",
       "      <td>...</td>\n",
       "      <td>160.0</td>\n",
       "      <td>0.6</td>\n",
       "      <td>2.0</td>\n",
       "      <td>Overcast</td>\n",
       "      <td>2021-04-10 18:00:00</td>\n",
       "      <td>Newark,NJ</td>\n",
       "      <td>40.7320</td>\n",
       "      <td>-74.1742</td>\n",
       "      <td>18</td>\n",
       "      <td>5</td>\n",
       "    </tr>\n",
       "    <tr>\n",
       "      <th>219978</th>\n",
       "      <td>2021-04-10 19:00:00</td>\n",
       "      <td>ChIJBbd49ABVwokR-uKF3-L95FA</td>\n",
       "      <td>2828.0</td>\n",
       "      <td>741.5</td>\n",
       "      <td>ChIJBbd49ABVwokR-uKF3-L95FA</td>\n",
       "      <td>Newark,NJ</td>\n",
       "      <td>Park</td>\n",
       "      <td>1.618096e+09</td>\n",
       "      <td>60.4</td>\n",
       "      <td>60.4</td>\n",
       "      <td>...</td>\n",
       "      <td>56.0</td>\n",
       "      <td>0.2</td>\n",
       "      <td>1.0</td>\n",
       "      <td>Partially cloudy</td>\n",
       "      <td>2021-04-10 19:00:00</td>\n",
       "      <td>Newark,NJ</td>\n",
       "      <td>40.7320</td>\n",
       "      <td>-74.1742</td>\n",
       "      <td>19</td>\n",
       "      <td>5</td>\n",
       "    </tr>\n",
       "    <tr>\n",
       "      <th>220649</th>\n",
       "      <td>2021-04-10 20:00:00</td>\n",
       "      <td>ChIJBbd49ABVwokR-uKF3-L95FA</td>\n",
       "      <td>2189.0</td>\n",
       "      <td>742.0</td>\n",
       "      <td>ChIJBbd49ABVwokR-uKF3-L95FA</td>\n",
       "      <td>Newark,NJ</td>\n",
       "      <td>Park</td>\n",
       "      <td>1.618099e+09</td>\n",
       "      <td>58.9</td>\n",
       "      <td>58.9</td>\n",
       "      <td>...</td>\n",
       "      <td>NaN</td>\n",
       "      <td>NaN</td>\n",
       "      <td>0.0</td>\n",
       "      <td>Partially cloudy</td>\n",
       "      <td>2021-04-10 20:00:00</td>\n",
       "      <td>Newark,NJ</td>\n",
       "      <td>40.7320</td>\n",
       "      <td>-74.1742</td>\n",
       "      <td>20</td>\n",
       "      <td>5</td>\n",
       "    </tr>\n",
       "    <tr>\n",
       "      <th>252795</th>\n",
       "      <td>2021-03-27 17:00:00</td>\n",
       "      <td>ChIJNdONk6Ivx4kR_VfyGUa9KR4</td>\n",
       "      <td>2830.0</td>\n",
       "      <td>282.0</td>\n",
       "      <td>ChIJNdONk6Ivx4kR_VfyGUa9KR4</td>\n",
       "      <td>Elmer,NJ</td>\n",
       "      <td>Park</td>\n",
       "      <td>1.616879e+09</td>\n",
       "      <td>64.1</td>\n",
       "      <td>64.1</td>\n",
       "      <td>...</td>\n",
       "      <td>214.0</td>\n",
       "      <td>0.8</td>\n",
       "      <td>2.0</td>\n",
       "      <td>Partially cloudy</td>\n",
       "      <td>2021-03-27 17:00:00</td>\n",
       "      <td>Elmer,NJ</td>\n",
       "      <td>39.5914</td>\n",
       "      <td>-75.1720</td>\n",
       "      <td>17</td>\n",
       "      <td>5</td>\n",
       "    </tr>\n",
       "    <tr>\n",
       "      <th>287465</th>\n",
       "      <td>2021-03-21 15:00:00</td>\n",
       "      <td>ChIJZQD10CZawokRCuvDW1oLE-Y</td>\n",
       "      <td>2084.0</td>\n",
       "      <td>2289.0</td>\n",
       "      <td>ChIJZQD10CZawokRCuvDW1oLE-Y</td>\n",
       "      <td>New York,NY</td>\n",
       "      <td>Park</td>\n",
       "      <td>1.616353e+09</td>\n",
       "      <td>59.2</td>\n",
       "      <td>59.2</td>\n",
       "      <td>...</td>\n",
       "      <td>775.0</td>\n",
       "      <td>2.8</td>\n",
       "      <td>8.0</td>\n",
       "      <td>Clear</td>\n",
       "      <td>2021-03-21 15:00:00</td>\n",
       "      <td>New York,NY</td>\n",
       "      <td>40.7146</td>\n",
       "      <td>-74.0071</td>\n",
       "      <td>15</td>\n",
       "      <td>6</td>\n",
       "    </tr>\n",
       "    <tr>\n",
       "      <th>288028</th>\n",
       "      <td>2021-03-21 16:00:00</td>\n",
       "      <td>ChIJZQD10CZawokRCuvDW1oLE-Y</td>\n",
       "      <td>2389.0</td>\n",
       "      <td>2289.0</td>\n",
       "      <td>ChIJZQD10CZawokRCuvDW1oLE-Y</td>\n",
       "      <td>New York,NY</td>\n",
       "      <td>Park</td>\n",
       "      <td>1.616357e+09</td>\n",
       "      <td>60.3</td>\n",
       "      <td>60.3</td>\n",
       "      <td>...</td>\n",
       "      <td>633.0</td>\n",
       "      <td>2.3</td>\n",
       "      <td>6.0</td>\n",
       "      <td>Clear</td>\n",
       "      <td>2021-03-21 16:00:00</td>\n",
       "      <td>New York,NY</td>\n",
       "      <td>40.7146</td>\n",
       "      <td>-74.0071</td>\n",
       "      <td>16</td>\n",
       "      <td>6</td>\n",
       "    </tr>\n",
       "  </tbody>\n",
       "</table>\n",
       "<p>16 rows × 33 columns</p>\n",
       "</div>"
      ],
      "text/plain": [
       "             datetime_hour                           id  curr_popularity  \\\n",
       "53094  2021-04-08 20:00:00  ChIJBbd49ABVwokR-uKF3-L95FA           2079.0   \n",
       "115369 2021-04-04 16:00:00  ChIJBbd49ABVwokR-uKF3-L95FA           2190.0   \n",
       "116036 2021-04-04 17:00:00  ChIJBbd49ABVwokR-uKF3-L95FA           3188.0   \n",
       "116694 2021-04-04 18:00:00  ChIJBbd49ABVwokR-uKF3-L95FA           2850.0   \n",
       "116775 2021-04-04 18:00:00  ChIJK2U1rU5YwokRjywqQmiBZaE           2488.0   \n",
       "152617 2021-04-06 19:00:00  ChIJNdONk6Ivx4kR_VfyGUa9KR4           2589.0   \n",
       "152842 2021-04-06 20:00:00  ChIJNdONk6Ivx4kR_VfyGUa9KR4           4147.0   \n",
       "153041 2021-04-06 21:00:00  ChIJNdONk6Ivx4kR_VfyGUa9KR4           3435.0   \n",
       "217777 2021-04-10 16:00:00  ChIJBbd49ABVwokR-uKF3-L95FA           2313.0   \n",
       "218529 2021-04-10 17:00:00  ChIJBbd49ABVwokR-uKF3-L95FA           2382.0   \n",
       "219269 2021-04-10 18:00:00  ChIJBbd49ABVwokR-uKF3-L95FA           2704.0   \n",
       "219978 2021-04-10 19:00:00  ChIJBbd49ABVwokR-uKF3-L95FA           2828.0   \n",
       "220649 2021-04-10 20:00:00  ChIJBbd49ABVwokR-uKF3-L95FA           2189.0   \n",
       "252795 2021-03-27 17:00:00  ChIJNdONk6Ivx4kR_VfyGUa9KR4           2830.0   \n",
       "287465 2021-03-21 15:00:00  ChIJZQD10CZawokRCuvDW1oLE-Y           2084.0   \n",
       "288028 2021-03-21 16:00:00  ChIJZQD10CZawokRCuvDW1oLE-Y           2389.0   \n",
       "\n",
       "        rating_n                   request_id address_city  \\\n",
       "53094      730.5  ChIJBbd49ABVwokR-uKF3-L95FA    Newark,NJ   \n",
       "115369     717.0  ChIJBbd49ABVwokR-uKF3-L95FA    Newark,NJ   \n",
       "116036     717.5  ChIJBbd49ABVwokR-uKF3-L95FA    Newark,NJ   \n",
       "116694     718.0  ChIJBbd49ABVwokR-uKF3-L95FA    Newark,NJ   \n",
       "116775     523.0  ChIJK2U1rU5YwokRjywqQmiBZaE  New York,NY   \n",
       "152617     283.0  ChIJNdONk6Ivx4kR_VfyGUa9KR4     Elmer,NJ   \n",
       "152842     283.0  ChIJNdONk6Ivx4kR_VfyGUa9KR4     Elmer,NJ   \n",
       "153041     283.0  ChIJNdONk6Ivx4kR_VfyGUa9KR4     Elmer,NJ   \n",
       "217777     738.5  ChIJBbd49ABVwokR-uKF3-L95FA    Newark,NJ   \n",
       "218529     739.0  ChIJBbd49ABVwokR-uKF3-L95FA    Newark,NJ   \n",
       "219269     740.5  ChIJBbd49ABVwokR-uKF3-L95FA    Newark,NJ   \n",
       "219978     741.5  ChIJBbd49ABVwokR-uKF3-L95FA    Newark,NJ   \n",
       "220649     742.0  ChIJBbd49ABVwokR-uKF3-L95FA    Newark,NJ   \n",
       "252795     282.0  ChIJNdONk6Ivx4kR_VfyGUa9KR4     Elmer,NJ   \n",
       "287465    2289.0  ChIJZQD10CZawokRCuvDW1oLE-Y  New York,NY   \n",
       "288028    2289.0  ChIJZQD10CZawokRCuvDW1oLE-Y  New York,NY   \n",
       "\n",
       "       fsq_type_name_simplified  datetimeEpoch  temp  feelslike  ...  \\\n",
       "53094                      Park   1.617926e+09  61.9       61.9  ...   \n",
       "115369                     Park   1.617566e+09  62.0       62.0  ...   \n",
       "116036                     Park   1.617570e+09  63.6       63.6  ...   \n",
       "116694                     Park   1.617574e+09  64.4       64.4  ...   \n",
       "116775       Travel & Transport   1.617574e+09  58.1       58.1  ...   \n",
       "152617                     Park   1.617750e+09  69.2       69.2  ...   \n",
       "152842                     Park   1.617754e+09  60.4       60.4  ...   \n",
       "153041                     Park   1.617757e+09  55.1       55.1  ...   \n",
       "217777                     Park   1.618085e+09  66.6       66.6  ...   \n",
       "218529                     Park   1.618088e+09  65.8       65.8  ...   \n",
       "219269                     Park   1.618092e+09  64.1       64.1  ...   \n",
       "219978                     Park   1.618096e+09  60.4       60.4  ...   \n",
       "220649                     Park   1.618099e+09  58.9       58.9  ...   \n",
       "252795                     Park   1.616879e+09  64.1       64.1  ...   \n",
       "287465                     Park   1.616353e+09  59.2       59.2  ...   \n",
       "288028                     Park   1.616357e+09  60.3       60.3  ...   \n",
       "\n",
       "        solarradiation  solarenergy  uvindex        conditions  \\\n",
       "53094              5.0          0.0      0.0  Partially cloudy   \n",
       "115369           621.0          2.2      6.0  Partially cloudy   \n",
       "116036           155.0          0.6      2.0  Partially cloudy   \n",
       "116694            86.0          0.3      1.0  Partially cloudy   \n",
       "116775            86.0          0.3      1.0  Partially cloudy   \n",
       "152617            30.0          0.1      0.0             Clear   \n",
       "152842             NaN          NaN      0.0             Clear   \n",
       "153041             NaN          NaN      0.0             Clear   \n",
       "217777           492.0          1.8      5.0  Partially cloudy   \n",
       "218529           366.0          1.3      4.0          Overcast   \n",
       "219269           160.0          0.6      2.0          Overcast   \n",
       "219978            56.0          0.2      1.0  Partially cloudy   \n",
       "220649             NaN          NaN      0.0  Partially cloudy   \n",
       "252795           214.0          0.8      2.0  Partially cloudy   \n",
       "287465           775.0          2.8      8.0             Clear   \n",
       "288028           633.0          2.3      6.0             Clear   \n",
       "\n",
       "                  datetime     location latitude  longitude  hour  dayofweek  \n",
       "53094  2021-04-08 20:00:00    Newark,NJ  40.7320   -74.1742    20          3  \n",
       "115369 2021-04-04 16:00:00    Newark,NJ  40.7320   -74.1742    16          6  \n",
       "116036 2021-04-04 17:00:00    Newark,NJ  40.7320   -74.1742    17          6  \n",
       "116694 2021-04-04 18:00:00    Newark,NJ  40.7320   -74.1742    18          6  \n",
       "116775 2021-04-04 18:00:00  New York,NY  40.7146   -74.0071    18          6  \n",
       "152617 2021-04-06 19:00:00     Elmer,NJ  39.5914   -75.1720    19          1  \n",
       "152842 2021-04-06 20:00:00     Elmer,NJ  39.5914   -75.1720    20          1  \n",
       "153041 2021-04-06 21:00:00     Elmer,NJ  39.5914   -75.1720    21          1  \n",
       "217777 2021-04-10 16:00:00    Newark,NJ  40.7320   -74.1742    16          5  \n",
       "218529 2021-04-10 17:00:00    Newark,NJ  40.7320   -74.1742    17          5  \n",
       "219269 2021-04-10 18:00:00    Newark,NJ  40.7320   -74.1742    18          5  \n",
       "219978 2021-04-10 19:00:00    Newark,NJ  40.7320   -74.1742    19          5  \n",
       "220649 2021-04-10 20:00:00    Newark,NJ  40.7320   -74.1742    20          5  \n",
       "252795 2021-03-27 17:00:00     Elmer,NJ  39.5914   -75.1720    17          5  \n",
       "287465 2021-03-21 15:00:00  New York,NY  40.7146   -74.0071    15          6  \n",
       "288028 2021-03-21 16:00:00  New York,NY  40.7146   -74.0071    16          6  \n",
       "\n",
       "[16 rows x 33 columns]"
      ]
     },
     "execution_count": 24,
     "metadata": {},
     "output_type": "execute_result"
    }
   ],
   "source": [
    "df_popularity[df_popularity['curr_popularity']>2000]"
   ]
  },
  {
   "cell_type": "code",
   "execution_count": null,
   "metadata": {},
   "outputs": [],
   "source": []
  },
  {
   "cell_type": "markdown",
   "metadata": {},
   "source": [
    "# Regression models"
   ]
  },
  {
   "cell_type": "code",
   "execution_count": 251,
   "metadata": {},
   "outputs": [],
   "source": [
    "from collections import Counter\n",
    "Counter(df_popularity['fsq_type_name_simplified']); "
   ]
  },
  {
   "cell_type": "code",
   "execution_count": 130,
   "metadata": {},
   "outputs": [
    {
     "data": {
      "text/plain": [
       "(507886, 34)"
      ]
     },
     "execution_count": 130,
     "metadata": {},
     "output_type": "execute_result"
    }
   ],
   "source": [
    "df_popularity.shape"
   ]
  },
  {
   "cell_type": "code",
   "execution_count": 129,
   "metadata": {},
   "outputs": [
    {
     "data": {
      "text/plain": [
       "Index(['datetime_hour', 'id', 'curr_popularity', 'rating_n', 'request_id',\n",
       "       'avg_popularity', 'address_city', 'fsq_type_name_simplified',\n",
       "       'datetimeEpoch', 'temp', 'feelslike', 'humidity', 'dew', 'precip',\n",
       "       'precipprob', 'snow', 'snowdepth', 'preciptype', 'windgust',\n",
       "       'windspeed', 'winddir', 'pressure', 'visibility', 'cloudcover',\n",
       "       'solarradiation', 'solarenergy', 'uvindex', 'conditions', 'datetime',\n",
       "       'location', 'latitude', 'longitude', 'hour', 'dayofweek'],\n",
       "      dtype='object')"
      ]
     },
     "execution_count": 129,
     "metadata": {},
     "output_type": "execute_result"
    }
   ],
   "source": [
    "df_popularity.columns"
   ]
  },
  {
   "cell_type": "markdown",
   "metadata": {},
   "source": [
    "### How much weather can predict popularity"
   ]
  },
  {
   "cell_type": "code",
   "execution_count": 103,
   "metadata": {},
   "outputs": [],
   "source": [
    "from sklearn.linear_model import LinearRegression "
   ]
  },
  {
   "cell_type": "code",
   "execution_count": 272,
   "metadata": {},
   "outputs": [
    {
     "name": "stderr",
     "output_type": "stream",
     "text": [
      "/Users/chengqiu/anaconda3/lib/python3.7/site-packages/ipykernel_launcher.py:2: SettingWithCopyWarning: \n",
      "A value is trying to be set on a copy of a slice from a DataFrame\n",
      "\n",
      "See the caveats in the documentation: https://pandas.pydata.org/pandas-docs/stable/user_guide/indexing.html#returning-a-view-versus-a-copy\n",
      "  \n"
     ]
    }
   ],
   "source": [
    "sub_df = df_popularity[['feelslike', 'humidity','windspeed', 'curr_popularity', 'solarradiation']]\n",
    "sub_df.dropna(axis=0, inplace=True)\n",
    "\n",
    "X = sub_df[['feelslike', 'humidity', 'windspeed', 'solarradiation']]\n",
    "y = sub_df['curr_popularity']\n"
   ]
  },
  {
   "cell_type": "code",
   "execution_count": 274,
   "metadata": {},
   "outputs": [
    {
     "data": {
      "text/plain": [
       "0.16646606493383653"
      ]
     },
     "execution_count": 274,
     "metadata": {},
     "output_type": "execute_result"
    }
   ],
   "source": [
    "lr = LinearRegression()  # make an instance of the model \n",
    "lr.fit(X, y)  \n",
    "lr.score(X, y)"
   ]
  },
  {
   "cell_type": "code",
   "execution_count": 277,
   "metadata": {},
   "outputs": [
    {
     "data": {
      "text/plain": [
       "(236360, 5)"
      ]
     },
     "execution_count": 277,
     "metadata": {},
     "output_type": "execute_result"
    }
   ],
   "source": [
    "sub_df.shape"
   ]
  },
  {
   "cell_type": "markdown",
   "metadata": {},
   "source": [
    "### Consider hour and day_of_week"
   ]
  },
  {
   "cell_type": "code",
   "execution_count": 198,
   "metadata": {},
   "outputs": [
    {
     "data": {
      "text/plain": [
       "2"
      ]
     },
     "execution_count": 198,
     "metadata": {},
     "output_type": "execute_result"
    }
   ],
   "source": [
    "df_popularity['datetime_hour'][0].dayofweek"
   ]
  },
  {
   "cell_type": "code",
   "execution_count": 116,
   "metadata": {},
   "outputs": [],
   "source": [
    "df_hour = pd.get_dummies(df_popularity['hour'], prefix='hour')\n",
    "df_dayweek = pd.get_dummies(df_popularity['dayofweek'], prefix='dayofweek')\n",
    "\n",
    "df_type = pd.get_dummies(df_popularity['fsq_type_name_simplified'])"
   ]
  },
  {
   "cell_type": "code",
   "execution_count": 117,
   "metadata": {},
   "outputs": [
    {
     "data": {
      "text/plain": [
       "(507886, 71)"
      ]
     },
     "execution_count": 117,
     "metadata": {},
     "output_type": "execute_result"
    }
   ],
   "source": [
    "# sub_df = pd.concat([df_hour, df_dayweek, df_popularity[['temp','humidity', 'precip', 'curr_popularity']]], axis=1)\n",
    "sub_df = pd.concat([df_hour, df_dayweek, df_type, df_popularity[['avg_popularity', 'curr_popularity']]], axis=1)\n",
    "\n",
    "sub_df.dropna(axis=0, inplace=True)\n",
    "sub_df.shape"
   ]
  },
  {
   "cell_type": "code",
   "execution_count": 109,
   "metadata": {},
   "outputs": [],
   "source": [
    "df_X = sub_df.drop(columns=['curr_popularity',])\n",
    "df_y = sub_df['curr_popularity']"
   ]
  },
  {
   "cell_type": "code",
   "execution_count": 119,
   "metadata": {},
   "outputs": [
    {
     "data": {
      "text/plain": [
       "0.22079537295738916"
      ]
     },
     "execution_count": 119,
     "metadata": {},
     "output_type": "execute_result"
    }
   ],
   "source": [
    "from sklearn.linear_model import Ridge, Lasso\n",
    "from sklearn.preprocessing import PolynomialFeatures, MinMaxScaler\n",
    "from sklearn.pipeline import Pipeline\n",
    "\n",
    "popularity_est = Pipeline([('standard_scaler', MinMaxScaler((-1,1))),\n",
    "                    ('polynomial_trans', PolynomialFeatures(2)),\n",
    "                    ('lr', Ridge(alpha=20))])\n",
    "#Lasso(alpha=2)\n",
    "\n",
    "popularity_est.fit(df_X, df_y)\n",
    "popularity_est.score(df_X, df_y)"
   ]
  },
  {
   "cell_type": "code",
   "execution_count": 189,
   "metadata": {},
   "outputs": [
    {
     "data": {
      "image/png": "[encoded data removed]",
      "text/plain": [
       "<Figure size 432x288 with 1 Axes>"
      ]
     },
     "metadata": {},
     "output_type": "display_data"
    }
   ],
   "source": [
    "sns.set()\n",
    "plt.plot(df_y, popularity_est.predict(df_X), 'o'); "
   ]
  },
  {
   "cell_type": "code",
   "execution_count": 112,
   "metadata": {},
   "outputs": [
    {
     "data": {
      "image/png": "[encoded data removed]",
      "text/plain": [
       "<Figure size 432x288 with 1 Axes>"
      ]
     },
     "metadata": {
      "needs_background": "light"
     },
     "output_type": "display_data"
    }
   ],
   "source": [
    "plt.hist([df_y[df_y<1000], popularity_est.predict(df_X)[df_y<1000]], 25); "
   ]
  },
  {
   "cell_type": "code",
   "execution_count": 358,
   "metadata": {},
   "outputs": [],
   "source": [
    "# popularity_est[-1].sparse_coef_\n",
    "# popularity_est[-1].coef_"
   ]
  },
  {
   "cell_type": "code",
   "execution_count": 113,
   "metadata": {},
   "outputs": [
    {
     "data": {
      "text/plain": [
       "Index(['hour_0', 'hour_1', 'hour_2', 'hour_3', 'hour_4', 'hour_5', 'hour_6',\n",
       "       'hour_7', 'hour_8', 'hour_9', 'hour_10', 'hour_11', 'hour_12',\n",
       "       'hour_13', 'hour_14', 'hour_15', 'hour_16', 'hour_17', 'hour_18',\n",
       "       'hour_19', 'hour_20', 'hour_21', 'hour_22', 'hour_23', 'dayofweek_0',\n",
       "       'dayofweek_1', 'dayofweek_2', 'dayofweek_3', 'dayofweek_4',\n",
       "       'dayofweek_5', 'dayofweek_6', 'avg_popularity'],\n",
       "      dtype='object')"
      ]
     },
     "execution_count": 113,
     "metadata": {},
     "output_type": "execute_result"
    }
   ],
   "source": [
    "df_X.columns"
   ]
  },
  {
   "cell_type": "code",
   "execution_count": null,
   "metadata": {},
   "outputs": [],
   "source": []
  },
  {
   "cell_type": "markdown",
   "metadata": {},
   "source": [
    "#### Cross validation"
   ]
  },
  {
   "cell_type": "code",
   "execution_count": 377,
   "metadata": {},
   "outputs": [
    {
     "data": {
      "text/plain": [
       "dict_keys(['memory', 'steps', 'verbose', 'standard_scaler', 'polynomial_trans', 'lr', 'standard_scaler__copy', 'standard_scaler__feature_range', 'polynomial_trans__degree', 'polynomial_trans__include_bias', 'polynomial_trans__interaction_only', 'polynomial_trans__order', 'lr__alpha', 'lr__copy_X', 'lr__fit_intercept', 'lr__max_iter', 'lr__normalize', 'lr__random_state', 'lr__solver', 'lr__tol'])"
      ]
     },
     "execution_count": 377,
     "metadata": {},
     "output_type": "execute_result"
    }
   ],
   "source": [
    "popularity_est.get_params().keys()"
   ]
  },
  {
   "cell_type": "code",
   "execution_count": null,
   "metadata": {},
   "outputs": [],
   "source": [
    "from sklearn.model_selection import GridSearchCV\n",
    "\n",
    "gs = GridSearchCV(\n",
    "    popularity_est,\n",
    "    {\"lr__alpha\": np.logspace(0, 3, 5)},  # range of hyperparameters to test\n",
    "    cv=10,  # 10-fold cross validation\n",
    "    n_jobs=2,  # run each hyperparameter in one of two parallel jobs\n",
    ")\n",
    "gs.fit(df_X, df_y)"
   ]
  },
  {
   "cell_type": "code",
   "execution_count": 369,
   "metadata": {},
   "outputs": [
    {
     "data": {
      "text/plain": [
       "0.37397731985016536"
      ]
     },
     "execution_count": 369,
     "metadata": {},
     "output_type": "execute_result"
    }
   ],
   "source": [
    "gs.score(df_X, df_y)"
   ]
  },
  {
   "cell_type": "code",
   "execution_count": 373,
   "metadata": {},
   "outputs": [
    {
     "name": "stdout",
     "output_type": "stream",
     "text": [
      "{'lr__alpha': 177.82794100389228}\n",
      "0.30114205500362573\n"
     ]
    }
   ],
   "source": [
    "print(gs.best_params_)\n",
    "print(gs.best_score_)"
   ]
  },
  {
   "cell_type": "code",
   "execution_count": null,
   "metadata": {},
   "outputs": [],
   "source": []
  },
  {
   "cell_type": "markdown",
   "metadata": {},
   "source": [
    "### Use Pipeline to organize the model\n",
    "Start from the dataframe df_popularity, you'd like to use features related to time and weather to predict the curr_popularity. \n",
    "\n",
    "categorical features: `hour`, `dayofweek`, `fsq_type`\n",
    "numerical features: `temp`, `humidity`, `precip`, (date can be added later on)\n",
    "\n",
    "All features should be first transformed accordingly, pass with polynomial preprocessing (interaction), scaling, and then regressor. "
   ]
  },
  {
   "cell_type": "code",
   "execution_count": 4,
   "metadata": {},
   "outputs": [],
   "source": [
    "from sklearn.pipeline import Pipeline\n",
    "from sklearn.compose import ColumnTransformer\n",
    "from sklearn.impute import SimpleImputer\n",
    "from sklearn.preprocessing import OneHotEncoder\n",
    "from sklearn.preprocessing import MaxAbsScaler\n",
    "from sklearn.preprocessing import PolynomialFeatures\n",
    "from sklearn.linear_model import Ridge\n",
    "from sklearn.ensemble import RandomForestRegressor\n",
    "from sklearn.inspection import permutation_importance\n"
   ]
  },
  {
   "cell_type": "code",
   "execution_count": 126,
   "metadata": {},
   "outputs": [
    {
     "data": {
      "text/plain": [
       "Timestamp('2021-04-07 01:00:00')"
      ]
     },
     "execution_count": 126,
     "metadata": {},
     "output_type": "execute_result"
    }
   ],
   "source": [
    "df_popularity['datetime_hour'][0]"
   ]
  },
  {
   "cell_type": "code",
   "execution_count": 115,
   "metadata": {},
   "outputs": [],
   "source": [
    "# since the weather data were not complete - only model data before 2021-04-10 for now\n",
    "# df_popularity = df_popularity[df_popularity['datetime_hour']<'2021-04-21 01:00:00']"
   ]
  },
  {
   "cell_type": "code",
   "execution_count": 127,
   "metadata": {},
   "outputs": [
    {
     "data": {
      "text/plain": [
       "(507886, 35)"
      ]
     },
     "execution_count": 127,
     "metadata": {},
     "output_type": "execute_result"
    }
   ],
   "source": [
    "df_popularity.shape"
   ]
  },
  {
   "cell_type": "code",
   "execution_count": 128,
   "metadata": {},
   "outputs": [
    {
     "data": {
      "text/plain": [
       "count    507886.000000\n",
       "mean         86.235409\n",
       "std         104.674068\n",
       "min           1.000000\n",
       "25%          26.000000\n",
       "50%          60.000000\n",
       "75%         111.000000\n",
       "max        9699.000000\n",
       "Name: curr_popularity, dtype: float64"
      ]
     },
     "execution_count": 128,
     "metadata": {},
     "output_type": "execute_result"
    }
   ],
   "source": [
    "df_popularity['curr_popularity'].describe()"
   ]
  },
  {
   "cell_type": "code",
   "execution_count": 133,
   "metadata": {},
   "outputs": [],
   "source": [
    "# TODO: do something to clear up noise in curr_popularity as well?\n",
    "# df_popularity = df_popularity[df_popularity['curr_popularity']<1000]"
   ]
  },
  {
   "cell_type": "code",
   "execution_count": 118,
   "metadata": {},
   "outputs": [
    {
     "name": "stdout",
     "output_type": "stream",
     "text": [
      "(507886, 35)\n"
     ]
    },
    {
     "data": {
      "text/plain": [
       "Index(['datetime_hour', 'id', 'curr_popularity', 'rating_n', 'request_id',\n",
       "       'avg_popularity', 'address_city', 'fsq_type_name_simplified', 'rating',\n",
       "       'datetimeEpoch', 'temp', 'feelslike', 'humidity', 'dew', 'precip',\n",
       "       'precipprob', 'snow', 'snowdepth', 'preciptype', 'windgust',\n",
       "       'windspeed', 'winddir', 'pressure', 'visibility', 'cloudcover',\n",
       "       'solarradiation', 'solarenergy', 'uvindex', 'conditions', 'datetime',\n",
       "       'location', 'latitude', 'longitude', 'hour', 'dayofweek'],\n",
       "      dtype='object')"
      ]
     },
     "execution_count": 118,
     "metadata": {},
     "output_type": "execute_result"
    }
   ],
   "source": [
    "print(df_popularity.shape)\n",
    "df_popularity.columns"
   ]
  },
  {
   "cell_type": "code",
   "execution_count": null,
   "metadata": {},
   "outputs": [],
   "source": []
  },
  {
   "cell_type": "code",
   "execution_count": 130,
   "metadata": {},
   "outputs": [],
   "source": [
    "df_popularity_y = df_popularity['curr_popularity']\n",
    "all_feature_columns = ['id', 'avg_popularity', 'fsq_type_name_simplified', \n",
    "                       'temp', 'feelslike', 'humidity', 'dew', 'precip', 'windspeed', \n",
    "                       'pressure', 'visibility', 'cloudcover', 'solarradiation', 'solarenergy', 'uvindex', \n",
    "                       'conditions', 'rating',\n",
    "                       'hour', 'dayofweek']\n",
    "df_popularity_X = df_popularity[all_feature_columns]\n",
    "\n",
    "X_train, X_test, y_train, y_test = train_test_split(\n",
    "    df_popularity_X, df_popularity_y, random_state=42)"
   ]
  },
  {
   "cell_type": "code",
   "execution_count": 55,
   "metadata": {},
   "outputs": [],
   "source": [
    "# feature collinearity:\n",
    "# https://scikit-learn.org/stable/auto_examples/inspection/plot_permutation_importance_multicollinear.html#sphx-glr-auto-examples-inspection-plot-permutation-importance-multicollinear-py\n",
    "\n",
    "from scipy.stats import spearmanr\n",
    "from scipy.cluster import hierarchy\n",
    "\n",
    "# fig, (ax1, ax2) = plt.subplots(1, 2, figsize=(12, 8))\n",
    "# corr = spearmanr(df_popularity_X).correlation\n",
    "# corr_linkage = hierarchy.ward(corr)\n",
    "# dendro = hierarchy.dendrogram(\n",
    "#     corr_linkage, labels=all_feature_columns, ax=ax1, leaf_rotation=90\n",
    "# )\n",
    "# dendro_idx = np.arange(0, len(dendro['ivl']))\n",
    "\n",
    "# ax2.imshow(corr[dendro['leaves'], :][:, dendro['leaves']])\n",
    "# ax2.set_xticks(dendro_idx)\n",
    "# ax2.set_yticks(dendro_idx)\n",
    "# ax2.set_xticklabels(dendro['ivl'], rotation='vertical')\n",
    "# ax2.set_yticklabels(dendro['ivl'])\n",
    "# fig.tight_layout()\n",
    "# plt.show()"
   ]
  },
  {
   "cell_type": "code",
   "execution_count": 294,
   "metadata": {},
   "outputs": [],
   "source": []
  },
  {
   "cell_type": "code",
   "execution_count": 140,
   "metadata": {},
   "outputs": [
    {
     "name": "stdout",
     "output_type": "stream",
     "text": [
      "R^2 score using selected columns and transformers (train): 0.4646713207495342\n",
      "R^2 score using selected columns and transformers (test): 0.3356573992582331\n"
     ]
    }
   ],
   "source": [
    "categorical_columns = ['hour', 'dayofweek', 'conditions', 'fsq_type_name_simplified']\n",
    "# numerical_columns = ['avg_popularity', 'temp', 'humidity', 'dew', 'precip', 'windspeed', \n",
    "#                      'pressure', 'visibility', 'cloudcover', 'rating']\n",
    "numerical_columns = ['avg_popularity', 'temp', 'humidity', 'dew', 'precip', 'windspeed', 'cloudcover', 'rating']\n",
    "\n",
    "# preprocessing for numerical and categorical features\n",
    "categorical_pipe = Pipeline([\n",
    "    ('imputer', SimpleImputer(missing_values=None, strategy='constant')),#strategy='most_frequent'; 'constant' for string type will be imputed with 'missing_value'\n",
    "    ('onehot_encoder', OneHotEncoder(handle_unknown='ignore'))\n",
    "])\n",
    "numerical_pipe = Pipeline([\n",
    "    ('imputer', SimpleImputer(missing_values=np.nan, strategy='mean')),\n",
    "    ('scaling', MaxAbsScaler())\n",
    "])\n",
    "\n",
    "# apply preprocessing to each column [TODO: but then you couldn't do Polynomial within 'num'??]\n",
    "features = ColumnTransformer(\n",
    "    [('cat', categorical_pipe, categorical_columns),\n",
    "     ('num', numerical_pipe, numerical_columns)])\n",
    "\n",
    "est = Pipeline([\n",
    "    ('feature', features),\n",
    "    ('estimator', RandomForestRegressor(n_estimators=20, max_depth=20, min_samples_leaf=10))\n",
    "])\n",
    "est.fit(X_train, y_train)\n",
    "\n",
    "print(f'R^2 score using selected columns and transformers (train): {est.score(X_train, y_train)}')\n",
    "print(f'R^2 score using selected columns and transformers (test): {est.score(X_test, y_test)}')"
   ]
  },
  {
   "cell_type": "code",
   "execution_count": 145,
   "metadata": {},
   "outputs": [],
   "source": [
    "import dill \n",
    "\n",
    "# with open('estimator_v1_Date_2021-03-16_2021-04-20.dill', 'wb') as f:\n",
    "#     dill.dump(est, f)\n",
    "    \n",
    "# with open('estimator_v1_Date_2021-03-16_2021-04-20.dill', 'rb') as f:\n",
    "#     est = dill.load(f)    "
   ]
  },
  {
   "cell_type": "code",
   "execution_count": 136,
   "metadata": {},
   "outputs": [
    {
     "data": {
      "text/plain": [
       "(-500, 700)"
      ]
     },
     "execution_count": 136,
     "metadata": {},
     "output_type": "execute_result"
    },
    {
     "data": {
      "image/png": "[encoded data removed]",
      "text/plain": [
       "<Figure size 432x360 with 1 Axes>"
      ]
     },
     "metadata": {
      "needs_background": "light"
     },
     "output_type": "display_data"
    }
   ],
   "source": [
    "plt.figure(figsize=[6,5])\n",
    "plt.plot(np.arange(len(y_test)), y_test - est.predict(X_test), 'o', alpha=0.1); \n",
    "plt.plot([0, len(y_test)], [0, 0], 'k--')\n",
    "# plt.axis('equal'); plt.xlim([0, 300]); \n",
    "plt.ylim([-500, 700])"
   ]
  },
  {
   "cell_type": "code",
   "execution_count": null,
   "metadata": {},
   "outputs": [],
   "source": []
  },
  {
   "cell_type": "markdown",
   "metadata": {},
   "source": [
    "#### Feature importance"
   ]
  },
  {
   "cell_type": "code",
   "execution_count": 141,
   "metadata": {},
   "outputs": [
    {
     "data": {
      "text/plain": [
       "Text(0.5, 1.0, 'Random Forest Feature Importances (MDI)')"
      ]
     },
     "execution_count": 141,
     "metadata": {},
     "output_type": "execute_result"
    },
    {
     "data": {
      "image/png": "[encoded data removed]",
      "text/plain": [
       "<Figure size 432x864 with 1 Axes>"
      ]
     },
     "metadata": {
      "needs_background": "light"
     },
     "output_type": "display_data"
    }
   ],
   "source": [
    "# get categorical feature names (since oneHotEncoder)\n",
    "# Tree’s Feature Importance from Mean Decrease in Impurity (MDI)\n",
    "ohe = (est.named_steps['feature'].named_transformers_['cat'].named_steps['onehot_encoder'])\n",
    "feature_names = ohe.get_feature_names(input_features=categorical_columns)\n",
    "feature_names = np.r_[feature_names, numerical_columns]\n",
    "\n",
    "tree_feature_importances = (\n",
    "    est.named_steps['estimator'].feature_importances_)\n",
    "sorted_idx = tree_feature_importances.argsort()\n",
    "\n",
    "y_ticks = np.arange(0, len(feature_names))\n",
    "plt.figure(figsize=[6,12])\n",
    "# fig, ax = plt.subplots()\n",
    "plt.barh(y_ticks, tree_feature_importances[sorted_idx])\n",
    "plt.yticks(y_ticks, labels=feature_names[sorted_idx])\n",
    "plt.ylim([40, len(feature_names)])\n",
    "plt.title(\"Random Forest Feature Importances (MDI)\")\n"
   ]
  },
  {
   "cell_type": "code",
   "execution_count": null,
   "metadata": {},
   "outputs": [],
   "source": []
  },
  {
   "cell_type": "markdown",
   "metadata": {},
   "source": [
    "#### Or to use permutation importance on the hold out set\n",
    "Note that for multicollinear features, the permutation importance will show that none of the features are important\n",
    "\n",
    "See more https://scikit-learn.org/stable/auto_examples/inspection/plot_permutation_importance.html#sphx-glr-auto-examples-inspection-plot-permutation-importance-py"
   ]
  },
  {
   "cell_type": "code",
   "execution_count": 142,
   "metadata": {},
   "outputs": [],
   "source": [
    "result = permutation_importance(est, X_test, y_test, n_repeats=10, random_state=42, n_jobs=2)\n",
    "sorted_idx = result.importances_mean.argsort()"
   ]
  },
  {
   "cell_type": "code",
   "execution_count": 143,
   "metadata": {},
   "outputs": [
    {
     "data": {
      "text/plain": [
       "Text(0.5, 1.0, 'Permutation Importances (test set)')"
      ]
     },
     "execution_count": 143,
     "metadata": {},
     "output_type": "execute_result"
    },
    {
     "data": {
      "image/png": "[encoded data removed]",
      "text/plain": [
       "<Figure size 432x432 with 1 Axes>"
      ]
     },
     "metadata": {
      "needs_background": "light"
     },
     "output_type": "display_data"
    }
   ],
   "source": [
    "plt.figure(figsize=[6,6])\n",
    "plt.boxplot(result.importances[sorted_idx].T, vert=False, labels=X_test.columns[sorted_idx])\n",
    "plt.title(\"Permutation Importances (test set)\")"
   ]
  },
  {
   "cell_type": "code",
   "execution_count": null,
   "metadata": {},
   "outputs": [],
   "source": []
  },
  {
   "cell_type": "code",
   "execution_count": 12,
   "metadata": {},
   "outputs": [
    {
     "data": {
      "text/html": [
       "<style>div.sk-top-container {color: black;background-color: white;}div.sk-toggleable {background-color: white;}label.sk-toggleable__label {cursor: pointer;display: block;width: 100%;margin-bottom: 0;padding: 0.2em 0.3em;box-sizing: border-box;text-align: center;}div.sk-toggleable__content {max-height: 0;max-width: 0;overflow: hidden;text-align: left;background-color: #f0f8ff;}div.sk-toggleable__content pre {margin: 0.2em;color: black;border-radius: 0.25em;background-color: #f0f8ff;}input.sk-toggleable__control:checked~div.sk-toggleable__content {max-height: 200px;max-width: 100%;overflow: auto;}div.sk-estimator input.sk-toggleable__control:checked~label.sk-toggleable__label {background-color: #d4ebff;}div.sk-label input.sk-toggleable__control:checked~label.sk-toggleable__label {background-color: #d4ebff;}input.sk-hidden--visually {border: 0;clip: rect(1px 1px 1px 1px);clip: rect(1px, 1px, 1px, 1px);height: 1px;margin: -1px;overflow: hidden;padding: 0;position: absolute;width: 1px;}div.sk-estimator {font-family: monospace;background-color: #f0f8ff;margin: 0.25em 0.25em;border: 1px dotted black;border-radius: 0.25em;box-sizing: border-box;}div.sk-estimator:hover {background-color: #d4ebff;}div.sk-parallel-item::after {content: \"\";width: 100%;border-bottom: 1px solid gray;flex-grow: 1;}div.sk-label:hover label.sk-toggleable__label {background-color: #d4ebff;}div.sk-serial::before {content: \"\";position: absolute;border-left: 1px solid gray;box-sizing: border-box;top: 2em;bottom: 0;left: 50%;}div.sk-serial {display: flex;flex-direction: column;align-items: center;background-color: white;}div.sk-item {z-index: 1;}div.sk-parallel {display: flex;align-items: stretch;justify-content: center;background-color: white;}div.sk-parallel-item {display: flex;flex-direction: column;position: relative;background-color: white;}div.sk-parallel-item:first-child::after {align-self: flex-end;width: 50%;}div.sk-parallel-item:last-child::after {align-self: flex-start;width: 50%;}div.sk-parallel-item:only-child::after {width: 0;}div.sk-dashed-wrapped {border: 1px dashed gray;margin: 0.2em;box-sizing: border-box;padding-bottom: 0.1em;background-color: white;position: relative;}div.sk-label label {font-family: monospace;font-weight: bold;background-color: white;display: inline-block;line-height: 1.2em;}div.sk-label-container {position: relative;z-index: 2;text-align: center;}div.sk-container {display: inline-block;position: relative;}</style><div class=\"sk-top-container\"><div class=\"sk-container\"><div class=\"sk-item sk-dashed-wrapped\"><div class=\"sk-label-container\"><div class=\"sk-label sk-toggleable\"><input class=\"sk-toggleable__control sk-hidden--visually\" id=\"898b2e06-83c5-43da-8302-908a4ad3f21a\" type=\"checkbox\" ><label class=\"sk-toggleable__label\" for=\"898b2e06-83c5-43da-8302-908a4ad3f21a\">Pipeline</label><div class=\"sk-toggleable__content\"><pre>Pipeline(steps=[('feature',\n",
       "                 ColumnTransformer(transformers=[('cat',\n",
       "                                                  Pipeline(steps=[('imputer',\n",
       "                                                                   SimpleImputer(missing_values=None,\n",
       "                                                                                 strategy='constant')),\n",
       "                                                                  ('onehot_encoder',\n",
       "                                                                   OneHotEncoder(handle_unknown='ignore'))]),\n",
       "                                                  ['hour', 'dayofweek',\n",
       "                                                   'conditions',\n",
       "                                                   'fsq_type_name_simplified']),\n",
       "                                                 ('num',\n",
       "                                                  Pipeline(steps=[('imputer',\n",
       "                                                                   SimpleImputer()),\n",
       "                                                                  ('scaling',\n",
       "                                                                   MaxAbsScaler())]),\n",
       "                                                  ['avg_popularity', 'temp',\n",
       "                                                   'humidity', 'precip',\n",
       "                                                   'windspeed', 'rating'])])),\n",
       "                ('estimator',\n",
       "                 RandomForestRegressor(max_depth=20, n_estimators=20))])</pre></div></div></div><div class=\"sk-serial\"><div class=\"sk-item sk-dashed-wrapped\"><div class=\"sk-label-container\"><div class=\"sk-label sk-toggleable\"><input class=\"sk-toggleable__control sk-hidden--visually\" id=\"a6a53022-05cb-46cc-bde9-6a414ba26b79\" type=\"checkbox\" ><label class=\"sk-toggleable__label\" for=\"a6a53022-05cb-46cc-bde9-6a414ba26b79\">feature: ColumnTransformer</label><div class=\"sk-toggleable__content\"><pre>ColumnTransformer(transformers=[('cat',\n",
       "                                 Pipeline(steps=[('imputer',\n",
       "                                                  SimpleImputer(missing_values=None,\n",
       "                                                                strategy='constant')),\n",
       "                                                 ('onehot_encoder',\n",
       "                                                  OneHotEncoder(handle_unknown='ignore'))]),\n",
       "                                 ['hour', 'dayofweek', 'conditions',\n",
       "                                  'fsq_type_name_simplified']),\n",
       "                                ('num',\n",
       "                                 Pipeline(steps=[('imputer', SimpleImputer()),\n",
       "                                                 ('scaling', MaxAbsScaler())]),\n",
       "                                 ['avg_popularity', 'temp', 'humidity',\n",
       "                                  'precip', 'windspeed', 'rating'])])</pre></div></div></div><div class=\"sk-parallel\"><div class=\"sk-parallel-item\"><div class=\"sk-item\"><div class=\"sk-label-container\"><div class=\"sk-label sk-toggleable\"><input class=\"sk-toggleable__control sk-hidden--visually\" id=\"2fc3f2fb-1869-4d1d-ba7a-8ff78758be6c\" type=\"checkbox\" ><label class=\"sk-toggleable__label\" for=\"2fc3f2fb-1869-4d1d-ba7a-8ff78758be6c\">cat</label><div class=\"sk-toggleable__content\"><pre>['hour', 'dayofweek', 'conditions', 'fsq_type_name_simplified']</pre></div></div></div><div class=\"sk-serial\"><div class=\"sk-item\"><div class=\"sk-serial\"><div class=\"sk-item\"><div class=\"sk-estimator sk-toggleable\"><input class=\"sk-toggleable__control sk-hidden--visually\" id=\"75aa5e73-28c6-40ed-86fc-12fbec790a3e\" type=\"checkbox\" ><label class=\"sk-toggleable__label\" for=\"75aa5e73-28c6-40ed-86fc-12fbec790a3e\">SimpleImputer</label><div class=\"sk-toggleable__content\"><pre>SimpleImputer(missing_values=None, strategy='constant')</pre></div></div></div><div class=\"sk-item\"><div class=\"sk-estimator sk-toggleable\"><input class=\"sk-toggleable__control sk-hidden--visually\" id=\"ca735a4e-0370-4134-a0d3-b5ae0795ed67\" type=\"checkbox\" ><label class=\"sk-toggleable__label\" for=\"ca735a4e-0370-4134-a0d3-b5ae0795ed67\">OneHotEncoder</label><div class=\"sk-toggleable__content\"><pre>OneHotEncoder(handle_unknown='ignore')</pre></div></div></div></div></div></div></div></div><div class=\"sk-parallel-item\"><div class=\"sk-item\"><div class=\"sk-label-container\"><div class=\"sk-label sk-toggleable\"><input class=\"sk-toggleable__control sk-hidden--visually\" id=\"98e3493a-e6da-4518-9669-ae45d87b21cf\" type=\"checkbox\" ><label class=\"sk-toggleable__label\" for=\"98e3493a-e6da-4518-9669-ae45d87b21cf\">num</label><div class=\"sk-toggleable__content\"><pre>['avg_popularity', 'temp', 'humidity', 'precip', 'windspeed', 'rating']</pre></div></div></div><div class=\"sk-serial\"><div class=\"sk-item\"><div class=\"sk-serial\"><div class=\"sk-item\"><div class=\"sk-estimator sk-toggleable\"><input class=\"sk-toggleable__control sk-hidden--visually\" id=\"115bdfc7-633f-4e3f-ae81-383e9bf63108\" type=\"checkbox\" ><label class=\"sk-toggleable__label\" for=\"115bdfc7-633f-4e3f-ae81-383e9bf63108\">SimpleImputer</label><div class=\"sk-toggleable__content\"><pre>SimpleImputer()</pre></div></div></div><div class=\"sk-item\"><div class=\"sk-estimator sk-toggleable\"><input class=\"sk-toggleable__control sk-hidden--visually\" id=\"fee320e3-0a05-456e-a5bc-fb1f49abd54b\" type=\"checkbox\" ><label class=\"sk-toggleable__label\" for=\"fee320e3-0a05-456e-a5bc-fb1f49abd54b\">MaxAbsScaler</label><div class=\"sk-toggleable__content\"><pre>MaxAbsScaler()</pre></div></div></div></div></div></div></div></div></div></div><div class=\"sk-item\"><div class=\"sk-estimator sk-toggleable\"><input class=\"sk-toggleable__control sk-hidden--visually\" id=\"c139f758-f2b0-4ba2-873a-5f1ee8ed168a\" type=\"checkbox\" ><label class=\"sk-toggleable__label\" for=\"c139f758-f2b0-4ba2-873a-5f1ee8ed168a\">RandomForestRegressor</label><div class=\"sk-toggleable__content\"><pre>RandomForestRegressor(max_depth=20, n_estimators=20)</pre></div></div></div></div></div></div></div>"
      ],
      "text/plain": [
       "Pipeline(steps=[('feature',\n",
       "                 ColumnTransformer(transformers=[('cat',\n",
       "                                                  Pipeline(steps=[('imputer',\n",
       "                                                                   SimpleImputer(missing_values=None,\n",
       "                                                                                 strategy='constant')),\n",
       "                                                                  ('onehot_encoder',\n",
       "                                                                   OneHotEncoder(handle_unknown='ignore'))]),\n",
       "                                                  ['hour', 'dayofweek',\n",
       "                                                   'conditions',\n",
       "                                                   'fsq_type_name_simplified']),\n",
       "                                                 ('num',\n",
       "                                                  Pipeline(steps=[('imputer',\n",
       "                                                                   SimpleImputer()),\n",
       "                                                                  ('scaling',\n",
       "                                                                   MaxAbsScaler())]),\n",
       "                                                  ['avg_popularity', 'temp',\n",
       "                                                   'humidity', 'precip',\n",
       "                                                   'windspeed', 'rating'])])),\n",
       "                ('estimator',\n",
       "                 RandomForestRegressor(max_depth=20, n_estimators=20))])"
      ]
     },
     "execution_count": 12,
     "metadata": {},
     "output_type": "execute_result"
    }
   ],
   "source": [
    "import sklearn\n",
    "sklearn.__version__\n",
    "\n",
    "from sklearn import set_config\n",
    "set_config(display='diagram')\n",
    "\n",
    "est"
   ]
  },
  {
   "cell_type": "code",
   "execution_count": 34,
   "metadata": {},
   "outputs": [],
   "source": [
    "# from sklearn.utils import estimator_html_repr\n",
    "\n",
    "# with open('model_v1_Date_2021-03-16_2021-04-10.html', 'w') as f:\n",
    "#     f.write(estimator_html_repr(est))"
   ]
  },
  {
   "cell_type": "code",
   "execution_count": null,
   "metadata": {},
   "outputs": [],
   "source": []
  },
  {
   "cell_type": "markdown",
   "metadata": {},
   "source": [
    "#### Hyperparameters gridsearch"
   ]
  },
  {
   "cell_type": "code",
   "execution_count": 149,
   "metadata": {},
   "outputs": [
    {
     "data": {
      "text/plain": [
       "dict_keys(['memory', 'steps', 'verbose', 'feature', 'estimator', 'feature__n_jobs', 'feature__remainder', 'feature__sparse_threshold', 'feature__transformer_weights', 'feature__transformers', 'feature__verbose', 'feature__cat', 'feature__num', 'feature__cat__memory', 'feature__cat__steps', 'feature__cat__verbose', 'feature__cat__imputer', 'feature__cat__onehot_encoder', 'feature__cat__imputer__add_indicator', 'feature__cat__imputer__copy', 'feature__cat__imputer__fill_value', 'feature__cat__imputer__missing_values', 'feature__cat__imputer__strategy', 'feature__cat__imputer__verbose', 'feature__cat__onehot_encoder__categories', 'feature__cat__onehot_encoder__drop', 'feature__cat__onehot_encoder__dtype', 'feature__cat__onehot_encoder__handle_unknown', 'feature__cat__onehot_encoder__sparse', 'feature__num__memory', 'feature__num__steps', 'feature__num__verbose', 'feature__num__imputer', 'feature__num__scaling', 'feature__num__imputer__add_indicator', 'feature__num__imputer__copy', 'feature__num__imputer__fill_value', 'feature__num__imputer__missing_values', 'feature__num__imputer__strategy', 'feature__num__imputer__verbose', 'feature__num__scaling__copy', 'estimator__bootstrap', 'estimator__ccp_alpha', 'estimator__criterion', 'estimator__max_depth', 'estimator__max_features', 'estimator__max_leaf_nodes', 'estimator__max_samples', 'estimator__min_impurity_decrease', 'estimator__min_impurity_split', 'estimator__min_samples_leaf', 'estimator__min_samples_split', 'estimator__min_weight_fraction_leaf', 'estimator__n_estimators', 'estimator__n_jobs', 'estimator__oob_score', 'estimator__random_state', 'estimator__verbose', 'estimator__warm_start'])"
      ]
     },
     "execution_count": 149,
     "metadata": {},
     "output_type": "execute_result"
    }
   ],
   "source": [
    "est.get_params().keys()"
   ]
  },
  {
   "cell_type": "code",
   "execution_count": 150,
   "metadata": {},
   "outputs": [],
   "source": [
    "from sklearn.utils import shuffle\n",
    "\n",
    "df_popularity_X_shuffle, df_popularity_y_shuffle = shuffle(df_popularity_X, df_popularity_y, random_state=42)"
   ]
  },
  {
   "cell_type": "code",
   "execution_count": null,
   "metadata": {},
   "outputs": [
    {
     "name": "stdout",
     "output_type": "stream",
     "text": [
      "Fitting 5 folds for each of 35 candidates, totalling 175 fits\n"
     ]
    },
    {
     "name": "stderr",
     "output_type": "stream",
     "text": [
      "[Parallel(n_jobs=1)]: Using backend SequentialBackend with 1 concurrent workers.\n"
     ]
    }
   ],
   "source": [
    "from sklearn.model_selection import GridSearchCV, RandomizedSearchCV\n",
    "\n",
    "parameters = {'estimator__max_depth': [10, 15, 20, 25, 30],\n",
    "             'estimator__min_samples_leaf': [5, 10, 15, 20], \n",
    "             'estimator__n_estimators': [10, 20, 30], \n",
    "             'estimator__min_samples_split': [5, 10, 15]}\n",
    "\n",
    "clf = RandomizedSearchCV(est, parameters, n_iter=35, cv=5, verbose=1)\n",
    "clf.fit(df_popularity_X_shuffle, df_popularity_y_shuffle)"
   ]
  },
  {
   "cell_type": "code",
   "execution_count": null,
   "metadata": {},
   "outputs": [],
   "source": []
  },
  {
   "cell_type": "markdown",
   "metadata": {},
   "source": [
    "### Visualize prediction by parks"
   ]
  },
  {
   "cell_type": "code",
   "execution_count": null,
   "metadata": {},
   "outputs": [],
   "source": []
  },
  {
   "cell_type": "code",
   "execution_count": 73,
   "metadata": {},
   "outputs": [],
   "source": [
    "def show_prediction_per_park(park_id, df_popularity, info_df, gs):\n",
    "    # get the predictions\n",
    "#     sub_df = pd.concat([df_hour, df_dayweek, df_popularity[['temp','humidity', 'precip', 'curr_popularity']]], axis=1)\n",
    "#     test_X = sub_df[df_popularity['id']==test_id].drop(columns=['curr_popularity', ])\n",
    "#     predict_y = gs.predict(test_X.fillna(0))\n",
    "    predict_y = gs.predict(df_popularity_X[df_popularity_X['id']==park_id])\n",
    "    \n",
    "    # plot data df_y\n",
    "    sub_df = df_popularity[df_popularity['id']==park_id]\n",
    "    plt.figure(figsize=[15,3])\n",
    "\n",
    "    plt.plot(sub_df['datetime_hour'], sub_df['curr_popularity'], 'o')\n",
    "    plt.legend(info_df[info_df['id']==park_id]['name'])\n",
    "    plt.plot(sub_df['datetime_hour'], predict_y, '^') #fill in 0 for missing values #, markersize=10\n",
    "\n",
    "    plt.figure(figsize=[15,3])\n",
    "    plt.plot(sub_df['datetime_hour'], df_popularity[df_popularity['id']==test_id]['dew'], 'o')\n",
    "    plt.plot(sub_df['datetime_hour'], df_popularity[df_popularity['id']==park_id]['humidity'], '^')\n",
    "    "
   ]
  },
  {
   "cell_type": "code",
   "execution_count": null,
   "metadata": {},
   "outputs": [],
   "source": []
  },
  {
   "cell_type": "code",
   "execution_count": null,
   "metadata": {},
   "outputs": [],
   "source": []
  },
  {
   "cell_type": "code",
   "execution_count": 137,
   "metadata": {},
   "outputs": [
    {
     "data": {
      "image/png": "[encoded data removed]",
      "text/plain": [
       "<Figure size 1080x216 with 1 Axes>"
      ]
     },
     "metadata": {
      "needs_background": "light"
     },
     "output_type": "display_data"
    },
    {
     "data": {
      "image/png": "[encoded data removed]",
      "text/plain": [
       "<Figure size 1080x216 with 1 Axes>"
      ]
     },
     "metadata": {
      "needs_background": "light"
     },
     "output_type": "display_data"
    }
   ],
   "source": [
    "test_id = 'ChIJy2dLH7TMNIgRnKnsPaq4AeM' \n",
    "show_prediction_per_park(test_id, df_popularity, info_df, est)"
   ]
  },
  {
   "cell_type": "code",
   "execution_count": 138,
   "metadata": {},
   "outputs": [
    {
     "data": {
      "image/png": "[encoded data removed]",
      "text/plain": [
       "<Figure size 1080x216 with 1 Axes>"
      ]
     },
     "metadata": {
      "needs_background": "light"
     },
     "output_type": "display_data"
    },
    {
     "data": {
      "image/png": "[encoded data removed]",
      "text/plain": [
       "<Figure size 1080x216 with 1 Axes>"
      ]
     },
     "metadata": {
      "needs_background": "light"
     },
     "output_type": "display_data"
    }
   ],
   "source": [
    "test_id = 'ChIJ2R92Tl7Gx4kRO6G7NcWtNhk' \n",
    "show_prediction_per_park(test_id, df_popularity, info_df, est)"
   ]
  },
  {
   "cell_type": "code",
   "execution_count": 139,
   "metadata": {},
   "outputs": [
    {
     "data": {
      "image/png": "[encoded data removed]",
      "text/plain": [
       "<Figure size 1080x216 with 1 Axes>"
      ]
     },
     "metadata": {
      "needs_background": "light"
     },
     "output_type": "display_data"
    },
    {
     "data": {
      "image/png": "[encoded data removed]",
      "text/plain": [
       "<Figure size 1080x216 with 1 Axes>"
      ]
     },
     "metadata": {
      "needs_background": "light"
     },
     "output_type": "display_data"
    }
   ],
   "source": [
    "# some examples for 'Travel & Transport': #'ChIJreKNFonIxokRPfXi7jRKom0'#'ChIJU-taUeGcyIkRmOMiqeRIRks'\n",
    "test_id = 'ChIJlT2okERFwokR616KLhTmZ8I' #playground\n",
    "show_prediction_per_park(test_id, df_popularity, info_df, est)"
   ]
  },
  {
   "cell_type": "code",
   "execution_count": null,
   "metadata": {},
   "outputs": [],
   "source": []
  },
  {
   "cell_type": "markdown",
   "metadata": {},
   "source": [
    "### Seperate numerical and categorical features"
   ]
  },
  {
   "cell_type": "code",
   "execution_count": 186,
   "metadata": {},
   "outputs": [
    {
     "data": {
      "text/plain": [
       "count                  321469\n",
       "unique                    589\n",
       "top       2021-04-10 14:00:00\n",
       "freq                     1051\n",
       "first     2021-03-17 02:00:00\n",
       "last      2021-04-10 23:00:00\n",
       "Name: datetime, dtype: object"
      ]
     },
     "execution_count": 186,
     "metadata": {},
     "output_type": "execute_result"
    }
   ],
   "source": [
    "df_popularity['datetime'].describe()"
   ]
  },
  {
   "cell_type": "code",
   "execution_count": null,
   "metadata": {},
   "outputs": [],
   "source": []
  }
 ],
 "metadata": {
  "kernelspec": {
   "display_name": "Python 3",
   "language": "python",
   "name": "python3"
  },
  "language_info": {
   "codemirror_mode": {
    "name": "ipython",
    "version": 3
   },
   "file_extension": ".py",
   "mimetype": "text/x-python",
   "name": "python",
   "nbconvert_exporter": "python",
   "pygments_lexer": "ipython3",
   "version": "3.7.6"
  }
 },
 "nbformat": 4,
 "nbformat_minor": 4
}

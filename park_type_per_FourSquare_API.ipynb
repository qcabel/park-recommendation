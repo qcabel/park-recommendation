{
 "cells": [
  {
   "cell_type": "code",
   "execution_count": 236,
   "metadata": {},
   "outputs": [],
   "source": [
    "import numpy as np\n",
    "import pandas as pd\n",
    "import requests\n",
    "from time import sleep\n",
    "\n",
    "import sqlite3\n",
    "import orjson\n"
   ]
  },
  {
   "cell_type": "markdown",
   "metadata": {},
   "source": [
    "# Park type clustering based the venues nearby\n",
    "\n",
    "Use FourSquare Place API to explore popular venues near the park (identified using latitude and longitude). The parks are then grouped based on similarity among their nearby venues.  "
   ]
  },
  {
   "cell_type": "code",
   "execution_count": 4,
   "metadata": {},
   "outputs": [],
   "source": [
    "# load philly park info (philly park and state park)\n",
    "conn = sqlite3.connect('philly_parks_info.db')\n",
    "philly_parks = pd.read_sql_query(\"SELECT id, name, lat, lng FROM info\", conn)\n",
    "conn.close()\n",
    "\n",
    "# philly_parks = philly_parks.set_index('id')"
   ]
  },
  {
   "cell_type": "code",
   "execution_count": 16,
   "metadata": {},
   "outputs": [
    {
     "data": {
      "text/html": [
       "<div>\n",
       "<style scoped>\n",
       "    .dataframe tbody tr th:only-of-type {\n",
       "        vertical-align: middle;\n",
       "    }\n",
       "\n",
       "    .dataframe tbody tr th {\n",
       "        vertical-align: top;\n",
       "    }\n",
       "\n",
       "    .dataframe thead th {\n",
       "        text-align: right;\n",
       "    }\n",
       "</style>\n",
       "<table border=\"1\" class=\"dataframe\">\n",
       "  <thead>\n",
       "    <tr style=\"text-align: right;\">\n",
       "      <th></th>\n",
       "      <th>id</th>\n",
       "      <th>name</th>\n",
       "      <th>lat</th>\n",
       "      <th>lng</th>\n",
       "    </tr>\n",
       "  </thead>\n",
       "  <tbody>\n",
       "    <tr>\n",
       "      <th>0</th>\n",
       "      <td>ChIJAWkAqNL1t4kRlm4slspOSXo</td>\n",
       "      <td>Quiet Waters Park</td>\n",
       "      <td>38.937670</td>\n",
       "      <td>-76.500899</td>\n",
       "    </tr>\n",
       "    <tr>\n",
       "      <th>1</th>\n",
       "      <td>ChIJzcow6Xb1t4kRQVE7s1AWWr8</td>\n",
       "      <td>Hillsmere Shores Community Beach</td>\n",
       "      <td>38.927212</td>\n",
       "      <td>-76.494150</td>\n",
       "    </tr>\n",
       "    <tr>\n",
       "      <th>2</th>\n",
       "      <td>ChIJ_bk5K1z1t4kRQNverIUOVko</td>\n",
       "      <td>Quiet Waters Dog Beach</td>\n",
       "      <td>38.930202</td>\n",
       "      <td>-76.508341</td>\n",
       "    </tr>\n",
       "    <tr>\n",
       "      <th>3</th>\n",
       "      <td>ChIJ_-2cQEX1t4kRoiCrmNMbrQ8</td>\n",
       "      <td>Quiet Waters Dog Park</td>\n",
       "      <td>38.931865</td>\n",
       "      <td>-76.505658</td>\n",
       "    </tr>\n",
       "    <tr>\n",
       "      <th>4</th>\n",
       "      <td>ChIJQWcsgIn2t4kRCL0Ub363FyI</td>\n",
       "      <td>Pip Moyer Recreation Center (Annapolis Recreat...</td>\n",
       "      <td>38.963271</td>\n",
       "      <td>-76.505150</td>\n",
       "    </tr>\n",
       "  </tbody>\n",
       "</table>\n",
       "</div>"
      ],
      "text/plain": [
       "                            id  \\\n",
       "0  ChIJAWkAqNL1t4kRlm4slspOSXo   \n",
       "1  ChIJzcow6Xb1t4kRQVE7s1AWWr8   \n",
       "2  ChIJ_bk5K1z1t4kRQNverIUOVko   \n",
       "3  ChIJ_-2cQEX1t4kRoiCrmNMbrQ8   \n",
       "4  ChIJQWcsgIn2t4kRCL0Ub363FyI   \n",
       "\n",
       "                                                name        lat        lng  \n",
       "0                                  Quiet Waters Park  38.937670 -76.500899  \n",
       "1                   Hillsmere Shores Community Beach  38.927212 -76.494150  \n",
       "2                             Quiet Waters Dog Beach  38.930202 -76.508341  \n",
       "3                              Quiet Waters Dog Park  38.931865 -76.505658  \n",
       "4  Pip Moyer Recreation Center (Annapolis Recreat...  38.963271 -76.505150  "
      ]
     },
     "execution_count": 16,
     "metadata": {},
     "output_type": "execute_result"
    }
   ],
   "source": [
    "philly_parks.head()"
   ]
  },
  {
   "cell_type": "code",
   "execution_count": 11,
   "metadata": {},
   "outputs": [],
   "source": [
    "# get fourSquare config ids\n",
    "fsqr_config = pd.read_csv('foursquare_config.txt', header=None)\n",
    "CLIENT_ID = fsqr_config.iloc[1][0]\n",
    "CLIENT_SECRET = fsqr_config.iloc[3][0]\n",
    "VERSION = '20200905' \n",
    "LIMIT = 500"
   ]
  },
  {
   "cell_type": "code",
   "execution_count": 37,
   "metadata": {},
   "outputs": [],
   "source": [
    "# explore popular venues near the park location (ll)\n",
    "def fsq_explore(ll):\n",
    "    lat = ll[0]\n",
    "    lng = ll[1]\n",
    "    radius = 5000 # meters, max 100,000 meters; if 25000 m (about half hour drive at 30 mile/h)\n",
    "    LIMIT = 500\n",
    "    SECTION = ''\n",
    "    # create the API request URL for venue recommendation\n",
    "    url = 'https://api.foursquare.com/v2/venues/explore?client_id={}&client_secret={}&v={}&ll={},{}&radius={}&limit={}&section={}&time=any&day=any'.format(\n",
    "        CLIENT_ID, CLIENT_SECRET, VERSION, lat, lng, radius, LIMIT, SECTION)\n",
    "\n",
    "    # make the GET request\n",
    "    results = requests.get(url).json()#[\"response\"]['groups'][0]['items']\n",
    "    return results"
   ]
  },
  {
   "cell_type": "code",
   "execution_count": 85,
   "metadata": {},
   "outputs": [
    {
     "name": "stdout",
     "output_type": "stream",
     "text": [
      "total venues: 35\n",
      "Quiet Waters Park: Park1439\n",
      "Bay Ridge Wine & Spirits: Wine Bar2450\n",
      "Rocco's Pizza: Pizza Place2445\n",
      "Annapolis Smokehouse and Tavern: BBQ Joint2469\n",
      "Bark 'n' Bean: Pet Store2459\n",
      "Caliente Grill: Mexican Restaurant2397\n",
      "Main Ingredient: American Restaurant2451\n",
      "Quiet Waters Dog Park: Dog Run1084\n",
      "Oyster Harbor Beach: Beach2208\n",
      "Old Stein Inn: German Restaurant3793\n",
      "Vin909: Wine Bar4435\n",
      "Bakers & co.: Bakery4687\n",
      "Bruster's Real Ice Cream: Ice Cream Shop4076\n",
      "Davis' Pub: Pub4818\n",
      "Sammy's Italian Pizza Kitchen: Italian Restaurant4254\n",
      "Sweet Hearts Patisserie: Bakery4032\n",
      "Bayside Inn: Restaurant4283\n",
      "Annapolis Seafood Markets: Seafood Restaurant3362\n",
      "Grapes: Wine Bar4010\n",
      "Historic London Town and Gardens: Garden4338\n",
      "Wine Cellars of Annapolis: Wine Shop4016\n",
      "Zumiez: Clothing Store3149\n",
      "Triton Beach: Beach4868\n",
      "\"Pip\" Moyer Recreation Center: Gym4094\n",
      "Redbox: Video Store4262\n",
      "7-Eleven: Convenience Store4267\n",
      "Annapolis wine and spirits: Liquor Store3330\n",
      "Sam's Supermarket: Grocery Store3457\n",
      "Panda Noodle House: Asian Restaurant3997\n",
      "American Legion - Post 226: Building3998\n",
      "Wild bird center: Pet Store3999\n",
      "Pit Boys: BBQ Joint4232\n",
      "Sues Deli: Deli / Bodega4509\n",
      "Bently Boat Slips: Harbor / Marina4666\n",
      "Rhode River Marina & Boat Sales: Harbor / Marina4721\n"
     ]
    }
   ],
   "source": [
    "# example\n",
    "results = fsq_explore(philly_parks.iloc[1][['lat', 'lng']])\n",
    "print('total venues: ' + str(len(results['response']['groups'][0]['items'])))\n",
    "for i in range(len(results['response']['groups'][0]['items'])):\n",
    "    print(results['response']['groups'][0]['items'][i]['venue']['name'] + ': ' + \n",
    "         results['response']['groups'][0]['items'][i]['venue']['categories'][0]['name'] + \n",
    "         str(results['response']['groups'][0]['items'][i]['venue']['location']['distance']))"
   ]
  },
  {
   "cell_type": "code",
   "execution_count": 56,
   "metadata": {},
   "outputs": [
    {
     "data": {
      "text/plain": [
       "[{'id': '4bf58dd8d48988d123941735',\n",
       "  'name': 'Wine Bar',\n",
       "  'pluralName': 'Wine Bars',\n",
       "  'shortName': 'Wine Bar',\n",
       "  'icon': {'prefix': 'https://ss3.4sqi.net/img/categories_v2/food/winery_',\n",
       "   'suffix': '.png'},\n",
       "  'primary': True}]"
      ]
     },
     "execution_count": 56,
     "metadata": {},
     "output_type": "execute_result"
    }
   ],
   "source": [
    "results['response']['groups'][0]['items'][1]['venue']['categories']"
   ]
  },
  {
   "cell_type": "code",
   "execution_count": 112,
   "metadata": {},
   "outputs": [],
   "source": [
    "nearby_venues_query('nyc_parks_info.db', 'nyc_park_nearby_venues_raw.db')"
   ]
  },
  {
   "cell_type": "code",
   "execution_count": 111,
   "metadata": {},
   "outputs": [],
   "source": [
    "# philly_parks[['lat', 'lng']].apply(fsq_explore, axis=1)\n",
    "# save query results in database\n",
    "\n",
    "def nearby_venues_query(input_db, output_db):\n",
    "    # input_db = 'philly_parks_info.db'; output_db = 'philly_park_nearby_venues_raw.db'\n",
    "    in_conn = sqlite3.connect(input_db)\n",
    "    out_conn = sqlite3.connect(output_db)\n",
    "    out_conn.execute('''CREATE TABLE nearby_venues_raw (id text, name text, lat real, lng real, results blob)''')\n",
    "\n",
    "    for ind, row in enumerate(in_conn.execute(\"SELECT id, name, lat, lng FROM info\")):\n",
    "        sleep(0.5)\n",
    "\n",
    "        results = fsq_explore(row[2:])\n",
    "\n",
    "        # insert place_details, curr_popularity, has_popular_times\n",
    "        to_insert_values = [(row[0], row[1], row[2], row[3], orjson.dumps(results))]\n",
    "        out_conn.executemany('''INSERT INTO nearby_venues_raw VALUES (?, ?, ?, ?, ?)''', to_insert_values)\n",
    "\n",
    "        out_conn.commit()\n",
    "\n",
    "    in_conn.close()\n",
    "    out_conn.close()"
   ]
  },
  {
   "cell_type": "code",
   "execution_count": 109,
   "metadata": {},
   "outputs": [
    {
     "data": {
      "text/html": [
       "<div>\n",
       "<style scoped>\n",
       "    .dataframe tbody tr th:only-of-type {\n",
       "        vertical-align: middle;\n",
       "    }\n",
       "\n",
       "    .dataframe tbody tr th {\n",
       "        vertical-align: top;\n",
       "    }\n",
       "\n",
       "    .dataframe thead th {\n",
       "        text-align: right;\n",
       "    }\n",
       "</style>\n",
       "<table border=\"1\" class=\"dataframe\">\n",
       "  <thead>\n",
       "    <tr style=\"text-align: right;\">\n",
       "      <th></th>\n",
       "      <th>id</th>\n",
       "      <th>name</th>\n",
       "      <th>lat</th>\n",
       "      <th>lng</th>\n",
       "      <th>results</th>\n",
       "    </tr>\n",
       "  </thead>\n",
       "  <tbody>\n",
       "    <tr>\n",
       "      <th>0</th>\n",
       "      <td>ChIJAWkAqNL1t4kRlm4slspOSXo</td>\n",
       "      <td>Quiet Waters Park</td>\n",
       "      <td>38.937670</td>\n",
       "      <td>-76.500899</td>\n",
       "      <td>b'{\"meta\":{\"code\":200,\"requestId\":\"606776a0225...</td>\n",
       "    </tr>\n",
       "    <tr>\n",
       "      <th>1</th>\n",
       "      <td>ChIJzcow6Xb1t4kRQVE7s1AWWr8</td>\n",
       "      <td>Hillsmere Shores Community Beach</td>\n",
       "      <td>38.927212</td>\n",
       "      <td>-76.494150</td>\n",
       "      <td>b'{\"meta\":{\"code\":200,\"requestId\":\"606776a1b26...</td>\n",
       "    </tr>\n",
       "    <tr>\n",
       "      <th>2</th>\n",
       "      <td>ChIJ_bk5K1z1t4kRQNverIUOVko</td>\n",
       "      <td>Quiet Waters Dog Beach</td>\n",
       "      <td>38.930202</td>\n",
       "      <td>-76.508341</td>\n",
       "      <td>b'{\"meta\":{\"code\":200,\"requestId\":\"606776a2808...</td>\n",
       "    </tr>\n",
       "  </tbody>\n",
       "</table>\n",
       "</div>"
      ],
      "text/plain": [
       "                            id                              name        lat  \\\n",
       "0  ChIJAWkAqNL1t4kRlm4slspOSXo                 Quiet Waters Park  38.937670   \n",
       "1  ChIJzcow6Xb1t4kRQVE7s1AWWr8  Hillsmere Shores Community Beach  38.927212   \n",
       "2  ChIJ_bk5K1z1t4kRQNverIUOVko            Quiet Waters Dog Beach  38.930202   \n",
       "\n",
       "         lng                                            results  \n",
       "0 -76.500899  b'{\"meta\":{\"code\":200,\"requestId\":\"606776a0225...  \n",
       "1 -76.494150  b'{\"meta\":{\"code\":200,\"requestId\":\"606776a1b26...  \n",
       "2 -76.508341  b'{\"meta\":{\"code\":200,\"requestId\":\"606776a2808...  "
      ]
     },
     "execution_count": 109,
     "metadata": {},
     "output_type": "execute_result"
    }
   ],
   "source": [
    "conn = sqlite3.connect('philly_park_nearby_venues_raw.db')\n",
    "test = pd.read_sql_query(\"SELECT * FROM nearby_venues_raw\", conn)\n",
    "conn.close()\n",
    "test.head()"
   ]
  },
  {
   "cell_type": "code",
   "execution_count": 138,
   "metadata": {},
   "outputs": [
    {
     "name": "stdout",
     "output_type": "stream",
     "text": [
      "Hillsmere Shores Community Beach\n"
     ]
    },
    {
     "data": {
      "text/plain": [
       "{'Quiet Waters Dog Park': 1084,\n",
       " 'Quiet Waters Park': 1439,\n",
       " 'Oyster Harbor Beach': 2208,\n",
       " 'Caliente Grill': 2397,\n",
       " \"Rocco's Pizza\": 2445,\n",
       " 'Bay Ridge Wine & Spirits': 2450,\n",
       " 'Main Ingredient': 2451,\n",
       " \"Bark 'n' Bean\": 2459,\n",
       " 'Annapolis Smokehouse and Tavern': 2469,\n",
       " 'Zumiez': 3149,\n",
       " 'Annapolis wine and spirits': 3330,\n",
       " 'Annapolis Seafood Markets': 3362,\n",
       " \"Sam's Supermarket\": 3457,\n",
       " 'Old Stein Inn': 3793,\n",
       " 'Panda Noodle House': 3997,\n",
       " 'American Legion - Post 226': 3998,\n",
       " 'Wild bird center': 3999,\n",
       " 'Grapes': 4010,\n",
       " 'Wine Cellars of Annapolis': 4016,\n",
       " 'Sweet Hearts Patisserie': 4032,\n",
       " \"Bruster's Real Ice Cream\": 4076,\n",
       " '\"Pip\" Moyer Recreation Center': 4094,\n",
       " 'Pit Boys': 4232,\n",
       " \"Sammy's Italian Pizza Kitchen\": 4254,\n",
       " 'Redbox': 4262,\n",
       " '7-Eleven': 4267,\n",
       " 'Bayside Inn': 4283,\n",
       " 'Historic London Town and Gardens': 4338,\n",
       " 'Vin909': 4435,\n",
       " 'Sues Deli': 4509,\n",
       " 'Bently Boat Slips': 4666,\n",
       " 'Bakers & co.': 4687,\n",
       " 'Rhode River Marina & Boat Sales': 4721,\n",
       " \"Davis' Pub\": 4818,\n",
       " 'Triton Beach': 4868}"
      ]
     },
     "execution_count": 138,
     "metadata": {},
     "output_type": "execute_result"
    }
   ],
   "source": [
    "park_ind = 1\n",
    "nearby_venues = orjson.loads(test.iloc[park_ind]['results'])['response']['groups'][0]['items']\n",
    "nearby_venues_name_distance = {nearby_venues[i]['venue']['name']:nearby_venues[i]['venue']['location']['distance'] for i in range(len(nearby_venues))}\n",
    "nearby_venues_name_distance = {k: v for k, v in sorted(nearby_venues_name_distance.items(), \n",
    "                                                       key=lambda item: item[1], reverse=False)} # sort by distance\n",
    "print(test.iloc[park_ind]['name'])\n",
    "nearby_venues_name_distance"
   ]
  },
  {
   "cell_type": "markdown",
   "metadata": {},
   "source": [
    "#### venue categories - convert to the top category (10 categ in total)"
   ]
  },
  {
   "cell_type": "code",
   "execution_count": null,
   "metadata": {},
   "outputs": [],
   "source": [
    "# Build a dictionary for all possible fsq category ids, and their value will be the corresponding top category.\n",
    "\n",
    "url = 'https://api.foursquare.com/v2/venues/categories?client_id={}&client_secret={}&v={}'.format(CLIENT_ID, CLIENT_SECRET, VERSION)\n",
    "all_categ = requests.get(url).json()"
   ]
  },
  {
   "cell_type": "code",
   "execution_count": 264,
   "metadata": {},
   "outputs": [],
   "source": [
    "# find the top level category for each categ id\n",
    "# features are simplified by only considering the 10 top categ\n",
    "#\n",
    "# all_categ saved as a tree, with parent categ contains key-'categories', until reaching a leaf\n",
    "def create_categ_mapping(all_categ):    \n",
    "    categ_mapping = {}\n",
    "    categ_parent = {}\n",
    "    \n",
    "    def find_categ(node, root_label, parent):\n",
    "        # map id to label\n",
    "        categ_mapping[node['id']] = root_label\n",
    "        categ_parent[node['id']] = parent\n",
    "\n",
    "        for child in node.get('categories', []): # if at leaf, categories is empty\n",
    "            find_categ(child, root_label, node)  # 'node' is current child's parent; 'root_label' 1 of 10 top categ\n",
    "        \n",
    "            \n",
    "    for itopc in range(10):\n",
    "        root = all_categ['response']['categories'][itopc]\n",
    "        find_categ(root, root['name'], None)\n",
    "        \n",
    "    # categ_mapping contains the 10 top categ corresponding to each id (np.unique(list(categ_mapping.values())))\n",
    "    # categ_parent: direct parent of each categ_id (categ_parent['id']['categories'] are this parent's children) \n",
    "    return categ_mapping, categ_parent\n",
    "\n",
    "categ_mapping, categ_parent = create_categ_mapping(all_categ)"
   ]
  },
  {
   "cell_type": "code",
   "execution_count": null,
   "metadata": {},
   "outputs": [],
   "source": []
  },
  {
   "cell_type": "code",
   "execution_count": null,
   "metadata": {},
   "outputs": [],
   "source": []
  },
  {
   "cell_type": "code",
   "execution_count": 282,
   "metadata": {},
   "outputs": [
    {
     "data": {
      "text/plain": [
       "array(['Arts & Entertainment', 'College & University', 'Event', 'Food',\n",
       "       'Nightlife Spot', 'Outdoors & Recreation',\n",
       "       'Professional & Other Places', 'Residence', 'Shop & Service',\n",
       "       'Travel & Transport'], dtype='<U27')"
      ]
     },
     "execution_count": 282,
     "metadata": {},
     "output_type": "execute_result"
    }
   ],
   "source": [
    "categ_keys = np.unique(list(categ_mapping.values()))\n",
    "# for itopc in range(10):\n",
    "#     categ_keys.append(all_categ['response']['categories'][itopc]['name'])\n",
    "categ_keys"
   ]
  },
  {
   "cell_type": "markdown",
   "metadata": {},
   "source": [
    "#### extract feature - number of nearby venues per top categ"
   ]
  },
  {
   "cell_type": "code",
   "execution_count": 58,
   "metadata": {},
   "outputs": [],
   "source": [
    "\n",
    "venue_stat = { k: 0 for k in categ_keys }\n",
    "\n",
    "for item in results['response']['groups'][0]['items']:\n",
    "    venue_top_categ = categ_mapping[item['venue']['categories'][0]['id']]\n",
    "    venue_stat[venue_top_categ] += 1    \n",
    "\n",
    "\n"
   ]
  },
  {
   "cell_type": "code",
   "execution_count": 59,
   "metadata": {},
   "outputs": [
    {
     "data": {
      "text/plain": [
       "{'Arts & Entertainment': 0,\n",
       " 'College & University': 0,\n",
       " 'Event': 0,\n",
       " 'Food': 14,\n",
       " 'Nightlife Spot': 4,\n",
       " 'Outdoors & Recreation': 8,\n",
       " 'Professional & Other Places': 1,\n",
       " 'Residence': 0,\n",
       " 'Shop & Service': 8,\n",
       " 'Travel & Transport': 0}"
      ]
     },
     "execution_count": 59,
     "metadata": {},
     "output_type": "execute_result"
    }
   ],
   "source": [
    "venue_stat"
   ]
  },
  {
   "cell_type": "code",
   "execution_count": null,
   "metadata": {},
   "outputs": [],
   "source": []
  },
  {
   "cell_type": "markdown",
   "metadata": {},
   "source": [
    "#### Foursquare sub-category id [detailed type info for each venue]\n",
    "\n",
    "https://developer.foursquare.com/docs/build-with-foursquare/categories/), use search for the purpose of matching. "
   ]
  },
  {
   "cell_type": "code",
   "execution_count": 140,
   "metadata": {},
   "outputs": [],
   "source": [
    "# search the park in foursquare place API\n",
    "def fsq_search(name, lat, lng):\n",
    "    # create the API request URL for park search\n",
    "    url = 'https://api.foursquare.com/v2/venues/search?client_id={}&client_secret={}&v={}&ll={},{}&name={}&intent=match'.format(\n",
    "        CLIENT_ID, CLIENT_SECRET, VERSION, lat, lng, name)\n",
    "\n",
    "    # make the GET request\n",
    "    results = requests.get(url).json()#[\"response\"]['groups'][0]['items']\n",
    "    return results"
   ]
  },
  {
   "cell_type": "code",
   "execution_count": 141,
   "metadata": {},
   "outputs": [],
   "source": [
    "def fsq_park_query(input_db, output_db):\n",
    "    # input_db = 'philly_parks_info.db'; output_db = 'philly_park_nearby_venues_raw.db'\n",
    "    in_conn = sqlite3.connect(input_db)\n",
    "    out_conn = sqlite3.connect(output_db)\n",
    "    out_conn.execute('''CREATE TABLE nearby_venues_raw (id text, name text, lat real, lng real, results blob)''')\n",
    "\n",
    "    for ind, row in enumerate(in_conn.execute(\"SELECT id, name, lat, lng FROM info\")):\n",
    "        sleep(0.5)\n",
    "\n",
    "        results = fsq_search(row[1], row[2], row[3])\n",
    "\n",
    "        # insert place_details, curr_popularity, has_popular_times\n",
    "        to_insert_values = [(row[0], row[1], row[2], row[3], orjson.dumps(results))]\n",
    "        out_conn.executemany('''INSERT INTO nearby_venues_raw VALUES (?, ?, ?, ?, ?)''', to_insert_values)\n",
    "\n",
    "        out_conn.commit()\n",
    "\n",
    "    in_conn.close()\n",
    "    out_conn.close()"
   ]
  },
  {
   "cell_type": "code",
   "execution_count": 143,
   "metadata": {},
   "outputs": [],
   "source": [
    "fsq_park_query('philly_parks_info.db', \"philly_park_foursquare_search.db\")\n",
    "\n",
    "fsq_park_query('nyc_parks_info.db', \"nyc_park_foursquare_search.db\")"
   ]
  },
  {
   "cell_type": "markdown",
   "metadata": {},
   "source": [
    "#### Add new columns related to 'fsq_type' into info table"
   ]
  },
  {
   "cell_type": "code",
   "execution_count": 217,
   "metadata": {},
   "outputs": [
    {
     "data": {
      "text/html": [
       "<div>\n",
       "<style scoped>\n",
       "    .dataframe tbody tr th:only-of-type {\n",
       "        vertical-align: middle;\n",
       "    }\n",
       "\n",
       "    .dataframe tbody tr th {\n",
       "        vertical-align: top;\n",
       "    }\n",
       "\n",
       "    .dataframe thead th {\n",
       "        text-align: right;\n",
       "    }\n",
       "</style>\n",
       "<table border=\"1\" class=\"dataframe\">\n",
       "  <thead>\n",
       "    <tr style=\"text-align: right;\">\n",
       "      <th></th>\n",
       "      <th>id</th>\n",
       "      <th>name</th>\n",
       "      <th>lat</th>\n",
       "      <th>lng</th>\n",
       "      <th>results</th>\n",
       "    </tr>\n",
       "  </thead>\n",
       "  <tbody>\n",
       "    <tr>\n",
       "      <th>0</th>\n",
       "      <td>ChIJAWkAqNL1t4kRlm4slspOSXo</td>\n",
       "      <td>Quiet Waters Park</td>\n",
       "      <td>38.937670</td>\n",
       "      <td>-76.500899</td>\n",
       "      <td>b'{\"meta\":{\"code\":200,\"requestId\":\"6067a7d484d...</td>\n",
       "    </tr>\n",
       "    <tr>\n",
       "      <th>1</th>\n",
       "      <td>ChIJzcow6Xb1t4kRQVE7s1AWWr8</td>\n",
       "      <td>Hillsmere Shores Community Beach</td>\n",
       "      <td>38.927212</td>\n",
       "      <td>-76.494150</td>\n",
       "      <td>b'{\"meta\":{\"code\":200,\"requestId\":\"6067a7d54ba...</td>\n",
       "    </tr>\n",
       "    <tr>\n",
       "      <th>2</th>\n",
       "      <td>ChIJ_bk5K1z1t4kRQNverIUOVko</td>\n",
       "      <td>Quiet Waters Dog Beach</td>\n",
       "      <td>38.930202</td>\n",
       "      <td>-76.508341</td>\n",
       "      <td>b'{\"meta\":{\"code\":200,\"requestId\":\"6067a7d61c7...</td>\n",
       "    </tr>\n",
       "    <tr>\n",
       "      <th>3</th>\n",
       "      <td>ChIJ_-2cQEX1t4kRoiCrmNMbrQ8</td>\n",
       "      <td>Quiet Waters Dog Park</td>\n",
       "      <td>38.931865</td>\n",
       "      <td>-76.505658</td>\n",
       "      <td>b'{\"meta\":{\"code\":200,\"requestId\":\"6067a7d686e...</td>\n",
       "    </tr>\n",
       "    <tr>\n",
       "      <th>4</th>\n",
       "      <td>ChIJQWcsgIn2t4kRCL0Ub363FyI</td>\n",
       "      <td>Pip Moyer Recreation Center (Annapolis Recreat...</td>\n",
       "      <td>38.963271</td>\n",
       "      <td>-76.505150</td>\n",
       "      <td>b'{\"meta\":{\"code\":200,\"requestId\":\"6067a7d741d...</td>\n",
       "    </tr>\n",
       "  </tbody>\n",
       "</table>\n",
       "</div>"
      ],
      "text/plain": [
       "                            id  \\\n",
       "0  ChIJAWkAqNL1t4kRlm4slspOSXo   \n",
       "1  ChIJzcow6Xb1t4kRQVE7s1AWWr8   \n",
       "2  ChIJ_bk5K1z1t4kRQNverIUOVko   \n",
       "3  ChIJ_-2cQEX1t4kRoiCrmNMbrQ8   \n",
       "4  ChIJQWcsgIn2t4kRCL0Ub363FyI   \n",
       "\n",
       "                                                name        lat        lng  \\\n",
       "0                                  Quiet Waters Park  38.937670 -76.500899   \n",
       "1                   Hillsmere Shores Community Beach  38.927212 -76.494150   \n",
       "2                             Quiet Waters Dog Beach  38.930202 -76.508341   \n",
       "3                              Quiet Waters Dog Park  38.931865 -76.505658   \n",
       "4  Pip Moyer Recreation Center (Annapolis Recreat...  38.963271 -76.505150   \n",
       "\n",
       "                                             results  \n",
       "0  b'{\"meta\":{\"code\":200,\"requestId\":\"6067a7d484d...  \n",
       "1  b'{\"meta\":{\"code\":200,\"requestId\":\"6067a7d54ba...  \n",
       "2  b'{\"meta\":{\"code\":200,\"requestId\":\"6067a7d61c7...  \n",
       "3  b'{\"meta\":{\"code\":200,\"requestId\":\"6067a7d686e...  \n",
       "4  b'{\"meta\":{\"code\":200,\"requestId\":\"6067a7d741d...  "
      ]
     },
     "execution_count": 217,
     "metadata": {},
     "output_type": "execute_result"
    }
   ],
   "source": [
    "conn = sqlite3.connect(\"philly_park_foursquare_search.db\")\n",
    "fsq_park = pd.read_sql_query(\"SELECT * FROM nearby_venues_raw\", conn)\n",
    "conn.close()\n",
    "fsq_park.head()"
   ]
  },
  {
   "cell_type": "code",
   "execution_count": 228,
   "metadata": {},
   "outputs": [],
   "source": [
    "# fsq_name, fsq_type_name, fsq_type_id\n",
    "\n",
    "#fsq_park_results = fsq_park.iloc[ipark]['results']\n",
    "def extract_fsq_park_info(fsq_park_results):\n",
    "    response = orjson.loads(fsq_park_results)['response']\n",
    "    if response and response['venues']: \n",
    "        venue = response['venues'][0]\n",
    "        category = venue['categories'][0] if venue['categories'] else {}\n",
    "        \n",
    "        return pd.Series([venue['name'], category.get('name',''), category.get('id','')])\n",
    "    else:\n",
    "        return pd.Series(['','',''])"
   ]
  },
  {
   "cell_type": "code",
   "execution_count": 241,
   "metadata": {},
   "outputs": [
    {
     "data": {
      "text/html": [
       "<div>\n",
       "<style scoped>\n",
       "    .dataframe tbody tr th:only-of-type {\n",
       "        vertical-align: middle;\n",
       "    }\n",
       "\n",
       "    .dataframe tbody tr th {\n",
       "        vertical-align: top;\n",
       "    }\n",
       "\n",
       "    .dataframe thead th {\n",
       "        text-align: right;\n",
       "    }\n",
       "</style>\n",
       "<table border=\"1\" class=\"dataframe\">\n",
       "  <thead>\n",
       "    <tr style=\"text-align: right;\">\n",
       "      <th></th>\n",
       "      <th>id</th>\n",
       "      <th>name</th>\n",
       "      <th>lat</th>\n",
       "      <th>lng</th>\n",
       "      <th>fsq_name</th>\n",
       "      <th>fsq_type_name</th>\n",
       "      <th>fsq_type_id</th>\n",
       "    </tr>\n",
       "  </thead>\n",
       "  <tbody>\n",
       "    <tr>\n",
       "      <th>0</th>\n",
       "      <td>ChIJAWkAqNL1t4kRlm4slspOSXo</td>\n",
       "      <td>Quiet Waters Park</td>\n",
       "      <td>38.937670</td>\n",
       "      <td>-76.500899</td>\n",
       "      <td>Quiet Waters Park</td>\n",
       "      <td>Park</td>\n",
       "      <td>4bf58dd8d48988d163941735</td>\n",
       "    </tr>\n",
       "    <tr>\n",
       "      <th>1</th>\n",
       "      <td>ChIJzcow6Xb1t4kRQVE7s1AWWr8</td>\n",
       "      <td>Hillsmere Shores Community Beach</td>\n",
       "      <td>38.927212</td>\n",
       "      <td>-76.494150</td>\n",
       "      <td>Hillsmere Shores Beach and Playground</td>\n",
       "      <td>Playground</td>\n",
       "      <td>4bf58dd8d48988d1e7941735</td>\n",
       "    </tr>\n",
       "    <tr>\n",
       "      <th>2</th>\n",
       "      <td>ChIJ_bk5K1z1t4kRQNverIUOVko</td>\n",
       "      <td>Quiet Waters Dog Beach</td>\n",
       "      <td>38.930202</td>\n",
       "      <td>-76.508341</td>\n",
       "      <td></td>\n",
       "      <td></td>\n",
       "      <td></td>\n",
       "    </tr>\n",
       "    <tr>\n",
       "      <th>3</th>\n",
       "      <td>ChIJ_-2cQEX1t4kRoiCrmNMbrQ8</td>\n",
       "      <td>Quiet Waters Dog Park</td>\n",
       "      <td>38.931865</td>\n",
       "      <td>-76.505658</td>\n",
       "      <td>Quiet Waters Dog Park</td>\n",
       "      <td>Dog Run</td>\n",
       "      <td>4bf58dd8d48988d1e5941735</td>\n",
       "    </tr>\n",
       "    <tr>\n",
       "      <th>4</th>\n",
       "      <td>ChIJQWcsgIn2t4kRCL0Ub363FyI</td>\n",
       "      <td>Pip Moyer Recreation Center (Annapolis Recreat...</td>\n",
       "      <td>38.963271</td>\n",
       "      <td>-76.505150</td>\n",
       "      <td>\"Pip\" Moyer Recreation Center</td>\n",
       "      <td>Gym</td>\n",
       "      <td>4bf58dd8d48988d176941735</td>\n",
       "    </tr>\n",
       "    <tr>\n",
       "      <th>...</th>\n",
       "      <td>...</td>\n",
       "      <td>...</td>\n",
       "      <td>...</td>\n",
       "      <td>...</td>\n",
       "      <td>...</td>\n",
       "      <td>...</td>\n",
       "      <td>...</td>\n",
       "    </tr>\n",
       "    <tr>\n",
       "      <th>1651</th>\n",
       "      <td>ChIJfVzC4e1EwYkR7CX7hHL8w-I</td>\n",
       "      <td>Township Park</td>\n",
       "      <td>40.071413</td>\n",
       "      <td>-74.715783</td>\n",
       "      <td></td>\n",
       "      <td></td>\n",
       "      <td></td>\n",
       "    </tr>\n",
       "    <tr>\n",
       "      <th>1652</th>\n",
       "      <td>ChIJN_dm4uVbwYkRmsPTaQhpCsI</td>\n",
       "      <td>Abbott Marshlands</td>\n",
       "      <td>40.163117</td>\n",
       "      <td>-74.702247</td>\n",
       "      <td></td>\n",
       "      <td></td>\n",
       "      <td></td>\n",
       "    </tr>\n",
       "    <tr>\n",
       "      <th>1653</th>\n",
       "      <td>ChIJd9ol6rtbwYkR6v7KxxO7Z6k</td>\n",
       "      <td>Scenic Overlook</td>\n",
       "      <td>40.154833</td>\n",
       "      <td>-74.717484</td>\n",
       "      <td>Scenic Overlook</td>\n",
       "      <td>Scenic Lookout</td>\n",
       "      <td>4bf58dd8d48988d165941735</td>\n",
       "    </tr>\n",
       "    <tr>\n",
       "      <th>1654</th>\n",
       "      <td>ChIJ8VFM3PLjw4kRWHo927zq9ZM</td>\n",
       "      <td>Carson Road Woods</td>\n",
       "      <td>40.330333</td>\n",
       "      <td>-74.712685</td>\n",
       "      <td></td>\n",
       "      <td></td>\n",
       "      <td></td>\n",
       "    </tr>\n",
       "    <tr>\n",
       "      <th>1655</th>\n",
       "      <td>ChIJfTYtWB_kw4kR2kqMn-JJ1V0</td>\n",
       "      <td>Woodfield Reservation</td>\n",
       "      <td>40.368272</td>\n",
       "      <td>-74.695918</td>\n",
       "      <td></td>\n",
       "      <td></td>\n",
       "      <td></td>\n",
       "    </tr>\n",
       "  </tbody>\n",
       "</table>\n",
       "<p>1656 rows × 7 columns</p>\n",
       "</div>"
      ],
      "text/plain": [
       "                               id  \\\n",
       "0     ChIJAWkAqNL1t4kRlm4slspOSXo   \n",
       "1     ChIJzcow6Xb1t4kRQVE7s1AWWr8   \n",
       "2     ChIJ_bk5K1z1t4kRQNverIUOVko   \n",
       "3     ChIJ_-2cQEX1t4kRoiCrmNMbrQ8   \n",
       "4     ChIJQWcsgIn2t4kRCL0Ub363FyI   \n",
       "...                           ...   \n",
       "1651  ChIJfVzC4e1EwYkR7CX7hHL8w-I   \n",
       "1652  ChIJN_dm4uVbwYkRmsPTaQhpCsI   \n",
       "1653  ChIJd9ol6rtbwYkR6v7KxxO7Z6k   \n",
       "1654  ChIJ8VFM3PLjw4kRWHo927zq9ZM   \n",
       "1655  ChIJfTYtWB_kw4kR2kqMn-JJ1V0   \n",
       "\n",
       "                                                   name        lat        lng  \\\n",
       "0                                     Quiet Waters Park  38.937670 -76.500899   \n",
       "1                      Hillsmere Shores Community Beach  38.927212 -76.494150   \n",
       "2                                Quiet Waters Dog Beach  38.930202 -76.508341   \n",
       "3                                 Quiet Waters Dog Park  38.931865 -76.505658   \n",
       "4     Pip Moyer Recreation Center (Annapolis Recreat...  38.963271 -76.505150   \n",
       "...                                                 ...        ...        ...   \n",
       "1651                                      Township Park  40.071413 -74.715783   \n",
       "1652                                  Abbott Marshlands  40.163117 -74.702247   \n",
       "1653                                    Scenic Overlook  40.154833 -74.717484   \n",
       "1654                                  Carson Road Woods  40.330333 -74.712685   \n",
       "1655                              Woodfield Reservation  40.368272 -74.695918   \n",
       "\n",
       "                                   fsq_name   fsq_type_name  \\\n",
       "0                         Quiet Waters Park            Park   \n",
       "1     Hillsmere Shores Beach and Playground      Playground   \n",
       "2                                                             \n",
       "3                     Quiet Waters Dog Park         Dog Run   \n",
       "4             \"Pip\" Moyer Recreation Center             Gym   \n",
       "...                                     ...             ...   \n",
       "1651                                                          \n",
       "1652                                                          \n",
       "1653                        Scenic Overlook  Scenic Lookout   \n",
       "1654                                                          \n",
       "1655                                                          \n",
       "\n",
       "                   fsq_type_id  \n",
       "0     4bf58dd8d48988d163941735  \n",
       "1     4bf58dd8d48988d1e7941735  \n",
       "2                               \n",
       "3     4bf58dd8d48988d1e5941735  \n",
       "4     4bf58dd8d48988d176941735  \n",
       "...                        ...  \n",
       "1651                            \n",
       "1652                            \n",
       "1653  4bf58dd8d48988d165941735  \n",
       "1654                            \n",
       "1655                            \n",
       "\n",
       "[1656 rows x 7 columns]"
      ]
     },
     "execution_count": 241,
     "metadata": {},
     "output_type": "execute_result"
    }
   ],
   "source": [
    "fsq_park[['fsq_name', 'fsq_type_name', 'fsq_type_id']] = fsq_park['results'].apply(extract_fsq_park_info)\n",
    "\n",
    "fsq_park_light = fsq_park.drop(columns=['results'])\n",
    "fsq_park_light"
   ]
  },
  {
   "cell_type": "code",
   "execution_count": 243,
   "metadata": {},
   "outputs": [],
   "source": [
    "# save\n",
    "fsq_park_light.to_parquet('philly_park_foursquare_types.parquet')"
   ]
  },
  {
   "cell_type": "code",
   "execution_count": 246,
   "metadata": {},
   "outputs": [],
   "source": [
    "def add_fsq_type(input_db, output_parquet):\n",
    "    conn = sqlite3.connect(input_db)\n",
    "    fsq_park = pd.read_sql_query(\"SELECT * FROM nearby_venues_raw\", conn)\n",
    "    conn.close()\n",
    "    \n",
    "    # extract type info from results and add new columns\n",
    "    fsq_park[['fsq_name', 'fsq_type_name', 'fsq_type_id']] = fsq_park['results'].apply(extract_fsq_park_info)\n",
    "    \n",
    "    fsq_park.drop(columns=['results']).to_parquet(output_parquet)\n"
   ]
  },
  {
   "cell_type": "code",
   "execution_count": 247,
   "metadata": {},
   "outputs": [],
   "source": [
    "add_fsq_type('nyc_park_foursquare_search.db', 'nyc_park_foursquare_types.parquet')"
   ]
  },
  {
   "cell_type": "markdown",
   "metadata": {},
   "source": [
    "#### Simplify the category to only one level below 'Outdoors & Recreation'\n",
    "Use categ_parent"
   ]
  },
  {
   "cell_type": "code",
   "execution_count": 334,
   "metadata": {},
   "outputs": [
    {
     "data": {
      "text/html": [
       "<div>\n",
       "<style scoped>\n",
       "    .dataframe tbody tr th:only-of-type {\n",
       "        vertical-align: middle;\n",
       "    }\n",
       "\n",
       "    .dataframe tbody tr th {\n",
       "        vertical-align: top;\n",
       "    }\n",
       "\n",
       "    .dataframe thead th {\n",
       "        text-align: right;\n",
       "    }\n",
       "</style>\n",
       "<table border=\"1\" class=\"dataframe\">\n",
       "  <thead>\n",
       "    <tr style=\"text-align: right;\">\n",
       "      <th></th>\n",
       "      <th>id</th>\n",
       "      <th>name</th>\n",
       "      <th>lat</th>\n",
       "      <th>lng</th>\n",
       "      <th>fsq_name</th>\n",
       "      <th>fsq_type_name</th>\n",
       "      <th>fsq_type_id</th>\n",
       "    </tr>\n",
       "  </thead>\n",
       "  <tbody>\n",
       "    <tr>\n",
       "      <th>0</th>\n",
       "      <td>ChIJDbzqHhXFw4kR5dCbhMQVy7Q</td>\n",
       "      <td>Dideriksen Park</td>\n",
       "      <td>40.402741</td>\n",
       "      <td>-74.430946</td>\n",
       "      <td>Dideriksen Park</td>\n",
       "      <td>Playground</td>\n",
       "      <td>4bf58dd8d48988d1e7941735</td>\n",
       "    </tr>\n",
       "    <tr>\n",
       "      <th>1</th>\n",
       "      <td>ChIJO5COJz3Fw4kRQxVRafcYWpw</td>\n",
       "      <td>East Brunswick Dog Park</td>\n",
       "      <td>40.400022</td>\n",
       "      <td>-74.440014</td>\n",
       "      <td>East Brunswick Dog Park</td>\n",
       "      <td>Dog Run</td>\n",
       "      <td>4bf58dd8d48988d1e5941735</td>\n",
       "    </tr>\n",
       "    <tr>\n",
       "      <th>2</th>\n",
       "      <td>ChIJM29CK8PFw4kRWZIbxcestzo</td>\n",
       "      <td>Gloria Bradford Borough Park</td>\n",
       "      <td>40.450825</td>\n",
       "      <td>-74.432411</td>\n",
       "      <td>Milltown's Borough Park</td>\n",
       "      <td>Baseball Field</td>\n",
       "      <td>4bf58dd8d48988d1e8941735</td>\n",
       "    </tr>\n",
       "    <tr>\n",
       "      <th>3</th>\n",
       "      <td>ChIJnQ9L1fPFw4kRZ7FelqVzLP4</td>\n",
       "      <td>Country Lane Park</td>\n",
       "      <td>40.443431</td>\n",
       "      <td>-74.414823</td>\n",
       "      <td></td>\n",
       "      <td></td>\n",
       "      <td></td>\n",
       "    </tr>\n",
       "    <tr>\n",
       "      <th>4</th>\n",
       "      <td>ChIJKw0kXxHGw4kRn0bEGob21as</td>\n",
       "      <td>Rutgers Gardens</td>\n",
       "      <td>40.473419</td>\n",
       "      <td>-74.422737</td>\n",
       "      <td>Rutgers Gardens</td>\n",
       "      <td>Garden</td>\n",
       "      <td>4bf58dd8d48988d15a941735</td>\n",
       "    </tr>\n",
       "  </tbody>\n",
       "</table>\n",
       "</div>"
      ],
      "text/plain": [
       "                            id                          name        lat  \\\n",
       "0  ChIJDbzqHhXFw4kR5dCbhMQVy7Q               Dideriksen Park  40.402741   \n",
       "1  ChIJO5COJz3Fw4kRQxVRafcYWpw       East Brunswick Dog Park  40.400022   \n",
       "2  ChIJM29CK8PFw4kRWZIbxcestzo  Gloria Bradford Borough Park  40.450825   \n",
       "3  ChIJnQ9L1fPFw4kRZ7FelqVzLP4             Country Lane Park  40.443431   \n",
       "4  ChIJKw0kXxHGw4kRn0bEGob21as               Rutgers Gardens  40.473419   \n",
       "\n",
       "         lng                 fsq_name   fsq_type_name  \\\n",
       "0 -74.430946          Dideriksen Park      Playground   \n",
       "1 -74.440014  East Brunswick Dog Park         Dog Run   \n",
       "2 -74.432411  Milltown's Borough Park  Baseball Field   \n",
       "3 -74.414823                                            \n",
       "4 -74.422737          Rutgers Gardens          Garden   \n",
       "\n",
       "                fsq_type_id  \n",
       "0  4bf58dd8d48988d1e7941735  \n",
       "1  4bf58dd8d48988d1e5941735  \n",
       "2  4bf58dd8d48988d1e8941735  \n",
       "3                            \n",
       "4  4bf58dd8d48988d15a941735  "
      ]
     },
     "execution_count": 334,
     "metadata": {},
     "output_type": "execute_result"
    }
   ],
   "source": [
    "fsq_park = pd.read_parquet('nyc_park_foursquare_types.parquet')\n",
    "fsq_park.head()"
   ]
  },
  {
   "cell_type": "code",
   "execution_count": 310,
   "metadata": {},
   "outputs": [],
   "source": [
    "# if top categ is 'Outdoors & Recreation', make sure it's only one level below 'Outdoors & Recreation' \n",
    "# (unless it's already 'Outdoors & Recreation')\n",
    "\n",
    "def simplify_fsq_type(type_id_name):\n",
    "    top_categ_name=\"Outdoors & Recreation\"\n",
    "    type_id, type_name = type_id_name\n",
    "    if type_id:\n",
    "        simplified_type = categ_mapping[type_id]\n",
    "        if categ_mapping[type_id] == top_categ_name and type_name != top_categ_name:\n",
    "            curr_id = type_id\n",
    "            simplified_type = type_name\n",
    "\n",
    "            while categ_parent[curr_id]['name'] != top_categ_name:\n",
    "                simplified_type = categ_parent[curr_id]['name']\n",
    "                curr_id = categ_parent[curr_id]['id']\n",
    "\n",
    "        return simplified_type\n"
   ]
  },
  {
   "cell_type": "code",
   "execution_count": 335,
   "metadata": {},
   "outputs": [],
   "source": [
    "fsq_park['fsq_type_name_simplified'] = fsq_park[['fsq_type_id', 'fsq_type_name']].apply(simplify_fsq_type, axis=1)"
   ]
  },
  {
   "cell_type": "code",
   "execution_count": null,
   "metadata": {},
   "outputs": [],
   "source": []
  },
  {
   "cell_type": "code",
   "execution_count": 341,
   "metadata": {},
   "outputs": [
    {
     "data": {
      "text/plain": [
       "2100"
      ]
     },
     "execution_count": 341,
     "metadata": {},
     "output_type": "execute_result"
    }
   ],
   "source": [
    "fsq_park.groupby('fsq_type_name_simplified').size().sum()"
   ]
  },
  {
   "cell_type": "code",
   "execution_count": 337,
   "metadata": {},
   "outputs": [],
   "source": [
    "fsq_park.to_parquet('nyc_park_foursquare_types.parquet')"
   ]
  },
  {
   "cell_type": "code",
   "execution_count": 340,
   "metadata": {},
   "outputs": [
    {
     "data": {
      "text/plain": [
       "1046"
      ]
     },
     "execution_count": 340,
     "metadata": {},
     "output_type": "execute_result"
    }
   ],
   "source": [
    "df = pd.read_parquet('philly_park_foursquare_types.parquet')\n",
    "df.groupby('fsq_type_name_simplified').size().sum()"
   ]
  },
  {
   "cell_type": "code",
   "execution_count": null,
   "metadata": {},
   "outputs": [],
   "source": [
    "# TODO:\n",
    "# other type feature - whether it is a state park\n"
   ]
  }
 ],
 "metadata": {
  "kernelspec": {
   "display_name": "Python 3",
   "language": "python",
   "name": "python3"
  },
  "language_info": {
   "codemirror_mode": {
    "name": "ipython",
    "version": 3
   },
   "file_extension": ".py",
   "mimetype": "text/x-python",
   "name": "python",
   "nbconvert_exporter": "python",
   "pygments_lexer": "ipython3",
   "version": "3.7.6"
  }
 },
 "nbformat": 4,
 "nbformat_minor": 4
}

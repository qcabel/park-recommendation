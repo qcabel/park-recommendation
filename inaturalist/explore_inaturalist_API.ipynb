{
 "cells": [
  {
   "cell_type": "code",
   "execution_count": 428,
   "metadata": {},
   "outputs": [],
   "source": [
    "import numpy as np\n",
    "import pandas as pd\n",
    "from time import sleep\n",
    "import sqlite3\n",
    "import json\n",
    "import dill\n",
    "from itertools import chain\n",
    "import geopy.distance\n",
    "\n",
    "from pyinaturalist.node_api import get_places_autocomplete, get_places_by_id, get_places_nearby\n",
    "from pyinaturalist.node_api import (\n",
    "    get_observations,\n",
    "    get_observation_species_counts,\n",
    "    get_observation_observers,\n",
    "    get_observation_identifiers,\n",
    ")\n",
    "\n",
    "import matplotlib.pyplot as plt"
   ]
  },
  {
   "cell_type": "code",
   "execution_count": 875,
   "metadata": {},
   "outputs": [
    {
     "data": {
      "text/plain": [
       "(4614, 5)"
      ]
     },
     "execution_count": 875,
     "metadata": {},
     "output_type": "execute_result"
    }
   ],
   "source": [
    "# get park info\n",
    "\n",
    "# import sys\n",
    "# sys.path.append(\"../\")\n",
    "from utility import get_info, find_city_level_address\n",
    "\n",
    "info_to_concat = []\n",
    "info_list = ['../philly_parks_info.db', '../philly_state_parks_info.db', '../nyc_parks_info.db']\n",
    "for info_db in info_list:\n",
    "    df = get_info(info_db)\n",
    "    info_to_concat.append(df)\n",
    "    \n",
    "info_df = pd.concat(info_to_concat, axis=0)\n",
    "\n",
    "info_df.reset_index(drop=True, inplace=True)\n",
    "info_df.shape"
   ]
  },
  {
   "cell_type": "code",
   "execution_count": 960,
   "metadata": {},
   "outputs": [],
   "source": [
    "# info_df.drop(columns=['inat_nb_place_id', 'inat_nb_location_lat', 'inat_nb_location_lng', 'inat_nb_name', 'inat_nb_distance'], inplace=True)\n",
    "info_df.drop(columns=['inat_ac_place_id', 'inat_ac_location_lat', 'inat_ac_location_lng', 'inat_ac_name', 'inat_ac_distance'], inplace=True)\n"
   ]
  },
  {
   "cell_type": "markdown",
   "metadata": {},
   "source": [
    "We will use inaturalist to explore biodiversity in parks of interest. To do so, we first need to find inaturalist place_id for our parks, and then query for species_count under each place_id.\n",
    "\n",
    "## Get inaturalist place_id\n",
    "Some examples using `get_places_autocomplete()`"
   ]
  },
  {
   "cell_type": "code",
   "execution_count": 87,
   "metadata": {},
   "outputs": [
    {
     "data": {
      "text/plain": [
       "{'ancestor_place_ids': [97394, 1, 42, 2983, 68325, 122846],\n",
       " 'bounding_box_geojson': {'coordinates': [[[-75.2159535885, 39.9282339211],\n",
       "    [-75.2159535885, 39.935374929],\n",
       "    [-75.2061903477, 39.935374929],\n",
       "    [-75.2061903477, 39.9282339211],\n",
       "    [-75.2159535885, 39.9282339211]]],\n",
       "  'type': 'Polygon'},\n",
       " 'bbox_area': 6.971937968240231e-05,\n",
       " 'admin_level': None,\n",
       " 'place_type': 20,\n",
       " 'name': \"Bartram's Garden\",\n",
       " 'location': [39.9320063533, -75.2110479939],\n",
       " 'id': 122846,\n",
       " 'display_name': \"Bartram's Garden, PA, US\",\n",
       " 'uuid': '477c2ab3-cf8a-4fc9-9002-1e8a338e465f',\n",
       " 'slug': 'bartram-s-garden',\n",
       " 'geometry_geojson': {'coordinates': [[[[-75.2068555355072, 39.9353749290365],\n",
       "     [-75.21569609642029, 39.93325244917665],\n",
       "     [-75.2159535884857, 39.93284110825641],\n",
       "     [-75.21558880805969, 39.932676571196126],\n",
       "     [-75.2138078212738, 39.93305500584344],\n",
       "     [-75.21365761756896, 39.932791747179856],\n",
       "     [-75.21395802497864, 39.932248772988316],\n",
       "     [-75.21355032920837, 39.93198551122373],\n",
       "     [-75.2148163318634, 39.9296161097776],\n",
       "     [-75.21286368370056, 39.92894147353215],\n",
       "     [-75.21316409111023, 39.92849719725179],\n",
       "     [-75.21230578422546, 39.9282339210584],\n",
       "     [-75.21007418632507, 39.92923765611718],\n",
       "     [-75.20619034767151, 39.93527621050255],\n",
       "     [-75.2068555355072, 39.9353749290365]]]],\n",
       "  'type': 'MultiPolygon'}}"
      ]
     },
     "execution_count": 87,
     "metadata": {},
     "output_type": "execute_result"
    }
   ],
   "source": [
    "response = get_places_autocomplete(q='Bartram\\'s garden, PA')\n",
    "# other examples: 'Starlight Park' #'Abbott Marshlands' #'Quiet Waters Park, Annapolis, MD'\n",
    "response['results'][0]"
   ]
  },
  {
   "cell_type": "code",
   "execution_count": null,
   "metadata": {},
   "outputs": [],
   "source": []
  },
  {
   "cell_type": "code",
   "execution_count": 113,
   "metadata": {},
   "outputs": [
    {
     "data": {
      "text/plain": [
       "{'total_results': 1,\n",
       " 'page': 1,\n",
       " 'per_page': 1,\n",
       " 'results': [{'ancestor_place_ids': [50605, 125178],\n",
       "   'bounding_box_geojson': {'coordinates': [[[-73.884408474, 40.8298426409],\n",
       "      [-73.884408474, 40.8372556055],\n",
       "      [-73.8792586327, 40.8372556055],\n",
       "      [-73.8792586327, 40.8298426409],\n",
       "      [-73.884408474, 40.8298426409]]],\n",
       "    'type': 'Polygon'},\n",
       "   'bbox_area': 3.817559125251798e-05,\n",
       "   'admin_level': None,\n",
       "   'place_type': None,\n",
       "   'name': 'Starlight Park',\n",
       "   'location': [40.8338378995, -73.8818974355],\n",
       "   'id': 125178,\n",
       "   'display_name': 'Starlight Park',\n",
       "   'uuid': '1349c5d9-f36f-4e0b-af78-53865fb2a6bf',\n",
       "   'slug': 'starlight-park',\n",
       "   'geometry_geojson': {'coordinates': [[[[-73.88402223587036,\n",
       "        40.82984264090415],\n",
       "       [-73.8795804977417, 40.83553475463228],\n",
       "       [-73.87925863265991, 40.83577827397769],\n",
       "       [-73.87996673583984, 40.836281544456924],\n",
       "       [-73.87938737869261, 40.8368822171243],\n",
       "       [-73.88056755065918, 40.83725560549862],\n",
       "       [-73.88181209564209, 40.835200319841015],\n",
       "       [-73.88374328613281, 40.83292741801585],\n",
       "       [-73.88397932052611, 40.83141102456415],\n",
       "       [-73.8844084739685, 40.83027451843865],\n",
       "       [-73.88402223587036, 40.82984264090415]]]],\n",
       "    'type': 'MultiPolygon'}}]}"
      ]
     },
     "execution_count": 113,
     "metadata": {},
     "output_type": "execute_result"
    }
   ],
   "source": [
    "get_places_by_id(125178)"
   ]
  },
  {
   "cell_type": "markdown",
   "metadata": {},
   "source": [
    "Using `/places/nearby`"
   ]
  },
  {
   "cell_type": "code",
   "execution_count": 120,
   "metadata": {},
   "outputs": [
    {
     "data": {
      "text/plain": [
       "{'total_results': 0,\n",
       " 'page': 1,\n",
       " 'per_page': 0,\n",
       " 'results': {'standard': [], 'community': []}}"
      ]
     },
     "execution_count": 120,
     "metadata": {},
     "output_type": "execute_result"
    }
   ],
   "source": [
    "bounding_box = [38.946569315132784, -76.49152286765548, 38.930909760960105, -76.51493759405312]\n",
    "response0 = get_places_nearby(*bounding_box)\n",
    "# response0 = get_places_nearby(*bounding_box, name='Quite*')#'Quite Waters Park, Annapolis, MD')\n",
    "response0"
   ]
  },
  {
   "cell_type": "code",
   "execution_count": 82,
   "metadata": {},
   "outputs": [
    {
     "data": {
      "text/plain": [
       "['MarineGEO Chesapeake Bay',\n",
       " 'South River, Edgewater, MD',\n",
       " 'USGS Quad: Annapolis',\n",
       " 'USGS Quad: South River',\n",
       " 'Quiet Waters Park, Annapolis, MD']"
      ]
     },
     "execution_count": 82,
     "metadata": {},
     "output_type": "execute_result"
    }
   ],
   "source": [
    "key = 'community'#['standard', 'community']\n",
    "num_results = len(response0['results'][key])\n",
    "\n",
    "print({p['id']: p['name'] for p in  response0['results']['community']})"
   ]
  },
  {
   "cell_type": "code",
   "execution_count": null,
   "metadata": {},
   "outputs": [],
   "source": []
  },
  {
   "cell_type": "code",
   "execution_count": null,
   "metadata": {},
   "outputs": [],
   "source": []
  },
  {
   "cell_type": "code",
   "execution_count": 118,
   "metadata": {},
   "outputs": [
    {
     "data": {
      "text/plain": [
       "{'total_results': 1,\n",
       " 'page': 1,\n",
       " 'per_page': 1,\n",
       " 'results': {'standard': [],\n",
       "  'community': [{'ancestor_place_ids': [97393, 6803, 8345, 119755],\n",
       "    'bounding_box_geojson': {'coordinates': [[[-185.3471767902374,\n",
       "        -36.40698885244839],\n",
       "       [-185.3471767902374, -36.402822451222875],\n",
       "       [-185.34240245819092, -36.402822451222875],\n",
       "       [-185.34240245819092, -36.40698885244839],\n",
       "       [-185.3471767902374, -36.40698885244839]]],\n",
       "     'type': 'Polygon'},\n",
       "    'bbox_area': 1.49992432378257,\n",
       "    'admin_level': None,\n",
       "    'place_type': None,\n",
       "    'name': 'Mahurangi College',\n",
       "    'location': None,\n",
       "    'id': 119755,\n",
       "    'display_name': 'Mahurangi College, AU, NZ',\n",
       "    'slug': 'mahurangi-college',\n",
       "    'geometry_geojson': {'coordinates': [[[-185.3471767902374,\n",
       "        -36.406708221041235],\n",
       "       [-185.34256875514984, -36.40562454255458],\n",
       "       [-185.34289062023163, -36.402822451222875],\n",
       "       [-185.3445053100586, -36.404726502714844],\n",
       "       [-185.3471767902374, -36.406708221041235]]],\n",
       "     'type': 'Polygon'}}]}}"
      ]
     },
     "execution_count": 118,
     "metadata": {},
     "output_type": "execute_result"
    }
   ],
   "source": [
    "bounding_box = (150.0, -50.0, -149.999, -49.999)\n",
    "\n",
    "response = get_places_nearby(*bounding_box, name='Mahurangi College')\n",
    "response"
   ]
  },
  {
   "cell_type": "code",
   "execution_count": null,
   "metadata": {
    "scrolled": true
   },
   "outputs": [],
   "source": []
  },
  {
   "cell_type": "code",
   "execution_count": null,
   "metadata": {},
   "outputs": [],
   "source": []
  },
  {
   "cell_type": "markdown",
   "metadata": {},
   "source": [
    "Two steps to acquire matched place_id: 1. use autocomplete name search; 2. use nearby search with boundingbox \n",
    "\n",
    "### 1. Use autocomplete starting from info_df['name']\n",
    "Results can be selected by comparing with [lat, lng]"
   ]
  },
  {
   "cell_type": "code",
   "execution_count": 149,
   "metadata": {},
   "outputs": [
    {
     "name": "stdout",
     "output_type": "stream",
     "text": [
      "{133786: 'Quiet Waters Park, Broward', 60598: 'Quiet Waters Park, Annapolis, MD'}\n"
     ]
    }
   ],
   "source": [
    "response = find_place_by_autocomplete[0]\n",
    "print({p['id']: p['name'] for p in  response['results']})"
   ]
  },
  {
   "cell_type": "code",
   "execution_count": null,
   "metadata": {},
   "outputs": [],
   "source": []
  },
  {
   "cell_type": "code",
   "execution_count": null,
   "metadata": {},
   "outputs": [],
   "source": [
    "# query for all names\n",
    "# find_place_by_autocomplete = []\n",
    "for name in info_df['name'][3264:]:\n",
    "    find_place_by_autocomplete.append(get_places_autocomplete(q=name))\n",
    "    sleep(.2)\n",
    "    \n",
    "\n",
    "with open('find_place_by_autocomplete.dill', 'wb') as f:\n",
    "    dill.dump(find_place_by_autocomplete, f)\n",
    "    "
   ]
  },
  {
   "cell_type": "code",
   "execution_count": 170,
   "metadata": {},
   "outputs": [],
   "source": [
    "# with open('find_place_by_autocomplete.dill', 'rb') as f:\n",
    "#     find_place_by_autocomplete = dill.load(f)"
   ]
  },
  {
   "cell_type": "code",
   "execution_count": 219,
   "metadata": {},
   "outputs": [],
   "source": [
    "ind_with_results = [(i, find_place_by_autocomplete[i]['total_results']) for i in range(len(find_place_by_autocomplete)) \n",
    "     if find_place_by_autocomplete[i]['total_results']]\n"
   ]
  },
  {
   "cell_type": "code",
   "execution_count": 421,
   "metadata": {},
   "outputs": [],
   "source": [
    "def lat_lng_dist(loc1, loc2):\n",
    "    return geopy.distance.distance(loc1, loc2).miles"
   ]
  },
  {
   "cell_type": "code",
   "execution_count": 224,
   "metadata": {},
   "outputs": [],
   "source": [
    "# find the right park among the returned results\n",
    "match_closest = []\n",
    "for ind, _ in ind_with_results:\n",
    "    all_loc = [find_place_by_autocomplete[ind]['results'][i]['location'] for i in range(len(find_place_by_autocomplete[ind]['results']))]\n",
    "\n",
    "    target_loc = np.array(info_df.loc[ind, ['lat', 'lng']])\n",
    "\n",
    "    all_dist = [lat_lng_dist(target_loc, loc) for loc in all_loc]\n",
    "    match_closest.append((ind, min(all_dist), find_place_by_autocomplete[ind]['results'][all_dist.index(min(all_dist))]['name'], \n",
    "           info_df.loc[ind, 'name']))\n"
   ]
  },
  {
   "cell_type": "code",
   "execution_count": 729,
   "metadata": {},
   "outputs": [
    {
     "data": {
      "text/plain": [
       "1064"
      ]
     },
     "execution_count": 729,
     "metadata": {},
     "output_type": "execute_result"
    }
   ],
   "source": [
    "len(ind_with_results)"
   ]
  },
  {
   "cell_type": "code",
   "execution_count": 233,
   "metadata": {},
   "outputs": [
    {
     "data": {
      "text/plain": [
       "583"
      ]
     },
     "execution_count": 233,
     "metadata": {},
     "output_type": "execute_result"
    }
   ],
   "source": [
    "# plt.hist([item[1] for item in match_closest], 100); \n",
    "len([item[1] for item in match_closest if item[1]<1])"
   ]
  },
  {
   "cell_type": "code",
   "execution_count": 958,
   "metadata": {},
   "outputs": [
    {
     "data": {
      "text/plain": [
       "['ChIJj_bEvjsJw4kRhJLh-E_oLyU',\n",
       " 'Island Beach',\n",
       " 40.88993579999999,\n",
       " -74.44297949999999,\n",
       " '1 Bloomfield Ave, Mountain Lakes, NJ 07046, USA',\n",
       " nan,\n",
       " nan,\n",
       " nan,\n",
       " nan,\n",
       " nan,\n",
       " nan,\n",
       " 162895.0,\n",
       " 40.5727977648,\n",
       " -73.9781726582,\n",
       " 'Coney Island Beach and Boardwalk, Brooklyn, NY, USA',\n",
       " 32.77408672199006]"
      ]
     },
     "execution_count": 958,
     "metadata": {},
     "output_type": "execute_result"
    }
   ],
   "source": [
    "list(info_df.loc[1823])"
   ]
  },
  {
   "cell_type": "code",
   "execution_count": 724,
   "metadata": {},
   "outputs": [],
   "source": [
    "# missing_nearby_with_named_results = set(missing_nearby) & {x[0] for x in ind_with_results}"
   ]
  },
  {
   "cell_type": "code",
   "execution_count": 959,
   "metadata": {},
   "outputs": [
    {
     "name": "stdout",
     "output_type": "stream",
     "text": [
      "Found for 16 - Rock Creek Park - Rock Creek Stream Valley Park Unit 2 - 31.511895013317794\n",
      "Found for 58 - Nottingham Park - Nottingham County Park - 34.71241003989495\n",
      "Found for 211 - Nature Trail - Concord Elementary School Nature Trail (Closed During School Hours) - 45.64167356992564\n",
      "Found for 419 - Lewis Park - Samuel S Lewis State Park - 47.91282617128921\n",
      "Found for 807 - Veterans Park - Lawrence Veterans Park - 38.70896754768442\n",
      "Found for 827 - Veterans Park - Lawrence Veterans Park - 35.251427918941445\n",
      "Found for 840 - Veterans Park - Lawrence Veterans Park - 36.36994685422997\n",
      "Found for 1055 - Drexel Park - Drexel Woods Park - Lawrence Nature Center - 31.114424879624966\n",
      "Found for 1424 - Bunker Hill Trails - Bunker-Hill-Road-Trails - 44.20987505744834\n",
      "Found for 1651 - Township Park - Inman Park Franklin Township - 31.505635121572237\n",
      "Found for 1813 - Green acres park - Green Acres Park Burlington Township, NJ - 43.07464124565231\n",
      "Found for 1819 - Central Park - Central Park and Vicinity - 38.98868639953703\n",
      "Found for 1823 - Island Beach - Coney Island Beach and Boardwalk, Brooklyn, NY, USA - 32.77408672199006\n",
      "Found for 1844 - Veterans Memorial Park - Bicentennial Veterans Memorial Park - 35.737250832080996\n",
      "Found for 1866 - Veterans Memorial Park - Bicentennial Veterans Memorial Park - 31.411724908465256\n",
      "Found for 2097 - Veteran's Memorial Park - Bicentennial Veterans Memorial Park - 33.46591288306185\n",
      "Found for 2360 - Deere Park - Deer Path Park - 38.71754346434\n",
      "Found for 2374 - Mercer Park - Mercer County Park - 40.961877855558285\n",
      "Found for 2542 - Stevens Park - Stevens State Park - 41.64211143939108\n",
      "Found for 2607 - Veterans Memorial Park - Bicentennial Veterans Memorial Park - 30.01562459827419\n",
      "Found for 2826 - Veterans Memorial Park - Bicentennial Veterans Memorial Park - 30.605722488466206\n",
      "Found for 3180 - Bennett Park - Bennett's Pond State Park - 41.03073638128057\n",
      "Found for 3428 - Waterfront Park - Raritan Bay Waterfront Park - 42.397632523858064\n",
      "Found for 3779 - Huguenot Park - Huguenot Ponds Park - 34.56643624635367\n",
      "Found for 4098 - Waterfront Park - Old Bridge Waterfront Park - 36.442891770040674\n",
      "Found for 4154 - Roosevelt Beach - Franklin D. Roosevelt Boardwalk and Beach - 35.212869871222736\n",
      "Found for 4292 - Mill Pond Park - Mill Pond County Park, South Wantagh, NY - 30.341409066198196\n",
      "Found for 4319 - Heron Park - Blue Heron Park - 48.823587830678434\n",
      "Found for 4392 - Veterans Park - Bicentennial Veterans Memorial Park - 36.50922708277914\n",
      "Found for 4414 - Veterans Memorial Park - Bicentennial Veterans Memorial Park - 40.805490623442964\n",
      "Found for 4512 - Playground and Park - Mill River Park & Playground - 30.089950168937026\n",
      "415 72\n"
     ]
    }
   ],
   "source": [
    "cnt_very_near = 0\n",
    "cnt_near = 0\n",
    "\n",
    "for ind, _ in ind_with_results:\n",
    "    park_names = [find_place_by_autocomplete[ind]['results'][i]['name'] for i in range(len(find_place_by_autocomplete[ind]['results']))]\n",
    "    all_loc = [find_place_by_autocomplete[ind]['results'][i]['location'] for i in range(len(find_place_by_autocomplete[ind]['results']))]\n",
    "    target_loc = np.array(info_df.loc[ind, ['lat', 'lng']])\n",
    "\n",
    "    all_dist = [(i, lat_lng_dist(target_loc, loc)) for i, loc in enumerate(all_loc)]\n",
    "    min_dist_index, min_dist = sorted(all_dist, key=lambda x: x[1])[0]\n",
    "    \n",
    "    if min_dist < 1:\n",
    "        cnt_very_near += 1\n",
    "        pass\n",
    "        #print(f\"Found for {ind} - {info_df.loc[ind, 'name']} - {park_names[min_dist_index]}\")\n",
    "    elif min_dist > 1 and min_dist <= 10:\n",
    "        cnt_near += 1\n",
    "        #print(f\"Found for {ind} - {info_df.loc[ind, 'name']} - {park_names[min_dist_index]}\")\n",
    "    elif min_dist > 30 and min_dist <= 50:\n",
    "        print(f\"Found for {ind} - {info_df.loc[ind, 'name']} - {park_names[min_dist_index]} - {min_dist}\")\n",
    "        \n",
    "print(cnt_very_near, cnt_near)\n",
    "\n",
    "BLACKLIST_AC_IND = {211, 807, 827, 840, 960, 1055, 1304, 1336, 1419, 1424, 1651, 1813, 1819, 1823, 1844, 1866, 1878, \n",
    "                   1921, 1977, 2097, 2227, 2374, 2390, 2417, 2607, 2826, 3172, 3180, 3428, 3521, 3714, 3779, 3884,\n",
    "                   4066, 4098, 4141, 4154, 4184, 4292, 4319, 4367, 4392, 4414, 4512, 4522}"
   ]
  },
  {
   "cell_type": "code",
   "execution_count": null,
   "metadata": {},
   "outputs": [],
   "source": []
  },
  {
   "cell_type": "code",
   "execution_count": 961,
   "metadata": {},
   "outputs": [],
   "source": [
    "# since you'd match these places through two means (ac-autocomplete, nb-nearby), will record the matching results under each\n",
    "# and then later filter to keep the correct one\n",
    "\n",
    "for ind, _ in ind_with_results:\n",
    "    target_loc = np.array(info_df.loc[ind, ['lat', 'lng']])\n",
    "    \n",
    "    # get the search result and sort by distance\n",
    "    park_names = [result['name'] for result in find_place_by_autocomplete[ind]['results']]\n",
    "    park_place_id = [result['id'] for result in find_place_by_autocomplete[ind]['results']]\n",
    "    all_loc = [result['location'] for result in find_place_by_autocomplete[ind]['results']]\n",
    "\n",
    "    all_dist = [(i, lat_lng_dist(target_loc, loc)) for i, loc in enumerate(all_loc)]\n",
    "    min_dist_index, min_dist = sorted(all_dist, key=lambda x: x[1])[0]\n",
    "    \n",
    "    if min_dist < 50 and ind not in BLACKLIST_AC_IND:\n",
    "        # the reason that we need such a large min_dist threshold, state park/forest can be off by a lot\n",
    "        #\n",
    "        # record the distance closest searching result\n",
    "        # note that when min_dist is extreme large, the result should be excluded, which will be handled later\n",
    "        info_df.loc[ind, 'inat_ac_place_id'] = park_place_id[min_dist_index]\n",
    "        info_df.loc[ind, 'inat_ac_location_lat'] = all_loc[min_dist_index][0]\n",
    "        info_df.loc[ind, 'inat_ac_location_lng'] = all_loc[min_dist_index][1]\n",
    "        info_df.loc[ind, 'inat_ac_name'] = park_names[min_dist_index]\n",
    "        info_df.loc[ind, 'inat_ac_distance'] = min_dist\n"
   ]
  },
  {
   "cell_type": "code",
   "execution_count": null,
   "metadata": {},
   "outputs": [],
   "source": []
  },
  {
   "cell_type": "markdown",
   "metadata": {},
   "source": [
    "### 2. Use nearby query with manual bounding box created based on [lat,lng] or Google geometry.viewport\n",
    "This can be useful when the inaturalist place_id is not recorded with a similar name as the park itself - however close enough to be considered as relevant. Note that large city/county or region level place_id (including USGS) were excluded for the lack of specificity."
   ]
  },
  {
   "cell_type": "code",
   "execution_count": 307,
   "metadata": {},
   "outputs": [],
   "source": [
    "# create a table with info about Google geometry.viewport (which is largely the same size box...)\n",
    "# other raw data files: 'nyc_popularity_20210317_133549.db'; '../pine_grove_cape_may_r2k_popularity_20210316_144723.db'\n",
    "def get_ne_sw(input_db):\n",
    "    con = sqlite3.connect(input_db)\n",
    "    pop_df_detail = pd.read_sql_query(\"SELECT id, details FROM popularity WHERE has_popular_times > 0\", con)\n",
    "    pop_df_detail.head()\n",
    "    con.close()\n",
    "    \n",
    "    pop_df_detail[['northeast', 'southwest']] = pop_df_detail['details'].apply(get_bbox)\n",
    "\n",
    "    pop_df_detail.drop(columns=['details', ], inplace=True)\n",
    "    return pop_df_detail\n",
    "\n",
    "def get_bbox(detail):\n",
    "    bbox = json.loads(detail)['geometry']['viewport']\n",
    "    return pd.Series([tuple(bbox['northeast'].values()), tuple(bbox['southwest'].values())])\n"
   ]
  },
  {
   "cell_type": "code",
   "execution_count": 423,
   "metadata": {},
   "outputs": [],
   "source": [
    "ind = 750\n",
    "bbox = json.loads(pop_df_detail['details'][ind])['geometry']['viewport']\n",
    "\n",
    "# list(bbox['northeast'].values())\n",
    "lat_lng_dist(list(bbox['northeast'].values()), list(bbox['southwest'].values()))"
   ]
  },
  {
   "cell_type": "code",
   "execution_count": 357,
   "metadata": {},
   "outputs": [],
   "source": [
    "df_for_concat = []\n",
    "for files in ['../pine_grove_cape_may_r2k_popularity_20210316_144723.db', '../nyc_popularity_20210317_133549.db']:\n",
    "    df_for_concat.append(get_ne_sw(files))\n",
    "    "
   ]
  },
  {
   "cell_type": "code",
   "execution_count": null,
   "metadata": {},
   "outputs": [],
   "source": []
  },
  {
   "cell_type": "code",
   "execution_count": null,
   "metadata": {},
   "outputs": [],
   "source": []
  },
  {
   "cell_type": "code",
   "execution_count": 358,
   "metadata": {},
   "outputs": [],
   "source": [
    "def get_bbox_state_park(detail):\n",
    "    bbox = json.loads(detail)['candidates'][0]['geometry']['viewport']\n",
    "    return pd.Series([tuple(bbox['northeast'].values()), tuple(bbox['southwest'].values())])\n",
    "#'state_forest_PA_google_place_id.db' & '../state_park_PA_google_place_id.db'\n",
    "\n",
    "for file in ['../state_park_PA_google_place_id.db', '../state_forest_PA_google_place_id.db']:\n",
    "    state_park_con = sqlite3.connect(file)\n",
    "    try:\n",
    "        state_park = pd.read_sql_query(\"SELECT id, data FROM state_park\", state_park_con)\n",
    "    except:\n",
    "        state_park = pd.read_sql_query(\"SELECT id, data FROM state_forest\", state_park_con)\n",
    "\n",
    "    state_park_con.close()\n",
    "\n",
    "    state_park[['northeast', 'southwest']] = state_park['data'].apply(get_bbox_state_park)\n",
    "    state_park.drop(columns=['data', ], inplace=True)\n",
    "    df_for_concat.append(state_park)\n",
    "    "
   ]
  },
  {
   "cell_type": "code",
   "execution_count": 387,
   "metadata": {},
   "outputs": [],
   "source": [
    "info_df_with_bbox = pd.concat(df_for_concat, axis=0)\n",
    "\n",
    "info_df_with_bbox = info_df_with_bbox.drop_duplicates(subset=['id'])"
   ]
  },
  {
   "cell_type": "code",
   "execution_count": null,
   "metadata": {},
   "outputs": [],
   "source": []
  },
  {
   "cell_type": "code",
   "execution_count": null,
   "metadata": {},
   "outputs": [],
   "source": []
  },
  {
   "cell_type": "code",
   "execution_count": 749,
   "metadata": {},
   "outputs": [
    {
     "data": {
      "text/plain": [
       "(4614, 12)"
      ]
     },
     "execution_count": 749,
     "metadata": {},
     "output_type": "execute_result"
    }
   ],
   "source": [
    "# merge the coords back to info_df\n",
    "info_df = info_df.merge(info_df_with_bbox, how='left', on='id')\n",
    "info_df.shape"
   ]
  },
  {
   "cell_type": "code",
   "execution_count": null,
   "metadata": {},
   "outputs": [],
   "source": []
  },
  {
   "cell_type": "code",
   "execution_count": null,
   "metadata": {},
   "outputs": [],
   "source": []
  },
  {
   "cell_type": "code",
   "execution_count": null,
   "metadata": {},
   "outputs": [],
   "source": []
  },
  {
   "cell_type": "code",
   "execution_count": 396,
   "metadata": {},
   "outputs": [],
   "source": [
    "from tqdm import tqdm"
   ]
  },
  {
   "cell_type": "code",
   "execution_count": 398,
   "metadata": {},
   "outputs": [
    {
     "name": "stderr",
     "output_type": "stream",
     "text": [
      "100%|██████████| 4614/4614 [2:00:03<00:00,  1.56s/it]  \n"
     ]
    }
   ],
   "source": [
    "# query inaturalist API for place_id\n",
    "find_place_by_nearby = []\n",
    "\n",
    "for i in tqdm(range(info_df.shape[0])):\n",
    "    \n",
    "    bbox = chain(*info_df.loc[i,['northeast', 'southwest']])\n",
    "    find_place_by_nearby.append((info_df.loc[i,'id'],get_places_nearby(*bbox)))\n",
    "    sleep(1)\n"
   ]
  },
  {
   "cell_type": "code",
   "execution_count": null,
   "metadata": {},
   "outputs": [],
   "source": []
  },
  {
   "cell_type": "code",
   "execution_count": 399,
   "metadata": {},
   "outputs": [],
   "source": [
    "with open('find_place_by_nearby.dill', 'wb') as f:\n",
    "    dill.dump(find_place_by_nearby, f)\n",
    "    \n",
    "# with open('find_place_by_nearby.dill', 'rb') as f:\n",
    "#     find_place_by_nearby = dill.load(f)"
   ]
  },
  {
   "cell_type": "markdown",
   "metadata": {},
   "source": [
    "##### Matching based on names and distance"
   ]
  },
  {
   "cell_type": "code",
   "execution_count": 426,
   "metadata": {},
   "outputs": [
    {
     "data": {
      "text/plain": [
       "dict_keys(['ancestor_place_ids', 'bounding_box_geojson', 'bbox_area', 'admin_level', 'place_type', 'name', 'location', 'id', 'display_name', 'uuid', 'slug', 'geometry_geojson'])"
      ]
     },
     "execution_count": 426,
     "metadata": {},
     "output_type": "execute_result"
    }
   ],
   "source": [
    "# 'standard' only contains county-level places\n",
    "find_place_by_nearby[0][1]['results']['community'][-1].keys()"
   ]
  },
  {
   "cell_type": "code",
   "execution_count": 477,
   "metadata": {},
   "outputs": [
    {
     "name": "stdout",
     "output_type": "stream",
     "text": [
      "Jonas and Anne Catharine Green Park\n",
      "['MarineGEO Chesapeake Bay', 'USGS Quad: Annapolis']\n",
      "[9.192217474139998, 4.708290435334753]\n"
     ]
    },
    {
     "data": {
      "text/plain": [
       "4.708290435334753"
      ]
     },
     "execution_count": 477,
     "metadata": {},
     "output_type": "execute_result"
    }
   ],
   "source": [
    "ind = 10\n",
    "key = 'community'\n",
    "print(info_df.loc[ind, 'name'])\n",
    "print([result['name'] for result in find_place_by_nearby[ind][1]['results'][key]])\n",
    "\n",
    "# distance\n",
    "target_loc = info_df.loc[ind, ['lat', 'lng']]\n",
    "dist_all_nearby = [lat_lng_dist(result['location'], target_loc) for result in find_place_by_nearby[ind][1]['results'][key]]\n",
    "print(dist_all_nearby)\n",
    "\n",
    "min(dist_all_nearby)\n"
   ]
  },
  {
   "cell_type": "code",
   "execution_count": 501,
   "metadata": {},
   "outputs": [
    {
     "data": {
      "text/plain": [
       "True"
      ]
     },
     "execution_count": 501,
     "metadata": {},
     "output_type": "execute_result"
    }
   ],
   "source": [
    "a = 'village park'\n",
    "b = 'test village park'\n",
    "len(a)<len(b)"
   ]
  },
  {
   "cell_type": "code",
   "execution_count": null,
   "metadata": {},
   "outputs": [],
   "source": []
  },
  {
   "cell_type": "code",
   "execution_count": null,
   "metadata": {},
   "outputs": [],
   "source": []
  },
  {
   "cell_type": "code",
   "execution_count": 591,
   "metadata": {},
   "outputs": [],
   "source": [
    "# decide whether two names are similar \n",
    "import re\n",
    "\n",
    "def tokenize(string):\n",
    "    return [t.lower() for t in re.split('\\W', string) if t !='']\n",
    "\n",
    "def similar_or_not(a, b):\n",
    "    a = tokenize(a)\n",
    "    b = tokenize(b)\n",
    "    \n",
    "    if len(a) <= len(b):\n",
    "        return set(a).issubset(set(b))\n",
    "    else:\n",
    "        return set(b).issubset(set(a))\n",
    "    \n",
    "def fuzzy_similar_or_not(a, b):\n",
    "    if len(set.intersection(set(tokenize(a)), set(tokenize(b))))>=2:\n",
    "        return True\n",
    "    else:\n",
    "        return False\n"
   ]
  },
  {
   "cell_type": "code",
   "execution_count": null,
   "metadata": {},
   "outputs": [],
   "source": []
  },
  {
   "cell_type": "code",
   "execution_count": 549,
   "metadata": {},
   "outputs": [
    {
     "data": {
      "text/html": [
       "<div>\n",
       "<style scoped>\n",
       "    .dataframe tbody tr th:only-of-type {\n",
       "        vertical-align: middle;\n",
       "    }\n",
       "\n",
       "    .dataframe tbody tr th {\n",
       "        vertical-align: top;\n",
       "    }\n",
       "\n",
       "    .dataframe thead th {\n",
       "        text-align: right;\n",
       "    }\n",
       "</style>\n",
       "<table border=\"1\" class=\"dataframe\">\n",
       "  <thead>\n",
       "    <tr style=\"text-align: right;\">\n",
       "      <th></th>\n",
       "      <th>id</th>\n",
       "      <th>name</th>\n",
       "      <th>lat</th>\n",
       "      <th>lng</th>\n",
       "      <th>address</th>\n",
       "      <th>northeast</th>\n",
       "      <th>southwest</th>\n",
       "      <th>inaturalist_place_id</th>\n",
       "      <th>inaturalist_name</th>\n",
       "      <th>inaturalist_distance</th>\n",
       "    </tr>\n",
       "  </thead>\n",
       "  <tbody>\n",
       "    <tr>\n",
       "      <th>0</th>\n",
       "      <td>ChIJAWkAqNL1t4kRlm4slspOSXo</td>\n",
       "      <td>Quiet Waters Park</td>\n",
       "      <td>38.937670</td>\n",
       "      <td>-76.500899</td>\n",
       "      <td>600 Quiet Waters Park Rd, Annapolis, MD 21403,...</td>\n",
       "      <td>(38.9390092302915, -76.4995525197085)</td>\n",
       "      <td>(38.9363112697085, -76.50225048029151)</td>\n",
       "      <td>60598.0</td>\n",
       "      <td>Quiet Waters Park, Annapolis, MD</td>\n",
       "      <td>0.136006</td>\n",
       "    </tr>\n",
       "    <tr>\n",
       "      <th>1</th>\n",
       "      <td>ChIJzcow6Xb1t4kRQVE7s1AWWr8</td>\n",
       "      <td>Hillsmere Shores Community Beach</td>\n",
       "      <td>38.927212</td>\n",
       "      <td>-76.494150</td>\n",
       "      <td>101 W Bay View Dr, Annapolis, MD 21403, USA</td>\n",
       "      <td>(38.9285315302915, -76.49278681970848)</td>\n",
       "      <td>(38.92583356970851, -76.49548478029149)</td>\n",
       "      <td>NaN</td>\n",
       "      <td>NaN</td>\n",
       "      <td>NaN</td>\n",
       "    </tr>\n",
       "    <tr>\n",
       "      <th>2</th>\n",
       "      <td>ChIJ_bk5K1z1t4kRQNverIUOVko</td>\n",
       "      <td>Quiet Waters Dog Beach</td>\n",
       "      <td>38.930202</td>\n",
       "      <td>-76.508341</td>\n",
       "      <td>1701-1799 Quiet Waters Park Rd, Annapolis, MD ...</td>\n",
       "      <td>(38.93155118029149, -76.5069917197085)</td>\n",
       "      <td>(38.92885321970849, -76.5096896802915)</td>\n",
       "      <td>60598.0</td>\n",
       "      <td>Quiet Waters Park, Annapolis, MD</td>\n",
       "      <td>0.704592</td>\n",
       "    </tr>\n",
       "    <tr>\n",
       "      <th>3</th>\n",
       "      <td>ChIJ_-2cQEX1t4kRoiCrmNMbrQ8</td>\n",
       "      <td>Quiet Waters Dog Park</td>\n",
       "      <td>38.931865</td>\n",
       "      <td>-76.505658</td>\n",
       "      <td>600 Quiet Waters Park Rd, Annapolis, MD 21403,...</td>\n",
       "      <td>(38.93345803029149, -76.50433266970849)</td>\n",
       "      <td>(38.9307600697085, -76.5070306302915)</td>\n",
       "      <td>60598.0</td>\n",
       "      <td>Quiet Waters Park, Annapolis, MD</td>\n",
       "      <td>0.541753</td>\n",
       "    </tr>\n",
       "    <tr>\n",
       "      <th>4</th>\n",
       "      <td>ChIJQWcsgIn2t4kRCL0Ub363FyI</td>\n",
       "      <td>Pip Moyer Recreation Center (Annapolis Recreat...</td>\n",
       "      <td>38.963271</td>\n",
       "      <td>-76.505150</td>\n",
       "      <td>273 Hilltop Ln, Annapolis, MD 21403, USA</td>\n",
       "      <td>(38.9647144802915, -76.50395901970847)</td>\n",
       "      <td>(38.9620165197085, -76.5066569802915)</td>\n",
       "      <td>52243.0</td>\n",
       "      <td>Eastport Neighborhood</td>\n",
       "      <td>0.880709</td>\n",
       "    </tr>\n",
       "  </tbody>\n",
       "</table>\n",
       "</div>"
      ],
      "text/plain": [
       "                            id  \\\n",
       "0  ChIJAWkAqNL1t4kRlm4slspOSXo   \n",
       "1  ChIJzcow6Xb1t4kRQVE7s1AWWr8   \n",
       "2  ChIJ_bk5K1z1t4kRQNverIUOVko   \n",
       "3  ChIJ_-2cQEX1t4kRoiCrmNMbrQ8   \n",
       "4  ChIJQWcsgIn2t4kRCL0Ub363FyI   \n",
       "\n",
       "                                                name        lat        lng  \\\n",
       "0                                  Quiet Waters Park  38.937670 -76.500899   \n",
       "1                   Hillsmere Shores Community Beach  38.927212 -76.494150   \n",
       "2                             Quiet Waters Dog Beach  38.930202 -76.508341   \n",
       "3                              Quiet Waters Dog Park  38.931865 -76.505658   \n",
       "4  Pip Moyer Recreation Center (Annapolis Recreat...  38.963271 -76.505150   \n",
       "\n",
       "                                             address  \\\n",
       "0  600 Quiet Waters Park Rd, Annapolis, MD 21403,...   \n",
       "1        101 W Bay View Dr, Annapolis, MD 21403, USA   \n",
       "2  1701-1799 Quiet Waters Park Rd, Annapolis, MD ...   \n",
       "3  600 Quiet Waters Park Rd, Annapolis, MD 21403,...   \n",
       "4           273 Hilltop Ln, Annapolis, MD 21403, USA   \n",
       "\n",
       "                                 northeast  \\\n",
       "0    (38.9390092302915, -76.4995525197085)   \n",
       "1   (38.9285315302915, -76.49278681970848)   \n",
       "2   (38.93155118029149, -76.5069917197085)   \n",
       "3  (38.93345803029149, -76.50433266970849)   \n",
       "4   (38.9647144802915, -76.50395901970847)   \n",
       "\n",
       "                                 southwest  inaturalist_place_id  \\\n",
       "0   (38.9363112697085, -76.50225048029151)               60598.0   \n",
       "1  (38.92583356970851, -76.49548478029149)                   NaN   \n",
       "2   (38.92885321970849, -76.5096896802915)               60598.0   \n",
       "3    (38.9307600697085, -76.5070306302915)               60598.0   \n",
       "4    (38.9620165197085, -76.5066569802915)               52243.0   \n",
       "\n",
       "                   inaturalist_name  inaturalist_distance  \n",
       "0  Quiet Waters Park, Annapolis, MD              0.136006  \n",
       "1                               NaN                   NaN  \n",
       "2  Quiet Waters Park, Annapolis, MD              0.704592  \n",
       "3  Quiet Waters Park, Annapolis, MD              0.541753  \n",
       "4             Eastport Neighborhood              0.880709  "
      ]
     },
     "execution_count": 549,
     "metadata": {},
     "output_type": "execute_result"
    }
   ],
   "source": [
    "info_df.head()"
   ]
  },
  {
   "cell_type": "code",
   "execution_count": 686,
   "metadata": {},
   "outputs": [
    {
     "name": "stdout",
     "output_type": "stream",
     "text": [
      "Pip Moyer Recreation Center (Annapolis Recreation and Parks)\n",
      "[(('MarineGEO Chesapeake Bay', 100), 7.4028805546384495), (('USGS Quad: South River', 17), 3.564147031826793), (('Eastport Neighborhood', None), 0.880708658508032)]\n"
     ]
    }
   ],
   "source": [
    "debug_index(4)"
   ]
  },
  {
   "cell_type": "code",
   "execution_count": 710,
   "metadata": {},
   "outputs": [],
   "source": []
  },
  {
   "cell_type": "code",
   "execution_count": null,
   "metadata": {},
   "outputs": [],
   "source": []
  },
  {
   "cell_type": "code",
   "execution_count": 764,
   "metadata": {},
   "outputs": [
    {
     "data": {
      "text/plain": [
       "True"
      ]
     },
     "execution_count": 764,
     "metadata": {},
     "output_type": "execute_result"
    }
   ],
   "source": [
    "is_city_district(\"New York City\")"
   ]
  },
  {
   "cell_type": "code",
   "execution_count": null,
   "metadata": {},
   "outputs": [],
   "source": []
  },
  {
   "cell_type": "code",
   "execution_count": 877,
   "metadata": {},
   "outputs": [],
   "source": [
    "BLACKLISTED_PLACE_TYPES = {7, 8, 9, 12,\n",
    "                           1000, # Township\n",
    "                           17, # USGS quad\n",
    "                           21, 25}\n",
    "# too large of an area\n",
    "BLACKLISTEC_PLACE_NAME = {'Philadelphia Parks North', 'Philadelphia Parks South', \n",
    "                          'Bronx River Watershed and some surrounding areas', 'Staten Island', \n",
    "                          'Town of North Hempstead'}\n",
    "\n",
    "STOP_WORDS = {'park', 'field', 'fields', 'playground', 'meadows', 'parks', 'new', 'district'}\n",
    "\n",
    "def check_token_ovelap_threshold(t1, t2):\n",
    "    st1 = set(tokenize(t1))\n",
    "    st2 = set(tokenize(t2))\n",
    "    \n",
    "    overlap = st1 & st2\n",
    "    if len(overlap) > 1:\n",
    "        return True\n",
    "    elif len(overlap) == 0:\n",
    "        return False\n",
    "    else:\n",
    "        return list(overlap)[0] not in STOP_WORDS\n",
    "\n",
    "# to not include instances such as \"New York City\" or \"New York City Council District\" \n",
    "# (whose type is None, so cannot be removed through BLACKLISTED_PLACE_TYPES)    \n",
    "CITY_REGEX = re.compile(r'New York City( \\(.*\\))?')\n",
    "def is_city_district(name):\n",
    "    return name.find('New York City Council District') != -1 or \\\n",
    "        CITY_REGEX.search(name) is not None\n",
    "\n",
    "\n",
    "# Some matching rules\n",
    "# 1. check if nearby place_id has similar name as the target, pick the most similar one \n",
    "#    (also included a few heuristics to make sure that the selected place_id not only match one word such as \"park\"); \n",
    "# 2. if no name match found, check whether any meaningful place_id (e.g not in BLACKLISTED_PLACE_TYPES) located within 1 mile\n",
    "\n",
    "def heuristic_match(key='community'):\n",
    "    for ind in range(len(info_df)):\n",
    "        # exclude all inaturalist entries with invalid place types\n",
    "        nearby_parks = [result for result in find_place_by_nearby[ind][1]['results'][key]\n",
    "                        if result.get('place_type') not in BLACKLISTED_PLACE_TYPES]\n",
    "        nearby_park_names = [r['name'] for r in nearby_parks]\n",
    "        target_loc = info_df.loc[ind, ['lat', 'lng']]\n",
    "        google_title = info_df.loc[ind, 'name']\n",
    "        dist_all_nearby = [(i, lat_lng_dist(r['location'], target_loc))\n",
    "                           for i, r in enumerate(nearby_parks)]\n",
    "        \n",
    "        if nearby_parks:\n",
    "            # find the park with the highest title similarity\n",
    "            # otherwise, find the nearest park\n",
    "            most_similar_park_idx, js = sorted([(i, jaccard_similarity(google_title, t))\n",
    "                                                for i, t in enumerate(nearby_park_names)], key=lambda x: -x[1])[0]\n",
    "            \n",
    "            if js <= 0 or not check_token_ovelap_threshold(google_title, nearby_park_names[most_similar_park_idx]):\n",
    "                # no token overlap, rule 2: find a park that is nearest\n",
    "                most_similar_park_idx, dist = sorted(dist_all_nearby, key=lambda x: x[1])[0]\n",
    "                if dist > 1 or is_city_district(nearby_park_names[most_similar_park_idx]):\n",
    "                    most_similar_park_idx = None\n",
    "            \n",
    "            # exclude a few more that are extremely large or in blacklist\n",
    "            if most_similar_park_idx is not None and \\\n",
    "               (nearby_park_names[most_similar_park_idx] in BLACKLISTEC_PLACE_NAME or \\\n",
    "               nearby_parks[most_similar_park_idx]['bbox_area'] > .1):\n",
    "                most_similar_park_idx = None\n",
    "            \n",
    "            if most_similar_park_idx is not None:\n",
    "                # integrate inaturalist place_id info to info_df\n",
    "                ms_idx = most_similar_park_idx\n",
    "                info_df.loc[ind, 'inat_nb_place_id'] = nearby_parks[ms_idx]['id']\n",
    "                info_df.loc[ind, 'inat_nb_location_lat'] = nearby_parks[ms_idx]['location'][0]\n",
    "                info_df.loc[ind, 'inat_nb_location_lng'] = nearby_parks[ms_idx]['location'][1]\n",
    "                info_df.loc[ind, 'inat_nb_name'] = nearby_park_names[ms_idx]\n",
    "                info_df.loc[ind, 'inat_nb_distance'] = dist_all_nearby[ms_idx][1]\n",
    "                info_df.loc[ind, 'inat_nb_bbox_area'] = nearby_parks[ms_idx]['bbox_area']\n",
    "                \n",
    "\n",
    "heuristic_match(key='community')"
   ]
  },
  {
   "cell_type": "code",
   "execution_count": null,
   "metadata": {},
   "outputs": [],
   "source": []
  },
  {
   "cell_type": "code",
   "execution_count": null,
   "metadata": {},
   "outputs": [],
   "source": []
  },
  {
   "cell_type": "code",
   "execution_count": 855,
   "metadata": {},
   "outputs": [
    {
     "data": {
      "text/html": [
       "<div>\n",
       "<style scoped>\n",
       "    .dataframe tbody tr th:only-of-type {\n",
       "        vertical-align: middle;\n",
       "    }\n",
       "\n",
       "    .dataframe tbody tr th {\n",
       "        vertical-align: top;\n",
       "    }\n",
       "\n",
       "    .dataframe thead th {\n",
       "        text-align: right;\n",
       "    }\n",
       "</style>\n",
       "<table border=\"1\" class=\"dataframe\">\n",
       "  <thead>\n",
       "    <tr style=\"text-align: right;\">\n",
       "      <th></th>\n",
       "      <th>id</th>\n",
       "      <th>name</th>\n",
       "      <th>lat</th>\n",
       "      <th>lng</th>\n",
       "      <th>address</th>\n",
       "      <th>inat_ac_place_id</th>\n",
       "      <th>inat_ac_location_lat</th>\n",
       "      <th>inat_ac_location_lng</th>\n",
       "      <th>inat_ac_name</th>\n",
       "      <th>inat_ac_distance</th>\n",
       "      <th>northeast</th>\n",
       "      <th>southwest</th>\n",
       "      <th>inat_nb_bbox_area</th>\n",
       "      <th>inat_nb_place_id</th>\n",
       "      <th>inat_nb_location_lat</th>\n",
       "      <th>inat_nb_location_lng</th>\n",
       "      <th>inat_nb_name</th>\n",
       "      <th>inat_nb_distance</th>\n",
       "    </tr>\n",
       "  </thead>\n",
       "  <tbody>\n",
       "    <tr>\n",
       "      <th>0</th>\n",
       "      <td>ChIJAWkAqNL1t4kRlm4slspOSXo</td>\n",
       "      <td>Quiet Waters Park</td>\n",
       "      <td>38.937670</td>\n",
       "      <td>-76.500899</td>\n",
       "      <td>600 Quiet Waters Park Rd, Annapolis, MD 21403,...</td>\n",
       "      <td>60598.0</td>\n",
       "      <td>38.939282</td>\n",
       "      <td>-76.502352</td>\n",
       "      <td>Quiet Waters Park, Annapolis, MD</td>\n",
       "      <td>0.136006</td>\n",
       "      <td>(38.9390092302915, -76.4995525197085)</td>\n",
       "      <td>(38.9363112697085, -76.50225048029151)</td>\n",
       "      <td>0.000446</td>\n",
       "      <td>60598.0</td>\n",
       "      <td>38.939282</td>\n",
       "      <td>-76.502352</td>\n",
       "      <td>Quiet Waters Park, Annapolis, MD</td>\n",
       "      <td>0.136006</td>\n",
       "    </tr>\n",
       "    <tr>\n",
       "      <th>1</th>\n",
       "      <td>ChIJzcow6Xb1t4kRQVE7s1AWWr8</td>\n",
       "      <td>Hillsmere Shores Community Beach</td>\n",
       "      <td>38.927212</td>\n",
       "      <td>-76.494150</td>\n",
       "      <td>101 W Bay View Dr, Annapolis, MD 21403, USA</td>\n",
       "      <td>NaN</td>\n",
       "      <td>NaN</td>\n",
       "      <td>NaN</td>\n",
       "      <td>NaN</td>\n",
       "      <td>NaN</td>\n",
       "      <td>(38.9285315302915, -76.49278681970848)</td>\n",
       "      <td>(38.92583356970851, -76.49548478029149)</td>\n",
       "      <td>NaN</td>\n",
       "      <td>NaN</td>\n",
       "      <td>NaN</td>\n",
       "      <td>NaN</td>\n",
       "      <td>NaN</td>\n",
       "      <td>NaN</td>\n",
       "    </tr>\n",
       "    <tr>\n",
       "      <th>2</th>\n",
       "      <td>ChIJ_bk5K1z1t4kRQNverIUOVko</td>\n",
       "      <td>Quiet Waters Dog Beach</td>\n",
       "      <td>38.930202</td>\n",
       "      <td>-76.508341</td>\n",
       "      <td>1701-1799 Quiet Waters Park Rd, Annapolis, MD ...</td>\n",
       "      <td>NaN</td>\n",
       "      <td>NaN</td>\n",
       "      <td>NaN</td>\n",
       "      <td>NaN</td>\n",
       "      <td>NaN</td>\n",
       "      <td>(38.93155118029149, -76.5069917197085)</td>\n",
       "      <td>(38.92885321970849, -76.5096896802915)</td>\n",
       "      <td>0.000446</td>\n",
       "      <td>60598.0</td>\n",
       "      <td>38.939282</td>\n",
       "      <td>-76.502352</td>\n",
       "      <td>Quiet Waters Park, Annapolis, MD</td>\n",
       "      <td>0.704592</td>\n",
       "    </tr>\n",
       "    <tr>\n",
       "      <th>3</th>\n",
       "      <td>ChIJ_-2cQEX1t4kRoiCrmNMbrQ8</td>\n",
       "      <td>Quiet Waters Dog Park</td>\n",
       "      <td>38.931865</td>\n",
       "      <td>-76.505658</td>\n",
       "      <td>600 Quiet Waters Park Rd, Annapolis, MD 21403,...</td>\n",
       "      <td>NaN</td>\n",
       "      <td>NaN</td>\n",
       "      <td>NaN</td>\n",
       "      <td>NaN</td>\n",
       "      <td>NaN</td>\n",
       "      <td>(38.93345803029149, -76.50433266970849)</td>\n",
       "      <td>(38.9307600697085, -76.5070306302915)</td>\n",
       "      <td>0.000446</td>\n",
       "      <td>60598.0</td>\n",
       "      <td>38.939282</td>\n",
       "      <td>-76.502352</td>\n",
       "      <td>Quiet Waters Park, Annapolis, MD</td>\n",
       "      <td>0.541753</td>\n",
       "    </tr>\n",
       "    <tr>\n",
       "      <th>4</th>\n",
       "      <td>ChIJQWcsgIn2t4kRCL0Ub363FyI</td>\n",
       "      <td>Pip Moyer Recreation Center (Annapolis Recreat...</td>\n",
       "      <td>38.963271</td>\n",
       "      <td>-76.505150</td>\n",
       "      <td>273 Hilltop Ln, Annapolis, MD 21403, USA</td>\n",
       "      <td>NaN</td>\n",
       "      <td>NaN</td>\n",
       "      <td>NaN</td>\n",
       "      <td>NaN</td>\n",
       "      <td>NaN</td>\n",
       "      <td>(38.9647144802915, -76.50395901970847)</td>\n",
       "      <td>(38.9620165197085, -76.5066569802915)</td>\n",
       "      <td>0.000887</td>\n",
       "      <td>52243.0</td>\n",
       "      <td>38.965180</td>\n",
       "      <td>-76.488980</td>\n",
       "      <td>Eastport Neighborhood</td>\n",
       "      <td>0.880709</td>\n",
       "    </tr>\n",
       "    <tr>\n",
       "      <th>...</th>\n",
       "      <td>...</td>\n",
       "      <td>...</td>\n",
       "      <td>...</td>\n",
       "      <td>...</td>\n",
       "      <td>...</td>\n",
       "      <td>...</td>\n",
       "      <td>...</td>\n",
       "      <td>...</td>\n",
       "      <td>...</td>\n",
       "      <td>...</td>\n",
       "      <td>...</td>\n",
       "      <td>...</td>\n",
       "      <td>...</td>\n",
       "      <td>...</td>\n",
       "      <td>...</td>\n",
       "      <td>...</td>\n",
       "      <td>...</td>\n",
       "      <td>...</td>\n",
       "    </tr>\n",
       "    <tr>\n",
       "      <th>4609</th>\n",
       "      <td>ChIJ45Y73YD0wokR6x0q6cvzpEI</td>\n",
       "      <td>Ciccarone Park</td>\n",
       "      <td>40.856039</td>\n",
       "      <td>-73.886631</td>\n",
       "      <td>2426 Hughes Ave, The Bronx, NY 10458, USA</td>\n",
       "      <td>NaN</td>\n",
       "      <td>NaN</td>\n",
       "      <td>NaN</td>\n",
       "      <td>NaN</td>\n",
       "      <td>NaN</td>\n",
       "      <td>(40.8573071802915, -73.8851153697085)</td>\n",
       "      <td>(40.8546092197085, -73.88781333029151)</td>\n",
       "      <td>NaN</td>\n",
       "      <td>NaN</td>\n",
       "      <td>NaN</td>\n",
       "      <td>NaN</td>\n",
       "      <td>NaN</td>\n",
       "      <td>NaN</td>\n",
       "    </tr>\n",
       "    <tr>\n",
       "      <th>4610</th>\n",
       "      <td>ChIJueLtN4DzwokRJWO2gJPSH2I</td>\n",
       "      <td>Rose Hill Park</td>\n",
       "      <td>40.862283</td>\n",
       "      <td>-73.890278</td>\n",
       "      <td>4270, 2659 Webster Ave, The Bronx, NY 10458, USA</td>\n",
       "      <td>NaN</td>\n",
       "      <td>NaN</td>\n",
       "      <td>NaN</td>\n",
       "      <td>NaN</td>\n",
       "      <td>NaN</td>\n",
       "      <td>(40.8633695302915, -73.8893493697085)</td>\n",
       "      <td>(40.8606715697085, -73.8920473302915)</td>\n",
       "      <td>0.000086</td>\n",
       "      <td>165295.0</td>\n",
       "      <td>40.861591</td>\n",
       "      <td>-73.885108</td>\n",
       "      <td>Fordham University - Bronx, NY</td>\n",
       "      <td>0.275027</td>\n",
       "    </tr>\n",
       "    <tr>\n",
       "      <th>4611</th>\n",
       "      <td>ChIJfTP2N_H0wokRSK-jDqj16IU</td>\n",
       "      <td>Starlight Park</td>\n",
       "      <td>40.833573</td>\n",
       "      <td>-73.882485</td>\n",
       "      <td>1490 Sheridan Blvd., The Bronx, NY 10459, USA</td>\n",
       "      <td>125178.0</td>\n",
       "      <td>40.833838</td>\n",
       "      <td>-73.881897</td>\n",
       "      <td>Starlight Park</td>\n",
       "      <td>0.035808</td>\n",
       "      <td>(40.8420985, -73.87541424999999)</td>\n",
       "      <td>(40.82883449999999, -73.88727485000003)</td>\n",
       "      <td>NaN</td>\n",
       "      <td>NaN</td>\n",
       "      <td>NaN</td>\n",
       "      <td>NaN</td>\n",
       "      <td>NaN</td>\n",
       "      <td>NaN</td>\n",
       "    </tr>\n",
       "    <tr>\n",
       "      <th>4612</th>\n",
       "      <td>ChIJfb4rltn1wokRwtzhQ6GDa2w</td>\n",
       "      <td>Bronx River Greenway</td>\n",
       "      <td>40.833220</td>\n",
       "      <td>-73.882092</td>\n",
       "      <td>1490 Sheridan Blvd., The Bronx, NY 10459, USA</td>\n",
       "      <td>NaN</td>\n",
       "      <td>NaN</td>\n",
       "      <td>NaN</td>\n",
       "      <td>NaN</td>\n",
       "      <td>NaN</td>\n",
       "      <td>(40.8348330802915, -73.8812730197085)</td>\n",
       "      <td>(40.8321351197085, -73.88397098029151)</td>\n",
       "      <td>0.068787</td>\n",
       "      <td>NaN</td>\n",
       "      <td>NaN</td>\n",
       "      <td>NaN</td>\n",
       "      <td>NaN</td>\n",
       "      <td>NaN</td>\n",
       "    </tr>\n",
       "    <tr>\n",
       "      <th>4613</th>\n",
       "      <td>ChIJERkYm33zwokRCmYY7vCuFPY</td>\n",
       "      <td>Everett Garden Gate</td>\n",
       "      <td>40.859644</td>\n",
       "      <td>-73.880637</td>\n",
       "      <td>Bronx Park Rd, The Bronx, NY 10458, USA</td>\n",
       "      <td>NaN</td>\n",
       "      <td>NaN</td>\n",
       "      <td>NaN</td>\n",
       "      <td>NaN</td>\n",
       "      <td>NaN</td>\n",
       "      <td>(40.86099583029149, -73.8792677197085)</td>\n",
       "      <td>(40.85829786970849, -73.8819656802915)</td>\n",
       "      <td>NaN</td>\n",
       "      <td>NaN</td>\n",
       "      <td>NaN</td>\n",
       "      <td>NaN</td>\n",
       "      <td>NaN</td>\n",
       "      <td>NaN</td>\n",
       "    </tr>\n",
       "  </tbody>\n",
       "</table>\n",
       "<p>4614 rows × 18 columns</p>\n",
       "</div>"
      ],
      "text/plain": [
       "                               id  \\\n",
       "0     ChIJAWkAqNL1t4kRlm4slspOSXo   \n",
       "1     ChIJzcow6Xb1t4kRQVE7s1AWWr8   \n",
       "2     ChIJ_bk5K1z1t4kRQNverIUOVko   \n",
       "3     ChIJ_-2cQEX1t4kRoiCrmNMbrQ8   \n",
       "4     ChIJQWcsgIn2t4kRCL0Ub363FyI   \n",
       "...                           ...   \n",
       "4609  ChIJ45Y73YD0wokR6x0q6cvzpEI   \n",
       "4610  ChIJueLtN4DzwokRJWO2gJPSH2I   \n",
       "4611  ChIJfTP2N_H0wokRSK-jDqj16IU   \n",
       "4612  ChIJfb4rltn1wokRwtzhQ6GDa2w   \n",
       "4613  ChIJERkYm33zwokRCmYY7vCuFPY   \n",
       "\n",
       "                                                   name        lat        lng  \\\n",
       "0                                     Quiet Waters Park  38.937670 -76.500899   \n",
       "1                      Hillsmere Shores Community Beach  38.927212 -76.494150   \n",
       "2                                Quiet Waters Dog Beach  38.930202 -76.508341   \n",
       "3                                 Quiet Waters Dog Park  38.931865 -76.505658   \n",
       "4     Pip Moyer Recreation Center (Annapolis Recreat...  38.963271 -76.505150   \n",
       "...                                                 ...        ...        ...   \n",
       "4609                                     Ciccarone Park  40.856039 -73.886631   \n",
       "4610                                     Rose Hill Park  40.862283 -73.890278   \n",
       "4611                                     Starlight Park  40.833573 -73.882485   \n",
       "4612                               Bronx River Greenway  40.833220 -73.882092   \n",
       "4613                                Everett Garden Gate  40.859644 -73.880637   \n",
       "\n",
       "                                                address  inat_ac_place_id  \\\n",
       "0     600 Quiet Waters Park Rd, Annapolis, MD 21403,...           60598.0   \n",
       "1           101 W Bay View Dr, Annapolis, MD 21403, USA               NaN   \n",
       "2     1701-1799 Quiet Waters Park Rd, Annapolis, MD ...               NaN   \n",
       "3     600 Quiet Waters Park Rd, Annapolis, MD 21403,...               NaN   \n",
       "4              273 Hilltop Ln, Annapolis, MD 21403, USA               NaN   \n",
       "...                                                 ...               ...   \n",
       "4609          2426 Hughes Ave, The Bronx, NY 10458, USA               NaN   \n",
       "4610   4270, 2659 Webster Ave, The Bronx, NY 10458, USA               NaN   \n",
       "4611      1490 Sheridan Blvd., The Bronx, NY 10459, USA          125178.0   \n",
       "4612      1490 Sheridan Blvd., The Bronx, NY 10459, USA               NaN   \n",
       "4613            Bronx Park Rd, The Bronx, NY 10458, USA               NaN   \n",
       "\n",
       "      inat_ac_location_lat  inat_ac_location_lng  \\\n",
       "0                38.939282            -76.502352   \n",
       "1                      NaN                   NaN   \n",
       "2                      NaN                   NaN   \n",
       "3                      NaN                   NaN   \n",
       "4                      NaN                   NaN   \n",
       "...                    ...                   ...   \n",
       "4609                   NaN                   NaN   \n",
       "4610                   NaN                   NaN   \n",
       "4611             40.833838            -73.881897   \n",
       "4612                   NaN                   NaN   \n",
       "4613                   NaN                   NaN   \n",
       "\n",
       "                          inat_ac_name  inat_ac_distance  \\\n",
       "0     Quiet Waters Park, Annapolis, MD          0.136006   \n",
       "1                                  NaN               NaN   \n",
       "2                                  NaN               NaN   \n",
       "3                                  NaN               NaN   \n",
       "4                                  NaN               NaN   \n",
       "...                                ...               ...   \n",
       "4609                               NaN               NaN   \n",
       "4610                               NaN               NaN   \n",
       "4611                    Starlight Park          0.035808   \n",
       "4612                               NaN               NaN   \n",
       "4613                               NaN               NaN   \n",
       "\n",
       "                                    northeast  \\\n",
       "0       (38.9390092302915, -76.4995525197085)   \n",
       "1      (38.9285315302915, -76.49278681970848)   \n",
       "2      (38.93155118029149, -76.5069917197085)   \n",
       "3     (38.93345803029149, -76.50433266970849)   \n",
       "4      (38.9647144802915, -76.50395901970847)   \n",
       "...                                       ...   \n",
       "4609    (40.8573071802915, -73.8851153697085)   \n",
       "4610    (40.8633695302915, -73.8893493697085)   \n",
       "4611         (40.8420985, -73.87541424999999)   \n",
       "4612    (40.8348330802915, -73.8812730197085)   \n",
       "4613   (40.86099583029149, -73.8792677197085)   \n",
       "\n",
       "                                    southwest  inat_nb_bbox_area  \\\n",
       "0      (38.9363112697085, -76.50225048029151)           0.000446   \n",
       "1     (38.92583356970851, -76.49548478029149)                NaN   \n",
       "2      (38.92885321970849, -76.5096896802915)           0.000446   \n",
       "3       (38.9307600697085, -76.5070306302915)           0.000446   \n",
       "4       (38.9620165197085, -76.5066569802915)           0.000887   \n",
       "...                                       ...                ...   \n",
       "4609   (40.8546092197085, -73.88781333029151)                NaN   \n",
       "4610    (40.8606715697085, -73.8920473302915)           0.000086   \n",
       "4611  (40.82883449999999, -73.88727485000003)                NaN   \n",
       "4612   (40.8321351197085, -73.88397098029151)           0.068787   \n",
       "4613   (40.85829786970849, -73.8819656802915)                NaN   \n",
       "\n",
       "      inat_nb_place_id  inat_nb_location_lat  inat_nb_location_lng  \\\n",
       "0              60598.0             38.939282            -76.502352   \n",
       "1                  NaN                   NaN                   NaN   \n",
       "2              60598.0             38.939282            -76.502352   \n",
       "3              60598.0             38.939282            -76.502352   \n",
       "4              52243.0             38.965180            -76.488980   \n",
       "...                ...                   ...                   ...   \n",
       "4609               NaN                   NaN                   NaN   \n",
       "4610          165295.0             40.861591            -73.885108   \n",
       "4611               NaN                   NaN                   NaN   \n",
       "4612               NaN                   NaN                   NaN   \n",
       "4613               NaN                   NaN                   NaN   \n",
       "\n",
       "                          inat_nb_name  inat_nb_distance  \n",
       "0     Quiet Waters Park, Annapolis, MD          0.136006  \n",
       "1                                  NaN               NaN  \n",
       "2     Quiet Waters Park, Annapolis, MD          0.704592  \n",
       "3     Quiet Waters Park, Annapolis, MD          0.541753  \n",
       "4                Eastport Neighborhood          0.880709  \n",
       "...                                ...               ...  \n",
       "4609                               NaN               NaN  \n",
       "4610    Fordham University - Bronx, NY          0.275027  \n",
       "4611                               NaN               NaN  \n",
       "4612                               NaN               NaN  \n",
       "4613                               NaN               NaN  \n",
       "\n",
       "[4614 rows x 18 columns]"
      ]
     },
     "execution_count": 855,
     "metadata": {},
     "output_type": "execute_result"
    }
   ],
   "source": [
    "pd.options.display.max_rows = 10\n",
    "info_df\n",
    "# info_df[(info_df['inat_nb_distance']>.5) & (info_df['inat_nb_distance']<1)]"
   ]
  },
  {
   "cell_type": "code",
   "execution_count": null,
   "metadata": {},
   "outputs": [],
   "source": []
  },
  {
   "cell_type": "code",
   "execution_count": 665,
   "metadata": {},
   "outputs": [],
   "source": [
    "key = 'community'\n",
    "def jaccard_similarity(a, b):\n",
    "    sa = set(tokenize(a))\n",
    "    sb = set(tokenize(b))\n",
    "    \n",
    "    return len(sa & sb) / len(sa | sb)\n",
    "\n",
    "def get_nearby_parks(ind):\n",
    "    return [(result['name'], result['place_type']) for result in find_place_by_nearby[ind][1]['results'][key]]\n",
    "\n",
    "def get_nearby_park_dist(ind):\n",
    "    target_loc = info_df.loc[ind, ['lat', 'lng']]\n",
    "    dist_all_nearby = [lat_lng_dist(result['location'], target_loc) for result in find_place_by_nearby[ind][1]['results'][key]]\n",
    "\n",
    "    return dist_all_nearby\n",
    "\n",
    "def debug_index(ind):\n",
    "    print(info_df.loc[ind, 'name'])\n",
    "    print(list(zip(get_nearby_parks(ind), get_nearby_park_dist(ind))))"
   ]
  },
  {
   "cell_type": "code",
   "execution_count": 630,
   "metadata": {},
   "outputs": [],
   "source": [
    "unmatched_indices = np.where(info_df['inaturalist_name'].isnull())[0]\n",
    "jacc_sims = []\n",
    "\n",
    "for i in unmatched_indices:\n",
    "    g_title = info_df.loc[i, 'name']\n",
    "    nat_titles = [result['name'] for result in find_place_by_nearby[i][1]['results'][key]]\n",
    "    if not nat_titles:\n",
    "        jacc_sims.append((i, 0.0))\n",
    "    else:\n",
    "        jacc_sims.append((i, max(jaccard_similarity(g_title, t) for t in nat_titles)))\n"
   ]
  },
  {
   "cell_type": "code",
   "execution_count": 765,
   "metadata": {},
   "outputs": [
    {
     "name": "stdout",
     "output_type": "stream",
     "text": [
      "New Roots Community Farm\n",
      "[(('Hudson to Housatonic Region', 25), 35.52837558416262), (('NYC Bank Swallow Monitoring Zone', None), 8.831982816346347), (('New York City (2018)', None), 10.881509551486918), (('New York City', None), 9.523041035414987), (('New York City', None), 9.042626404487512), (('New York City (from NYC Parks) ', 1000), 8.871763279973585), (('New York City Council District 17 (Bronx)', None), 1.6247260306940925), (('New York City Council District 08 (Manhattan and Bronx)', None), 1.2412836749530858)]\n"
     ]
    }
   ],
   "source": [
    "debug_index(4582)"
   ]
  },
  {
   "cell_type": "code",
   "execution_count": 736,
   "metadata": {},
   "outputs": [],
   "source": [
    "sorted([(i, s) for i, s in jacc_sims if s > 0], key=lambda x: -x[1]);"
   ]
  },
  {
   "cell_type": "code",
   "execution_count": 625,
   "metadata": {},
   "outputs": [
    {
     "data": {
      "text/plain": [
       "['MarineGEO Chesapeake Bay', 'USGS Quad: Annapolis']"
      ]
     },
     "execution_count": 625,
     "metadata": {},
     "output_type": "execute_result"
    }
   ],
   "source": [
    "[result['name'] for result in find_place_by_nearby[10][1]['results'][key]]"
   ]
  },
  {
   "cell_type": "code",
   "execution_count": null,
   "metadata": {},
   "outputs": [],
   "source": []
  },
  {
   "cell_type": "code",
   "execution_count": 610,
   "metadata": {},
   "outputs": [
    {
     "name": "stdout",
     "output_type": "stream",
     "text": [
      "Gunpowder falls hiking\n"
     ]
    },
    {
     "data": {
      "text/plain": [
       "['USGS Quad: White Marsh']"
      ]
     },
     "execution_count": 610,
     "metadata": {},
     "output_type": "execute_result"
    }
   ],
   "source": [
    "ind = 92\n",
    "print(info_df.loc[ind,'name'])\n",
    "[result['name'] for result in find_place_by_nearby[ind][1]['results'][key]]"
   ]
  },
  {
   "cell_type": "code",
   "execution_count": null,
   "metadata": {},
   "outputs": [],
   "source": []
  },
  {
   "cell_type": "code",
   "execution_count": null,
   "metadata": {},
   "outputs": [],
   "source": []
  },
  {
   "cell_type": "code",
   "execution_count": 757,
   "metadata": {},
   "outputs": [
    {
     "data": {
      "text/plain": [
       "3003"
      ]
     },
     "execution_count": 757,
     "metadata": {},
     "output_type": "execute_result"
    }
   ],
   "source": [
    "missing_place_id = np.where((info_df['inat_nb_place_id'].isnull()) & (info_df['inat_ac_place_id'].isnull()))[0]\n",
    "len(missing_place_id)"
   ]
  },
  {
   "cell_type": "code",
   "execution_count": null,
   "metadata": {},
   "outputs": [],
   "source": []
  },
  {
   "cell_type": "markdown",
   "metadata": {},
   "source": [
    "### 3. Compare results based on autocomplete or nearby search, and select the appropriate place_id\n",
    "Also exclude the ones with too large distances"
   ]
  },
  {
   "cell_type": "code",
   "execution_count": null,
   "metadata": {},
   "outputs": [],
   "source": []
  },
  {
   "cell_type": "code",
   "execution_count": 966,
   "metadata": {},
   "outputs": [
    {
     "data": {
      "text/html": [
       "<div>\n",
       "<style scoped>\n",
       "    .dataframe tbody tr th:only-of-type {\n",
       "        vertical-align: middle;\n",
       "    }\n",
       "\n",
       "    .dataframe tbody tr th {\n",
       "        vertical-align: top;\n",
       "    }\n",
       "\n",
       "    .dataframe thead th {\n",
       "        text-align: right;\n",
       "    }\n",
       "</style>\n",
       "<table border=\"1\" class=\"dataframe\">\n",
       "  <thead>\n",
       "    <tr style=\"text-align: right;\">\n",
       "      <th></th>\n",
       "      <th>id</th>\n",
       "      <th>name</th>\n",
       "      <th>lat</th>\n",
       "      <th>lng</th>\n",
       "      <th>address</th>\n",
       "      <th>inat_nb_place_id</th>\n",
       "      <th>inat_nb_location_lat</th>\n",
       "      <th>inat_nb_location_lng</th>\n",
       "      <th>inat_nb_name</th>\n",
       "      <th>inat_nb_distance</th>\n",
       "      <th>inat_nb_bbox_area</th>\n",
       "      <th>inat_ac_place_id</th>\n",
       "      <th>inat_ac_location_lat</th>\n",
       "      <th>inat_ac_location_lng</th>\n",
       "      <th>inat_ac_name</th>\n",
       "      <th>inat_ac_distance</th>\n",
       "    </tr>\n",
       "  </thead>\n",
       "  <tbody>\n",
       "  </tbody>\n",
       "</table>\n",
       "</div>"
      ],
      "text/plain": [
       "Empty DataFrame\n",
       "Columns: [id, name, lat, lng, address, inat_nb_place_id, inat_nb_location_lat, inat_nb_location_lng, inat_nb_name, inat_nb_distance, inat_nb_bbox_area, inat_ac_place_id, inat_ac_location_lat, inat_ac_location_lng, inat_ac_name, inat_ac_distance]\n",
       "Index: []"
      ]
     },
     "execution_count": 966,
     "metadata": {},
     "output_type": "execute_result"
    }
   ],
   "source": [
    "# == among all parks, 344 have the same place_id under the two queries\n",
    "# info_df[info_df['inat_ac_place_id'] == info_df['inat_nb_place_id']]\n",
    "# == 52 have both but not identical\n",
    "info_df[(~info_df['inat_ac_place_id'].isnull()) & (~info_df['inat_nb_place_id'].isnull()) & (info_df['inat_ac_place_id'] != info_df['inat_nb_place_id'])]\n",
    "# == 181 have autocomplete but not nearby\n",
    "# info_df[(~info_df['inat_ac_place_id'].isnull()) & (info_df['inat_nb_place_id'].isnull())]#['inat_ac_distance'].describe()\n",
    "# == 528 have nearby only\n",
    "# info_df[(info_df['inat_ac_place_id'].isnull()) & (~info_df['inat_nb_place_id'].isnull())]#['inat_nb_distance'].describe()\n"
   ]
  },
  {
   "cell_type": "code",
   "execution_count": null,
   "metadata": {},
   "outputs": [],
   "source": []
  },
  {
   "cell_type": "code",
   "execution_count": 965,
   "metadata": {},
   "outputs": [],
   "source": [
    "# when with 2 inconsistent results, pick the closest one\n",
    "# set the other as None\n",
    "inconsistent_ind = np.where((~info_df['inat_ac_place_id'].isnull()) & (~info_df['inat_nb_place_id'].isnull()) & \n",
    "                            (info_df['inat_ac_place_id'] != info_df['inat_nb_place_id']))[0]\n",
    "for ind in inconsistent_ind:\n",
    "    if info_df.loc[ind, 'inat_ac_distance']<info_df.loc[ind, 'inat_nb_distance']:\n",
    "        res_to_remove = 'inat_nb_'\n",
    "    else:\n",
    "        res_to_remove = 'inat_ac_'\n",
    "        \n",
    "    info_df.loc[ind,[res_to_remove+'name', res_to_remove+'place_id', res_to_remove+'distance', \n",
    "                 res_to_remove+'location_lat', res_to_remove+'location_lng']] = None\n"
   ]
  },
  {
   "cell_type": "code",
   "execution_count": null,
   "metadata": {},
   "outputs": [],
   "source": []
  },
  {
   "cell_type": "code",
   "execution_count": 1003,
   "metadata": {},
   "outputs": [],
   "source": [
    "# now form a new column to store the place_id\n",
    "\n",
    "info_df['inat_place_id'] = [info_df.loc[ind, 'inat_ac_place_id'] if not np.isnan(info_df.loc[ind, 'inat_ac_place_id']) \n",
    " else info_df.loc[ind, 'inat_nb_place_id'] for ind in range(len(info_df))]\n"
   ]
  },
  {
   "cell_type": "code",
   "execution_count": 1004,
   "metadata": {},
   "outputs": [
    {
     "data": {
      "text/plain": [
       "669"
      ]
     },
     "execution_count": 1004,
     "metadata": {},
     "output_type": "execute_result"
    }
   ],
   "source": [
    "len(info_df['inat_place_id'].unique())"
   ]
  },
  {
   "cell_type": "code",
   "execution_count": null,
   "metadata": {},
   "outputs": [],
   "source": []
  },
  {
   "cell_type": "code",
   "execution_count": 983,
   "metadata": {},
   "outputs": [],
   "source": [
    "                                                   "
   ]
  },
  {
   "cell_type": "markdown",
   "metadata": {},
   "source": [
    "## Query unique number of species as a proxy for biodiversity\n",
    "Other things to consider: \n",
    "1. need to seperate original or invaded species?\n",
    "2. need to split species by time? \n",
    "\n",
    "Or, in general consider that if a place has larger amount of unique species, it tends to be health and worth visiting?"
   ]
  },
  {
   "cell_type": "code",
   "execution_count": 111,
   "metadata": {},
   "outputs": [
    {
     "name": "stdout",
     "output_type": "stream",
     "text": [
      "Total observations: 103\n",
      "Total taxa observed: 57\n"
     ]
    }
   ],
   "source": [
    "# get_observations also takes parameters: day, month, year (must be observed within this day/month/year);\n",
    "#                                         d1, d2 (after & before the date)\n",
    "# get_observations['total_results'] returns total number observations\n",
    "# get_observation_species_counts['total_results'] groups repeated observations\n",
    "\n",
    "PLACE_ID = 125178#response['results'][0]['id']\n",
    "\n",
    "total_observations = get_observations(\n",
    "    place_id=PLACE_ID,\n",
    "    verifiable=True,\n",
    "    per_page=0,\n",
    ")['total_results']\n",
    "print(f'Total observations: {total_observations}')\n",
    "\n",
    "total_taxa = get_observation_species_counts(\n",
    "    place_id=PLACE_ID,\n",
    "    verifiable=True,\n",
    "    per_page=0, #not actually return species detail\n",
    ")['total_results']\n",
    "print(f'Total taxa observed: {total_taxa}')"
   ]
  },
  {
   "cell_type": "code",
   "execution_count": null,
   "metadata": {},
   "outputs": [],
   "source": []
  },
  {
   "cell_type": "code",
   "execution_count": 1019,
   "metadata": {},
   "outputs": [
    {
     "data": {
      "text/plain": [
       "[('Aves', 23),\n",
       " ('Aves', 22),\n",
       " ('Aves', 19),\n",
       " ('Aves', 18),\n",
       " ('Aves', 16),\n",
       " ('Aves', 16),\n",
       " ('Aves', 14),\n",
       " ('Reptilia', 14),\n",
       " ('Aves', 12),\n",
       " ('Mammalia', 12),\n",
       " ('Aves', 11),\n",
       " ('Aves', 11),\n",
       " ('Aves', 10),\n",
       " ('Aves', 9),\n",
       " ('Aves', 9),\n",
       " ('Reptilia', 9),\n",
       " ('Insecta', 9),\n",
       " ('Aves', 9),\n",
       " ('Aves', 8),\n",
       " ('Aves', 8),\n",
       " ('Insecta', 8),\n",
       " ('Plantae', 8),\n",
       " ('Plantae', 8),\n",
       " ('Plantae', 8),\n",
       " ('Plantae', 7)]"
      ]
     },
     "execution_count": 1019,
     "metadata": {},
     "output_type": "execute_result"
    }
   ],
   "source": [
    "# Or to include some species results\n",
    "# response2 = get_places_autocomplete(q='John Heinz National Wildlife Refuge')#'John Heinz National Wildlife Refuge At Tinicum')\n",
    "\n",
    "PLACE_ID = 60598#response2['results'][0]['id']\n",
    "total_taxa = get_observation_species_counts(\n",
    "    place_id=PLACE_ID,\n",
    "    verifiable=True,\n",
    "    per_page=25,\n",
    ")\n",
    "\n",
    "[(res['taxon']['iconic_taxon_name'], res['count']) for res in total_taxa['results']]\n"
   ]
  },
  {
   "cell_type": "code",
   "execution_count": null,
   "metadata": {},
   "outputs": [],
   "source": []
  },
  {
   "cell_type": "code",
   "execution_count": 1046,
   "metadata": {},
   "outputs": [],
   "source": [
    "inat_place_id_all = info_df['inat_place_id'].unique()\n",
    "inat_taxa_place_id = {}\n",
    "\n",
    "for i in tqdm(range(len(inat_place_id_all))):\n",
    "    place_id = inat_place_id_all[i]\n",
    "    if ~np.isnan(place_id):\n",
    "        total_taxa = get_observation_species_counts(\n",
    "            place_id=int(place_id),\n",
    "            verifiable=True,\n",
    "            per_page=100,\n",
    "        )\n",
    "        inat_taxa_place_id[int(place_id)] = total_taxa\n",
    "        sleep(1)\n",
    "        "
   ]
  },
  {
   "cell_type": "code",
   "execution_count": 1033,
   "metadata": {},
   "outputs": [],
   "source": [
    "with open('inaturalist_species_count_info.dill', 'wb') as f:\n",
    "    dill.dump(inat_taxa_place_id, f)"
   ]
  },
  {
   "cell_type": "code",
   "execution_count": 1043,
   "metadata": {},
   "outputs": [],
   "source": [
    "info_df['species_count'] = info_df['inat_place_id'].apply(\n",
    "    lambda x: inat_taxa_place_id[int(x)]['total_results'] if not np.isnan(x) else None)\n"
   ]
  },
  {
   "cell_type": "code",
   "execution_count": 1047,
   "metadata": {},
   "outputs": [],
   "source": [
    "info_with_inaturalist = info_df.copy()"
   ]
  },
  {
   "cell_type": "code",
   "execution_count": 1048,
   "metadata": {},
   "outputs": [],
   "source": [
    "info_with_inaturalist.to_parquet('park_info_with_inaturalist.parquet')\n"
   ]
  },
  {
   "cell_type": "code",
   "execution_count": null,
   "metadata": {},
   "outputs": [],
   "source": []
  },
  {
   "cell_type": "code",
   "execution_count": null,
   "metadata": {},
   "outputs": [],
   "source": []
  }
 ],
 "metadata": {
  "kernelspec": {
   "display_name": "Python 3",
   "language": "python",
   "name": "python3"
  },
  "language_info": {
   "codemirror_mode": {
    "name": "ipython",
    "version": 3
   },
   "file_extension": ".py",
   "mimetype": "text/x-python",
   "name": "python",
   "nbconvert_exporter": "python",
   "pygments_lexer": "ipython3",
   "version": "3.7.6"
  }
 },
 "nbformat": 4,
 "nbformat_minor": 4
}
